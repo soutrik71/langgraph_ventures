{
 "cells": [
  {
   "cell_type": "code",
   "execution_count": 1,
   "metadata": {},
   "outputs": [
    {
     "data": {
      "application/javascript": "IPython.notebook.set_autosave_interval(300000)"
     },
     "metadata": {},
     "output_type": "display_data"
    },
    {
     "name": "stdout",
     "output_type": "stream",
     "text": [
      "Autosaving every 300 seconds\n"
     ]
    }
   ],
   "source": [
    "%autosave 300\n",
    "%load_ext autoreload\n",
    "%autoreload 2\n",
    "%reload_ext autoreload\n",
    "%config Completer.use_jedi = False"
   ]
  },
  {
   "cell_type": "code",
   "execution_count": 2,
   "metadata": {},
   "outputs": [
    {
     "data": {
      "text/plain": [
       "'/mnt/batch/tasks/shared/LS_root/mounts/clusters/soutrik-vm-dev/code/Users/Soutrik.Chowdhury/langgraph_ventures'"
      ]
     },
     "execution_count": 2,
     "metadata": {},
     "output_type": "execute_result"
    }
   ],
   "source": [
    "import os\n",
    "\n",
    "os.chdir(\"../../\")\n",
    "os.getcwd()"
   ]
  },
  {
   "cell_type": "markdown",
   "metadata": {},
   "source": [
    "#### P1:Basic Chatbot\n",
    "Start by creating a StateGraph. A StateGraph object defines the structure of our chatbot as a \"state machine\". We'll add nodes to represent the llm and functions our chatbot can call and edges to specify how the bot should transition between these functions."
   ]
  },
  {
   "cell_type": "code",
   "execution_count": 3,
   "metadata": {},
   "outputs": [],
   "source": [
    "from typing import Annotated\n",
    "\n",
    "from typing_extensions import TypedDict\n",
    "\n",
    "from langgraph.graph import StateGraph, START, END\n",
    "from langgraph.graph.message import add_messages\n",
    "from IPython.display import Image, display\n",
    "import json\n",
    "\n",
    "from langchain_core.messages import ToolMessage"
   ]
  },
  {
   "cell_type": "code",
   "execution_count": 4,
   "metadata": {},
   "outputs": [],
   "source": [
    "class State(TypedDict):\n",
    "    messages: Annotated[list, add_messages]"
   ]
  },
  {
   "cell_type": "code",
   "execution_count": 5,
   "metadata": {},
   "outputs": [
    {
     "name": "stdout",
     "output_type": "stream",
     "text": [
      "<langgraph.graph.state.StateGraph object at 0x7f86e6ce31c0>\n"
     ]
    }
   ],
   "source": [
    "graph = StateGraph(State)\n",
    "print(graph)"
   ]
  },
  {
   "cell_type": "markdown",
   "metadata": {},
   "source": [
    "Our graph can now handle two key tasks:\n",
    "\n",
    "Each node can receive the current State as input and output an update to the state.\\\n",
    "Updates to messages will be appended to the existing list rather than overwriting it, thanks to the prebuilt add_messages function used with the Annotated syntax."
   ]
  },
  {
   "cell_type": "code",
   "execution_count": null,
   "metadata": {},
   "outputs": [],
   "source": [
    "from src.utils import get_llm, get_embedder\n",
    "\n",
    "llm_model = get_llm()\n",
    "embedder_model = get_embedder()"
   ]
  },
  {
   "cell_type": "code",
   "execution_count": 7,
   "metadata": {},
   "outputs": [],
   "source": [
    "# llm_model.invoke(\"What is the capital of France?\")"
   ]
  },
  {
   "cell_type": "code",
   "execution_count": 8,
   "metadata": {},
   "outputs": [],
   "source": [
    "# embedder_model.embed_query(\"What is the capital of France?\")"
   ]
  },
  {
   "cell_type": "code",
   "execution_count": 9,
   "metadata": {},
   "outputs": [],
   "source": [
    "# next we add a chatbot node where nodes represent the unit of work"
   ]
  },
  {
   "cell_type": "code",
   "execution_count": 10,
   "metadata": {},
   "outputs": [],
   "source": [
    "def chatbot(state: State):\n",
    "    return {\"messages\": llm_model.invoke(state[\"messages\"])}"
   ]
  },
  {
   "cell_type": "code",
   "execution_count": 11,
   "metadata": {},
   "outputs": [
    {
     "data": {
      "text/plain": [
       "<langgraph.graph.state.StateGraph at 0x7f86e6ce31c0>"
      ]
     },
     "execution_count": 11,
     "metadata": {},
     "output_type": "execute_result"
    }
   ],
   "source": [
    "graph.add_node(\"chatbot\", chatbot)"
   ]
  },
  {
   "cell_type": "markdown",
   "metadata": {},
   "source": [
    "Next, add an entry point. This tells our graph where to start its work each time we run it."
   ]
  },
  {
   "cell_type": "code",
   "execution_count": 12,
   "metadata": {},
   "outputs": [
    {
     "data": {
      "text/plain": [
       "<langgraph.graph.state.StateGraph at 0x7f86e6ce31c0>"
      ]
     },
     "execution_count": 12,
     "metadata": {},
     "output_type": "execute_result"
    }
   ],
   "source": [
    "graph.add_edge(START, \"chatbot\")"
   ]
  },
  {
   "cell_type": "markdown",
   "metadata": {},
   "source": [
    "Similarly, set a finish point. This instructs the graph \"any time this node is run, you can exit.\""
   ]
  },
  {
   "cell_type": "code",
   "execution_count": 13,
   "metadata": {},
   "outputs": [
    {
     "data": {
      "text/plain": [
       "<langgraph.graph.state.StateGraph at 0x7f86e6ce31c0>"
      ]
     },
     "execution_count": 13,
     "metadata": {},
     "output_type": "execute_result"
    }
   ],
   "source": [
    "graph.add_edge(\"chatbot\", END)"
   ]
  },
  {
   "cell_type": "markdown",
   "metadata": {},
   "source": [
    "Next we compile the graph"
   ]
  },
  {
   "cell_type": "code",
   "execution_count": 14,
   "metadata": {},
   "outputs": [],
   "source": [
    "graph_c = graph.compile()"
   ]
  },
  {
   "cell_type": "markdown",
   "metadata": {},
   "source": [
    "You can visualize the graph using the get_graph method "
   ]
  },
  {
   "cell_type": "code",
   "execution_count": 15,
   "metadata": {},
   "outputs": [
    {
     "data": {
      "image/png": "[encoded data removed]",
      "text/plain": [
       "<IPython.core.display.Image object>"
      ]
     },
     "metadata": {},
     "output_type": "display_data"
    }
   ],
   "source": [
    "display(Image(graph_c.get_graph().draw_mermaid_png()))"
   ]
  },
  {
   "cell_type": "code",
   "execution_count": null,
   "metadata": {},
   "outputs": [],
   "source": [
    "def stream_graph_updates(user_input: str):\n",
    "    for event in graph_c.stream(\n",
    "        {\"messages\": [{\"role\": \"user\", \"content\": user_input}]}\n",
    "    ):\n",
    "        for value in event.values():\n",
    "            print(\"Assistant:\", value[\"messages\"].content)"
   ]
  },
  {
   "cell_type": "code",
   "execution_count": 17,
   "metadata": {},
   "outputs": [
    {
     "name": "stdout",
     "output_type": "stream",
     "text": [
      "Assistant: Hello! How can I assist you today?\n",
      "Goodbye Exiting...\n"
     ]
    }
   ],
   "source": [
    "while True:\n",
    "    try:\n",
    "        user_input = input(\"User: \")\n",
    "        if user_input.lower() in [\"quit\", \"exit\", \"q\"]:\n",
    "            print(\"Goodbye Exiting...\")\n",
    "            break\n",
    "        stream_graph_updates(user_input)\n",
    "    except:\n",
    "        # fallback if input() is not available\n",
    "        user_input = \"What do you know about LangGraph?\"\n",
    "        print(\"User: \" + user_input)\n",
    "        stream_graph_updates(user_input)\n",
    "        break"
   ]
  },
  {
   "cell_type": "markdown",
   "metadata": {},
   "source": [
    "#### P2: Enhancing the Chatbot with Tools"
   ]
  },
  {
   "cell_type": "code",
   "execution_count": 18,
   "metadata": {},
   "outputs": [],
   "source": [
    "from langchain_community.tools.tavily_search import TavilySearchResults"
   ]
  },
  {
   "cell_type": "code",
   "execution_count": 19,
   "metadata": {},
   "outputs": [
    {
     "data": {
      "text/plain": [
       "[{'title': 'LangGraph Glossary - GitHub Pages',\n",
       "  'url': 'https://langchain-ai.github.io/langgraph/concepts/low_level/',\n",
       "  'content': 'In LangGraph, nodes are typically python functions (sync or async) where the first positional argument is the state, and (optionally), the second positional argument is a \"config\", containing optional configurable parameters (such as a thread_id).\\nSimilar to NetworkX, you add these nodes to a graph using the add_node method:\\n[](https://langchain-ai.github.io/langgraph/concepts/low_level/#__codelineno-7-1)fromlangchain_core.runnablesimport RunnableConfig [...] LangGraph Glossary¶\\nGraphs¶\\nAt its core, LangGraph models agent workflows as graphs. You define the behavior of your agents using three key components:\\n\\n\\nState: A shared data structure that represents the current snapshot of your application. It can be any Python type, but is typically a TypedDict or Pydantic BaseModel.\\n\\n\\nNodes: Python functions that encode the logic of your agents. They receive the current State as input, perform some computation or side-effect, and return an updated State. [...] By composing Nodes and Edges, you can create complex, looping workflows that evolve the State over time. The real power, though, comes from how LangGraph manages that State. To emphasize: Nodes and Edges are nothing more than Python functions - they can contain an LLM or just good ol\\' Python code.\\nIn short: nodes do the work. edges tell what to do next.',\n",
       "  'score': 0.8995547},\n",
       " {'title': 'A Comprehensive Guide About Langgraph: Code Included - Ionio',\n",
       "  'url': 'https://www.ionio.ai/blog/a-comprehensive-guide-about-langgraph-code-included',\n",
       "  'content': 'Now let’s take a look at each component of langgraph in detail 🚀\\nNodes\\nA node can be any function or tool your agent uses in langgraph and these nodes are connected with other nodes using edges. Every workflow ends with a “END” node in langgraph which shows the end of workflow. You also need to define a starting node which will be the starting point of your workflow. Optionally, you can also define an ending node if you know the ending point of your workflow.',\n",
       "  'score': 0.8991304}]"
      ]
     },
     "execution_count": 19,
     "metadata": {},
     "output_type": "execute_result"
    }
   ],
   "source": [
    "tool = TavilySearchResults(max_results=2)\n",
    "tools = [tool]\n",
    "tool.invoke(\"What's a 'node' in LangGraph?\")"
   ]
  },
  {
   "cell_type": "code",
   "execution_count": 20,
   "metadata": {},
   "outputs": [],
   "source": [
    "llm_with_tools = llm_model.bind_tools(tools)"
   ]
  },
  {
   "cell_type": "code",
   "execution_count": 21,
   "metadata": {},
   "outputs": [],
   "source": [
    "def chatbot_with_tools(state: State):\n",
    "    return {\"messages\": llm_with_tools.invoke(state[\"messages\"])}"
   ]
  },
  {
   "cell_type": "markdown",
   "metadata": {},
   "source": [
    "WE start with a new Graph"
   ]
  },
  {
   "cell_type": "code",
   "execution_count": 22,
   "metadata": {},
   "outputs": [],
   "source": [
    "# del graph_builder"
   ]
  },
  {
   "cell_type": "code",
   "execution_count": 23,
   "metadata": {},
   "outputs": [
    {
     "data": {
      "text/plain": [
       "<langgraph.graph.state.StateGraph at 0x7f86e6ce31f0>"
      ]
     },
     "execution_count": 23,
     "metadata": {},
     "output_type": "execute_result"
    }
   ],
   "source": [
    "# we add state to the graph\n",
    "graph_builder = StateGraph(State)\n",
    "# we add the chatbot node\n",
    "graph_builder.add_node(\"chatbot\", chatbot_with_tools)"
   ]
  },
  {
   "cell_type": "markdown",
   "metadata": {},
   "source": [
    "Next we need to create a function to actually run the tools if they are called. We'll do this by adding the tools to a new node.\n",
    "\n",
    "Below, we implement a BasicToolNode that checks the most recent message in the state and calls tools if the message contains tool_calls\n",
    "We will later replace this with LangGraph's prebuilt ToolNode to speed things up"
   ]
  },
  {
   "cell_type": "code",
   "execution_count": 24,
   "metadata": {},
   "outputs": [],
   "source": [
    "class BasicToolNode:\n",
    "    \"\"\"A node that runs the tools requested in the last AIMessage.\"\"\"\n",
    "\n",
    "    def __init__(self, tools: list) -> None:\n",
    "        self.tools_by_name = {tool.name: tool for tool in tools}\n",
    "\n",
    "    def __call__(self, inputs: dict):\n",
    "        if messages := inputs.get(\"messages\", []):\n",
    "            message = messages[-1]\n",
    "        else:\n",
    "            raise ValueError(\"No message found in input\")\n",
    "        outputs = []\n",
    "        for tool_call in message.tool_calls:\n",
    "            tool_result = self.tools_by_name[tool_call[\"name\"]].invoke(\n",
    "                tool_call[\"args\"]\n",
    "            )\n",
    "            outputs.append(\n",
    "                ToolMessage(\n",
    "                    content=json.dumps(tool_result),\n",
    "                    name=tool_call[\"name\"],\n",
    "                    tool_call_id=tool_call[\"id\"],\n",
    "                )\n",
    "            )\n",
    "        return {\"messages\": outputs}"
   ]
  },
  {
   "cell_type": "code",
   "execution_count": 25,
   "metadata": {},
   "outputs": [
    {
     "data": {
      "text/plain": [
       "<langgraph.graph.state.StateGraph at 0x7f86e6ce31f0>"
      ]
     },
     "execution_count": 25,
     "metadata": {},
     "output_type": "execute_result"
    }
   ],
   "source": [
    "tool_node = BasicToolNode(tools)\n",
    "graph_builder.add_node(\"tools\", tool_node)"
   ]
  },
  {
   "cell_type": "markdown",
   "metadata": {},
   "source": [
    "With the tool node added, we can define the conditional_edges.\n",
    "\n",
    "Recall that edges route the control flow from one node to the next. Conditional edges usually contain \"if\" statements to route to different nodes depending on the current graph state. These functions receive the current graph state and return a string or list of strings indicating which node(s) to call next.\n",
    "\n",
    "Below, call define a router function called route_tools, that checks for tool_calls in the chatbot's output. Provide this function to the graph by calling add_conditional_edges, which tells the graph that whenever the chatbot node completes to check this function to see where to go next.\n",
    "\n",
    "The condition will route to tools if tool calls are present and END if not.\n",
    "\n",
    "Later, we will replace this with the prebuilt tools_condition to be more concise, but implementing it ourselves first makes things more clear."
   ]
  },
  {
   "cell_type": "code",
   "execution_count": 26,
   "metadata": {},
   "outputs": [],
   "source": [
    "def route_tools(state: State):\n",
    "    \"\"\"\n",
    "    Use in the conditional_edge to route to the ToolNode if the last message\n",
    "    has tool calls else return END.\n",
    "    This basically tells \"tools\" if the chatbot asks to use a tool, and \"END\" if it is fine directly responding. This conditional routing defines the main agent loop.\n",
    "    \"\"\"\n",
    "    if isinstance(state, list):\n",
    "        ai_message = state[-1]\n",
    "    elif message := state.get(\"messages\", []):\n",
    "        ai_message = message[-1]\n",
    "    else:\n",
    "        raise ValueError(f\"No messages found in input state to tool_edge: {state}\")\n",
    "\n",
    "    if hasattr(ai_message, \"tool_calls\") and len(ai_message.tool_calls) > 0:\n",
    "        return \"tools\"\n",
    "\n",
    "    return END"
   ]
  },
  {
   "cell_type": "code",
   "execution_count": 27,
   "metadata": {},
   "outputs": [
    {
     "data": {
      "text/plain": [
       "<langgraph.graph.state.StateGraph at 0x7f86e6ce31f0>"
      ]
     },
     "execution_count": 27,
     "metadata": {},
     "output_type": "execute_result"
    }
   ],
   "source": [
    "#  the conditional edge is used to route to the tool node if the last message has tool calls\n",
    "graph_builder.add_conditional_edges(\n",
    "    \"chatbot\", route_tools, {\"tools\": \"tools\", END: END}\n",
    ")"
   ]
  },
  {
   "cell_type": "code",
   "execution_count": 28,
   "metadata": {},
   "outputs": [],
   "source": [
    "# Any time a tool is called, we return to the chatbot to decide the next step\n",
    "graph_builder.add_edge(\"tools\", \"chatbot\")\n",
    "graph_builder.add_edge(START, \"chatbot\")\n",
    "graph = graph_builder.compile()"
   ]
  },
  {
   "cell_type": "code",
   "execution_count": 29,
   "metadata": {},
   "outputs": [
    {
     "data": {
      "image/png": "[encoded data removed]",
      "text/plain": [
       "<IPython.core.display.Image object>"
      ]
     },
     "metadata": {},
     "output_type": "display_data"
    }
   ],
   "source": [
    "display(Image(graph.get_graph().draw_mermaid_png()))"
   ]
  },
  {
   "cell_type": "code",
   "execution_count": 30,
   "metadata": {},
   "outputs": [],
   "source": [
    "def stream_graph_updates(user_input: str, graph: StateGraph):\n",
    "    \"\"\"\n",
    "    Stream the graph updates for the given user input.\n",
    "    \"\"\"\n",
    "    for event in graph.stream({\"messages\": [{\"role\": \"user\", \"content\": user_input}]}):\n",
    "        for value in event.values():\n",
    "            print(\"Assistant:\", value[\"messages\"])"
   ]
  },
  {
   "cell_type": "code",
   "execution_count": 31,
   "metadata": {},
   "outputs": [],
   "source": [
    "def execute_graph(graph: StateGraph):\n",
    "    \"\"\"\n",
    "    Execute the graph with the user input and stream the updates.\n",
    "    \"\"\"\n",
    "\n",
    "    while True:\n",
    "        try:\n",
    "            user_input = input(\"User: \")\n",
    "            if user_input.lower() in [\"quit\", \"exit\", \"q\"]:\n",
    "                print(\"Goodbye Exiting...\")\n",
    "                break\n",
    "            stream_graph_updates(user_input, graph)\n",
    "        except:\n",
    "            # fallback if input() is not available\n",
    "            user_input = \"What do you know about LangGraph?\"\n",
    "            print(\"User: \" + user_input)\n",
    "            stream_graph_updates(user_input, graph)\n",
    "            break"
   ]
  },
  {
   "cell_type": "code",
   "execution_count": 32,
   "metadata": {},
   "outputs": [
    {
     "name": "stdout",
     "output_type": "stream",
     "text": [
      "Goodbye Exiting...\n"
     ]
    }
   ],
   "source": [
    "execute_graph(graph)"
   ]
  },
  {
   "cell_type": "markdown",
   "metadata": {},
   "source": [
    "The full code for the graph we've created in this section is reproduced below, replacing our BasicToolNode for the prebuilt `ToolNode`, and our route_tools condition with the prebuilt `tools_condition`"
   ]
  },
  {
   "cell_type": "code",
   "execution_count": 33,
   "metadata": {},
   "outputs": [],
   "source": [
    "from langgraph.prebuilt import ToolNode, tools_condition"
   ]
  },
  {
   "cell_type": "code",
   "execution_count": 34,
   "metadata": {},
   "outputs": [],
   "source": [
    "# start by creating a new graph\n",
    "graph_builder = StateGraph(State)\n",
    "graph_builder.add_node(\"chatbot\", chatbot_with_tools)\n",
    "# tool node\n",
    "tool_node = ToolNode(tools=tools)\n",
    "graph_builder.add_node(\"tools\", tool_node)\n",
    "# add consitional edge\n",
    "graph_builder.add_conditional_edges(\"chatbot\", tools_condition)\n",
    "# anytime a tool is called, we return to the chatbot to decide the next step\n",
    "graph_builder.add_edge(\"tools\", \"chatbot\")\n",
    "\n",
    "# set entrypoint\n",
    "graph_builder.set_entry_point(\"chatbot\")\n",
    "# build the graph\n",
    "graph = graph_builder.compile()"
   ]
  },
  {
   "cell_type": "code",
   "execution_count": 35,
   "metadata": {},
   "outputs": [
    {
     "data": {
      "image/png": "[encoded data removed]",
      "text/plain": [
       "<IPython.core.display.Image object>"
      ]
     },
     "metadata": {},
     "output_type": "display_data"
    }
   ],
   "source": [
    "display(Image(graph.get_graph().draw_mermaid_png()))"
   ]
  },
  {
   "cell_type": "code",
   "execution_count": 36,
   "metadata": {},
   "outputs": [
    {
     "name": "stdout",
     "output_type": "stream",
     "text": [
      "Assistant: content='Hello! How can I assist you today?' additional_kwargs={'refusal': None} response_metadata={'token_usage': {'completion_tokens': 11, 'prompt_tokens': 80, 'total_tokens': 91, 'completion_tokens_details': {'accepted_prediction_tokens': 0, 'audio_tokens': 0, 'reasoning_tokens': 0, 'rejected_prediction_tokens': 0}, 'prompt_tokens_details': {'audio_tokens': 0, 'cached_tokens': 0}}, 'model_name': 'gpt-4o-2024-05-13', 'system_fingerprint': 'fp_65792305e4', 'prompt_filter_results': [{'prompt_index': 0, 'content_filter_results': {'hate': {'filtered': False, 'severity': 'safe'}, 'jailbreak': {'filtered': False, 'detected': False}, 'self_harm': {'filtered': False, 'severity': 'safe'}, 'sexual': {'filtered': False, 'severity': 'safe'}, 'violence': {'filtered': False, 'severity': 'safe'}}}], 'finish_reason': 'stop', 'logprobs': None, 'content_filter_results': {'hate': {'filtered': False, 'severity': 'safe'}, 'protected_material_code': {'filtered': False, 'detected': False}, 'protected_material_text': {'filtered': False, 'detected': False}, 'self_harm': {'filtered': False, 'severity': 'safe'}, 'sexual': {'filtered': False, 'severity': 'safe'}, 'violence': {'filtered': False, 'severity': 'safe'}}} id='run-b533f269-2ebd-440a-8cc3-5b2b0688b080-0' usage_metadata={'input_tokens': 80, 'output_tokens': 11, 'total_tokens': 91, 'input_token_details': {'audio': 0, 'cache_read': 0}, 'output_token_details': {'audio': 0, 'reasoning': 0}}\n",
      "Assistant: content='Hello! How can I assist you today?' additional_kwargs={'refusal': None} response_metadata={'token_usage': {'completion_tokens': 11, 'prompt_tokens': 80, 'total_tokens': 91, 'completion_tokens_details': {'accepted_prediction_tokens': 0, 'audio_tokens': 0, 'reasoning_tokens': 0, 'rejected_prediction_tokens': 0}, 'prompt_tokens_details': {'audio_tokens': 0, 'cached_tokens': 0}}, 'model_name': 'gpt-4o-2024-05-13', 'system_fingerprint': 'fp_65792305e4', 'prompt_filter_results': [{'prompt_index': 0, 'content_filter_results': {'hate': {'filtered': False, 'severity': 'safe'}, 'jailbreak': {'filtered': False, 'detected': False}, 'self_harm': {'filtered': False, 'severity': 'safe'}, 'sexual': {'filtered': False, 'severity': 'safe'}, 'violence': {'filtered': False, 'severity': 'safe'}}}], 'finish_reason': 'stop', 'logprobs': None, 'content_filter_results': {'hate': {'filtered': False, 'severity': 'safe'}, 'protected_material_code': {'filtered': False, 'detected': False}, 'protected_material_text': {'filtered': False, 'detected': False}, 'self_harm': {'filtered': False, 'severity': 'safe'}, 'sexual': {'filtered': False, 'severity': 'safe'}, 'violence': {'filtered': False, 'severity': 'safe'}}} id='run-486b1868-2bc9-45d9-84c1-8af85e4cb978-0' usage_metadata={'input_tokens': 80, 'output_tokens': 11, 'total_tokens': 91, 'input_token_details': {'audio': 0, 'cache_read': 0}, 'output_token_details': {'audio': 0, 'reasoning': 0}}\n",
      "Assistant: content='Hello! How can I assist you today?' additional_kwargs={'refusal': None} response_metadata={'token_usage': {'completion_tokens': 11, 'prompt_tokens': 80, 'total_tokens': 91, 'completion_tokens_details': {'accepted_prediction_tokens': 0, 'audio_tokens': 0, 'reasoning_tokens': 0, 'rejected_prediction_tokens': 0}, 'prompt_tokens_details': {'audio_tokens': 0, 'cached_tokens': 0}}, 'model_name': 'gpt-4o-2024-05-13', 'system_fingerprint': 'fp_65792305e4', 'prompt_filter_results': [{'prompt_index': 0, 'content_filter_results': {'hate': {'filtered': False, 'severity': 'safe'}, 'jailbreak': {'filtered': False, 'detected': False}, 'self_harm': {'filtered': False, 'severity': 'safe'}, 'sexual': {'filtered': False, 'severity': 'safe'}, 'violence': {'filtered': False, 'severity': 'safe'}}}], 'finish_reason': 'stop', 'logprobs': None, 'content_filter_results': {'hate': {'filtered': False, 'severity': 'safe'}, 'protected_material_code': {'filtered': False, 'detected': False}, 'protected_material_text': {'filtered': False, 'detected': False}, 'self_harm': {'filtered': False, 'severity': 'safe'}, 'sexual': {'filtered': False, 'severity': 'safe'}, 'violence': {'filtered': False, 'severity': 'safe'}}} id='run-f69fa2a2-1c6e-4cec-b163-cc2424d201cf-0' usage_metadata={'input_tokens': 80, 'output_tokens': 11, 'total_tokens': 91, 'input_token_details': {'audio': 0, 'cache_read': 0}, 'output_token_details': {'audio': 0, 'reasoning': 0}}\n",
      "Goodbye Exiting...\n"
     ]
    }
   ],
   "source": [
    "execute_graph(graph)"
   ]
  },
  {
   "cell_type": "markdown",
   "metadata": {},
   "source": [
    "Persistent checkpointing. If you provide a checkpointer when compiling the graph and a thread_id when calling your graph, LangGraph automatically saves the state after each step. When you invoke the graph again using the same thread_id, the graph loads its saved state, allowing the chatbot to pick up where it left off."
   ]
  },
  {
   "cell_type": "code",
   "execution_count": 37,
   "metadata": {},
   "outputs": [],
   "source": [
    "from langgraph.checkpoint.memory import MemorySaver"
   ]
  },
  {
   "cell_type": "code",
   "execution_count": 38,
   "metadata": {},
   "outputs": [],
   "source": [
    "memory = MemorySaver()"
   ]
  },
  {
   "cell_type": "code",
   "execution_count": 39,
   "metadata": {},
   "outputs": [],
   "source": [
    "# start by creating a new graph\n",
    "graph_builder = StateGraph(State)\n",
    "graph_builder.add_node(\"chatbot\", chatbot_with_tools)\n",
    "# tool node\n",
    "tool_node = ToolNode(tools=tools)\n",
    "graph_builder.add_node(\"tools\", tool_node)\n",
    "# add consitional edge\n",
    "graph_builder.add_conditional_edges(\"chatbot\", tools_condition)\n",
    "# anytime a tool is called, we return to the chatbot to decide the next step\n",
    "graph_builder.add_edge(\"tools\", \"chatbot\")\n",
    "\n",
    "# set entrypoint\n",
    "graph_builder.set_entry_point(\"chatbot\")\n",
    "# build the graph\n",
    "graph = graph_builder.compile(checkpointer=memory)"
   ]
  },
  {
   "cell_type": "code",
   "execution_count": 40,
   "metadata": {},
   "outputs": [],
   "source": [
    "# we set the thread\n",
    "config = {\"configurable\": {\"thread_id\": \"1\"}}"
   ]
  },
  {
   "cell_type": "code",
   "execution_count": 41,
   "metadata": {},
   "outputs": [],
   "source": [
    "def stream_graph_updates(user_input: str, graph: StateGraph):\n",
    "    \"\"\"\n",
    "    Stream the graph updates for the given user input.\n",
    "    \"\"\"\n",
    "    # The config is the **second positional argument** to stream() or invoke()!\n",
    "    events = graph.stream(\n",
    "        {\"messages\": [{\"role\": \"user\", \"content\": user_input}]},\n",
    "        config,\n",
    "        stream_mode=\"values\",\n",
    "    )\n",
    "    for event in events:\n",
    "        event[\"messages\"][-1].pretty_print()"
   ]
  },
  {
   "cell_type": "code",
   "execution_count": null,
   "metadata": {},
   "outputs": [
    {
     "name": "stdout",
     "output_type": "stream",
     "text": [
      "================================\u001b[1m Human Message \u001b[0m=================================\n",
      "\n",
      "What's a 'node' in LangGraph?\n"
     ]
    },
    {
     "name": "stdout",
     "output_type": "stream",
     "text": [
      "==================================\u001b[1m Ai Message \u001b[0m==================================\n",
      "Tool Calls:\n",
      "  tavily_search_results_json (call_3jYrDQMt95n2XTUMsHfQZfxD)\n",
      " Call ID: call_3jYrDQMt95n2XTUMsHfQZfxD\n",
      "  Args:\n",
      "    query: node in LangGraph\n",
      "=================================\u001b[1m Tool Message \u001b[0m=================================\n",
      "Name: tavily_search_results_json\n",
      "\n",
      "[{\"title\": \"A Comprehensive Guide About Langgraph: Code Included - Ionio\", \"url\": \"https://www.ionio.ai/blog/a-comprehensive-guide-about-langgraph-code-included\", \"content\": \"Now let’s take a look at each component of langgraph in detail 🚀\\nNodes\\nA node can be any function or tool your agent uses in langgraph and these nodes are connected with other nodes using edges. Every workflow ends with a “END” node in langgraph which shows the end of workflow. You also need to define a starting node which will be the starting point of your workflow. Optionally, you can also define an ending node if you know the ending point of your workflow. [...] Workflow Automation:  LangGraph can automate complex workflows that involve multiple steps and decision points. By defining the steps as nodes in the graph and the decision logic as edges, LangGraph can handle complex tasks easily. Langgraph can also make complex RAG systems easy to visualize and implement.\", \"score\": 0.8893851}, {\"title\": \"LangGraph Glossary - GitHub Pages\", \"url\": \"https://langchain-ai.github.io/langgraph/concepts/low_level/\", \"content\": \"In LangGraph, nodes are typically python functions (sync or async) where the first positional argument is the state, and (optionally), the second positional argument is a \\\"config\\\", containing optional configurable parameters (such as a thread_id).\\nSimilar to NetworkX, you add these nodes to a graph using the add_node method:\\n[](https://langchain-ai.github.io/langgraph/concepts/low_level/#__codelineno-7-1)fromlangchain_core.runnablesimport RunnableConfig [...] LangGraph Glossary¶\\nGraphs¶\\nAt its core, LangGraph models agent workflows as graphs. You define the behavior of your agents using three key components:\\n\\n\\nState: A shared data structure that represents the current snapshot of your application. It can be any Python type, but is typically a TypedDict or Pydantic BaseModel.\\n\\n\\nNodes: Python functions that encode the logic of your agents. They receive the current State as input, perform some computation or side-effect, and return an updated State. [...] By composing Nodes and Edges, you can create complex, looping workflows that evolve the State over time. The real power, though, comes from how LangGraph manages that State. To emphasize: Nodes and Edges are nothing more than Python functions - they can contain an LLM or just good ol' Python code.\\nIn short: nodes do the work. edges tell what to do next.\", \"score\": 0.85967577}]\n",
      "==================================\u001b[1m Ai Message \u001b[0m==================================\n",
      "\n",
      "In LangGraph, a \"node\" is typically a Python function (either synchronous or asynchronous) that performs a specific task or computation. Nodes are the fundamental units of work in LangGraph and are connected to other nodes using edges, which define the workflow's logic and sequence.\n",
      "\n",
      "Nodes receive the current state of the application as input, perform some computation or side-effect, and return an updated state. This allows for the creation of complex workflows by composing nodes and edges, which can handle multiple steps and decision points.\n",
      "\n",
      "In summary, nodes in LangGraph encode the logic of your agents and are essential for defining and automating workflows.\n"
     ]
    }
   ],
   "source": [
    "stream_graph_updates(\"What's a 'node' in LangGraph?\", graph)"
   ]
  },
  {
   "cell_type": "code",
   "execution_count": null,
   "metadata": {},
   "outputs": [
    {
     "name": "stdout",
     "output_type": "stream",
     "text": [
      "================================\u001b[1m Human Message \u001b[0m=================================\n",
      "\n",
      "What's an edge for the same\n"
     ]
    },
    {
     "name": "stdout",
     "output_type": "stream",
     "text": [
      "==================================\u001b[1m Ai Message \u001b[0m==================================\n",
      "Tool Calls:\n",
      "  tavily_search_results_json (call_DAqxYU1LKn5yLWuFy2HOQyLK)\n",
      " Call ID: call_DAqxYU1LKn5yLWuFy2HOQyLK\n",
      "  Args:\n",
      "    query: edge in LangGraph\n",
      "=================================\u001b[1m Tool Message \u001b[0m=================================\n",
      "Name: tavily_search_results_json\n",
      "\n",
      "[{\"title\": \"Advanced LangGraph: Implementing Conditional Edges and Tool ...\", \"url\": \"https://dev.to/jamesli/advanced-langgraph-implementing-conditional-edges-and-tool-calling-agents-3pdn\", \"content\": \"In the previous articles, we discussed the limitations of LCEL and AgentExecutor, as well as the basic concepts of LangGraph. Today, we will delve into the advanced features of LangGraph, focusing on the use of conditional edges and how to implement a complete tool-calling agent.\\nAdvanced Usage of Conditional Edges\\nConditional edges are one of the most powerful features in LangGraph, allowing us to dynamically decide the execution flow based on the state. Let's explore some advanced usages. [...] workflow.add_node(\\\"generate_response\\\", generate_response)\\nAdd edges\\nworkflow.add_edge(\\\"think\\\", \\\"execute_tool\\\", condition=lambda s: s.status == \\\"NEED_TOOL\\\")\\nworkflow.add_edge(\\\"execute_tool\\\", \\\"generate_response\\\", condition=lambda s: s.status == \\\"GENERATE_RESPONSE\\\")\\nworkflow.add_edge(\\\"generate_response\\\", \\\"think\\\", condition=lambda s: s.status == \\\"SUCCESS\\\")\\n```\\nSummary [...] This example demonstrates how LangGraph simplifies the process of building complex AI workflows by providing high-level abstractions and pre-built components. The flexibility of LangGraph allows us to customize and extend agent functionalities as needed, making it a valuable tool for AI development.\\nLangGraph Advanced Tutorial (9 Part Series)\", \"score\": 0.8106142}, {\"title\": \"LangGraph - LangChain Blog\", \"url\": \"https://blog.langchain.dev/langgraph/\", \"content\": \"This is the edge that connects the start of the graph to a particular node. This will make it so that that node is the first one called when input is passed to the graph. Pseudocode for that is:\\ngraph.set_entry_point(\\\"model\\\")\\nNormal Edges\\nThese are edges where one node should ALWAYS be called after another. An example of this may be in the basic agent runtime, where we always want the model to be called after we call a tool.\\ngraph.add_edge(\\\"tools\\\", \\\"model\\\")\\nConditional Edges [...] graph.add_node(\\\"tools\\\", tool_executor)\\nThere is also a special END node that is used to represent the end of the graph. It is important that your cycles be able to end eventually!\\nfrom langgraph.graph import END\\nEdges\\nAfter adding nodes, you can then add edges to create the graph. There are a few types of edges.\\nThe Starting Edge [...] These are where a function (often powered by an LLM) is used to determine which node to go to first. To create this edge, you need to pass in three things:\", \"score\": 0.72698855}]\n",
      "==================================\u001b[1m Ai Message \u001b[0m==================================\n",
      "\n",
      "In LangGraph, an \"edge\" defines the connection and execution flow between nodes. Edges determine the sequence in which nodes are executed and can be of different types:\n",
      "\n",
      "1. **Normal Edges**: These edges ensure that one node is always called after another. For example, in a basic agent runtime, you might always want a model to be called after a tool is executed.\n",
      "\n",
      "2. **Conditional Edges**: These edges allow for dynamic decision-making based on the state. They enable the workflow to branch and follow different paths depending on specific conditions. For instance, you can set conditions that determine which node to execute next based on the current state of the application.\n",
      "\n",
      "3. **Starting Edge**: This edge connects the start of the graph to a particular node, making it the first node to be called when input is passed to the graph.\n",
      "\n",
      "Edges are essential for defining the logic and flow of the workflow in LangGraph, allowing for complex and dynamic execution paths.\n"
     ]
    }
   ],
   "source": [
    "stream_graph_updates(\"What's an edge for the same\", graph)"
   ]
  },
  {
   "cell_type": "markdown",
   "metadata": {},
   "source": [
    "Analyze the checkpoint"
   ]
  },
  {
   "cell_type": "code",
   "execution_count": 44,
   "metadata": {},
   "outputs": [
    {
     "name": "stdout",
     "output_type": "stream",
     "text": [
      "StateSnapshot(values={'messages': [HumanMessage(content=\"What's a 'node' in LangGraph?\", additional_kwargs={}, response_metadata={}, id='2884b897-1172-46a9-9615-cc273a1e3bdc'), AIMessage(content='', additional_kwargs={'tool_calls': [{'id': 'call_3jYrDQMt95n2XTUMsHfQZfxD', 'function': {'arguments': '{\"query\":\"node in LangGraph\"}', 'name': 'tavily_search_results_json'}, 'type': 'function'}], 'refusal': None}, response_metadata={'token_usage': {'completion_tokens': 22, 'prompt_tokens': 88, 'total_tokens': 110, 'completion_tokens_details': {'accepted_prediction_tokens': 0, 'audio_tokens': 0, 'reasoning_tokens': 0, 'rejected_prediction_tokens': 0}, 'prompt_tokens_details': {'audio_tokens': 0, 'cached_tokens': 0}}, 'model_name': 'gpt-4o-2024-05-13', 'system_fingerprint': 'fp_65792305e4', 'prompt_filter_results': [{'prompt_index': 0, 'content_filter_results': {'hate': {'filtered': False, 'severity': 'safe'}, 'jailbreak': {'filtered': False, 'detected': False}, 'self_harm': {'filtered': False, 'severity': 'safe'}, 'sexual': {'filtered': False, 'severity': 'safe'}, 'violence': {'filtered': False, 'severity': 'safe'}}}], 'finish_reason': 'tool_calls', 'logprobs': None, 'content_filter_results': {}}, id='run-2af94b2c-1e27-447b-aadd-4f4de1a9d9fc-0', tool_calls=[{'name': 'tavily_search_results_json', 'args': {'query': 'node in LangGraph'}, 'id': 'call_3jYrDQMt95n2XTUMsHfQZfxD', 'type': 'tool_call'}], usage_metadata={'input_tokens': 88, 'output_tokens': 22, 'total_tokens': 110, 'input_token_details': {'audio': 0, 'cache_read': 0}, 'output_token_details': {'audio': 0, 'reasoning': 0}}), ToolMessage(content='[{\"title\": \"A Comprehensive Guide About Langgraph: Code Included - Ionio\", \"url\": \"https://www.ionio.ai/blog/a-comprehensive-guide-about-langgraph-code-included\", \"content\": \"Now let’s take a look at each component of langgraph in detail 🚀\\\\nNodes\\\\nA node can be any function or tool your agent uses in langgraph and these nodes are connected with other nodes using edges. Every workflow ends with a “END” node in langgraph which shows the end of workflow. You also need to define a starting node which will be the starting point of your workflow. Optionally, you can also define an ending node if you know the ending point of your workflow. [...] Workflow Automation: \\xa0LangGraph can automate complex workflows that involve multiple steps and decision points. By defining the steps as nodes in the graph and the decision logic as edges, LangGraph can handle complex tasks easily. Langgraph can also make complex RAG systems easy to visualize and implement.\", \"score\": 0.8893851}, {\"title\": \"LangGraph Glossary - GitHub Pages\", \"url\": \"https://langchain-ai.github.io/langgraph/concepts/low_level/\", \"content\": \"In LangGraph, nodes are typically python functions (sync or async) where the first positional argument is the state, and (optionally), the second positional argument is a \\\\\"config\\\\\", containing optional configurable parameters (such as a thread_id).\\\\nSimilar to NetworkX, you add these nodes to a graph using the add_node method:\\\\n[](https://langchain-ai.github.io/langgraph/concepts/low_level/#__codelineno-7-1)fromlangchain_core.runnablesimport RunnableConfig [...] LangGraph Glossary¶\\\\nGraphs¶\\\\nAt its core, LangGraph models agent workflows as graphs. You define the behavior of your agents using three key components:\\\\n\\\\n\\\\nState: A shared data structure that represents the current snapshot of your application. It can be any Python type, but is typically a TypedDict or Pydantic BaseModel.\\\\n\\\\n\\\\nNodes: Python functions that encode the logic of your agents. They receive the current State as input, perform some computation or side-effect, and return an updated State. [...] By composing Nodes and Edges, you can create complex, looping workflows that evolve the State over time. The real power, though, comes from how LangGraph manages that State. To emphasize: Nodes and Edges are nothing more than Python functions - they can contain an LLM or just good ol\\' Python code.\\\\nIn short: nodes do the work. edges tell what to do next.\", \"score\": 0.85967577}]', name='tavily_search_results_json', id='b37c794b-6cae-405b-88ff-12165bf6743e', tool_call_id='call_3jYrDQMt95n2XTUMsHfQZfxD', artifact={'query': 'node in LangGraph', 'follow_up_questions': None, 'answer': None, 'images': [], 'results': [{'url': 'https://www.ionio.ai/blog/a-comprehensive-guide-about-langgraph-code-included', 'title': 'A Comprehensive Guide About Langgraph: Code Included - Ionio', 'content': 'Now let’s take a look at each component of langgraph in detail 🚀\\nNodes\\nA node can be any function or tool your agent uses in langgraph and these nodes are connected with other nodes using edges. Every workflow ends with a “END” node in langgraph which shows the end of workflow. You also need to define a starting node which will be the starting point of your workflow. Optionally, you can also define an ending node if you know the ending point of your workflow. [...] Workflow Automation: \\xa0LangGraph can automate complex workflows that involve multiple steps and decision points. By defining the steps as nodes in the graph and the decision logic as edges, LangGraph can handle complex tasks easily. Langgraph can also make complex RAG systems easy to visualize and implement.', 'score': 0.8893851, 'raw_content': None}, {'url': 'https://langchain-ai.github.io/langgraph/concepts/low_level/', 'title': 'LangGraph Glossary - GitHub Pages', 'content': 'In LangGraph, nodes are typically python functions (sync or async) where the first positional argument is the state, and (optionally), the second positional argument is a \"config\", containing optional configurable parameters (such as a thread_id).\\nSimilar to NetworkX, you add these nodes to a graph using the add_node method:\\n[](https://langchain-ai.github.io/langgraph/concepts/low_level/#__codelineno-7-1)fromlangchain_core.runnablesimport RunnableConfig [...] LangGraph Glossary¶\\nGraphs¶\\nAt its core, LangGraph models agent workflows as graphs. You define the behavior of your agents using three key components:\\n\\n\\nState: A shared data structure that represents the current snapshot of your application. It can be any Python type, but is typically a TypedDict or Pydantic BaseModel.\\n\\n\\nNodes: Python functions that encode the logic of your agents. They receive the current State as input, perform some computation or side-effect, and return an updated State. [...] By composing Nodes and Edges, you can create complex, looping workflows that evolve the State over time. The real power, though, comes from how LangGraph manages that State. To emphasize: Nodes and Edges are nothing more than Python functions - they can contain an LLM or just good ol\\' Python code.\\nIn short: nodes do the work. edges tell what to do next.', 'score': 0.85967577, 'raw_content': None}], 'response_time': 1.24}), AIMessage(content='In LangGraph, a \"node\" is typically a Python function (either synchronous or asynchronous) that performs a specific task or computation. Nodes are the fundamental units of work in LangGraph and are connected to other nodes using edges, which define the workflow\\'s logic and sequence.\\n\\nNodes receive the current state of the application as input, perform some computation or side-effect, and return an updated state. This allows for the creation of complex workflows by composing nodes and edges, which can handle multiple steps and decision points.\\n\\nIn summary, nodes in LangGraph encode the logic of your agents and are essential for defining and automating workflows.', additional_kwargs={'refusal': None}, response_metadata={'token_usage': {'completion_tokens': 127, 'prompt_tokens': 677, 'total_tokens': 804, 'completion_tokens_details': {'accepted_prediction_tokens': 0, 'audio_tokens': 0, 'reasoning_tokens': 0, 'rejected_prediction_tokens': 0}, 'prompt_tokens_details': {'audio_tokens': 0, 'cached_tokens': 0}}, 'model_name': 'gpt-4o-2024-05-13', 'system_fingerprint': 'fp_65792305e4', 'prompt_filter_results': [{'prompt_index': 0, 'content_filter_results': {'hate': {'filtered': False, 'severity': 'safe'}, 'jailbreak': {'filtered': False, 'detected': False}, 'self_harm': {'filtered': False, 'severity': 'safe'}, 'sexual': {'filtered': False, 'severity': 'safe'}, 'violence': {'filtered': False, 'severity': 'safe'}}}], 'finish_reason': 'stop', 'logprobs': None, 'content_filter_results': {'hate': {'filtered': False, 'severity': 'safe'}, 'protected_material_code': {'filtered': False, 'detected': False}, 'protected_material_text': {'filtered': False, 'detected': False}, 'self_harm': {'filtered': False, 'severity': 'safe'}, 'sexual': {'filtered': False, 'severity': 'safe'}, 'violence': {'filtered': False, 'severity': 'safe'}}}, id='run-caa830fa-873e-4278-a9ab-f4f28912eb2a-0', usage_metadata={'input_tokens': 677, 'output_tokens': 127, 'total_tokens': 804, 'input_token_details': {'audio': 0, 'cache_read': 0}, 'output_token_details': {'audio': 0, 'reasoning': 0}}), HumanMessage(content=\"What's an edge for the same\", additional_kwargs={}, response_metadata={}, id='18282bbb-a8df-4993-913f-2f8167734801'), AIMessage(content='', additional_kwargs={'tool_calls': [{'id': 'call_DAqxYU1LKn5yLWuFy2HOQyLK', 'function': {'arguments': '{\"query\":\"edge in LangGraph\"}', 'name': 'tavily_search_results_json'}, 'type': 'function'}], 'refusal': None}, response_metadata={'token_usage': {'completion_tokens': 22, 'prompt_tokens': 816, 'total_tokens': 838, 'completion_tokens_details': {'accepted_prediction_tokens': 0, 'audio_tokens': 0, 'reasoning_tokens': 0, 'rejected_prediction_tokens': 0}, 'prompt_tokens_details': {'audio_tokens': 0, 'cached_tokens': 0}}, 'model_name': 'gpt-4o-2024-05-13', 'system_fingerprint': 'fp_65792305e4', 'prompt_filter_results': [{'prompt_index': 0, 'content_filter_results': {'hate': {'filtered': False, 'severity': 'safe'}, 'jailbreak': {'filtered': False, 'detected': False}, 'self_harm': {'filtered': False, 'severity': 'safe'}, 'sexual': {'filtered': False, 'severity': 'safe'}, 'violence': {'filtered': False, 'severity': 'safe'}}}], 'finish_reason': 'tool_calls', 'logprobs': None, 'content_filter_results': {}}, id='run-5a4ab789-d4f9-42d8-a5c0-0b01d0432639-0', tool_calls=[{'name': 'tavily_search_results_json', 'args': {'query': 'edge in LangGraph'}, 'id': 'call_DAqxYU1LKn5yLWuFy2HOQyLK', 'type': 'tool_call'}], usage_metadata={'input_tokens': 816, 'output_tokens': 22, 'total_tokens': 838, 'input_token_details': {'audio': 0, 'cache_read': 0}, 'output_token_details': {'audio': 0, 'reasoning': 0}}), ToolMessage(content='[{\"title\": \"Advanced LangGraph: Implementing Conditional Edges and Tool ...\", \"url\": \"https://dev.to/jamesli/advanced-langgraph-implementing-conditional-edges-and-tool-calling-agents-3pdn\", \"content\": \"In the previous articles, we discussed the limitations of LCEL and AgentExecutor, as well as the basic concepts of LangGraph. Today, we will delve into the advanced features of LangGraph, focusing on the use of conditional edges and how to implement a complete tool-calling agent.\\\\nAdvanced Usage of Conditional Edges\\\\nConditional edges are one of the most powerful features in LangGraph, allowing us to dynamically decide the execution flow based on the state. Let\\'s explore some advanced usages. [...] workflow.add_node(\\\\\"generate_response\\\\\", generate_response)\\\\nAdd edges\\\\nworkflow.add_edge(\\\\\"think\\\\\", \\\\\"execute_tool\\\\\", condition=lambda s: s.status == \\\\\"NEED_TOOL\\\\\")\\\\nworkflow.add_edge(\\\\\"execute_tool\\\\\", \\\\\"generate_response\\\\\", condition=lambda s: s.status == \\\\\"GENERATE_RESPONSE\\\\\")\\\\nworkflow.add_edge(\\\\\"generate_response\\\\\", \\\\\"think\\\\\", condition=lambda s: s.status == \\\\\"SUCCESS\\\\\")\\\\n```\\\\nSummary [...] This example demonstrates how LangGraph simplifies the process of building complex AI workflows by providing high-level abstractions and pre-built components. The flexibility of LangGraph allows us to customize and extend agent functionalities as needed, making it a valuable tool for AI development.\\\\nLangGraph Advanced Tutorial (9 Part Series)\", \"score\": 0.8106142}, {\"title\": \"LangGraph - LangChain Blog\", \"url\": \"https://blog.langchain.dev/langgraph/\", \"content\": \"This is the edge that connects the start of the graph to a particular node. This will make it so that that node is the first one called when input is passed to the graph. Pseudocode for that is:\\\\ngraph.set_entry_point(\\\\\"model\\\\\")\\\\nNormal Edges\\\\nThese are edges where one node should ALWAYS be called after another. An example of this may be in the basic agent runtime, where we always want the model to be called after we call a tool.\\\\ngraph.add_edge(\\\\\"tools\\\\\", \\\\\"model\\\\\")\\\\nConditional Edges [...] graph.add_node(\\\\\"tools\\\\\", tool_executor)\\\\nThere is also a special END node that is used to represent the end of the graph. It is important that your cycles be able to end eventually!\\\\nfrom langgraph.graph import END\\\\nEdges\\\\nAfter adding nodes, you can then add edges to create the graph. There are a few types of edges.\\\\nThe Starting Edge [...] These are where a function (often powered by an LLM) is used to determine which node to go to first. To create this edge, you need to pass in three things:\", \"score\": 0.72698855}]', name='tavily_search_results_json', id='077a93cf-94a4-4fe3-85af-4105ce9c8cc8', tool_call_id='call_DAqxYU1LKn5yLWuFy2HOQyLK', artifact={'query': 'edge in LangGraph', 'follow_up_questions': None, 'answer': None, 'images': [], 'results': [{'url': 'https://dev.to/jamesli/advanced-langgraph-implementing-conditional-edges-and-tool-calling-agents-3pdn', 'title': 'Advanced LangGraph: Implementing Conditional Edges and Tool ...', 'content': 'In the previous articles, we discussed the limitations of LCEL and AgentExecutor, as well as the basic concepts of LangGraph. Today, we will delve into the advanced features of LangGraph, focusing on the use of conditional edges and how to implement a complete tool-calling agent.\\nAdvanced Usage of Conditional Edges\\nConditional edges are one of the most powerful features in LangGraph, allowing us to dynamically decide the execution flow based on the state. Let\\'s explore some advanced usages. [...] workflow.add_node(\"generate_response\", generate_response)\\nAdd edges\\nworkflow.add_edge(\"think\", \"execute_tool\", condition=lambda s: s.status == \"NEED_TOOL\")\\nworkflow.add_edge(\"execute_tool\", \"generate_response\", condition=lambda s: s.status == \"GENERATE_RESPONSE\")\\nworkflow.add_edge(\"generate_response\", \"think\", condition=lambda s: s.status == \"SUCCESS\")\\n```\\nSummary [...] This example demonstrates how LangGraph simplifies the process of building complex AI workflows by providing high-level abstractions and pre-built components. The flexibility of LangGraph allows us to customize and extend agent functionalities as needed, making it a valuable tool for AI development.\\nLangGraph Advanced Tutorial (9 Part Series)', 'score': 0.8106142, 'raw_content': None}, {'url': 'https://blog.langchain.dev/langgraph/', 'title': 'LangGraph - LangChain Blog', 'content': 'This is the edge that connects the start of the graph to a particular node. This will make it so that that node is the first one called when input is passed to the graph. Pseudocode for that is:\\ngraph.set_entry_point(\"model\")\\nNormal Edges\\nThese are edges where one node should ALWAYS be called after another. An example of this may be in the basic agent runtime, where we always want the model to be called after we call a tool.\\ngraph.add_edge(\"tools\", \"model\")\\nConditional Edges [...] graph.add_node(\"tools\", tool_executor)\\nThere is also a special END node that is used to represent the end of the graph. It is important that your cycles be able to end eventually!\\nfrom langgraph.graph import END\\nEdges\\nAfter adding nodes, you can then add edges to create the graph. There are a few types of edges.\\nThe Starting Edge [...] These are where a function (often powered by an LLM) is used to determine which node to go to first. To create this edge, you need to pass in three things:', 'score': 0.72698855, 'raw_content': None}], 'response_time': 1.28}), AIMessage(content='In LangGraph, an \"edge\" defines the connection and execution flow between nodes. Edges determine the sequence in which nodes are executed and can be of different types:\\n\\n1. **Normal Edges**: These edges ensure that one node is always called after another. For example, in a basic agent runtime, you might always want a model to be called after a tool is executed.\\n\\n2. **Conditional Edges**: These edges allow for dynamic decision-making based on the state. They enable the workflow to branch and follow different paths depending on specific conditions. For instance, you can set conditions that determine which node to execute next based on the current state of the application.\\n\\n3. **Starting Edge**: This edge connects the start of the graph to a particular node, making it the first node to be called when input is passed to the graph.\\n\\nEdges are essential for defining the logic and flow of the workflow in LangGraph, allowing for complex and dynamic execution paths.', additional_kwargs={'refusal': None}, response_metadata={'token_usage': {'completion_tokens': 198, 'prompt_tokens': 1428, 'total_tokens': 1626, 'completion_tokens_details': {'accepted_prediction_tokens': 0, 'audio_tokens': 0, 'reasoning_tokens': 0, 'rejected_prediction_tokens': 0}, 'prompt_tokens_details': {'audio_tokens': 0, 'cached_tokens': 0}}, 'model_name': 'gpt-4o-2024-05-13', 'system_fingerprint': 'fp_65792305e4', 'prompt_filter_results': [{'prompt_index': 0, 'content_filter_results': {'hate': {'filtered': False, 'severity': 'safe'}, 'jailbreak': {'filtered': False, 'detected': False}, 'self_harm': {'filtered': False, 'severity': 'safe'}, 'sexual': {'filtered': False, 'severity': 'safe'}, 'violence': {'filtered': False, 'severity': 'safe'}}}], 'finish_reason': 'stop', 'logprobs': None, 'content_filter_results': {'hate': {'filtered': False, 'severity': 'safe'}, 'protected_material_code': {'filtered': False, 'detected': False}, 'protected_material_text': {'filtered': False, 'detected': False}, 'self_harm': {'filtered': False, 'severity': 'safe'}, 'sexual': {'filtered': False, 'severity': 'safe'}, 'violence': {'filtered': False, 'severity': 'safe'}}}, id='run-6c3aa040-0bf1-44f1-bd3e-35c5369f0eb7-0', usage_metadata={'input_tokens': 1428, 'output_tokens': 198, 'total_tokens': 1626, 'input_token_details': {'audio': 0, 'cache_read': 0}, 'output_token_details': {'audio': 0, 'reasoning': 0}})]}, next=(), config={'configurable': {'thread_id': '1', 'checkpoint_ns': '', 'checkpoint_id': '1f01550f-647c-68cc-8008-dfb9a64d6c9b'}}, metadata={'source': 'loop', 'writes': {'chatbot': {'messages': AIMessage(content='In LangGraph, an \"edge\" defines the connection and execution flow between nodes. Edges determine the sequence in which nodes are executed and can be of different types:\\n\\n1. **Normal Edges**: These edges ensure that one node is always called after another. For example, in a basic agent runtime, you might always want a model to be called after a tool is executed.\\n\\n2. **Conditional Edges**: These edges allow for dynamic decision-making based on the state. They enable the workflow to branch and follow different paths depending on specific conditions. For instance, you can set conditions that determine which node to execute next based on the current state of the application.\\n\\n3. **Starting Edge**: This edge connects the start of the graph to a particular node, making it the first node to be called when input is passed to the graph.\\n\\nEdges are essential for defining the logic and flow of the workflow in LangGraph, allowing for complex and dynamic execution paths.', additional_kwargs={'refusal': None}, response_metadata={'token_usage': {'completion_tokens': 198, 'prompt_tokens': 1428, 'total_tokens': 1626, 'completion_tokens_details': {'accepted_prediction_tokens': 0, 'audio_tokens': 0, 'reasoning_tokens': 0, 'rejected_prediction_tokens': 0}, 'prompt_tokens_details': {'audio_tokens': 0, 'cached_tokens': 0}}, 'model_name': 'gpt-4o-2024-05-13', 'system_fingerprint': 'fp_65792305e4', 'prompt_filter_results': [{'prompt_index': 0, 'content_filter_results': {'hate': {'filtered': False, 'severity': 'safe'}, 'jailbreak': {'filtered': False, 'detected': False}, 'self_harm': {'filtered': False, 'severity': 'safe'}, 'sexual': {'filtered': False, 'severity': 'safe'}, 'violence': {'filtered': False, 'severity': 'safe'}}}], 'finish_reason': 'stop', 'logprobs': None, 'content_filter_results': {'hate': {'filtered': False, 'severity': 'safe'}, 'protected_material_code': {'filtered': False, 'detected': False}, 'protected_material_text': {'filtered': False, 'detected': False}, 'self_harm': {'filtered': False, 'severity': 'safe'}, 'sexual': {'filtered': False, 'severity': 'safe'}, 'violence': {'filtered': False, 'severity': 'safe'}}}, id='run-6c3aa040-0bf1-44f1-bd3e-35c5369f0eb7-0', usage_metadata={'input_tokens': 1428, 'output_tokens': 198, 'total_tokens': 1626, 'input_token_details': {'audio': 0, 'cache_read': 0}, 'output_token_details': {'audio': 0, 'reasoning': 0}})}}, 'thread_id': '1', 'step': 8, 'parents': {}}, created_at='2025-04-09T14:43:12.195179+00:00', parent_config={'configurable': {'thread_id': '1', 'checkpoint_ns': '', 'checkpoint_id': '1f01550f-46c0-690f-8007-5230845f504e'}}, tasks=())\n"
     ]
    }
   ],
   "source": [
    "snapshot = graph.get_state(config)\n",
    "print(snapshot)"
   ]
  },
  {
   "cell_type": "code",
   "execution_count": 45,
   "metadata": {},
   "outputs": [
    {
     "data": {
      "text/plain": [
       "{'messages': [HumanMessage(content=\"What's a 'node' in LangGraph?\", additional_kwargs={}, response_metadata={}, id='2884b897-1172-46a9-9615-cc273a1e3bdc'),\n",
       "  AIMessage(content='', additional_kwargs={'tool_calls': [{'id': 'call_3jYrDQMt95n2XTUMsHfQZfxD', 'function': {'arguments': '{\"query\":\"node in LangGraph\"}', 'name': 'tavily_search_results_json'}, 'type': 'function'}], 'refusal': None}, response_metadata={'token_usage': {'completion_tokens': 22, 'prompt_tokens': 88, 'total_tokens': 110, 'completion_tokens_details': {'accepted_prediction_tokens': 0, 'audio_tokens': 0, 'reasoning_tokens': 0, 'rejected_prediction_tokens': 0}, 'prompt_tokens_details': {'audio_tokens': 0, 'cached_tokens': 0}}, 'model_name': 'gpt-4o-2024-05-13', 'system_fingerprint': 'fp_65792305e4', 'prompt_filter_results': [{'prompt_index': 0, 'content_filter_results': {'hate': {'filtered': False, 'severity': 'safe'}, 'jailbreak': {'filtered': False, 'detected': False}, 'self_harm': {'filtered': False, 'severity': 'safe'}, 'sexual': {'filtered': False, 'severity': 'safe'}, 'violence': {'filtered': False, 'severity': 'safe'}}}], 'finish_reason': 'tool_calls', 'logprobs': None, 'content_filter_results': {}}, id='run-2af94b2c-1e27-447b-aadd-4f4de1a9d9fc-0', tool_calls=[{'name': 'tavily_search_results_json', 'args': {'query': 'node in LangGraph'}, 'id': 'call_3jYrDQMt95n2XTUMsHfQZfxD', 'type': 'tool_call'}], usage_metadata={'input_tokens': 88, 'output_tokens': 22, 'total_tokens': 110, 'input_token_details': {'audio': 0, 'cache_read': 0}, 'output_token_details': {'audio': 0, 'reasoning': 0}}),\n",
       "  ToolMessage(content='[{\"title\": \"A Comprehensive Guide About Langgraph: Code Included - Ionio\", \"url\": \"https://www.ionio.ai/blog/a-comprehensive-guide-about-langgraph-code-included\", \"content\": \"Now let’s take a look at each component of langgraph in detail 🚀\\\\nNodes\\\\nA node can be any function or tool your agent uses in langgraph and these nodes are connected with other nodes using edges. Every workflow ends with a “END” node in langgraph which shows the end of workflow. You also need to define a starting node which will be the starting point of your workflow. Optionally, you can also define an ending node if you know the ending point of your workflow. [...] Workflow Automation: \\xa0LangGraph can automate complex workflows that involve multiple steps and decision points. By defining the steps as nodes in the graph and the decision logic as edges, LangGraph can handle complex tasks easily. Langgraph can also make complex RAG systems easy to visualize and implement.\", \"score\": 0.8893851}, {\"title\": \"LangGraph Glossary - GitHub Pages\", \"url\": \"https://langchain-ai.github.io/langgraph/concepts/low_level/\", \"content\": \"In LangGraph, nodes are typically python functions (sync or async) where the first positional argument is the state, and (optionally), the second positional argument is a \\\\\"config\\\\\", containing optional configurable parameters (such as a thread_id).\\\\nSimilar to NetworkX, you add these nodes to a graph using the add_node method:\\\\n[](https://langchain-ai.github.io/langgraph/concepts/low_level/#__codelineno-7-1)fromlangchain_core.runnablesimport RunnableConfig [...] LangGraph Glossary¶\\\\nGraphs¶\\\\nAt its core, LangGraph models agent workflows as graphs. You define the behavior of your agents using three key components:\\\\n\\\\n\\\\nState: A shared data structure that represents the current snapshot of your application. It can be any Python type, but is typically a TypedDict or Pydantic BaseModel.\\\\n\\\\n\\\\nNodes: Python functions that encode the logic of your agents. They receive the current State as input, perform some computation or side-effect, and return an updated State. [...] By composing Nodes and Edges, you can create complex, looping workflows that evolve the State over time. The real power, though, comes from how LangGraph manages that State. To emphasize: Nodes and Edges are nothing more than Python functions - they can contain an LLM or just good ol\\' Python code.\\\\nIn short: nodes do the work. edges tell what to do next.\", \"score\": 0.85967577}]', name='tavily_search_results_json', id='b37c794b-6cae-405b-88ff-12165bf6743e', tool_call_id='call_3jYrDQMt95n2XTUMsHfQZfxD', artifact={'query': 'node in LangGraph', 'follow_up_questions': None, 'answer': None, 'images': [], 'results': [{'url': 'https://www.ionio.ai/blog/a-comprehensive-guide-about-langgraph-code-included', 'title': 'A Comprehensive Guide About Langgraph: Code Included - Ionio', 'content': 'Now let’s take a look at each component of langgraph in detail 🚀\\nNodes\\nA node can be any function or tool your agent uses in langgraph and these nodes are connected with other nodes using edges. Every workflow ends with a “END” node in langgraph which shows the end of workflow. You also need to define a starting node which will be the starting point of your workflow. Optionally, you can also define an ending node if you know the ending point of your workflow. [...] Workflow Automation: \\xa0LangGraph can automate complex workflows that involve multiple steps and decision points. By defining the steps as nodes in the graph and the decision logic as edges, LangGraph can handle complex tasks easily. Langgraph can also make complex RAG systems easy to visualize and implement.', 'score': 0.8893851, 'raw_content': None}, {'url': 'https://langchain-ai.github.io/langgraph/concepts/low_level/', 'title': 'LangGraph Glossary - GitHub Pages', 'content': 'In LangGraph, nodes are typically python functions (sync or async) where the first positional argument is the state, and (optionally), the second positional argument is a \"config\", containing optional configurable parameters (such as a thread_id).\\nSimilar to NetworkX, you add these nodes to a graph using the add_node method:\\n[](https://langchain-ai.github.io/langgraph/concepts/low_level/#__codelineno-7-1)fromlangchain_core.runnablesimport RunnableConfig [...] LangGraph Glossary¶\\nGraphs¶\\nAt its core, LangGraph models agent workflows as graphs. You define the behavior of your agents using three key components:\\n\\n\\nState: A shared data structure that represents the current snapshot of your application. It can be any Python type, but is typically a TypedDict or Pydantic BaseModel.\\n\\n\\nNodes: Python functions that encode the logic of your agents. They receive the current State as input, perform some computation or side-effect, and return an updated State. [...] By composing Nodes and Edges, you can create complex, looping workflows that evolve the State over time. The real power, though, comes from how LangGraph manages that State. To emphasize: Nodes and Edges are nothing more than Python functions - they can contain an LLM or just good ol\\' Python code.\\nIn short: nodes do the work. edges tell what to do next.', 'score': 0.85967577, 'raw_content': None}], 'response_time': 1.24}),\n",
       "  AIMessage(content='In LangGraph, a \"node\" is typically a Python function (either synchronous or asynchronous) that performs a specific task or computation. Nodes are the fundamental units of work in LangGraph and are connected to other nodes using edges, which define the workflow\\'s logic and sequence.\\n\\nNodes receive the current state of the application as input, perform some computation or side-effect, and return an updated state. This allows for the creation of complex workflows by composing nodes and edges, which can handle multiple steps and decision points.\\n\\nIn summary, nodes in LangGraph encode the logic of your agents and are essential for defining and automating workflows.', additional_kwargs={'refusal': None}, response_metadata={'token_usage': {'completion_tokens': 127, 'prompt_tokens': 677, 'total_tokens': 804, 'completion_tokens_details': {'accepted_prediction_tokens': 0, 'audio_tokens': 0, 'reasoning_tokens': 0, 'rejected_prediction_tokens': 0}, 'prompt_tokens_details': {'audio_tokens': 0, 'cached_tokens': 0}}, 'model_name': 'gpt-4o-2024-05-13', 'system_fingerprint': 'fp_65792305e4', 'prompt_filter_results': [{'prompt_index': 0, 'content_filter_results': {'hate': {'filtered': False, 'severity': 'safe'}, 'jailbreak': {'filtered': False, 'detected': False}, 'self_harm': {'filtered': False, 'severity': 'safe'}, 'sexual': {'filtered': False, 'severity': 'safe'}, 'violence': {'filtered': False, 'severity': 'safe'}}}], 'finish_reason': 'stop', 'logprobs': None, 'content_filter_results': {'hate': {'filtered': False, 'severity': 'safe'}, 'protected_material_code': {'filtered': False, 'detected': False}, 'protected_material_text': {'filtered': False, 'detected': False}, 'self_harm': {'filtered': False, 'severity': 'safe'}, 'sexual': {'filtered': False, 'severity': 'safe'}, 'violence': {'filtered': False, 'severity': 'safe'}}}, id='run-caa830fa-873e-4278-a9ab-f4f28912eb2a-0', usage_metadata={'input_tokens': 677, 'output_tokens': 127, 'total_tokens': 804, 'input_token_details': {'audio': 0, 'cache_read': 0}, 'output_token_details': {'audio': 0, 'reasoning': 0}}),\n",
       "  HumanMessage(content=\"What's an edge for the same\", additional_kwargs={}, response_metadata={}, id='18282bbb-a8df-4993-913f-2f8167734801'),\n",
       "  AIMessage(content='', additional_kwargs={'tool_calls': [{'id': 'call_DAqxYU1LKn5yLWuFy2HOQyLK', 'function': {'arguments': '{\"query\":\"edge in LangGraph\"}', 'name': 'tavily_search_results_json'}, 'type': 'function'}], 'refusal': None}, response_metadata={'token_usage': {'completion_tokens': 22, 'prompt_tokens': 816, 'total_tokens': 838, 'completion_tokens_details': {'accepted_prediction_tokens': 0, 'audio_tokens': 0, 'reasoning_tokens': 0, 'rejected_prediction_tokens': 0}, 'prompt_tokens_details': {'audio_tokens': 0, 'cached_tokens': 0}}, 'model_name': 'gpt-4o-2024-05-13', 'system_fingerprint': 'fp_65792305e4', 'prompt_filter_results': [{'prompt_index': 0, 'content_filter_results': {'hate': {'filtered': False, 'severity': 'safe'}, 'jailbreak': {'filtered': False, 'detected': False}, 'self_harm': {'filtered': False, 'severity': 'safe'}, 'sexual': {'filtered': False, 'severity': 'safe'}, 'violence': {'filtered': False, 'severity': 'safe'}}}], 'finish_reason': 'tool_calls', 'logprobs': None, 'content_filter_results': {}}, id='run-5a4ab789-d4f9-42d8-a5c0-0b01d0432639-0', tool_calls=[{'name': 'tavily_search_results_json', 'args': {'query': 'edge in LangGraph'}, 'id': 'call_DAqxYU1LKn5yLWuFy2HOQyLK', 'type': 'tool_call'}], usage_metadata={'input_tokens': 816, 'output_tokens': 22, 'total_tokens': 838, 'input_token_details': {'audio': 0, 'cache_read': 0}, 'output_token_details': {'audio': 0, 'reasoning': 0}}),\n",
       "  ToolMessage(content='[{\"title\": \"Advanced LangGraph: Implementing Conditional Edges and Tool ...\", \"url\": \"https://dev.to/jamesli/advanced-langgraph-implementing-conditional-edges-and-tool-calling-agents-3pdn\", \"content\": \"In the previous articles, we discussed the limitations of LCEL and AgentExecutor, as well as the basic concepts of LangGraph. Today, we will delve into the advanced features of LangGraph, focusing on the use of conditional edges and how to implement a complete tool-calling agent.\\\\nAdvanced Usage of Conditional Edges\\\\nConditional edges are one of the most powerful features in LangGraph, allowing us to dynamically decide the execution flow based on the state. Let\\'s explore some advanced usages. [...] workflow.add_node(\\\\\"generate_response\\\\\", generate_response)\\\\nAdd edges\\\\nworkflow.add_edge(\\\\\"think\\\\\", \\\\\"execute_tool\\\\\", condition=lambda s: s.status == \\\\\"NEED_TOOL\\\\\")\\\\nworkflow.add_edge(\\\\\"execute_tool\\\\\", \\\\\"generate_response\\\\\", condition=lambda s: s.status == \\\\\"GENERATE_RESPONSE\\\\\")\\\\nworkflow.add_edge(\\\\\"generate_response\\\\\", \\\\\"think\\\\\", condition=lambda s: s.status == \\\\\"SUCCESS\\\\\")\\\\n```\\\\nSummary [...] This example demonstrates how LangGraph simplifies the process of building complex AI workflows by providing high-level abstractions and pre-built components. The flexibility of LangGraph allows us to customize and extend agent functionalities as needed, making it a valuable tool for AI development.\\\\nLangGraph Advanced Tutorial (9 Part Series)\", \"score\": 0.8106142}, {\"title\": \"LangGraph - LangChain Blog\", \"url\": \"https://blog.langchain.dev/langgraph/\", \"content\": \"This is the edge that connects the start of the graph to a particular node. This will make it so that that node is the first one called when input is passed to the graph. Pseudocode for that is:\\\\ngraph.set_entry_point(\\\\\"model\\\\\")\\\\nNormal Edges\\\\nThese are edges where one node should ALWAYS be called after another. An example of this may be in the basic agent runtime, where we always want the model to be called after we call a tool.\\\\ngraph.add_edge(\\\\\"tools\\\\\", \\\\\"model\\\\\")\\\\nConditional Edges [...] graph.add_node(\\\\\"tools\\\\\", tool_executor)\\\\nThere is also a special END node that is used to represent the end of the graph. It is important that your cycles be able to end eventually!\\\\nfrom langgraph.graph import END\\\\nEdges\\\\nAfter adding nodes, you can then add edges to create the graph. There are a few types of edges.\\\\nThe Starting Edge [...] These are where a function (often powered by an LLM) is used to determine which node to go to first. To create this edge, you need to pass in three things:\", \"score\": 0.72698855}]', name='tavily_search_results_json', id='077a93cf-94a4-4fe3-85af-4105ce9c8cc8', tool_call_id='call_DAqxYU1LKn5yLWuFy2HOQyLK', artifact={'query': 'edge in LangGraph', 'follow_up_questions': None, 'answer': None, 'images': [], 'results': [{'url': 'https://dev.to/jamesli/advanced-langgraph-implementing-conditional-edges-and-tool-calling-agents-3pdn', 'title': 'Advanced LangGraph: Implementing Conditional Edges and Tool ...', 'content': 'In the previous articles, we discussed the limitations of LCEL and AgentExecutor, as well as the basic concepts of LangGraph. Today, we will delve into the advanced features of LangGraph, focusing on the use of conditional edges and how to implement a complete tool-calling agent.\\nAdvanced Usage of Conditional Edges\\nConditional edges are one of the most powerful features in LangGraph, allowing us to dynamically decide the execution flow based on the state. Let\\'s explore some advanced usages. [...] workflow.add_node(\"generate_response\", generate_response)\\nAdd edges\\nworkflow.add_edge(\"think\", \"execute_tool\", condition=lambda s: s.status == \"NEED_TOOL\")\\nworkflow.add_edge(\"execute_tool\", \"generate_response\", condition=lambda s: s.status == \"GENERATE_RESPONSE\")\\nworkflow.add_edge(\"generate_response\", \"think\", condition=lambda s: s.status == \"SUCCESS\")\\n```\\nSummary [...] This example demonstrates how LangGraph simplifies the process of building complex AI workflows by providing high-level abstractions and pre-built components. The flexibility of LangGraph allows us to customize and extend agent functionalities as needed, making it a valuable tool for AI development.\\nLangGraph Advanced Tutorial (9 Part Series)', 'score': 0.8106142, 'raw_content': None}, {'url': 'https://blog.langchain.dev/langgraph/', 'title': 'LangGraph - LangChain Blog', 'content': 'This is the edge that connects the start of the graph to a particular node. This will make it so that that node is the first one called when input is passed to the graph. Pseudocode for that is:\\ngraph.set_entry_point(\"model\")\\nNormal Edges\\nThese are edges where one node should ALWAYS be called after another. An example of this may be in the basic agent runtime, where we always want the model to be called after we call a tool.\\ngraph.add_edge(\"tools\", \"model\")\\nConditional Edges [...] graph.add_node(\"tools\", tool_executor)\\nThere is also a special END node that is used to represent the end of the graph. It is important that your cycles be able to end eventually!\\nfrom langgraph.graph import END\\nEdges\\nAfter adding nodes, you can then add edges to create the graph. There are a few types of edges.\\nThe Starting Edge [...] These are where a function (often powered by an LLM) is used to determine which node to go to first. To create this edge, you need to pass in three things:', 'score': 0.72698855, 'raw_content': None}], 'response_time': 1.28}),\n",
       "  AIMessage(content='In LangGraph, an \"edge\" defines the connection and execution flow between nodes. Edges determine the sequence in which nodes are executed and can be of different types:\\n\\n1. **Normal Edges**: These edges ensure that one node is always called after another. For example, in a basic agent runtime, you might always want a model to be called after a tool is executed.\\n\\n2. **Conditional Edges**: These edges allow for dynamic decision-making based on the state. They enable the workflow to branch and follow different paths depending on specific conditions. For instance, you can set conditions that determine which node to execute next based on the current state of the application.\\n\\n3. **Starting Edge**: This edge connects the start of the graph to a particular node, making it the first node to be called when input is passed to the graph.\\n\\nEdges are essential for defining the logic and flow of the workflow in LangGraph, allowing for complex and dynamic execution paths.', additional_kwargs={'refusal': None}, response_metadata={'token_usage': {'completion_tokens': 198, 'prompt_tokens': 1428, 'total_tokens': 1626, 'completion_tokens_details': {'accepted_prediction_tokens': 0, 'audio_tokens': 0, 'reasoning_tokens': 0, 'rejected_prediction_tokens': 0}, 'prompt_tokens_details': {'audio_tokens': 0, 'cached_tokens': 0}}, 'model_name': 'gpt-4o-2024-05-13', 'system_fingerprint': 'fp_65792305e4', 'prompt_filter_results': [{'prompt_index': 0, 'content_filter_results': {'hate': {'filtered': False, 'severity': 'safe'}, 'jailbreak': {'filtered': False, 'detected': False}, 'self_harm': {'filtered': False, 'severity': 'safe'}, 'sexual': {'filtered': False, 'severity': 'safe'}, 'violence': {'filtered': False, 'severity': 'safe'}}}], 'finish_reason': 'stop', 'logprobs': None, 'content_filter_results': {'hate': {'filtered': False, 'severity': 'safe'}, 'protected_material_code': {'filtered': False, 'detected': False}, 'protected_material_text': {'filtered': False, 'detected': False}, 'self_harm': {'filtered': False, 'severity': 'safe'}, 'sexual': {'filtered': False, 'severity': 'safe'}, 'violence': {'filtered': False, 'severity': 'safe'}}}, id='run-6c3aa040-0bf1-44f1-bd3e-35c5369f0eb7-0', usage_metadata={'input_tokens': 1428, 'output_tokens': 198, 'total_tokens': 1626, 'input_token_details': {'audio': 0, 'cache_read': 0}, 'output_token_details': {'audio': 0, 'reasoning': 0}})]}"
      ]
     },
     "execution_count": 45,
     "metadata": {},
     "output_type": "execute_result"
    }
   ],
   "source": [
    "snapshot.values"
   ]
  },
  {
   "cell_type": "markdown",
   "metadata": {},
   "source": [
    "After analysis what we see is :\n",
    "- First is the Human message\n",
    "- Sesond is the llm message for the tool call\n",
    "- Third is the Tool message\n",
    "- Fourth is the llm message for the final response\n"
   ]
  },
  {
   "cell_type": "code",
   "execution_count": 46,
   "metadata": {},
   "outputs": [
    {
     "data": {
      "text/plain": [
       "()"
      ]
     },
     "execution_count": 46,
     "metadata": {},
     "output_type": "execute_result"
    }
   ],
   "source": [
    "# The snapshot above contains the current state values, corresponding config, and the next node to process. In our case, the graph has reached an END state, so next is empty.\n",
    "\n",
    "snapshot.next"
   ]
  },
  {
   "cell_type": "markdown",
   "metadata": {},
   "source": [
    "##### Part 4: Human-in-the-loop\n",
    "\n",
    "LangGraph's persistence layer supports human-in-the-loop workflows, allowing execution to pause and resume based on user feedback. The primary interface to this functionality is the interrupt function. Calling interrupt inside a node will pause execution. Execution can be resumed, together with new input from a human, by passing in a Command"
   ]
  },
  {
   "cell_type": "code",
   "execution_count": 48,
   "metadata": {},
   "outputs": [],
   "source": [
    "from langchain_core.tools import tool\n",
    "from langgraph.types import Command, interrupt"
   ]
  },
  {
   "cell_type": "code",
   "execution_count": 49,
   "metadata": {},
   "outputs": [],
   "source": [
    "class State(TypedDict):\n",
    "    messages: Annotated[list, add_messages]"
   ]
  },
  {
   "cell_type": "code",
   "execution_count": 51,
   "metadata": {},
   "outputs": [],
   "source": [
    "graph_builder = StateGraph(state_schema=State)"
   ]
  },
  {
   "cell_type": "code",
   "execution_count": 53,
   "metadata": {},
   "outputs": [],
   "source": [
    "@tool\n",
    "def human_assistance(query: str) -> str:\n",
    "    \"\"\"Request human assistance for a query and return the response.\"\"\"\n",
    "    human_response = interrupt({\"query\": query})\n",
    "    return human_response[\"data\"]"
   ]
  },
  {
   "cell_type": "code",
   "execution_count": 54,
   "metadata": {},
   "outputs": [],
   "source": [
    "tavily = TavilySearchResults(max_results=2)\n",
    "tools = [tavily, human_assistance]"
   ]
  },
  {
   "cell_type": "code",
   "execution_count": 56,
   "metadata": {},
   "outputs": [],
   "source": [
    "llm_with_tools = llm_model.bind_tools(tools, parallel_tool_calls=False)"
   ]
  },
  {
   "cell_type": "code",
   "execution_count": 58,
   "metadata": {},
   "outputs": [],
   "source": [
    "tool_node = ToolNode(tools=tools)"
   ]
  },
  {
   "cell_type": "code",
   "execution_count": 57,
   "metadata": {},
   "outputs": [],
   "source": [
    "def chatbot(state: State):\n",
    "    messages = llm_with_tools.invoke(state[\"messages\"])\n",
    "    assert len(messages.tool_calls) <= 1\n",
    "    return {\"messages\": [messages]}"
   ]
  },
  {
   "cell_type": "code",
   "execution_count": 59,
   "metadata": {},
   "outputs": [
    {
     "data": {
      "text/plain": [
       "<langgraph.graph.state.StateGraph at 0x7f86bc0f7fd0>"
      ]
     },
     "execution_count": 59,
     "metadata": {},
     "output_type": "execute_result"
    }
   ],
   "source": [
    "graph_builder.add_node(\"chatbot\", chatbot)\n",
    "\n",
    "graph_builder.add_node(\"tools\", tool_node)\n",
    "\n",
    "graph_builder.add_conditional_edges(\n",
    "    \"chatbot\",\n",
    "    tools_condition,\n",
    ")\n",
    "graph_builder.add_edge(\"tools\", \"chatbot\")\n",
    "graph_builder.add_edge(START, \"chatbot\")"
   ]
  },
  {
   "cell_type": "code",
   "execution_count": 60,
   "metadata": {},
   "outputs": [
    {
     "data": {
      "image/png": "[encoded data removed]",
      "text/plain": [
       "<IPython.core.display.Image object>"
      ]
     },
     "metadata": {},
     "output_type": "display_data"
    }
   ],
   "source": [
    "memory = MemorySaver()\n",
    "graph = graph_builder.compile(checkpointer=memory)\n",
    "display(Image(graph.get_graph().draw_mermaid_png()))"
   ]
  },
  {
   "cell_type": "code",
   "execution_count": 61,
   "metadata": {},
   "outputs": [],
   "source": [
    "config = {\"configurable\": {\"thread_id\": \"1\"}}"
   ]
  },
  {
   "cell_type": "code",
   "execution_count": 62,
   "metadata": {},
   "outputs": [],
   "source": [
    "user_input = \"I need some expert guidance for building an AI agent. Could you request assistance for me?\""
   ]
  },
  {
   "cell_type": "code",
   "execution_count": 63,
   "metadata": {},
   "outputs": [],
   "source": [
    "events = graph.stream(\n",
    "    {\"messages\": [{\"role\": \"user\", \"content\": user_input}]},\n",
    "    config,\n",
    "    stream_mode=\"values\",\n",
    ")"
   ]
  },
  {
   "cell_type": "code",
   "execution_count": 64,
   "metadata": {},
   "outputs": [
    {
     "name": "stdout",
     "output_type": "stream",
     "text": [
      "================================\u001b[1m Human Message \u001b[0m=================================\n",
      "\n",
      "I need some expert guidance for building an AI agent. Could you request assistance for me?\n",
      "==================================\u001b[1m Ai Message \u001b[0m==================================\n",
      "Tool Calls:\n",
      "  human_assistance (call_LiZMtGWg1KqIDLF9oAaqjZDs)\n",
      " Call ID: call_LiZMtGWg1KqIDLF9oAaqjZDs\n",
      "  Args:\n",
      "    query: I need expert guidance for building an AI agent.\n"
     ]
    }
   ],
   "source": [
    "for event in events:\n",
    "    if \"messages\" in event:\n",
    "        event[\"messages\"][-1].pretty_print()"
   ]
  },
  {
   "cell_type": "code",
   "execution_count": 65,
   "metadata": {},
   "outputs": [
    {
     "data": {
      "text/plain": [
       "('tools',)"
      ]
     },
     "execution_count": 65,
     "metadata": {},
     "output_type": "execute_result"
    }
   ],
   "source": [
    "snapshot = graph.get_state(config)\n",
    "snapshot.next"
   ]
  },
  {
   "cell_type": "markdown",
   "metadata": {},
   "source": [
    "To resume execution, we pass a Command object containing data expected by the tool. The format of this data can be customized based on our needs. Here, we just need a dict with a key \"data\":"
   ]
  },
  {
   "cell_type": "code",
   "execution_count": 66,
   "metadata": {},
   "outputs": [],
   "source": [
    "human_message = \" We are expert in AI agent building. We recommend LangGraph for your needs. Please check it out.\""
   ]
  },
  {
   "cell_type": "code",
   "execution_count": 67,
   "metadata": {},
   "outputs": [],
   "source": [
    "human_command = Command(resume={\"data\": human_message})"
   ]
  },
  {
   "cell_type": "code",
   "execution_count": 68,
   "metadata": {},
   "outputs": [
    {
     "name": "stdout",
     "output_type": "stream",
     "text": [
      "==================================\u001b[1m Ai Message \u001b[0m==================================\n",
      "Tool Calls:\n",
      "  human_assistance (call_LiZMtGWg1KqIDLF9oAaqjZDs)\n",
      " Call ID: call_LiZMtGWg1KqIDLF9oAaqjZDs\n",
      "  Args:\n",
      "    query: I need expert guidance for building an AI agent.\n",
      "=================================\u001b[1m Tool Message \u001b[0m=================================\n",
      "Name: human_assistance\n",
      "\n",
      " We are expert in AI agent building. We recommend LangGraph for your needs. Please check it out.\n",
      "==================================\u001b[1m Ai Message \u001b[0m==================================\n",
      "\n",
      "For expert guidance on building an AI agent, it is recommended to check out LangGraph. It is a resource that can help you with your needs.\n"
     ]
    }
   ],
   "source": [
    "events = graph.stream(human_command, config, stream_mode=\"values\")\n",
    "\n",
    "for event in events:\n",
    "    if \"messages\" in event:\n",
    "        event[\"messages\"][-1].pretty_print()"
   ]
  },
  {
   "cell_type": "markdown",
   "metadata": {},
   "source": [
    "Part 5: Customizing State"
   ]
  },
  {
   "cell_type": "markdown",
   "metadata": {},
   "source": [
    "you can add additional fields to the state other than the default message history. This is useful for storing information that is not part of the conversation but is still relevant to the task at hand. For example, you might want to keep track of the user's preferences or the current context of the conversation.\n",
    "Let's have the chatbot research the birthday of an entity. We will add name and birthday keys to the state "
   ]
  },
  {
   "cell_type": "code",
   "execution_count": 70,
   "metadata": {},
   "outputs": [],
   "source": [
    "from langchain_core.tools import InjectedToolCallId"
   ]
  },
  {
   "cell_type": "code",
   "execution_count": 69,
   "metadata": {},
   "outputs": [],
   "source": [
    "class State(TypedDict):\n",
    "    messages: Annotated[list, add_messages]\n",
    "    name: str\n",
    "    birthday: str"
   ]
  },
  {
   "cell_type": "code",
   "execution_count": 71,
   "metadata": {},
   "outputs": [],
   "source": [
    "@tool\n",
    "def human_assistance(\n",
    "    name: str, birthday: str, tool_call_id: Annotated[str, InjectedToolCallId]\n",
    ") -> str:\n",
    "    \"\"\"Request human assistance for a query and return the response.\"\"\"\n",
    "    # The tool_call_id is injected by the graph and is used to identify the tool call in the graph.\n",
    "\n",
    "    human_response = interrupt({\"name\": name, \"birthday\": birthday})\n",
    "\n",
    "    if human_response.get(\"correct\", \"\").lower().startswith(\"y\"):\n",
    "        verified_name = name\n",
    "        verified_birthday = birthday\n",
    "        response = \"Correct\"\n",
    "    # Otherwise, receive information from the human reviewer.\n",
    "    else:\n",
    "        verified_name = human_response.get(\"name\", name)\n",
    "        verified_birthday = human_response.get(\"birthday\", birthday)\n",
    "        response = f\"Made a correction: {human_response}\"\n",
    "\n",
    "    # we explicitly update the state with the verified values\n",
    "    state_update = {\n",
    "        \"name\": verified_name,\n",
    "        \"birthday\": verified_birthday,\n",
    "        \"messages\": [ToolMessage(response, tool_call_id=tool_call_id)],\n",
    "    }\n",
    "\n",
    "    # We return a Command object in the tool to update our state.\n",
    "    return Command(update=state_update)"
   ]
  },
  {
   "cell_type": "code",
   "execution_count": 72,
   "metadata": {},
   "outputs": [],
   "source": [
    "tools = [tavily, human_assistance]"
   ]
  },
  {
   "cell_type": "code",
   "execution_count": 73,
   "metadata": {},
   "outputs": [],
   "source": [
    "llm_with_tools = llm_model.bind_tools(tools, parallel_tool_calls=False)"
   ]
  },
  {
   "cell_type": "code",
   "execution_count": 74,
   "metadata": {},
   "outputs": [],
   "source": [
    "tool_node = ToolNode(tools=tools)"
   ]
  },
  {
   "cell_type": "code",
   "execution_count": 75,
   "metadata": {},
   "outputs": [],
   "source": [
    "def chatbot(state: State):\n",
    "    messages = llm_with_tools.invoke(state[\"messages\"])\n",
    "    assert len(messages.tool_calls) <= 1\n",
    "    return {\"messages\": [messages]}"
   ]
  },
  {
   "cell_type": "code",
   "execution_count": 80,
   "metadata": {},
   "outputs": [],
   "source": [
    "graph_builder = StateGraph(state_schema=State)"
   ]
  },
  {
   "cell_type": "code",
   "execution_count": 81,
   "metadata": {},
   "outputs": [
    {
     "data": {
      "text/plain": [
       "<langgraph.graph.state.StateGraph at 0x7f86aef1e740>"
      ]
     },
     "execution_count": 81,
     "metadata": {},
     "output_type": "execute_result"
    }
   ],
   "source": [
    "graph_builder.add_node(\"chatbot\", chatbot)\n",
    "\n",
    "graph_builder.add_node(\"tools\", tool_node)\n",
    "\n",
    "graph_builder.add_conditional_edges(\n",
    "    \"chatbot\",\n",
    "    tools_condition,\n",
    ")\n",
    "graph_builder.add_edge(\"tools\", \"chatbot\")\n",
    "graph_builder.add_edge(START, \"chatbot\")"
   ]
  },
  {
   "cell_type": "code",
   "execution_count": 82,
   "metadata": {},
   "outputs": [
    {
     "data": {
      "image/png": "[encoded data removed]",
      "text/plain": [
       "<IPython.core.display.Image object>"
      ]
     },
     "metadata": {},
     "output_type": "display_data"
    }
   ],
   "source": [
    "memory = MemorySaver()\n",
    "graph = graph_builder.compile(checkpointer=memory)\n",
    "display(Image(graph.get_graph().draw_mermaid_png()))"
   ]
  },
  {
   "cell_type": "code",
   "execution_count": 83,
   "metadata": {},
   "outputs": [],
   "source": [
    "config = {\"configurable\": {\"thread_id\": \"2\"}}"
   ]
  },
  {
   "cell_type": "code",
   "execution_count": 84,
   "metadata": {},
   "outputs": [],
   "source": [
    "memory = MemorySaver()\n",
    "graph = graph_builder.compile(checkpointer=memory)"
   ]
  },
  {
   "cell_type": "code",
   "execution_count": 85,
   "metadata": {},
   "outputs": [],
   "source": [
    "user_input = (\n",
    "    \"Can you look up when LangGraph was released? \"\n",
    "    \"When you have the answer, use the human_assistance tool for review.\"\n",
    ")"
   ]
  },
  {
   "cell_type": "code",
   "execution_count": 86,
   "metadata": {},
   "outputs": [
    {
     "name": "stdout",
     "output_type": "stream",
     "text": [
      "================================\u001b[1m Human Message \u001b[0m=================================\n",
      "\n",
      "Can you look up when LangGraph was released? When you have the answer, use the human_assistance tool for review.\n",
      "==================================\u001b[1m Ai Message \u001b[0m==================================\n",
      "Tool Calls:\n",
      "  tavily_search_results_json (call_Wr5HrTUpycOK2vrUkRauBDN9)\n",
      " Call ID: call_Wr5HrTUpycOK2vrUkRauBDN9\n",
      "  Args:\n",
      "    query: LangGraph release date\n",
      "=================================\u001b[1m Tool Message \u001b[0m=================================\n",
      "Name: tavily_search_results_json\n",
      "\n",
      "[{\"title\": \"langgraph - PyPI\", \"url\": \"https://pypi.org/project/langgraph/\", \"content\": \"langgraph · PyPI\\nSkip to main content Switch to mobile version\\n\\nSearch PyPI  Search\\n\\nHelp\\nSponsors\\nLog in\\nRegister\\n\\nMenu\\n\\nHelp\\nSponsors\\nLog in\\nRegister\\n\\nSearch PyPI  Search\\nlanggraph 0.2.70\\npip install langgraph Copy PIP instructions\\nLatest versionReleased: Feb 6, 2025\\nBuilding stateful, multi-actor applications with LLMs\\nNavigation\\n\\nProject description\\nRelease history\\nDownload files [...] 0.2.20 Sep 13, 2024\\n\\n0.2.19 Sep 6, 2024\\n\\n0.2.18 Sep 6, 2024\\n\\n0.2.17 Sep 5, 2024\\n\\n0.2.16 Sep 1, 2024\\n\\n0.2.15 Aug 30, 2024\\n\\n0.2.14 Aug 24, 2024\\n\\n0.2.13 Aug 23, 2024\\n\\n0.2.12 Aug 22, 2024\\n\\n0.2.11 Aug 22, 2024\\n\\n0.2.10 Aug 21, 2024\\n\\n0.2.9 Aug 21, 2024\\n\\n0.2.8 Aug 21, 2024\\n\\n0.2.7 Aug 21, 2024\\n\\n0.2.7a0 pre-release Aug 21, 2024\\n\\n0.2.6 Aug 21, 2024\\n\\n0.2.5 Aug 21, 2024\\n\\n0.2.5a0 pre-release Aug 20, 2024\\n\\n0.2.4 Aug 15, 2024\\n\\n0.2.3 Aug 8, 2024\\n\\n0.2.2 Aug 7, 2024\\n\\n0.2.1 Aug 7, 2024\\n\\n0.2.0 Aug 7, 2024 [...] License\\nOSI Approved :: MIT License\\n\\n\\nProgramming Language\\nPython :: 3\\nPython :: 3.9\\nPython :: 3.10\\nPython :: 3.11\\nPython :: 3.12\\n\\n\\n\\nRelease history Release notifications | RSS feed\\nThis version\\n\\n0.2.70 Feb 6, 2025\\n\\n0.2.69 Jan 31, 2025\\n\\n0.2.68 Jan 28, 2025\\n\\n0.2.67 Jan 23, 2025\\n\\n0.2.66 Jan 21, 2025\\n\\n0.2.65 Jan 21, 2025\\n\\n0.2.64 Jan 17, 2025\\n\\n0.2.63 Jan 16, 2025\\n\\n0.2.62 Jan 10, 2025\\n\\n0.2.61 Jan 5, 2025\\n\\n0.2.60 Dec 18, 2024\\n\\n0.2.59 Dec 11, 2024\\n\\n0.2.58 Dec 10, 2024\\n\\n0.2.57 Dec 10, 2024\", \"score\": 0.81875163}, {\"title\": \"LangGraph 0.3: Pre-built agents - LangChain - Changelog\", \"url\": \"https://changelog.langchain.com/announcements/langgraph-0-3-pre-built-agents\", \"content\": \"LangChain - Changelog | LangGraph 0.3: Pre-built agents LangChain LangSmith LangGraph LangChain LangSmith LangGraph LangChain LangSmith LangGraph Sign up for our newsletter to stay up to date DATE: LangGraph 0.3: Pre-built agents DATE: March 2, 2025 AUTHOR: The LangChain Team That’s why we’re launching LangGraph pre-built agents as part of our 0.3 release! The 3 key benefits of pre-built agents: Built for customization – Modify and extend prebuilt agents just like any LangGraph app—no black boxes. Community-powered innovation – Contribute your own prebuilt agents and tap into a growing ecosystem. LangGraph Supervisor for multi-agent supervisor architecture LangMem for long-term memory for agents LangGraph Swarm for swarm-based multi-agent workflows Read the blog for more: https://blog.langchain.dev/langgraph-0-3-release-prebuilt-agents/ Get started today with pre-built agents: https://langchain-ai.github.io/langgraph/prebuilt/\", \"score\": 0.7845341}]\n",
      "==================================\u001b[1m Ai Message \u001b[0m==================================\n",
      "Tool Calls:\n",
      "  human_assistance (call_3eqQpAeEQSdi2e6ZfFgNMp4Z)\n",
      " Call ID: call_3eqQpAeEQSdi2e6ZfFgNMp4Z\n",
      "  Args:\n",
      "    name: LangGraph\n",
      "    birthday: February 6, 2025\n"
     ]
    }
   ],
   "source": [
    "events = graph.stream(\n",
    "    {\"messages\": [{\"role\": \"user\", \"content\": user_input}]},\n",
    "    config,\n",
    "    stream_mode=\"values\",\n",
    ")\n",
    "for event in events:\n",
    "    if \"messages\" in event:\n",
    "        event[\"messages\"][-1].pretty_print()"
   ]
  },
  {
   "cell_type": "code",
   "execution_count": 87,
   "metadata": {},
   "outputs": [
    {
     "name": "stdout",
     "output_type": "stream",
     "text": [
      "==================================\u001b[1m Ai Message \u001b[0m==================================\n",
      "Tool Calls:\n",
      "  human_assistance (call_3eqQpAeEQSdi2e6ZfFgNMp4Z)\n",
      " Call ID: call_3eqQpAeEQSdi2e6ZfFgNMp4Z\n",
      "  Args:\n",
      "    name: LangGraph\n",
      "    birthday: February 6, 2025\n",
      "=================================\u001b[1m Tool Message \u001b[0m=================================\n",
      "Name: human_assistance\n",
      "\n",
      "Made a correction: {'name': 'LangGraph', 'birthday': 'Jan 17, 2024'}\n",
      "==================================\u001b[1m Ai Message \u001b[0m==================================\n",
      "\n",
      "LangGraph was released on January 17, 2024.\n"
     ]
    }
   ],
   "source": [
    "# here is where we are updating the state with the human response\n",
    "human_command = Command(\n",
    "    resume={\n",
    "        \"name\": \"LangGraph\",\n",
    "        \"birthday\": \"Jan 17, 2024\",\n",
    "    },\n",
    ")\n",
    "\n",
    "events = graph.stream(human_command, config, stream_mode=\"values\")\n",
    "for event in events:\n",
    "    if \"messages\" in event:\n",
    "        event[\"messages\"][-1].pretty_print()"
   ]
  },
  {
   "cell_type": "code",
   "execution_count": null,
   "metadata": {},
   "outputs": [
    {
     "data": {
      "text/plain": [
       "{'messages': [HumanMessage(content='Can you look up when LangGraph was released? When you have the answer, use the human_assistance tool for review.', additional_kwargs={}, response_metadata={}, id='2bd389ef-6974-4a45-b099-76150224cb8a'),\n",
       "  AIMessage(content='', additional_kwargs={'tool_calls': [{'id': 'call_Wr5HrTUpycOK2vrUkRauBDN9', 'function': {'arguments': '{\"query\":\"LangGraph release date\"}', 'name': 'tavily_search_results_json'}, 'type': 'function'}], 'refusal': None}, response_metadata={'token_usage': {'completion_tokens': 22, 'prompt_tokens': 134, 'total_tokens': 156, 'completion_tokens_details': {'accepted_prediction_tokens': 0, 'audio_tokens': 0, 'reasoning_tokens': 0, 'rejected_prediction_tokens': 0}, 'prompt_tokens_details': {'audio_tokens': 0, 'cached_tokens': 0}}, 'model_name': 'gpt-4o-2024-05-13', 'system_fingerprint': 'fp_65792305e4', 'prompt_filter_results': [{'prompt_index': 0, 'content_filter_results': {'hate': {'filtered': False, 'severity': 'safe'}, 'jailbreak': {'filtered': False, 'detected': False}, 'self_harm': {'filtered': False, 'severity': 'safe'}, 'sexual': {'filtered': False, 'severity': 'safe'}, 'violence': {'filtered': False, 'severity': 'safe'}}}], 'finish_reason': 'tool_calls', 'logprobs': None, 'content_filter_results': {}}, id='run-372f491b-741b-4704-9732-22da275e7c5e-0', tool_calls=[{'name': 'tavily_search_results_json', 'args': {'query': 'LangGraph release date'}, 'id': 'call_Wr5HrTUpycOK2vrUkRauBDN9', 'type': 'tool_call'}], usage_metadata={'input_tokens': 134, 'output_tokens': 22, 'total_tokens': 156, 'input_token_details': {'audio': 0, 'cache_read': 0}, 'output_token_details': {'audio': 0, 'reasoning': 0}}),\n",
       "  ToolMessage(content='[{\"title\": \"langgraph - PyPI\", \"url\": \"https://pypi.org/project/langgraph/\", \"content\": \"langgraph · PyPI\\\\nSkip to main content Switch to mobile version\\\\n\\\\nSearch PyPI  Search\\\\n\\\\nHelp\\\\nSponsors\\\\nLog in\\\\nRegister\\\\n\\\\nMenu\\\\n\\\\nHelp\\\\nSponsors\\\\nLog in\\\\nRegister\\\\n\\\\nSearch PyPI  Search\\\\nlanggraph 0.2.70\\\\npip install langgraph Copy PIP instructions\\\\nLatest versionReleased: Feb 6, 2025\\\\nBuilding stateful, multi-actor applications with LLMs\\\\nNavigation\\\\n\\\\nProject description\\\\nRelease history\\\\nDownload files [...] 0.2.20 Sep 13, 2024\\\\n\\\\n0.2.19 Sep 6, 2024\\\\n\\\\n0.2.18 Sep 6, 2024\\\\n\\\\n0.2.17 Sep 5, 2024\\\\n\\\\n0.2.16 Sep 1, 2024\\\\n\\\\n0.2.15 Aug 30, 2024\\\\n\\\\n0.2.14 Aug 24, 2024\\\\n\\\\n0.2.13 Aug 23, 2024\\\\n\\\\n0.2.12 Aug 22, 2024\\\\n\\\\n0.2.11 Aug 22, 2024\\\\n\\\\n0.2.10 Aug 21, 2024\\\\n\\\\n0.2.9 Aug 21, 2024\\\\n\\\\n0.2.8 Aug 21, 2024\\\\n\\\\n0.2.7 Aug 21, 2024\\\\n\\\\n0.2.7a0 pre-release Aug 21, 2024\\\\n\\\\n0.2.6 Aug 21, 2024\\\\n\\\\n0.2.5 Aug 21, 2024\\\\n\\\\n0.2.5a0 pre-release Aug 20, 2024\\\\n\\\\n0.2.4 Aug 15, 2024\\\\n\\\\n0.2.3 Aug 8, 2024\\\\n\\\\n0.2.2 Aug 7, 2024\\\\n\\\\n0.2.1 Aug 7, 2024\\\\n\\\\n0.2.0 Aug 7, 2024 [...] License\\\\nOSI Approved :: MIT License\\\\n\\\\n\\\\nProgramming Language\\\\nPython :: 3\\\\nPython :: 3.9\\\\nPython :: 3.10\\\\nPython :: 3.11\\\\nPython :: 3.12\\\\n\\\\n\\\\n\\\\nRelease history Release notifications | RSS feed\\\\nThis version\\\\n\\\\n0.2.70 Feb 6, 2025\\\\n\\\\n0.2.69 Jan 31, 2025\\\\n\\\\n0.2.68 Jan 28, 2025\\\\n\\\\n0.2.67 Jan 23, 2025\\\\n\\\\n0.2.66 Jan 21, 2025\\\\n\\\\n0.2.65 Jan 21, 2025\\\\n\\\\n0.2.64 Jan 17, 2025\\\\n\\\\n0.2.63 Jan 16, 2025\\\\n\\\\n0.2.62 Jan 10, 2025\\\\n\\\\n0.2.61 Jan 5, 2025\\\\n\\\\n0.2.60 Dec 18, 2024\\\\n\\\\n0.2.59 Dec 11, 2024\\\\n\\\\n0.2.58 Dec 10, 2024\\\\n\\\\n0.2.57 Dec 10, 2024\", \"score\": 0.81875163}, {\"title\": \"LangGraph 0.3: Pre-built agents - LangChain - Changelog\", \"url\": \"https://changelog.langchain.com/announcements/langgraph-0-3-pre-built-agents\", \"content\": \"LangChain - Changelog | LangGraph 0.3: Pre-built agents LangChain LangSmith LangGraph LangChain LangSmith LangGraph LangChain LangSmith LangGraph Sign up for our newsletter to stay up to date DATE: LangGraph 0.3: Pre-built agents DATE: March 2, 2025 AUTHOR: The LangChain Team That’s why we’re launching LangGraph pre-built agents as part of our 0.3 release! The 3 key benefits of pre-built agents: Built for customization – Modify and extend prebuilt agents just like any LangGraph app—no black boxes. Community-powered innovation – Contribute your own prebuilt agents and tap into a growing ecosystem. LangGraph Supervisor for multi-agent supervisor architecture LangMem for long-term memory for agents LangGraph Swarm for swarm-based multi-agent workflows Read the blog for more: https://blog.langchain.dev/langgraph-0-3-release-prebuilt-agents/ Get started today with pre-built agents: https://langchain-ai.github.io/langgraph/prebuilt/\", \"score\": 0.7845341}]', name='tavily_search_results_json', id='63436af3-35c7-4bd2-995a-921f82125ef3', tool_call_id='call_Wr5HrTUpycOK2vrUkRauBDN9', artifact={'query': 'LangGraph release date', 'follow_up_questions': None, 'answer': None, 'images': [], 'results': [{'url': 'https://pypi.org/project/langgraph/', 'title': 'langgraph - PyPI', 'content': 'langgraph · PyPI\\nSkip to main content Switch to mobile version\\n\\nSearch PyPI  Search\\n\\nHelp\\nSponsors\\nLog in\\nRegister\\n\\nMenu\\n\\nHelp\\nSponsors\\nLog in\\nRegister\\n\\nSearch PyPI  Search\\nlanggraph 0.2.70\\npip install langgraph Copy PIP instructions\\nLatest versionReleased: Feb 6, 2025\\nBuilding stateful, multi-actor applications with LLMs\\nNavigation\\n\\nProject description\\nRelease history\\nDownload files [...] 0.2.20 Sep 13, 2024\\n\\n0.2.19 Sep 6, 2024\\n\\n0.2.18 Sep 6, 2024\\n\\n0.2.17 Sep 5, 2024\\n\\n0.2.16 Sep 1, 2024\\n\\n0.2.15 Aug 30, 2024\\n\\n0.2.14 Aug 24, 2024\\n\\n0.2.13 Aug 23, 2024\\n\\n0.2.12 Aug 22, 2024\\n\\n0.2.11 Aug 22, 2024\\n\\n0.2.10 Aug 21, 2024\\n\\n0.2.9 Aug 21, 2024\\n\\n0.2.8 Aug 21, 2024\\n\\n0.2.7 Aug 21, 2024\\n\\n0.2.7a0 pre-release Aug 21, 2024\\n\\n0.2.6 Aug 21, 2024\\n\\n0.2.5 Aug 21, 2024\\n\\n0.2.5a0 pre-release Aug 20, 2024\\n\\n0.2.4 Aug 15, 2024\\n\\n0.2.3 Aug 8, 2024\\n\\n0.2.2 Aug 7, 2024\\n\\n0.2.1 Aug 7, 2024\\n\\n0.2.0 Aug 7, 2024 [...] License\\nOSI Approved :: MIT License\\n\\n\\nProgramming Language\\nPython :: 3\\nPython :: 3.9\\nPython :: 3.10\\nPython :: 3.11\\nPython :: 3.12\\n\\n\\n\\nRelease history Release notifications | RSS feed\\nThis version\\n\\n0.2.70 Feb 6, 2025\\n\\n0.2.69 Jan 31, 2025\\n\\n0.2.68 Jan 28, 2025\\n\\n0.2.67 Jan 23, 2025\\n\\n0.2.66 Jan 21, 2025\\n\\n0.2.65 Jan 21, 2025\\n\\n0.2.64 Jan 17, 2025\\n\\n0.2.63 Jan 16, 2025\\n\\n0.2.62 Jan 10, 2025\\n\\n0.2.61 Jan 5, 2025\\n\\n0.2.60 Dec 18, 2024\\n\\n0.2.59 Dec 11, 2024\\n\\n0.2.58 Dec 10, 2024\\n\\n0.2.57 Dec 10, 2024', 'score': 0.81875163, 'raw_content': None}, {'url': 'https://changelog.langchain.com/announcements/langgraph-0-3-pre-built-agents', 'title': 'LangGraph 0.3: Pre-built agents - LangChain - Changelog', 'content': 'LangChain - Changelog | LangGraph 0.3: Pre-built agents LangChain LangSmith LangGraph LangChain LangSmith LangGraph LangChain LangSmith LangGraph Sign up for our newsletter to stay up to date DATE: LangGraph 0.3: Pre-built agents DATE: March 2, 2025 AUTHOR: The LangChain Team That’s why we’re launching LangGraph pre-built agents as part of our 0.3 release! The 3 key benefits of pre-built agents: Built for customization – Modify and extend prebuilt agents just like any LangGraph app—no black boxes. Community-powered innovation – Contribute your own prebuilt agents and tap into a growing ecosystem. LangGraph Supervisor for multi-agent supervisor architecture LangMem for long-term memory for agents LangGraph Swarm for swarm-based multi-agent workflows Read the blog for more: https://blog.langchain.dev/langgraph-0-3-release-prebuilt-agents/ Get started today with pre-built agents: https://langchain-ai.github.io/langgraph/prebuilt/', 'score': 0.7845341, 'raw_content': None}], 'response_time': 1.12}),\n",
       "  AIMessage(content='', additional_kwargs={'tool_calls': [{'id': 'call_3eqQpAeEQSdi2e6ZfFgNMp4Z', 'function': {'arguments': '{\"name\":\"LangGraph\",\"birthday\":\"February 6, 2025\"}', 'name': 'human_assistance'}, 'type': 'function'}], 'refusal': None}, response_metadata={'token_usage': {'completion_tokens': 28, 'prompt_tokens': 1170, 'total_tokens': 1198, 'completion_tokens_details': {'accepted_prediction_tokens': 0, 'audio_tokens': 0, 'reasoning_tokens': 0, 'rejected_prediction_tokens': 0}, 'prompt_tokens_details': {'audio_tokens': 0, 'cached_tokens': 0}}, 'model_name': 'gpt-4o-2024-05-13', 'system_fingerprint': 'fp_65792305e4', 'prompt_filter_results': [{'prompt_index': 0, 'content_filter_results': {'hate': {'filtered': False, 'severity': 'safe'}, 'jailbreak': {'filtered': False, 'detected': False}, 'self_harm': {'filtered': False, 'severity': 'safe'}, 'sexual': {'filtered': False, 'severity': 'safe'}, 'violence': {'filtered': False, 'severity': 'safe'}}}], 'finish_reason': 'tool_calls', 'logprobs': None, 'content_filter_results': {}}, id='run-42ed16dc-acc6-4685-a53f-97e69f8f75d8-0', tool_calls=[{'name': 'human_assistance', 'args': {'name': 'LangGraph', 'birthday': 'February 6, 2025'}, 'id': 'call_3eqQpAeEQSdi2e6ZfFgNMp4Z', 'type': 'tool_call'}], usage_metadata={'input_tokens': 1170, 'output_tokens': 28, 'total_tokens': 1198, 'input_token_details': {'audio': 0, 'cache_read': 0}, 'output_token_details': {'audio': 0, 'reasoning': 0}}),\n",
       "  ToolMessage(content=\"Made a correction: {'name': 'LangGraph', 'birthday': 'Jan 17, 2024'}\", name='human_assistance', id='95a363ed-4c93-467a-b493-877dd70e7ab3', tool_call_id='call_3eqQpAeEQSdi2e6ZfFgNMp4Z'),\n",
       "  AIMessage(content='LangGraph was released on January 17, 2024.', additional_kwargs={'refusal': None}, response_metadata={'token_usage': {'completion_tokens': 15, 'prompt_tokens': 1229, 'total_tokens': 1244, 'completion_tokens_details': {'accepted_prediction_tokens': 0, 'audio_tokens': 0, 'reasoning_tokens': 0, 'rejected_prediction_tokens': 0}, 'prompt_tokens_details': {'audio_tokens': 0, 'cached_tokens': 0}}, 'model_name': 'gpt-4o-2024-05-13', 'system_fingerprint': 'fp_65792305e4', 'prompt_filter_results': [{'prompt_index': 0, 'content_filter_results': {'hate': {'filtered': False, 'severity': 'safe'}, 'jailbreak': {'filtered': False, 'detected': False}, 'self_harm': {'filtered': False, 'severity': 'safe'}, 'sexual': {'filtered': False, 'severity': 'safe'}, 'violence': {'filtered': False, 'severity': 'safe'}}}], 'finish_reason': 'stop', 'logprobs': None, 'content_filter_results': {'hate': {'filtered': False, 'severity': 'safe'}, 'protected_material_code': {'filtered': False, 'detected': False}, 'protected_material_text': {'filtered': False, 'detected': False}, 'self_harm': {'filtered': False, 'severity': 'safe'}, 'sexual': {'filtered': False, 'severity': 'safe'}, 'violence': {'filtered': False, 'severity': 'safe'}}}, id='run-b093b284-a610-4769-9019-f2e6b4731afe-0', usage_metadata={'input_tokens': 1229, 'output_tokens': 15, 'total_tokens': 1244, 'input_token_details': {'audio': 0, 'cache_read': 0}, 'output_token_details': {'audio': 0, 'reasoning': 0}})],\n",
       " 'name': 'LangGraph',\n",
       " 'birthday': 'Jan 17, 2024'}"
      ]
     },
     "execution_count": 92,
     "metadata": {},
     "output_type": "execute_result"
    }
   ],
   "source": [
    "# we are getting the final state of the graph\n",
    "snapshot = graph.get_state(config)\n",
    "snapshot.values"
   ]
  },
  {
   "cell_type": "code",
   "execution_count": 93,
   "metadata": {},
   "outputs": [
    {
     "data": {
      "text/plain": [
       "{'name': 'LangGraph', 'birthday': 'Jan 17, 2024'}"
      ]
     },
     "execution_count": 93,
     "metadata": {},
     "output_type": "execute_result"
    }
   ],
   "source": [
    "{k: v for k, v in snapshot.values.items() if k in (\"name\", \"birthday\")}"
   ]
  },
  {
   "cell_type": "markdown",
   "metadata": {},
   "source": [
    "Manually updating state"
   ]
  },
  {
   "cell_type": "code",
   "execution_count": 94,
   "metadata": {},
   "outputs": [
    {
     "data": {
      "text/plain": [
       "{'name': 'LangGraph (library)', 'birthday': 'Jan 17, 2024'}"
      ]
     },
     "execution_count": 94,
     "metadata": {},
     "output_type": "execute_result"
    }
   ],
   "source": [
    "graph.update_state(config, {\"name\": \"LangGraph (library)\"})\n",
    "\n",
    "snapshot = graph.get_state(config)\n",
    "{k: v for k, v in snapshot.values.items() if k in (\"name\", \"birthday\")}"
   ]
  },
  {
   "cell_type": "markdown",
   "metadata": {},
   "source": [
    "##### Part 6: Time Travel\n",
    "if you want to let your user start from a previous response and \"branch off\" to explore a separate outcome? Or what if you want users to be able to \"rewind\" your assistant's work to fix some mistakes or try a different strategy"
   ]
  },
  {
   "cell_type": "code",
   "execution_count": 95,
   "metadata": {},
   "outputs": [],
   "source": [
    "from typing import Annotated\n",
    "\n",
    "from langchain_community.tools.tavily_search import TavilySearchResults\n",
    "from langchain_core.messages import BaseMessage\n",
    "from typing_extensions import TypedDict\n",
    "\n",
    "from langgraph.checkpoint.memory import MemorySaver\n",
    "from langgraph.graph import StateGraph, START, END\n",
    "from langgraph.graph.message import add_messages\n",
    "from langgraph.prebuilt import ToolNode, tools_condition\n",
    "\n",
    "\n",
    "class State(TypedDict):\n",
    "    messages: Annotated[list, add_messages]\n",
    "\n",
    "\n",
    "graph_builder = StateGraph(State)\n",
    "\n",
    "\n",
    "tool = TavilySearchResults(max_results=2)\n",
    "tools = [tool]\n",
    "llm_with_tools = llm_model.bind_tools(tools, parallel_tool_calls=False)\n",
    "\n",
    "\n",
    "def chatbot(state: State):\n",
    "    return {\"messages\": [llm_with_tools.invoke(state[\"messages\"])]}\n",
    "\n",
    "\n",
    "graph_builder.add_node(\"chatbot\", chatbot)\n",
    "\n",
    "tool_node = ToolNode(tools=[tool])\n",
    "graph_builder.add_node(\"tools\", tool_node)\n",
    "\n",
    "graph_builder.add_conditional_edges(\n",
    "    \"chatbot\",\n",
    "    tools_condition,\n",
    ")\n",
    "graph_builder.add_edge(\"tools\", \"chatbot\")\n",
    "graph_builder.add_edge(START, \"chatbot\")\n",
    "\n",
    "memory = MemorySaver()\n",
    "graph = graph_builder.compile(checkpointer=memory)"
   ]
  },
  {
   "cell_type": "code",
   "execution_count": 96,
   "metadata": {},
   "outputs": [
    {
     "name": "stdout",
     "output_type": "stream",
     "text": [
      "================================\u001b[1m Human Message \u001b[0m=================================\n",
      "\n",
      "I'm learning LangGraph. Could you do some research on it for me?\n",
      "==================================\u001b[1m Ai Message \u001b[0m==================================\n",
      "Tool Calls:\n",
      "  tavily_search_results_json (call_ZNvN31IcwCFDWUv6eeevVTaz)\n",
      " Call ID: call_ZNvN31IcwCFDWUv6eeevVTaz\n",
      "  Args:\n",
      "    query: LangGraph\n",
      "=================================\u001b[1m Tool Message \u001b[0m=================================\n",
      "Name: tavily_search_results_json\n",
      "\n",
      "[{\"title\": \"LangGraph Quickstart - GitHub Pages\", \"url\": \"https://langchain-ai.github.io/langgraph/tutorials/introduction/\", \"content\": \"[](https://langchain-ai.github.io/langgraph/tutorials/introduction/#__codelineno-9-1)Assistant: LangGraph is a library designed to help build stateful multi-agent applications using language models. It provides tools for creating workflows and state machines to coordinate multiple AI agents or language model interactions. LangGraph is built on top of LangChain, leveraging its components while adding graph-based coordination capabilities. It's particularly useful for developing more complex, [...] [](https://langchain-ai.github.io/langgraph/tutorials/introduction/#__codelineno-21-6)   LangGraph is a library designed for building stateful, multi-actor applications with Large Language Models (LLMs). It's particularly useful for creating agent and multi-agent workflows.\\n[](https://langchain-ai.github.io/langgraph/tutorials/introduction/#__codelineno-21-7)\\n[](https://langchain-ai.github.io/langgraph/tutorials/introduction/#__codelineno-21-8)2. Developer: [...] [](https://langchain-ai.github.io/langgraph/tutorials/introduction/#__codelineno-48-19)LangGraph is likely a framework or library designed specifically for creating AI agents with advanced capabilities. Here are a few points to consider based on this recommendation:\\n[](https://langchain-ai.github.io/langgraph/tutorials/introduction/#__codelineno-48-20)\", \"score\": 0.9328032}, {\"title\": \"LangGraph: Build Stateful AI Agents in Python\", \"url\": \"https://realpython.com/langgraph-python/\", \"content\": \"Remove ads\\nLangGraph is a versatile Python library designed for stateful, cyclic, and multi-actor Large Language Model (LLM) applications. LangGraph builds upon its parent library, LangChain, and allows you to build sophisticated workflows that are capable of handling the complexities of real-world LLM applications.\\nBy the end of this tutorial, you’ll understand that: [...] These FAQs are related to the most important concepts you’ve covered in this tutorial. Click the Show/Hide toggle beside each question to reveal the answer.\\nWhat is LangGraph?Show/Hide\\nLangGraph is a Python library that helps you build stateful, cyclic, and multi-actor workflows for Large Language Model (LLM) applications, expanding upon LangChain’s capabilities.\\nHow does LangGraph differ from LangChain?Show/Hide [...] As you might have inferred from the name, LangGraph is all about implementing LLM applications as directed graphs. You can think of a directed graph as a sequence of instructions composed of nodes and edges, that tell you how to complete a task. In LangGraph, nodes represent actions that your graph can take, such as calling a function, and edges tell you which node to go to next.\\nTo understand this better, take a look at this directed graph:\", \"score\": 0.9197076}]\n",
      "==================================\u001b[1m Ai Message \u001b[0m==================================\n",
      "\n",
      "LangGraph is a Python library designed to help build stateful, cyclic, and multi-actor applications using Large Language Models (LLMs). It is built on top of LangChain, leveraging its components while adding graph-based coordination capabilities. This makes it particularly useful for developing more complex workflows and state machines to coordinate multiple AI agents or language model interactions.\n",
      "\n",
      "### Key Features of LangGraph:\n",
      "1. **Stateful Applications**: LangGraph allows you to create applications that maintain state across interactions, which is essential for complex workflows.\n",
      "2. **Multi-Actor Workflows**: It supports the creation of workflows involving multiple agents, making it suitable for applications that require coordination between different AI agents.\n",
      "3. **Graph-Based Coordination**: LangGraph uses directed graphs to represent workflows. Nodes in the graph represent actions (such as calling a function), and edges define the sequence of these actions.\n",
      "4. **Built on LangChain**: It extends the capabilities of LangChain, a library for building applications with LLMs, by adding features for more sophisticated workflow management.\n",
      "\n",
      "### Resources:\n",
      "- [LangGraph Quickstart on GitHub Pages](https://langchain-ai.github.io/langgraph/tutorials/introduction/): This page provides an introduction and quickstart guide to using LangGraph.\n",
      "- [LangGraph: Build Stateful AI Agents in Python on Real Python](https://realpython.com/langgraph-python/): This tutorial explains how to use LangGraph to build stateful, cyclic, and multi-actor workflows for LLM applications.\n",
      "\n",
      "By using LangGraph, you can create more advanced and coordinated AI applications that can handle the complexities of real-world scenarios.\n"
     ]
    }
   ],
   "source": [
    "config = {\"configurable\": {\"thread_id\": \"1\"}}\n",
    "events = graph.stream(\n",
    "    {\n",
    "        \"messages\": [\n",
    "            {\n",
    "                \"role\": \"user\",\n",
    "                \"content\": (\n",
    "                    \"I'm learning LangGraph. \"\n",
    "                    \"Could you do some research on it for me?\"\n",
    "                ),\n",
    "            },\n",
    "        ],\n",
    "    },\n",
    "    config,\n",
    "    stream_mode=\"values\",\n",
    ")\n",
    "for event in events:\n",
    "    if \"messages\" in event:\n",
    "        event[\"messages\"][-1].pretty_print()"
   ]
  },
  {
   "cell_type": "code",
   "execution_count": 97,
   "metadata": {},
   "outputs": [
    {
     "name": "stdout",
     "output_type": "stream",
     "text": [
      "================================\u001b[1m Human Message \u001b[0m=================================\n",
      "\n",
      "Ya this one is  helpful. Maybe I'll build an autonomous agent with it Help me with that!\n",
      "==================================\u001b[1m Ai Message \u001b[0m==================================\n",
      "\n",
      "Sure! Building an autonomous agent with LangGraph involves several steps. Here’s a high-level overview of the process:\n",
      "\n",
      "### Step 1: Install LangGraph\n",
      "First, you need to install LangGraph. You can do this using pip:\n",
      "```bash\n",
      "pip install langgraph\n",
      "```\n",
      "\n",
      "### Step 2: Define Your Workflow\n",
      "LangGraph uses directed graphs to define workflows. You need to create nodes (actions) and edges (transitions) for your agent.\n",
      "\n",
      "### Step 3: Create Nodes\n",
      "Nodes represent actions that your agent can take. These can be function calls, API requests, or any other operations.\n",
      "\n",
      "### Step 4: Define Edges\n",
      "Edges define the sequence of actions. They connect nodes and specify the conditions under which transitions occur.\n",
      "\n",
      "### Step 5: Implement the Agent\n",
      "Combine the nodes and edges to create a complete workflow for your agent.\n",
      "\n",
      "### Example: Building a Simple Autonomous Agent\n",
      "Here’s a simple example to get you started:\n",
      "\n",
      "```python\n",
      "from langgraph import Graph, Node, Edge\n",
      "\n",
      "# Define actions\n",
      "def action1():\n",
      "    print(\"Action 1 executed\")\n",
      "    return \"action2\"\n",
      "\n",
      "def action2():\n",
      "    print(\"Action 2 executed\")\n",
      "    return \"action3\"\n",
      "\n",
      "def action3():\n",
      "    print(\"Action 3 executed\")\n",
      "    return None\n",
      "\n",
      "# Create nodes\n",
      "node1 = Node(name=\"action1\", action=action1)\n",
      "node2 = Node(name=\"action2\", action=action2)\n",
      "node3 = Node(name=\"action3\", action=action3)\n",
      "\n",
      "# Define edges\n",
      "edge1 = Edge(source=node1, target=node2)\n",
      "edge2 = Edge(source=node2, target=node3)\n",
      "\n",
      "# Create graph\n",
      "graph = Graph(nodes=[node1, node2, node3], edges=[edge1, edge2])\n",
      "\n",
      "# Run the agent\n",
      "graph.run(start_node=\"action1\")\n",
      "```\n",
      "\n",
      "### Explanation:\n",
      "1. **Define Actions**: `action1`, `action2`, and `action3` are simple functions that print a message and return the name of the next action.\n",
      "2. **Create Nodes**: Each action is wrapped in a `Node` object.\n",
      "3. **Define Edges**: `Edge` objects connect the nodes, defining the sequence of actions.\n",
      "4. **Create Graph**: A `Graph` object is created with the nodes and edges.\n",
      "5. **Run the Agent**: The `run` method starts the agent at the specified node.\n",
      "\n",
      "### Next Steps:\n",
      "- **Expand Actions**: Replace the simple print statements with more complex actions, such as API calls or data processing.\n",
      "- **Add Conditions**: Use conditions in edges to create more dynamic workflows.\n",
      "- **Handle State**: Use state management to maintain information across actions.\n",
      "\n",
      "This example provides a basic framework for building an autonomous agent with LangGraph. You can expand and customize it to fit your specific use case.\n"
     ]
    }
   ],
   "source": [
    "events = graph.stream(\n",
    "    {\n",
    "        \"messages\": [\n",
    "            {\n",
    "                \"role\": \"user\",\n",
    "                \"content\": (\n",
    "                    \"Ya this one is  helpful. Maybe I'll \"\n",
    "                    \"build an autonomous agent with it Help me with that!\"\n",
    "                ),\n",
    "            },\n",
    "        ],\n",
    "    },\n",
    "    config,\n",
    "    stream_mode=\"values\",\n",
    ")\n",
    "for event in events:\n",
    "    if \"messages\" in event:\n",
    "        event[\"messages\"][-1].pretty_print()"
   ]
  },
  {
   "cell_type": "code",
   "execution_count": null,
   "metadata": {},
   "outputs": [
    {
     "name": "stdout",
     "output_type": "stream",
     "text": [
      "Num Messages:  6 Next:  ()\n",
      "--------------------------------------------------------------------------------\n",
      "Num Messages:  5 Next:  ('chatbot',)\n",
      "--------------------------------------------------------------------------------\n",
      "Num Messages:  4 Next:  ('__start__',)\n",
      "--------------------------------------------------------------------------------\n",
      "Num Messages:  4 Next:  ()\n",
      "--------------------------------------------------------------------------------\n",
      "Num Messages:  3 Next:  ('chatbot',)\n",
      "--------------------------------------------------------------------------------\n",
      "Num Messages:  2 Next:  ('tools',)\n",
      "--------------------------------------------------------------------------------\n",
      "Num Messages:  1 Next:  ('chatbot',)\n",
      "--------------------------------------------------------------------------------\n",
      "Num Messages:  0 Next:  ('__start__',)\n",
      "--------------------------------------------------------------------------------\n"
     ]
    }
   ],
   "source": [
    "to_replay = None\n",
    "for state in graph.get_state_history(config):\n",
    "    print(\"Num Messages: \", len(state.values[\"messages\"]), \"Next: \", state.next)\n",
    "    print(\"-\" * 80)\n",
    "    if len(state.values[\"messages\"]) == 6:\n",
    "        # We are somewhat arbitrarily selecting a specific state based on the number of chat messages in the state.\n",
    "        to_replay = state"
   ]
  },
  {
   "cell_type": "code",
   "execution_count": 100,
   "metadata": {},
   "outputs": [
    {
     "data": {
      "text/plain": [
       "{'messages': [HumanMessage(content=\"I'm learning LangGraph. Could you do some research on it for me?\", additional_kwargs={}, response_metadata={}, id='d549f02c-8d22-4673-8802-01ac1ca569a7'),\n",
       "  AIMessage(content='', additional_kwargs={'tool_calls': [{'id': 'call_ZNvN31IcwCFDWUv6eeevVTaz', 'function': {'arguments': '{\"query\":\"LangGraph\"}', 'name': 'tavily_search_results_json'}, 'type': 'function'}], 'refusal': None}, response_metadata={'token_usage': {'completion_tokens': 20, 'prompt_tokens': 94, 'total_tokens': 114, 'completion_tokens_details': {'accepted_prediction_tokens': 0, 'audio_tokens': 0, 'reasoning_tokens': 0, 'rejected_prediction_tokens': 0}, 'prompt_tokens_details': {'audio_tokens': 0, 'cached_tokens': 0}}, 'model_name': 'gpt-4o-2024-05-13', 'system_fingerprint': 'fp_65792305e4', 'prompt_filter_results': [{'prompt_index': 0, 'content_filter_results': {'hate': {'filtered': False, 'severity': 'safe'}, 'jailbreak': {'filtered': False, 'detected': False}, 'self_harm': {'filtered': False, 'severity': 'safe'}, 'sexual': {'filtered': False, 'severity': 'safe'}, 'violence': {'filtered': False, 'severity': 'safe'}}}], 'finish_reason': 'tool_calls', 'logprobs': None, 'content_filter_results': {}}, id='run-712a6fc6-b689-4b82-96a2-c6884cf5a9af-0', tool_calls=[{'name': 'tavily_search_results_json', 'args': {'query': 'LangGraph'}, 'id': 'call_ZNvN31IcwCFDWUv6eeevVTaz', 'type': 'tool_call'}], usage_metadata={'input_tokens': 94, 'output_tokens': 20, 'total_tokens': 114, 'input_token_details': {'audio': 0, 'cache_read': 0}, 'output_token_details': {'audio': 0, 'reasoning': 0}}),\n",
       "  ToolMessage(content='[{\"title\": \"LangGraph Quickstart - GitHub Pages\", \"url\": \"https://langchain-ai.github.io/langgraph/tutorials/introduction/\", \"content\": \"[](https://langchain-ai.github.io/langgraph/tutorials/introduction/#__codelineno-9-1)Assistant: LangGraph is a library designed to help build stateful multi-agent applications using language models. It provides tools for creating workflows and state machines to coordinate multiple AI agents or language model interactions. LangGraph is built on top of LangChain, leveraging its components while adding graph-based coordination capabilities. It\\'s particularly useful for developing more complex, [...] [](https://langchain-ai.github.io/langgraph/tutorials/introduction/#__codelineno-21-6)   LangGraph is a library designed for building stateful, multi-actor applications with Large Language Models (LLMs). It\\'s particularly useful for creating agent and multi-agent workflows.\\\\n[](https://langchain-ai.github.io/langgraph/tutorials/introduction/#__codelineno-21-7)\\\\n[](https://langchain-ai.github.io/langgraph/tutorials/introduction/#__codelineno-21-8)2. Developer: [...] [](https://langchain-ai.github.io/langgraph/tutorials/introduction/#__codelineno-48-19)LangGraph is likely a framework or library designed specifically for creating AI agents with advanced capabilities. Here are a few points to consider based on this recommendation:\\\\n[](https://langchain-ai.github.io/langgraph/tutorials/introduction/#__codelineno-48-20)\", \"score\": 0.9328032}, {\"title\": \"LangGraph: Build Stateful AI Agents in Python\", \"url\": \"https://realpython.com/langgraph-python/\", \"content\": \"Remove ads\\\\nLangGraph is a versatile Python library designed for stateful, cyclic, and multi-actor Large Language Model (LLM) applications. LangGraph builds upon its parent library, LangChain, and allows you to build sophisticated workflows that are capable of handling the complexities of real-world LLM applications.\\\\nBy the end of this tutorial, you’ll understand that: [...] These FAQs are related to the most important concepts you’ve covered in this tutorial. Click the Show/Hide toggle beside each question to reveal the answer.\\\\nWhat is LangGraph?Show/Hide\\\\nLangGraph is a Python library that helps you build stateful, cyclic, and multi-actor workflows for Large Language Model (LLM) applications, expanding upon LangChain’s capabilities.\\\\nHow does LangGraph differ from LangChain?Show/Hide [...] As you might have inferred from the name, LangGraph is all about implementing LLM applications as directed graphs. You can think of a directed graph as a sequence of instructions composed of nodes and edges, that tell you how to complete a task. In LangGraph, nodes represent actions that your graph can take, such as calling a function, and edges tell you which node to go to next.\\\\nTo understand this better, take a look at this directed graph:\", \"score\": 0.9197076}]', name='tavily_search_results_json', id='c3c0a6d2-f6d8-4d8f-959c-04217b0d6d02', tool_call_id='call_ZNvN31IcwCFDWUv6eeevVTaz', artifact={'query': 'LangGraph', 'follow_up_questions': None, 'answer': None, 'images': [], 'results': [{'url': 'https://langchain-ai.github.io/langgraph/tutorials/introduction/', 'title': 'LangGraph Quickstart - GitHub Pages', 'content': \"[](https://langchain-ai.github.io/langgraph/tutorials/introduction/#__codelineno-9-1)Assistant: LangGraph is a library designed to help build stateful multi-agent applications using language models. It provides tools for creating workflows and state machines to coordinate multiple AI agents or language model interactions. LangGraph is built on top of LangChain, leveraging its components while adding graph-based coordination capabilities. It's particularly useful for developing more complex, [...] [](https://langchain-ai.github.io/langgraph/tutorials/introduction/#__codelineno-21-6)   LangGraph is a library designed for building stateful, multi-actor applications with Large Language Models (LLMs). It's particularly useful for creating agent and multi-agent workflows.\\n[](https://langchain-ai.github.io/langgraph/tutorials/introduction/#__codelineno-21-7)\\n[](https://langchain-ai.github.io/langgraph/tutorials/introduction/#__codelineno-21-8)2. Developer: [...] [](https://langchain-ai.github.io/langgraph/tutorials/introduction/#__codelineno-48-19)LangGraph is likely a framework or library designed specifically for creating AI agents with advanced capabilities. Here are a few points to consider based on this recommendation:\\n[](https://langchain-ai.github.io/langgraph/tutorials/introduction/#__codelineno-48-20)\", 'score': 0.9328032, 'raw_content': None}, {'url': 'https://realpython.com/langgraph-python/', 'title': 'LangGraph: Build Stateful AI Agents in Python', 'content': 'Remove ads\\nLangGraph is a versatile Python library designed for stateful, cyclic, and multi-actor Large Language Model (LLM) applications. LangGraph builds upon its parent library, LangChain, and allows you to build sophisticated workflows that are capable of handling the complexities of real-world LLM applications.\\nBy the end of this tutorial, you’ll understand that: [...] These FAQs are related to the most important concepts you’ve covered in this tutorial. Click the Show/Hide toggle beside each question to reveal the answer.\\nWhat is LangGraph?Show/Hide\\nLangGraph is a Python library that helps you build stateful, cyclic, and multi-actor workflows for Large Language Model (LLM) applications, expanding upon LangChain’s capabilities.\\nHow does LangGraph differ from LangChain?Show/Hide [...] As you might have inferred from the name, LangGraph is all about implementing LLM applications as directed graphs. You can think of a directed graph as a sequence of instructions composed of nodes and edges, that tell you how to complete a task. In LangGraph, nodes represent actions that your graph can take, such as calling a function, and edges tell you which node to go to next.\\nTo understand this better, take a look at this directed graph:', 'score': 0.9197076, 'raw_content': None}], 'response_time': 1.43}),\n",
       "  AIMessage(content='LangGraph is a Python library designed to help build stateful, cyclic, and multi-actor applications using Large Language Models (LLMs). It is built on top of LangChain, leveraging its components while adding graph-based coordination capabilities. This makes it particularly useful for developing more complex workflows and state machines to coordinate multiple AI agents or language model interactions.\\n\\n### Key Features of LangGraph:\\n1. **Stateful Applications**: LangGraph allows you to create applications that maintain state across interactions, which is essential for complex workflows.\\n2. **Multi-Actor Workflows**: It supports the creation of workflows involving multiple agents, making it suitable for applications that require coordination between different AI agents.\\n3. **Graph-Based Coordination**: LangGraph uses directed graphs to represent workflows. Nodes in the graph represent actions (such as calling a function), and edges define the sequence of these actions.\\n4. **Built on LangChain**: It extends the capabilities of LangChain, a library for building applications with LLMs, by adding features for more sophisticated workflow management.\\n\\n### Resources:\\n- [LangGraph Quickstart on GitHub Pages](https://langchain-ai.github.io/langgraph/tutorials/introduction/): This page provides an introduction and quickstart guide to using LangGraph.\\n- [LangGraph: Build Stateful AI Agents in Python on Real Python](https://realpython.com/langgraph-python/): This tutorial explains how to use LangGraph to build stateful, cyclic, and multi-actor workflows for LLM applications.\\n\\nBy using LangGraph, you can create more advanced and coordinated AI applications that can handle the complexities of real-world scenarios.', additional_kwargs={'refusal': None}, response_metadata={'token_usage': {'completion_tokens': 332, 'prompt_tokens': 757, 'total_tokens': 1089, 'completion_tokens_details': {'accepted_prediction_tokens': 0, 'audio_tokens': 0, 'reasoning_tokens': 0, 'rejected_prediction_tokens': 0}, 'prompt_tokens_details': {'audio_tokens': 0, 'cached_tokens': 0}}, 'model_name': 'gpt-4o-2024-05-13', 'system_fingerprint': 'fp_65792305e4', 'prompt_filter_results': [{'prompt_index': 0, 'content_filter_results': {'hate': {'filtered': False, 'severity': 'safe'}, 'jailbreak': {'filtered': False, 'detected': False}, 'self_harm': {'filtered': False, 'severity': 'safe'}, 'sexual': {'filtered': False, 'severity': 'safe'}, 'violence': {'filtered': False, 'severity': 'safe'}}}], 'finish_reason': 'stop', 'logprobs': None, 'content_filter_results': {'hate': {'filtered': False, 'severity': 'safe'}, 'protected_material_code': {'filtered': False, 'detected': False}, 'protected_material_text': {'filtered': False, 'detected': False}, 'self_harm': {'filtered': False, 'severity': 'safe'}, 'sexual': {'filtered': False, 'severity': 'safe'}, 'violence': {'filtered': False, 'severity': 'safe'}}}, id='run-a8abe0c0-54b1-4f2b-a5ed-8a4558eda4b2-0', usage_metadata={'input_tokens': 757, 'output_tokens': 332, 'total_tokens': 1089, 'input_token_details': {'audio': 0, 'cache_read': 0}, 'output_token_details': {'audio': 0, 'reasoning': 0}}),\n",
       "  HumanMessage(content=\"Ya this one is  helpful. Maybe I'll build an autonomous agent with it Help me with that!\", additional_kwargs={}, response_metadata={}, id='b3d17e01-218b-420c-8514-0f7050c0a670'),\n",
       "  AIMessage(content='Sure! Building an autonomous agent with LangGraph involves several steps. Here’s a high-level overview of the process:\\n\\n### Step 1: Install LangGraph\\nFirst, you need to install LangGraph. You can do this using pip:\\n```bash\\npip install langgraph\\n```\\n\\n### Step 2: Define Your Workflow\\nLangGraph uses directed graphs to define workflows. You need to create nodes (actions) and edges (transitions) for your agent.\\n\\n### Step 3: Create Nodes\\nNodes represent actions that your agent can take. These can be function calls, API requests, or any other operations.\\n\\n### Step 4: Define Edges\\nEdges define the sequence of actions. They connect nodes and specify the conditions under which transitions occur.\\n\\n### Step 5: Implement the Agent\\nCombine the nodes and edges to create a complete workflow for your agent.\\n\\n### Example: Building a Simple Autonomous Agent\\nHere’s a simple example to get you started:\\n\\n```python\\nfrom langgraph import Graph, Node, Edge\\n\\n# Define actions\\ndef action1():\\n    print(\"Action 1 executed\")\\n    return \"action2\"\\n\\ndef action2():\\n    print(\"Action 2 executed\")\\n    return \"action3\"\\n\\ndef action3():\\n    print(\"Action 3 executed\")\\n    return None\\n\\n# Create nodes\\nnode1 = Node(name=\"action1\", action=action1)\\nnode2 = Node(name=\"action2\", action=action2)\\nnode3 = Node(name=\"action3\", action=action3)\\n\\n# Define edges\\nedge1 = Edge(source=node1, target=node2)\\nedge2 = Edge(source=node2, target=node3)\\n\\n# Create graph\\ngraph = Graph(nodes=[node1, node2, node3], edges=[edge1, edge2])\\n\\n# Run the agent\\ngraph.run(start_node=\"action1\")\\n```\\n\\n### Explanation:\\n1. **Define Actions**: `action1`, `action2`, and `action3` are simple functions that print a message and return the name of the next action.\\n2. **Create Nodes**: Each action is wrapped in a `Node` object.\\n3. **Define Edges**: `Edge` objects connect the nodes, defining the sequence of actions.\\n4. **Create Graph**: A `Graph` object is created with the nodes and edges.\\n5. **Run the Agent**: The `run` method starts the agent at the specified node.\\n\\n### Next Steps:\\n- **Expand Actions**: Replace the simple print statements with more complex actions, such as API calls or data processing.\\n- **Add Conditions**: Use conditions in edges to create more dynamic workflows.\\n- **Handle State**: Use state management to maintain information across actions.\\n\\nThis example provides a basic framework for building an autonomous agent with LangGraph. You can expand and customize it to fit your specific use case.', additional_kwargs={'refusal': None}, response_metadata={'token_usage': {'completion_tokens': 588, 'prompt_tokens': 1115, 'total_tokens': 1703, 'completion_tokens_details': {'accepted_prediction_tokens': 0, 'audio_tokens': 0, 'reasoning_tokens': 0, 'rejected_prediction_tokens': 0}, 'prompt_tokens_details': {'audio_tokens': 0, 'cached_tokens': 0}}, 'model_name': 'gpt-4o-2024-05-13', 'system_fingerprint': 'fp_65792305e4', 'prompt_filter_results': [{'prompt_index': 0, 'content_filter_results': {'hate': {'filtered': False, 'severity': 'safe'}, 'jailbreak': {'filtered': False, 'detected': False}, 'self_harm': {'filtered': False, 'severity': 'safe'}, 'sexual': {'filtered': False, 'severity': 'safe'}, 'violence': {'filtered': False, 'severity': 'safe'}}}], 'finish_reason': 'stop', 'logprobs': None, 'content_filter_results': {'hate': {'filtered': False, 'severity': 'safe'}, 'protected_material_code': {'filtered': False, 'detected': False}, 'protected_material_text': {'filtered': False, 'detected': False}, 'self_harm': {'filtered': False, 'severity': 'safe'}, 'sexual': {'filtered': False, 'severity': 'safe'}, 'violence': {'filtered': False, 'severity': 'safe'}}}, id='run-d9c1adc9-b94c-434e-a67e-f2aed0f271e3-0', usage_metadata={'input_tokens': 1115, 'output_tokens': 588, 'total_tokens': 1703, 'input_token_details': {'audio': 0, 'cache_read': 0}, 'output_token_details': {'audio': 0, 'reasoning': 0}})]}"
      ]
     },
     "execution_count": 100,
     "metadata": {},
     "output_type": "execute_result"
    }
   ],
   "source": [
    "to_replay.values"
   ]
  },
  {
   "cell_type": "code",
   "execution_count": 103,
   "metadata": {},
   "outputs": [
    {
     "name": "stdout",
     "output_type": "stream",
     "text": [
      "()\n",
      "{'configurable': {'thread_id': '1', 'checkpoint_ns': '', 'checkpoint_id': '1f0156e0-dd21-6c10-8006-0fe5529cc332'}}\n"
     ]
    }
   ],
   "source": [
    "print(to_replay.next)\n",
    "print(to_replay.config)"
   ]
  },
  {
   "cell_type": "markdown",
   "metadata": {},
   "source": [
    "Notice that checkpoints are saved for every step of the graph. This spans invocations so you can rewind across a full thread's history. We've picked out to_replay as a state to resume from. This is the state after the chatbot node in the second graph invocation above."
   ]
  },
  {
   "cell_type": "code",
   "execution_count": null,
   "metadata": {},
   "outputs": [
    {
     "name": "stdout",
     "output_type": "stream",
     "text": [
      "==================================\u001b[1m Ai Message \u001b[0m==================================\n",
      "\n",
      "Sure! Building an autonomous agent with LangGraph involves several steps. Here’s a high-level overview of the process:\n",
      "\n",
      "### Step 1: Install LangGraph\n",
      "First, you need to install LangGraph. You can do this using pip:\n",
      "```bash\n",
      "pip install langgraph\n",
      "```\n",
      "\n",
      "### Step 2: Define Your Workflow\n",
      "LangGraph uses directed graphs to define workflows. You need to create nodes (actions) and edges (transitions) for your agent.\n",
      "\n",
      "### Step 3: Create Nodes\n",
      "Nodes represent actions that your agent can take. These can be function calls, API requests, or any other operations.\n",
      "\n",
      "### Step 4: Define Edges\n",
      "Edges define the sequence of actions. They connect nodes and specify the conditions under which transitions occur.\n",
      "\n",
      "### Step 5: Implement the Agent\n",
      "Combine the nodes and edges to create a complete workflow for your agent.\n",
      "\n",
      "### Example: Building a Simple Autonomous Agent\n",
      "Here’s a simple example to get you started:\n",
      "\n",
      "```python\n",
      "from langgraph import Graph, Node, Edge\n",
      "\n",
      "# Define actions\n",
      "def action1():\n",
      "    print(\"Action 1 executed\")\n",
      "    return \"action2\"\n",
      "\n",
      "def action2():\n",
      "    print(\"Action 2 executed\")\n",
      "    return \"action3\"\n",
      "\n",
      "def action3():\n",
      "    print(\"Action 3 executed\")\n",
      "    return None\n",
      "\n",
      "# Create nodes\n",
      "node1 = Node(name=\"action1\", action=action1)\n",
      "node2 = Node(name=\"action2\", action=action2)\n",
      "node3 = Node(name=\"action3\", action=action3)\n",
      "\n",
      "# Define edges\n",
      "edge1 = Edge(source=node1, target=node2)\n",
      "edge2 = Edge(source=node2, target=node3)\n",
      "\n",
      "# Create graph\n",
      "graph = Graph(nodes=[node1, node2, node3], edges=[edge1, edge2])\n",
      "\n",
      "# Run the agent\n",
      "graph.run(start_node=\"action1\")\n",
      "```\n",
      "\n",
      "### Explanation:\n",
      "1. **Define Actions**: `action1`, `action2`, and `action3` are simple functions that print a message and return the name of the next action.\n",
      "2. **Create Nodes**: Each action is wrapped in a `Node` object.\n",
      "3. **Define Edges**: `Edge` objects connect the nodes, defining the sequence of actions.\n",
      "4. **Create Graph**: A `Graph` object is created with the nodes and edges.\n",
      "5. **Run the Agent**: The `run` method starts the agent at the specified node.\n",
      "\n",
      "### Next Steps:\n",
      "- **Expand Actions**: Replace the simple print statements with more complex actions, such as API calls or data processing.\n",
      "- **Add Conditions**: Use conditions in edges to create more dynamic workflows.\n",
      "- **Handle State**: Use state management to maintain information across actions.\n",
      "\n",
      "This example provides a basic framework for building an autonomous agent with LangGraph. You can expand and customize it to fit your specific use case.\n"
     ]
    }
   ],
   "source": [
    "# The `checkpoint_id` in the `to_replay.config` corresponds to a state we've persisted to our checkpointer.(Just load it from the checkpointer)\n",
    "for event in graph.stream(None, to_replay.config, stream_mode=\"values\"):\n",
    "    if \"messages\" in event:\n",
    "        event[\"messages\"][-1].pretty_print()"
   ]
  },
  {
   "cell_type": "code",
   "execution_count": null,
   "metadata": {},
   "outputs": [],
   "source": []
  },
  {
   "cell_type": "code",
   "execution_count": null,
   "metadata": {},
   "outputs": [],
   "source": []
  },
  {
   "cell_type": "code",
   "execution_count": null,
   "metadata": {},
   "outputs": [],
   "source": []
  },
  {
   "cell_type": "markdown",
   "metadata": {},
   "source": [
    "############################################################################# END #############################################################################"
   ]
  }
 ],
 "metadata": {
  "kernelspec": {
   "display_name": "Python 3",
   "language": "python",
   "name": "python3"
  },
  "language_info": {
   "codemirror_mode": {
    "name": "ipython",
    "version": 3
   },
   "file_extension": ".py",
   "mimetype": "text/x-python",
   "name": "python",
   "nbconvert_exporter": "python",
   "pygments_lexer": "ipython3",
   "version": "3.10.16"
  }
 },
 "nbformat": 4,
 "nbformat_minor": 2
}

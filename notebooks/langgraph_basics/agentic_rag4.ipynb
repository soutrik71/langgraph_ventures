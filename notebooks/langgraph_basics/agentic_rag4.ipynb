{
 "cells": [
  {
   "cell_type": "code",
   "execution_count": 1,
   "id": "ab9c30f7",
   "metadata": {},
   "outputs": [
    {
     "data": {
      "text/plain": [
       "'\\nIn notebook we will discuss basic concepts of Self-Improvise Rag\\n'"
      ]
     },
     "execution_count": 1,
     "metadata": {},
     "output_type": "execute_result"
    }
   ],
   "source": [
    "\"\"\"\n",
    "In notebook we will discuss basic concepts of Self-Improvise Rag\n",
    "\"\"\""
   ]
  },
  {
   "cell_type": "code",
   "execution_count": 1,
   "id": "eb686c26",
   "metadata": {},
   "outputs": [
    {
     "data": {
      "application/javascript": "IPython.notebook.set_autosave_interval(300000)"
     },
     "metadata": {},
     "output_type": "display_data"
    },
    {
     "name": "stdout",
     "output_type": "stream",
     "text": [
      "Autosaving every 300 seconds\n"
     ]
    }
   ],
   "source": [
    "%autosave 300\n",
    "%load_ext autoreload\n",
    "%autoreload 2\n",
    "%reload_ext autoreload\n",
    "%config Completer.use_jedi = False"
   ]
  },
  {
   "cell_type": "code",
   "execution_count": 2,
   "id": "d01f3de8",
   "metadata": {},
   "outputs": [
    {
     "name": "stdout",
     "output_type": "stream",
     "text": [
      "/mnt/batch/tasks/shared/LS_root/mounts/clusters/soutrik-vm-dev/code/Users/Soutrik.Chowdhury/langgraph_ventures\n"
     ]
    }
   ],
   "source": [
    "import os\n",
    "\n",
    "os.chdir(\"../..\")\n",
    "print(os.getcwd())"
   ]
  },
  {
   "cell_type": "code",
   "execution_count": 3,
   "id": "8d38bce9",
   "metadata": {},
   "outputs": [
    {
     "name": "stderr",
     "output_type": "stream",
     "text": [
      "USER_AGENT environment variable not set, consider setting it to identify your requests.\n",
      "/anaconda/envs/unstructured_seed_env/lib/python3.10/site-packages/IPython/core/interactiveshell.py:3577: LangChainDeprecationWarning: As of langchain-core 0.3.0, LangChain uses pydantic v2 internally. The langchain_core.pydantic_v1 module was a compatibility shim for pydantic v1, and should no longer be used. Please update the code to import from Pydantic directly.\n",
      "\n",
      "For example, replace imports like: `from langchain_core.pydantic_v1 import BaseModel`\n",
      "with: `from pydantic import BaseModel`\n",
      "or the v1 compatibility namespace if you are working in a code base that has not been fully upgraded to pydantic 2 yet. \tfrom pydantic.v1 import BaseModel\n",
      "\n",
      "  exec(code_obj, self.user_global_ns, self.user_ns)\n",
      "[nltk_data] Downloading package punkt_tab to /root/nltk_data...\n",
      "[nltk_data]   Package punkt_tab is already up-to-date!\n"
     ]
    }
   ],
   "source": [
    "from src.utils import get_llm, get_embedder\n",
    "from langchain.text_splitter import RecursiveCharacterTextSplitter\n",
    "from langchain_community.document_loaders import WebBaseLoader\n",
    "from langchain_community.vectorstores import Chroma\n",
    "from langchain.vectorstores import FAISS\n",
    "from langchain.retrievers import BM25Retriever, EnsembleRetriever\n",
    "from langchain_core.output_parsers import PydanticOutputParser\n",
    "from langchain_core.pydantic_v1 import BaseModel, Field\n",
    "import asyncio\n",
    "import faiss\n",
    "from langchain_community.docstore.in_memory import InMemoryDocstore\n",
    "from uuid import uuid4\n",
    "from langchain_core.documents import Document\n",
    "import nltk\n",
    "\n",
    "nltk.download(\"punkt_tab\")\n",
    "from nltk.tokenize import word_tokenize\n",
    "from pydantic import BaseModel, Field\n",
    "from typing import Literal, List, Optional, Dict, Any\n",
    "from langchain_core.prompts import ChatPromptTemplate\n",
    "from typing_extensions import TypedDict\n",
    "from langgraph.graph import START, END, StateGraph\n",
    "from langchain_community.tools.tavily_search import TavilySearchResults\n",
    "from IPython.display import Image, display"
   ]
  },
  {
   "cell_type": "code",
   "execution_count": 4,
   "id": "4a2fa750",
   "metadata": {},
   "outputs": [
    {
     "data": {
      "text/plain": [
       "True"
      ]
     },
     "execution_count": 4,
     "metadata": {},
     "output_type": "execute_result"
    }
   ],
   "source": [
    "from dotenv import load_dotenv\n",
    "\n",
    "load_dotenv()"
   ]
  },
  {
   "cell_type": "markdown",
   "id": "14b4c4c7",
   "metadata": {},
   "source": [
    "#### Using AzureChatOpenAI and AzureOpenAIEmbeddings\n",
    "This section demonstrates how to instantiate and test AzureChatOpenAI and AzureOpenAIEmbeddings using utility functions."
   ]
  },
  {
   "cell_type": "code",
   "execution_count": 5,
   "id": "bdc48614",
   "metadata": {},
   "outputs": [],
   "source": [
    "# Instantiate AzureChatOpenAI\n",
    "llm = get_llm()\n",
    "# print(llm)"
   ]
  },
  {
   "cell_type": "code",
   "execution_count": 6,
   "id": "2b0946ed",
   "metadata": {},
   "outputs": [],
   "source": [
    "# # Test AzureChatOpenAI with a simple prompt\n",
    "# response = llm.invoke(\"Hello, who are you?\")\n",
    "# print(response)"
   ]
  },
  {
   "cell_type": "code",
   "execution_count": 7,
   "id": "452c6c39",
   "metadata": {},
   "outputs": [],
   "source": [
    "# Instantiate AzureOpenAIEmbeddings\n",
    "embedder = get_embedder()\n",
    "# print(embedder)"
   ]
  },
  {
   "cell_type": "code",
   "execution_count": 8,
   "id": "1fe4cf87",
   "metadata": {},
   "outputs": [],
   "source": [
    "# # Test AzureOpenAIEmbeddings with a sample text\n",
    "# embedding = embedder.embed_query(\"This is a test sentence for embedding.\")\n",
    "# print(embedding[:10])  # Print first 10 values for brevity"
   ]
  },
  {
   "cell_type": "markdown",
   "id": "60f8cdf5",
   "metadata": {},
   "source": [
    "### Next we populate vector db with some online resources\n",
    "- Step 1: Use url loader to fetch data from a URLs \n",
    "- Step 2: Use text splitter to split the data into smaller chunks\n",
    "- Step 3: Create summarization chain to summarize the data by source and add to the metadata\n",
    "- Step 4: Add basic keyword extractor and extract keywords and add to the metadata\n",
    "- Step 5: Create embeddings using AzureOpenAIEmbeddings\n",
    "- Step 6: Create vector store using milvius/faiss\n",
    "- Step 7: Create retriever using the vector store\n",
    "- Step 8: Application of BM25 hybrid retriever along with the vector store retriever"
   ]
  },
  {
   "cell_type": "code",
   "execution_count": 9,
   "id": "032859b1",
   "metadata": {},
   "outputs": [],
   "source": [
    "urls = [\n",
    "    \"https://www.nutmeg.com/nutmegonomics/nutmeg-investor-update-march-2025\",\n",
    "    \"https://www.nutmeg.com/nutmegonomics/nutmeg-investor-update-february-2025\",\n",
    "    \"https://www.nutmeg.com/nutmegonomics/nutmeg-investor-update-january-2025\",\n",
    "    \"https://www.nutmeg.com/nutmegonomics/nutmeg-investor-update-december-2024\",\n",
    "    \"https://www.nutmeg.com/nutmegonomics/nutmeg-investor-update-november-2024\",\n",
    "    \"https://www.nutmeg.com/nutmegonomics/nutmeg-investor-update-october-2024\",\n",
    "]"
   ]
  },
  {
   "cell_type": "code",
   "execution_count": 10,
   "id": "842841d9",
   "metadata": {},
   "outputs": [],
   "source": [
    "docs = [WebBaseLoader(url).load() for url in urls]\n",
    "docs_list = [item for sublist in docs for item in sublist]"
   ]
  },
  {
   "cell_type": "code",
   "execution_count": 11,
   "id": "bf84f605",
   "metadata": {},
   "outputs": [
    {
     "data": {
      "text/plain": [
       "[Document(metadata={'source': 'https://www.nutmeg.com/nutmegonomics/nutmeg-investor-update-march-2025', 'title': 'Nutmeg investor update: March 2025 - Nutmeg', 'description': 'February was a busy month, with investors digesting a lot of geopolitical news. US stocks fell back, but European and Chinese equities made notable gains.', 'language': 'en'}, page_content=\"Nutmeg investor update: March 2025 - NutmegSkip to contentProductsProductsInvest for every stage for life and make the most of your tax allowances.\\xa0Stocks and Shares ISAPersonal PensionLifetime ISAJunior ISAGeneral Investment AccountInvestment stylesInvestment stylesHave your money managed in a way that fits your goals and\\xa0priorities.Fully ManagedThematic InvestingSmart AlphaSocially Responsible InvestingFixed AllocationAdviceFinancial advice and guidanceGet expert support to help you make the right investment choices.Free financial guidanceOur financial advice serviceRetirement adviceInvestment adviceConsolidation adviceLump sum adviceBook your free consultationTools and guidesTools and guidesSee how you could reach your goals with our calculators and how-to guides.ToolsSelf-employed tax calculatorCompound returns calculatorISA calculatorPension calculatorCapital Gains Tax calculatorGuidesInvesting for beginnersHow to retire at 55How to avoid the 60% tax trapWhat inflation means in investingWhy it's important to diversifyWhat is volatility?InsightsInsightsRead the latest views from our investment and wealth experts.Financial planningRetirement essentialsInvesting essentialsMarketsBrowse our articlesAbout usAbout usFind out more about who we are and what we do for investors.Our companyOur track recordOur feesMeet the investment teamCareersHelpHelpAsk us about investing, your account, advice and more.Get in touchFAQsGo to our Help hubLog InSign upHamburger MenuProductsProductsInvest for every stage for life and make the most of your tax allowances.\\xa0Stocks and Shares ISAPersonal PensionLifetime ISAJunior ISAGeneral Investment AccountInvestment stylesInvestment stylesHave your money managed in a way that fits your goals and\\xa0priorities.Fully ManagedThematic InvestingSmart AlphaSocially Responsible InvestingFixed AllocationAdviceFinancial advice and guidanceGet expert support to help you make the right investment choices.Free financial guidanceOur financial advice serviceRetirement adviceInvestment adviceConsolidation adviceLump sum adviceBook your free consultationTools and guidesTools and guidesSee how you could reach your goals with our calculators and how-to guides.ToolsSelf-employed tax calculatorCompound returns calculatorISA calculatorPension calculatorCapital Gains Tax calculatorGuidesInvesting for beginnersHow to retire at 55How to avoid the 60% tax trapWhat inflation means in investingWhy it's important to diversifyWhat is volatility?InsightsInsightsRead the latest views from our investment and wealth experts.Financial planningRetirement essentialsInvesting essentialsMarketsBrowse our articlesAbout usAbout usFind out more about who we are and what we do for investors.Our companyOur track recordOur feesMeet the investment teamCareersHelpHelpAsk us about investing, your account, advice and more.Get in touchFAQsGo to our Help hub;NutmegonomicsMarket InsightsNutmeg investor update: March 2025Market InsightsNutmeg investor update: March 2025The Nutmeg team|5 minFebruary was a busy month, with investors digesting a lot of geopolitical news. US stocks fell back, but European and Chinese equities made notable gains.At a glanceEuropean stocks rose, while US markets declined, led by weakness in growth-focused sectors.The US macroeconomic picture saw some negative signals, such as US consumer confidence hitting an eight-month low. However, we think the positive long-term picture remains intact.In Europe, there are some signs of changing sentiment, with indications of renewed confidence in the region’s prospects.What happened in financial markets in February?It’s been an interesting month in global financial markets. Investors had a lot of geopolitical news to digest, especially from the US, where the new Republican Administration was busy during its first month in office. Global stock markets saw some divergence in performance. Regions such as Europe and China have performed well, while others such as the US have seen a dip in stock market performance.In Europe, there are some signs of changing sentiment, with indications of renewed confidence in the region’s prospects. European stocks made gains, up 3.5% over the month, while there were notable\\xa0gains\\xa0in\\xa0German\\xa0and Italian equity indices, up 6.3% and 7.2%, respectively. Alongside better-than-expected company earnings, hope began to build that we could see\\xa0a resolution to the Russia-Ukraine\\xa0conflict.\\xa0This\\xa0path is by no means\\xa0certain,\\xa0and as you will likely have seen,\\xa0the tone of\\xa0recent\\xa0meetings on the world stage about the conflict\\xa0has been\\xa0mixed\\xa0at best.In the US, we saw stocks fall back a little over the month. The S&P 500 index – which reflects the performance of the 500 largest companies in the US – was down 1.3% in February. That decline was led by growth-oriented stocks such as those in the technology sector, which finished the month on a weaker footing. The growth-focused Nasdaq index declined 2.7% over the month.The most recent earnings season demonstrated the US stock market’s potential to deliver earnings that outperform expectations once again. But investor enthusiasm in February was tempered by the US macroeconomic picture. Consumer confidence fell to an 8-month low, while investors were disconcerted by service sector data that indicated a surprise contraction of activity. Against a backdrop of a changing tariffs narrative, and geopolitical worries, some investors are beginning to question the stability of US economic growth and the case for US exceptionalism.Does this change how the Nutmeg investment team views the US as an investment destination?We think it is far too early to conclude that US economic growth is on a weakening trajectory. Despite several high-profile data points offering a more muted viewpoint, manufacturing activity appears to be turning up, consumption remains strong, and the labour market’s key indicators are robust.We continue to take the view that a recession in the US is unlikely. But, as we flagged in our 2025 investment outlook, both stock market valuations and elevated geopolitical and policy risks increase the potential for market volatility. So, we retain our preference for US assets across our portfolios but as always, we also remain globally diversified.A good example is our exposure to European stock markets, where we remain ‘neutral’ relative to our long-term allocation. That is to say, in the short term, we do not think the overall case for investment in the region is stronger or weaker than in the long term. However, we do have some preferences for certain countries and sectors where we believe the investment case is strongest,\\xa0for instance\\xa0European industrial companies\\xa0within our\\xa0equity holdings.The industrials sector comprises a wide variety of companies such as those in machinery, manufacturing, and defence and aerospace. Industrial activity tends to benefit from buoyant global trade, and despite the looming risk of potential US tariffs, global trade volumes have seen a steady rise over the previous 12 months. We think European industrials are supported by three main drivers:rising global tradethe potential for upside in corporate earnings, andthe potential for a meaningful increase in European defence spending in the current geopolitical environment.We also currently favour the Nordics over broader Europe. We think the macro-economic picture for the Nordic countries is currently brighter than that of the wider European bloc. Nordic stock markets have demonstrated strong relative performance over the previous decade in comparison with their European peers.Is the Nutmeg investment team making any portfolio changes?We\\xa0have made an adjustment to portfolios’ US equity holdings,\\xa0adding\\xa0a position in the financials sector, which comprises banks, insurance firms and credit providers.We have done this for several reasons:Firstly, we think the economic backdrop for financials remains attractive. The US economy appears to be growing at a steady pace, and we expect banks to continue to expand activity through lending as the economy grows.Secondly, interest rates remain elevated, yet at the same time off their peak. The Federal Reserve is in no rush to cut interest rates and we expect it will take a steady approach as it balances the pressures of inflation and growth. Higher interest rates tend to be good for financial institutions, as it can increase their earnings potential, so long as they are not constraining economic activity. We think we might reach an interest rate ‘sweet spot’ for US banks over the coming 12 months.Additionally, we believe that there is the possibility of further deregulation under the new Republican administration, including the watering down or scrapping of proposed costly regulations.Our position in financials really reflects us remaining positive on the overall US economic trajectory, while leaning towards a sector we expect to benefit from both the current stage of the economic cycle and the current policy approach of the Republican administration.About this update: This update was recorded on\\xa04 March 2025. All figures, unless otherwise stated, relate to the month of February 2025.\\xa0Source for figures: MacroBond, Nutmeg and Bloomberg.Risk warningAs with all investing, your capital is at risk. The value of your portfolio with Nutmeg can go down as well as up and you may get back less than you invest. Past performance and forecasts are not reliable indicators of future\\xa0performance.\\u202fWe do not provide investment advice in this article. Always do your own research.\\xa0App store badgeGoogle play badgeSupportFAQsInsightsSitemapCareersPrivacy policyCookie policySite termsTerms and conditionsRegulatoryComplaintsCookie SettingsClient services020 3598 1515Contact ussupport@nutmeg.comPress enquiries only07788251769pr@nutmeg.comNutmeg25 Bank StreetCanary WharfLondonE14 5JPOffice020 3598 1717As with all investing, your capital is at risk. The value of your portfolio with Nutmeg can go down as well as up and you may get back less than you invest. Learn what we mean by riskCopyright © 2025 Nutmeg Saving and Investment Limited. Nutmeg® is a registered trade mark of Nutmeg Saving and Investment Limited, authorised and regulated by the Financial Conduct Authority, no. 552016, registered in England and Wales, no. 07503666, with a registered office at 25 Bank Street, Canary Wharf, London E14 5JP. Smart Alpha is a trade mark of Schroders plc and is used under licence.App Store is a service mark and Apple and the Apple logo are trademarks of Apple Inc. Google Play and the Google Play logo are trademarks of Google LLC.\"),\n",
       " Document(metadata={'source': 'https://www.nutmeg.com/nutmegonomics/nutmeg-investor-update-february-2025', 'title': 'Nutmeg investor update: February 2025 - Nutmeg', 'description': 'In January, all eyes were on President Trump as he returned to the White House for a second term. Equity markets gained, but there were signs of investor uncertainty.', 'language': 'en'}, page_content=\"Nutmeg investor update: February 2025 - NutmegSkip to contentProductsProductsInvest for every stage for life and make the most of your tax allowances.\\xa0Stocks and Shares ISAPersonal PensionLifetime ISAJunior ISAGeneral Investment AccountInvestment stylesInvestment stylesHave your money managed in a way that fits your goals and\\xa0priorities.Fully ManagedThematic InvestingSmart AlphaSocially Responsible InvestingFixed AllocationAdviceFinancial advice and guidanceGet expert support to help you make the right investment choices.Free financial guidanceOur financial advice serviceRetirement adviceInvestment adviceConsolidation adviceLump sum adviceBook your free consultationTools and guidesTools and guidesSee how you could reach your goals with our calculators and how-to guides.ToolsSelf-employed tax calculatorCompound returns calculatorISA calculatorPension calculatorCapital Gains Tax calculatorGuidesInvesting for beginnersHow to retire at 55How to avoid the 60% tax trapWhat inflation means in investingWhy it's important to diversifyWhat is volatility?InsightsInsightsRead the latest views from our investment and wealth experts.Financial planningRetirement essentialsInvesting essentialsMarketsBrowse our articlesAbout usAbout usFind out more about who we are and what we do for investors.Our companyOur track recordOur feesMeet the investment teamCareersHelpHelpAsk us about investing, your account, advice and more.Get in touchFAQsGo to our Help hubLog InSign upHamburger MenuProductsProductsInvest for every stage for life and make the most of your tax allowances.\\xa0Stocks and Shares ISAPersonal PensionLifetime ISAJunior ISAGeneral Investment AccountInvestment stylesInvestment stylesHave your money managed in a way that fits your goals and\\xa0priorities.Fully ManagedThematic InvestingSmart AlphaSocially Responsible InvestingFixed AllocationAdviceFinancial advice and guidanceGet expert support to help you make the right investment choices.Free financial guidanceOur financial advice serviceRetirement adviceInvestment adviceConsolidation adviceLump sum adviceBook your free consultationTools and guidesTools and guidesSee how you could reach your goals with our calculators and how-to guides.ToolsSelf-employed tax calculatorCompound returns calculatorISA calculatorPension calculatorCapital Gains Tax calculatorGuidesInvesting for beginnersHow to retire at 55How to avoid the 60% tax trapWhat inflation means in investingWhy it's important to diversifyWhat is volatility?InsightsInsightsRead the latest views from our investment and wealth experts.Financial planningRetirement essentialsInvesting essentialsMarketsBrowse our articlesAbout usAbout usFind out more about who we are and what we do for investors.Our companyOur track recordOur feesMeet the investment teamCareersHelpHelpAsk us about investing, your account, advice and more.Get in touchFAQsGo to our Help hub;NutmegonomicsMarket InsightsNutmeg investor update: February 2025Market InsightsNutmeg investor update: February 2025The Nutmeg team|5 minIn January, all eyes were on President Trump as he returned to the White House for a second term. Equity markets gained, but there were signs of investor uncertainty.\\xa0At a glanceGlobal equities gained in January, while government bonds were little changed by the end of\\xa0the month. UK equities gained strongly.Donald Trump returned to the White House, but investors were made to wait for further detail on his tariff plans. It wasn't until early February that details started to emerge.A new challenger entered the artificial intelligence ring, with the release of Chinese AI 'DeepSeek' briefly ruffling feathers amongst large US tech firms.In this latest investor update, we look back at what happened in markets in January, but at the time of publishing – 6 February – news has just broken of the Bank of England's (BoE) rate cut. Falling inflation has allowed Bank of England policymakers to cut the bank rate to its lowest level since May 2023.The investment team's view is that – even at 4.5% – the bank rate is still well above what might be considered the neutral level. The Nutmeg team expect the policy committee at the BoE to stay on its course of gradually removing monetary policy restraint. Money markets are pricing in a further two to three rate cuts this year, but events could quickly change this.So, what happened in financial markets in January and why?January was largely positive for equities, despite uncertainty causing markets to falter here and there, particularly in the last week. Overall, most equity markets saw gains. Global equities rose by\\xa0around 3.5%,\\xa0US equity markets\\xa0a little less, at closer to 3%.The UK's FTSE 100 had a strong month, increasing by more than 6%. A notable area of interest was the performance of listed UK small and mid-cap companies. The small and mid-cap focused FTSE 250 ended the month behind the large-cap FTSE 100, although after a weaker start to the month it managed to recover during the last week. The UK faced some negative headlines over the month, primarily due to concerns about budget-related risks and low growth. This impacted the bond market and the domestically-focused British small and mid-cap stocks.Europe, unusually,\\xa0outperformed many other regions in January. Japan underperformed, moving very little over the month. Emerging markets lagged slightly, but still posted positive returns.There was some significant volatility in UK government bonds also known as 'gilts' during the month, and to a lesser extent in US government bonds or 'Treasuries'. In the case of gilts, concerns over UK government spending spooked the market in mid-January, although ultimately they finished the month almost exactly where they started. Data released on UK inflation was more moderate than expected, renewing hopes for further rate cuts in the UK, which was positively received by bond investors.Currencies were also volatile. The US dollar reversed most of the gains made at the start of January as new US inflation data was in line\\xa0with\\xa0or even slightly\\xa0lower\\xa0than expected. This grants the US Federal Reserve some more room to manoeuvre as needed, whereas a rise in inflation would have made life trickier for policy makers at the central bank. The strength or potential weakness of the US dollar will remain a key factor for global markets in 2025 and one to watch carefully.Donald Trump has started his second term as president. Were there any surprises in his first days?In January, Donald Trump returned to the Oval Office, and the future impact and actions of his administration remain a significant focus for investors. It was clearly a hot topic\\xa0at the World Economic Forum in Davos, where it dominated many conversations among participants. While the initial days of Trump's presidency were generally viewed positively by the markets, two notable points emerged.First, while the imposition of high tariffs was expected to be enacted in Trump's first days or weeks in office, investors were made to wait a little longer to find out if proposals of sweeping tariffs would become reality.\\xa0This was received favourably by investors, as high tariffs are seen as a potential inflation risk and could negatively impact the global economy. However, investors are unlikely to have read too much into the delay, because of point number two; the unpredictability of the new US administration.This unpredictability is expected to introduce a level of uncertainty, which we anticipate will create regular opportunities for engaged investors. At Nutmeg, we aim to keep a long-term perspective and look beyond short-term 'noise' generated by unpredictable comments or actions. That said, the durable impact of proposed tariffs can’t be neglected, given the potential ramifications for the US and world economies.What is DeepSeek and does it represent a risk for US mega-cap tech stocks?DeepSeek is a new large language model (LLM) AI by a Chinese startup, released in late January 2025. You might have heard of ChatGPT. That's a large language model – or 'LLM' based AI – as well. The release of DeepSeek caught the market off guard and led to a challenging day for US tech stocks. For instance, Nvidia experienced a 16% drop in a single day, losing more in market value than the total market value of the largest European stock. However, it's important to look beyond the headlines and focus on the mid-term outlook.While it's undeniable that some US mega-cap tech companies (along with a few European and Asian ones) are highly valued, we believe the earnings released in January continue to demonstrate their exceptional profitability, even amid substantial investments in AI technology development. Although the threat of a Chinese startup adds a challenge to the costly process of AI development, we believe that the US's innovation capabilities remain unparalleled\\xa0and can continue to support stock performance in the years ahead. There will always be winners and losers in a technological revolution, and we continue to believe that the US will be a major beneficiary. Consequently, we maintain an overweight position in US stocks within our portfolios.About this update: This update was recorded on\\xa05 February 2025. All figures, unless otherwise stated, relate to the month of January 2025.\\xa0Source for figures: MacroBond, Nutmeg and Bloomberg.Risk warningAs with all investing, your capital is at risk. The value of your portfolio with Nutmeg can go down as well as up and you may get back less than you invest. Past performance and forecasts are not reliable indicators of future\\xa0performance.\\u202fWe do not provide investment advice in this article. Always do your own research.\\xa0App store badgeGoogle play badgeSupportFAQsInsightsSitemapCareersPrivacy policyCookie policySite termsTerms and conditionsRegulatoryComplaintsCookie SettingsClient services020 3598 1515Contact ussupport@nutmeg.comPress enquiries only07788251769pr@nutmeg.comNutmeg25 Bank StreetCanary WharfLondonE14 5JPOffice020 3598 1717As with all investing, your capital is at risk. The value of your portfolio with Nutmeg can go down as well as up and you may get back less than you invest. Learn what we mean by riskCopyright © 2025 Nutmeg Saving and Investment Limited. Nutmeg® is a registered trade mark of Nutmeg Saving and Investment Limited, authorised and regulated by the Financial Conduct Authority, no. 552016, registered in England and Wales, no. 07503666, with a registered office at 25 Bank Street, Canary Wharf, London E14 5JP. Smart Alpha is a trade mark of Schroders plc and is used under licence.App Store is a service mark and Apple and the Apple logo are trademarks of Apple Inc. Google Play and the Google Play logo are trademarks of Google LLC.\"),\n",
       " Document(metadata={'source': 'https://www.nutmeg.com/nutmegonomics/nutmeg-investor-update-january-2025', 'title': 'Nutmeg investor update: January 2025 - Nutmeg', 'description': \"In December, there was a little cold water poured on investors' optimism. However, 2024 was still a particularly strong year for most stock markets.\", 'language': 'en'}, page_content=\"Nutmeg investor update: January 2025 - NutmegSkip to contentProductsProductsInvest for every stage for life and make the most of your tax allowances.\\xa0Stocks and Shares ISAPersonal PensionLifetime ISAJunior ISAGeneral Investment AccountInvestment stylesInvestment stylesHave your money managed in a way that fits your goals and\\xa0priorities.Fully ManagedThematic InvestingSmart AlphaSocially Responsible InvestingFixed AllocationAdviceFinancial advice and guidanceGet expert support to help you make the right investment choices.Free financial guidanceOur financial advice serviceRetirement adviceInvestment adviceConsolidation adviceLump sum adviceBook your free consultationTools and guidesTools and guidesSee how you could reach your goals with our calculators and how-to guides.ToolsSelf-employed tax calculatorCompound returns calculatorISA calculatorPension calculatorCapital Gains Tax calculatorGuidesInvesting for beginnersHow to retire at 55How to avoid the 60% tax trapWhat inflation means in investingWhy it's important to diversifyWhat is volatility?InsightsInsightsRead the latest views from our investment and wealth experts.Financial planningRetirement essentialsInvesting essentialsMarketsBrowse our articlesAbout usAbout usFind out more about who we are and what we do for investors.Our companyOur track recordOur feesMeet the investment teamCareersHelpHelpAsk us about investing, your account, advice and more.Get in touchFAQsGo to our Help hubLog InSign upHamburger MenuProductsProductsInvest for every stage for life and make the most of your tax allowances.\\xa0Stocks and Shares ISAPersonal PensionLifetime ISAJunior ISAGeneral Investment AccountInvestment stylesInvestment stylesHave your money managed in a way that fits your goals and\\xa0priorities.Fully ManagedThematic InvestingSmart AlphaSocially Responsible InvestingFixed AllocationAdviceFinancial advice and guidanceGet expert support to help you make the right investment choices.Free financial guidanceOur financial advice serviceRetirement adviceInvestment adviceConsolidation adviceLump sum adviceBook your free consultationTools and guidesTools and guidesSee how you could reach your goals with our calculators and how-to guides.ToolsSelf-employed tax calculatorCompound returns calculatorISA calculatorPension calculatorCapital Gains Tax calculatorGuidesInvesting for beginnersHow to retire at 55How to avoid the 60% tax trapWhat inflation means in investingWhy it's important to diversifyWhat is volatility?InsightsInsightsRead the latest views from our investment and wealth experts.Financial planningRetirement essentialsInvesting essentialsMarketsBrowse our articlesAbout usAbout usFind out more about who we are and what we do for investors.Our companyOur track recordOur feesMeet the investment teamCareersHelpHelpAsk us about investing, your account, advice and more.Get in touchFAQsGo to our Help hub;NutmegonomicsMarket InsightsNutmeg investor update: January 2025Market InsightsNutmeg investor update: January 2025The Nutmeg team|4 minIn December, there was a little cold water poured on investors’ optimism. However, 2024 was still particularly strong for most stock markets.At a glanceIn December, the Fed poured a little cold water on investor optimismThe 'Santa Claus' rally didn’t materialise for most stock marketsBond markets had a disappointing month, with rising yields pushing down pricesDespite a weaker December, 2024 was a very strong year for most stock markets but a more mixed one for bondsWhat happened in financial markets in December?\\xa0Well, for context let’s start off by saying that, for stock markets, 2024 was a particularly strong year for many regions, and we’ll delve into the detail of that in a moment.But firstly, December. The optimism of November had a little cold water poured on it by the US Federal Reserve – more commonly known as the Fed. At their December meeting rates were cut by a further 0.25 percentage points, but it was more what was said than what was done that caused the year to finish on a slightly flat note. While rate cuts are typically welcomed by investors, the Fed now anticipates that rates will only be cut by 0.50 percentage points during 2025.As a quick recap, central banks like the Fed – and the UK’s Bank of England – have been cutting rates to help boost economic growth.\\xa0However, inflation in the US has remained stubbornly above target. The Fed is therefore concerned that if they cut rates too much too quickly, it could bring unwanted upward price pressures. This is a fine balancing act for Fed Chair Jerome Powell and his colleagues.For stock markets, this meant that the famous 'Santa Claus rally' – where stock markets can be boosted in December by increased consumer spending and optimism – failed to\\xa0materialise\\xa0for most regions.For bonds, the Fed’s messaging pushed yields higher, causing prices to dip slightly across most fixed income asset classes.\\xa0That's the way bond markets work; when yields rise, their price falls.What was the full picture for 2024?For stock markets, 2024\\xa0was\\xa0generally\\xa0a very strong year.\\xa0Regions such as the UK, Canada, India and Asia Pacific\\xa0all finished the year ahead, despite falling in December. But none could quite match the same combination of economic stability and corporate earnings strength that has underpinned the US.The S&P 500 index, which tracks the performance of the 500 largest US companies, saw a gain of 25% for the year. Historically, returns this high are fairly rare.The NASDAQ index, which is a tech stock index, including high-flying companies such as Nvidia, saw an even stronger year, with prices up just under 26%. Tech stocks have continued to attract investors as artificial intelligence – or AI – starts to become increasingly mainstream. AI has continued to shift from being a technology with potential for the future, to one with real life productivity benefits on a day-to-day basis.Although the main story has been about the strength of stock markets, many bond markets have also experienced a positive year. Higher risk ‘high yield’ bonds in both the US and Europe have increased 8.2% and 8.6%, respectively. They have benefitted from the relative economic stability we saw in 2024, something that was far from guaranteed at the start of last year.It’s been a mixed picture for government bonds.\\xa0In the UK, gilts have performed poorly.\\xa0In\\xa0Europe, Italy and Spain have performed well,\\xa0helped by\\xa0the expectation of further rate cuts amid a\\xa0weaker\\xa0economic picture relative to the US. US government bonds have seen more muted performance as expectations of further rate cuts were wound back. The re-think was due to\\xa0better-than-expected economic results.What is the Nutmeg investment team’s outlook for 2025?We are optimistic about the investing landscape as we move into 2025, yet challenges remain.Over the past two years, multi-asset portfolios have thrived, benefiting from strong equity performance. The global economic environment, especially in the US, remains supportive going forward. There is a robust job market, lower inflation and interest rates are on a downward trend. We expect the corporate earnings landscape, especially in the US, to remain positive.However, a degree of caution is warranted. US equity valuations are above historic averages, and geopolitical uncertainties, such as potential instability from the Trump\\xa0administration\\xa0and ongoing global conflicts, could increase market volatility. Emerging markets face challenges, including potential Trump tariffs which could strengthen the dollar and impact these economies.\\xa0China's economic transition\\xa0and deflationary pressures add to the uncertainty.In Europe,\\xa0we believe\\xa0the UK is better positioned than the continent, with growing household incomes and a recovering housing market. Interest rate policies are expected to ease, but the link between wages growth and inflation means that\\xa0tight\\xa0labour\\xa0markets and rising wages could rekindle inflation.\\xa0Central banks are likely to proceed cautiously with rate cuts.Despite these risks, the investment team maintains a positive long-term outlook. We are, however, holding slightly higher cash reserves than usual, ready to adapt and capitalise on market opportunities that may arise if we see volatility increase in the short term.About this update: This update was recorded on\\xa07 January 2025. All figures, unless otherwise stated, relate to the month of December 2024.\\xa0Source for figures: MacroBond, Nutmeg and Bloomberg.Risk warningAs with all investing, your capital is at risk. The value of your portfolio with Nutmeg can go down as well as up and you may get back less than you invest. Past performance and forecasts are not reliable indicators of future\\xa0performance.\\u202fWe do not provide investment advice in this article. Always do your own research.\\xa0App store badgeGoogle play badgeSupportFAQsInsightsSitemapCareersPrivacy policyCookie policySite termsTerms and conditionsRegulatoryComplaintsCookie SettingsClient services020 3598 1515Contact ussupport@nutmeg.comPress enquiries only07788251769pr@nutmeg.comNutmeg25 Bank StreetCanary WharfLondonE14 5JPOffice020 3598 1717As with all investing, your capital is at risk. The value of your portfolio with Nutmeg can go down as well as up and you may get back less than you invest. Learn what we mean by riskCopyright © 2025 Nutmeg Saving and Investment Limited. Nutmeg® is a registered trade mark of Nutmeg Saving and Investment Limited, authorised and regulated by the Financial Conduct Authority, no. 552016, registered in England and Wales, no. 07503666, with a registered office at 25 Bank Street, Canary Wharf, London E14 5JP. Smart Alpha is a trade mark of Schroders plc and is used under licence.App Store is a service mark and Apple and the Apple logo are trademarks of Apple Inc. Google Play and the Google Play logo are trademarks of Google LLC.\"),\n",
       " Document(metadata={'source': 'https://www.nutmeg.com/nutmegonomics/nutmeg-investor-update-december-2024', 'title': 'Nutmeg investor update: December 2024 - Nutmeg', 'description': 'In November, investors saw the outcome of the US election as positive for US stocks, but it was a different story for emerging market equities.', 'language': 'en'}, page_content='Nutmeg investor update: December 2024 - NutmegSkip to contentProductsProductsInvest for every stage for life and make the most of your tax allowances.\\xa0Stocks and Shares ISAPersonal PensionLifetime ISAJunior ISAGeneral Investment AccountInvestment stylesInvestment stylesHave your money managed in a way that fits your goals and\\xa0priorities.Fully ManagedThematic InvestingSmart AlphaSocially Responsible InvestingFixed AllocationAdviceFinancial advice and guidanceGet expert support to help you make the right investment choices.Free financial guidanceOur financial advice serviceRetirement adviceInvestment adviceConsolidation adviceLump sum adviceBook your free consultationTools and guidesTools and guidesSee how you could reach your goals with our calculators and how-to guides.ToolsSelf-employed tax calculatorCompound returns calculatorISA calculatorPension calculatorCapital Gains Tax calculatorGuidesInvesting for beginnersHow to retire at 55How to avoid the 60% tax trapWhat inflation means in investingWhy it\\'s important to diversifyWhat is volatility?InsightsInsightsRead the latest views from our investment and wealth experts.Financial planningRetirement essentialsInvesting essentialsMarketsBrowse our articlesAbout usAbout usFind out more about who we are and what we do for investors.Our companyOur track recordOur feesMeet the investment teamCareersHelpHelpAsk us about investing, your account, advice and more.Get in touchFAQsGo to our Help hubLog InSign upHamburger MenuProductsProductsInvest for every stage for life and make the most of your tax allowances.\\xa0Stocks and Shares ISAPersonal PensionLifetime ISAJunior ISAGeneral Investment AccountInvestment stylesInvestment stylesHave your money managed in a way that fits your goals and\\xa0priorities.Fully ManagedThematic InvestingSmart AlphaSocially Responsible InvestingFixed AllocationAdviceFinancial advice and guidanceGet expert support to help you make the right investment choices.Free financial guidanceOur financial advice serviceRetirement adviceInvestment adviceConsolidation adviceLump sum adviceBook your free consultationTools and guidesTools and guidesSee how you could reach your goals with our calculators and how-to guides.ToolsSelf-employed tax calculatorCompound returns calculatorISA calculatorPension calculatorCapital Gains Tax calculatorGuidesInvesting for beginnersHow to retire at 55How to avoid the 60% tax trapWhat inflation means in investingWhy it\\'s important to diversifyWhat is volatility?InsightsInsightsRead the latest views from our investment and wealth experts.Financial planningRetirement essentialsInvesting essentialsMarketsBrowse our articlesAbout usAbout usFind out more about who we are and what we do for investors.Our companyOur track recordOur feesMeet the investment teamCareersHelpHelpAsk us about investing, your account, advice and more.Get in touchFAQsGo to our Help hub;NutmegonomicsMarket InsightsNutmeg investor update: December 2024Market InsightsNutmeg investor update: December 2024The Nutmeg team|5 minIn\\xa0November, investors saw the outcome of the US election as positive for US stocks, but it was a different story for emerging market equities.At a glanceEquity markets gained in November, led by strong performance from US stocks.Bond markets – both government and corporate – also rose.Emerging market equity markets were weaker overall.Investors expect the re-election of Donald Trump as US President will support US assets, but that the new administration\\'s policies may also slow the pace of interest rate cuts.What happened in financial markets in November and\\xa0why?\\xa0Global equity markets finished November in positive territory, with gains led by US equities which produced one of their strongest months of 2024. Shares in large US companies – also called \"large cap\" equities – rose 5.9% in dollar terms, while smaller companies – or \"small caps\" – had a particularly strong month, rising 10.2%. The driver? A republican clean sweep in the US election, offering investors optimism over the potential for further US economic growth, coupled with tax breaks and deregulation under the new Trump administration.In the rest of the world, Japanese and UK stock equity markets delivered more muted returns in November. Japanese stocks fell 0.8% and the UK FTSE 100 gained 2.6% in local currency terms. European markets declined, as investors digested the potential ramifications of the incoming Republican\\xa0administration –\\xa0specifically talk of trade tariffs – against a backdrop of already weak industrial activity.Emerging markets also delivered negative returns, falling 3.5% in November,\\xa0in dollar terms. China was amongst the largest losers, but most major emerging market stock markets ended the month in negative territory. The exception was India, where stock markets rose\\xa0slightly in November and where domestic economic activity indicators remain strong.\\xa0In bond markets, corporate bonds largely mirrored the\\xa0atmosphere in equity markets, with investors apparently happy to take on more risk. This was reflected in the performance of riskier US high yield bonds, which delivered returns of 1.1%, and UK Corporate bonds also finished the month having made gains. Government bonds started the month on weaker footing. Election and inflation uncertainty dominated headlines, however, developed market government bonds finished November with returns of around 1.7% in the UK and 1% in the US.\\xa0What are the investment implications of Donald Trump\\'s re-election in November\\'s US election?It was clear from the market reaction that the re-election of Donald Trump is expected to create distinct winners and losers,\\xa0yet the President himself is only part of the story. Critically, the election result has offered Republicans control of not just the White House, but also the Senate and House of Representatives. This should make it much easier for the new administration to enact policy. This \"clean sweep\" was a possibility, but far from a certainty, and it heightened the market reaction to the election news.Sectors and stocks perceived to benefit from potential policy moves rallied, such as energy and banks, and investors shifted funds to US dollar denominated assets at the expense of global peers. Meanwhile, assets that are sensitive to trade and tariffs, such as European and emerging market stocks, fell, while their currencies weakened against the US dollar as investors priced the potential for meaningful tariffs. In Europe, an unstable political picture in Germany and France only added to reasons for investors to seek US assets.\\xa0 \\xa0\\xa0Away from stock markets, expectations of looser fiscal policy (the way the government spends and raises money) including the potential to extend tax breaks brought in during Trump\\'s previous presidency, should provide room for continued US economic growth. That has, however, kept bond market investors wary, as concerns grow over the extent of the administration\\'s plans to increase borrowing, and the potential for future tariff-induced inflation pressures. Consequently, the number of expected interest rate cuts from the Federal Reserve over the coming 18 months has fallen post-election. \\xa0We anticipate over the medium- to long-term, the US will benefit from a resurgence in domestic investment at the expense of the rest of the world, notably emerging markets. This was also our\\xa0expectation for the outgoing US administration, but we believe this dynamic may unfold\\xa0in a less smooth and predictable manner than was the case.How are tariffs expected to affect emerging markets and global trade?The Nutmeg investment team currently holds a smaller allocation to China than our long-term benchmark, given the challenges we feel the Chinese economy faces from both an internal consumption, and external trade perspective. But for much of 2024, we have held a more positive view of the outlook for wider emerging markets given what looked like ongoing recovery in global trade volumes and the demand for durable goods, and cheaper market valuations.That optimism, however has dimmed somewhat over the last quarter. The early-stage recovery and growth signals seen in many emerging market economies at the turn of 2024, are now showing signs of slowing. At the same time, broader emerging markets are facing a number of threats to their outlooks from both an economic and market perspective. The twin effects of a stronger US dollar, alongside the potential for meaningful trade tariffs are reducing our confidence in the extent to which global trade can recover from its post Covid lull. India is a notably bright spot in terms of domestic growth, but valuations do look stretched after a long run of outperformance, according to analysis by the Nutmeg investment team.\\xa0The situation is far from desperate, but with manufacturing sectors across developed economies in contraction, and the possibility of tariffs imposed by the global economy\\'s largest importer of goods, the investment case is likely to weaken. Clearly China, where we have a small allocation, will feel the brunt of these policies, but many other major emerging markets, particularly Mexico and those in South East Asia with strong trade ties to China, are also unlikely to escape unscathed, and face a more uncertain economic and market outlook post the US election.\\xa0About this update: This update was recorded on\\xa03 December 2024. All figures, unless otherwise stated, relate to the month of November\\xa02024.\\xa0Source for figures: MacroBond, Nutmeg and Bloomberg.Risk warningAs with all investing, your capital is at risk. The value of your portfolio with Nutmeg can go down as well as up and you may get back less than you invest. Past performance and forecasts are not reliable indicators of future\\xa0performance.\\u202fWe do not provide investment advice in this article. Always do your own research.\\xa0App store badgeGoogle play badgeSupportFAQsInsightsSitemapCareersPrivacy policyCookie policySite termsTerms and conditionsRegulatoryComplaintsCookie SettingsClient services020 3598 1515Contact ussupport@nutmeg.comPress enquiries only07788251769pr@nutmeg.comNutmeg25 Bank StreetCanary WharfLondonE14 5JPOffice020 3598 1717As with all investing, your capital is at risk. The value of your portfolio with Nutmeg can go down as well as up and you may get back less than you invest. Learn what we mean by riskCopyright © 2025 Nutmeg Saving and Investment Limited. Nutmeg® is a registered trade mark of Nutmeg Saving and Investment Limited, authorised and regulated by the Financial Conduct Authority, no. 552016, registered in England and Wales, no. 07503666, with a registered office at 25 Bank Street, Canary Wharf, London E14 5JP. Smart Alpha is a trade mark of Schroders plc and is used under licence.App Store is a service mark and Apple and the Apple logo are trademarks of Apple Inc. Google Play and the Google Play logo are trademarks of Google LLC.'),\n",
       " Document(metadata={'source': 'https://www.nutmeg.com/nutmegonomics/nutmeg-investor-update-november-2024', 'title': 'Nutmeg investor update: November 2024 - Nutmeg', 'description': \"Pacome Breton, Head of Portfolio Management, unpacks October's important events for investors - in both UK and the US - and explains how it moved financial markets.\", 'language': 'en'}, page_content=\"Nutmeg investor update: November 2024 - NutmegSkip to contentProductsProductsInvest for every stage for life and make the most of your tax allowances.\\xa0Stocks and Shares ISAPersonal PensionLifetime ISAJunior ISAGeneral Investment AccountInvestment stylesInvestment stylesHave your money managed in a way that fits your goals and\\xa0priorities.Fully ManagedThematic InvestingSmart AlphaSocially Responsible InvestingFixed AllocationAdviceFinancial advice and guidanceGet expert support to help you make the right investment choices.Free financial guidanceOur financial advice serviceRetirement adviceInvestment adviceConsolidation adviceLump sum adviceBook your free consultationTools and guidesTools and guidesSee how you could reach your goals with our calculators and how-to guides.ToolsSelf-employed tax calculatorCompound returns calculatorISA calculatorPension calculatorCapital Gains Tax calculatorGuidesInvesting for beginnersHow to retire at 55How to avoid the 60% tax trapWhat inflation means in investingWhy it's important to diversifyWhat is volatility?InsightsInsightsRead the latest views from our investment and wealth experts.Financial planningRetirement essentialsInvesting essentialsMarketsBrowse our articlesAbout usAbout usFind out more about who we are and what we do for investors.Our companyOur track recordOur feesMeet the investment teamCareersHelpHelpAsk us about investing, your account, advice and more.Get in touchFAQsGo to our Help hubLog InSign upHamburger MenuProductsProductsInvest for every stage for life and make the most of your tax allowances.\\xa0Stocks and Shares ISAPersonal PensionLifetime ISAJunior ISAGeneral Investment AccountInvestment stylesInvestment stylesHave your money managed in a way that fits your goals and\\xa0priorities.Fully ManagedThematic InvestingSmart AlphaSocially Responsible InvestingFixed AllocationAdviceFinancial advice and guidanceGet expert support to help you make the right investment choices.Free financial guidanceOur financial advice serviceRetirement adviceInvestment adviceConsolidation adviceLump sum adviceBook your free consultationTools and guidesTools and guidesSee how you could reach your goals with our calculators and how-to guides.ToolsSelf-employed tax calculatorCompound returns calculatorISA calculatorPension calculatorCapital Gains Tax calculatorGuidesInvesting for beginnersHow to retire at 55How to avoid the 60% tax trapWhat inflation means in investingWhy it's important to diversifyWhat is volatility?InsightsInsightsRead the latest views from our investment and wealth experts.Financial planningRetirement essentialsInvesting essentialsMarketsBrowse our articlesAbout usAbout usFind out more about who we are and what we do for investors.Our companyOur track recordOur feesMeet the investment teamCareersHelpHelpAsk us about investing, your account, advice and more.Get in touchFAQsGo to our Help hub;NutmegonomicsMarket InsightsNutmeg investor update: November 2024Market InsightsNutmeg investor update: November 2024The Nutmeg team|4 minIn October, investors were largely preoccupied with the Autumn Budget in the UK, and the closely run presidential election\\xa0in the US. Most major asset classes were slightly weaker.\\xa0At a glanceEquities and bonds were both weaker in OctoberInvestors digested the UK's Autumn Budget and the US closed in on the presidential electionClosely watched corporate earnings\\xa0were positive overallWhat happened in financial markets in October and\\xa0what were the main drivers of return?\\xa0In October, most markets - whether in bonds or equities - were down for the\\xa0month. This was\\xa0after a strong recovery from early August and the summer market turbulence.Equity markets generally declined between 1% and 4%\\xa0globally. US markets outperformed other regions once again, with the S&P 500 down less than 1% and similar performance from the Nasdaq. Both\\xa0continue to outperform other equity markets so far this year.Returns were more mixed in Europe, where equities lost almost 4%. UK\\xa0shares\\xa0performed slightly better, with the\\xa0FTSE 100\\xa0large-cap index losing 1.5%. However, the FTSE 250, which focuses on smaller British companies,\\xa0lost nearly 3% for the month. Sterling weakness may have contributed here. The domestically focused FTSE 250 can be more affected by costs rising when the pound declines.One standout country was\\xa0Japan, where the yen - after a strong performance over the\\xa0past two months - reversed some of its gains. A weaker yen typically has an inverse impact on Japanese stocks. Japanese equities became cheaper for foreign\\xa0investors as the yen weakened, which was\\xa0one factor among others that helped the main\\xa0Japanese index,\\xa0the NIKKEI 225,\\xa0to\\xa0gain close to 2.5%. This made it one of the few markets to make gains during the month.China-related stocks were strong performers in September due to economic measures taken by the Chinese government. This triggered a strong rally\\xa0in September, and in October, they gave back a limited portion of the gains. However, they remain ahead of other regions for the period of September to end October.The UK budget and the final weeks of the US election race weighed on bond marketsNews on both sides of the Atlantic impacted bond markets significantly. It was an interesting month, in that economic data was generally neutral to\\xa0positive for bond prices. Inflation data continued to cool,\\xa0and the US job market remained stable, showing a positive trend without any unexpected strength.\\xa0However,\\xa0bond yields\\xa0increased throughout the month\\xa0(bond yields rising means prices\\xa0fall).\\xa0Starting\\xa0in the US, Treasury yields were impacted by the\\xa0increased likelihood of\\xa0Trump regaining the White House, which is seen as potentially inflationary and therefore not particularly\\xa0favourable\\xa0for bonds.\\xa0US Treasuries declined.Meanwhile,\\xa0in the UK there were concerns surrounding the effects of the\\xa0Autumn budget. The immediate reaction in the bond market was positive, especially during the speech. However, as more detailed information was released by the Office for Budget Responsibility\\xa0(OBR), the bond market reversed all initial gains and much more. As a result, UK bonds had a poor month.On our end, we increased our position in UK gilts towards the end of the month following the initial market movement.\\xa0Our timing wasn’t optimal. We bought in before the post-budget shifts, but we\\xa0think the current yield is attractive long term.Earnings season coincided with October and was a good quarter overall for UK and US companiesAs usual, the US remains the most closely watched market in terms of equity earnings due to the size of the US equity market, and results so far\\xa0have\\xa0been positive.\\xa0The typical analyst forecast was relatively moderate for the quarter, and corporate earnings outperformed expectations by a significant margin. Large tech stocks in the US continued to perform positively, with companies like Alphabet (Google's parent), Amazon, and Tesla largely exceeding expectations. Some, like Apple and\\xa0Meta (Facebook's parent), posted slightly disappointing numbers or lower growth than anticipated, but most were still outperforming. Overall, earnings paint a\\xa0favourable picture for profit growth, which is crucial for equity performance.In the UK, there were some strong earnings releases from companies like\\xa0HSBC and Shell, which was positive. Overall, the current environment seems to be supportive for company profits in both the US\\xa0and the UK.About this update: This update was recorded on\\xa05 November 2024. All figures, unless otherwise stated, relate to the month of October\\xa02024.\\xa0Source for figures: MacroBond, Nutmeg and Bloomberg.Risk warningAs with all investing, your capital is at risk. The value of your portfolio with Nutmeg can go down as well as up and you may get back less than you invest. Past performance and forecasts are not reliable indicators of future\\xa0performance.\\u202fWe do not provide investment advice in this article. Always do your own research.\\xa0App store badgeGoogle play badgeSupportFAQsInsightsSitemapCareersPrivacy policyCookie policySite termsTerms and conditionsRegulatoryComplaintsCookie SettingsClient services020 3598 1515Contact ussupport@nutmeg.comPress enquiries only07788251769pr@nutmeg.comNutmeg25 Bank StreetCanary WharfLondonE14 5JPOffice020 3598 1717As with all investing, your capital is at risk. The value of your portfolio with Nutmeg can go down as well as up and you may get back less than you invest. Learn what we mean by riskCopyright © 2025 Nutmeg Saving and Investment Limited. Nutmeg® is a registered trade mark of Nutmeg Saving and Investment Limited, authorised and regulated by the Financial Conduct Authority, no. 552016, registered in England and Wales, no. 07503666, with a registered office at 25 Bank Street, Canary Wharf, London E14 5JP. Smart Alpha is a trade mark of Schroders plc and is used under licence.App Store is a service mark and Apple and the Apple logo are trademarks of Apple Inc. Google Play and the Google Play logo are trademarks of Google LLC.\"),\n",
       " Document(metadata={'source': 'https://www.nutmeg.com/nutmegonomics/nutmeg-investor-update-october-2024', 'title': 'Nutmeg investor update: October 2024 - Nutmeg', 'description': 'Brad Holland, Director of Investment Strategy, reviews market performance during September.', 'language': 'en'}, page_content='Nutmeg investor update: October 2024 - NutmegSkip to contentProductsProductsInvest for every stage for life and make the most of your tax allowances.\\xa0Stocks and Shares ISAPersonal PensionLifetime ISAJunior ISAGeneral Investment AccountInvestment stylesInvestment stylesHave your money managed in a way that fits your goals and\\xa0priorities.Fully ManagedThematic InvestingSmart AlphaSocially Responsible InvestingFixed AllocationAdviceFinancial advice and guidanceGet expert support to help you make the right investment choices.Free financial guidanceOur financial advice serviceRetirement adviceInvestment adviceConsolidation adviceLump sum adviceBook your free consultationTools and guidesTools and guidesSee how you could reach your goals with our calculators and how-to guides.ToolsSelf-employed tax calculatorCompound returns calculatorISA calculatorPension calculatorCapital Gains Tax calculatorGuidesInvesting for beginnersHow to retire at 55How to avoid the 60% tax trapWhat inflation means in investingWhy it\\'s important to diversifyWhat is volatility?InsightsInsightsRead the latest views from our investment and wealth experts.Financial planningRetirement essentialsInvesting essentialsMarketsBrowse our articlesAbout usAbout usFind out more about who we are and what we do for investors.Our companyOur track recordOur feesMeet the investment teamCareersHelpHelpAsk us about investing, your account, advice and more.Get in touchFAQsGo to our Help hubLog InSign upHamburger MenuProductsProductsInvest for every stage for life and make the most of your tax allowances.\\xa0Stocks and Shares ISAPersonal PensionLifetime ISAJunior ISAGeneral Investment AccountInvestment stylesInvestment stylesHave your money managed in a way that fits your goals and\\xa0priorities.Fully ManagedThematic InvestingSmart AlphaSocially Responsible InvestingFixed AllocationAdviceFinancial advice and guidanceGet expert support to help you make the right investment choices.Free financial guidanceOur financial advice serviceRetirement adviceInvestment adviceConsolidation adviceLump sum adviceBook your free consultationTools and guidesTools and guidesSee how you could reach your goals with our calculators and how-to guides.ToolsSelf-employed tax calculatorCompound returns calculatorISA calculatorPension calculatorCapital Gains Tax calculatorGuidesInvesting for beginnersHow to retire at 55How to avoid the 60% tax trapWhat inflation means in investingWhy it\\'s important to diversifyWhat is volatility?InsightsInsightsRead the latest views from our investment and wealth experts.Financial planningRetirement essentialsInvesting essentialsMarketsBrowse our articlesAbout usAbout usFind out more about who we are and what we do for investors.Our companyOur track recordOur feesMeet the investment teamCareersHelpHelpAsk us about investing, your account, advice and more.Get in touchFAQsGo to our Help hub;NutmegonomicsMarket InsightsNutmeg investor update: October 2024Market InsightsNutmeg investor update: October 2024The Nutmeg team|4 minBrad Holland, Director of Investment Strategy, reviews market performance during September.September was a significant month for central bank announcements. Two of the biggest hitters - the US Federal Reserve and the People\\'s Bank of China - each made policy changes that made headlines, although for very different reasons. For the most part, investors reacted positively.Most major equity markets rose this month, and investors seemed happy to take on a little more risk.What happened in financial markets in September?Most equity markets rose. The UK’s FTSE 100 fell slightly, most likely due to a stronger pound sterling over the month. This can act as a headwind against companies that earn most of their revenues overseas, as is the case with the FTSE 100. The FTSE 250 – the UK’s more domestically focused equity index, was slightly stronger.Performance was more robust in the US, where both the S&P500 and the more tech-centric NASDAQ gained ground. Equities in the eurozone also finished the month higher.More dramatic were the movements in Chinese equities. Having struggled to make headway since the middle of the year, the Chinese stock market rallied very strongly on a surge of investor optimism this month.In bond markets, there wasn’t a huge amount of movement in the prices of UK government debt, or ‘gilts’. Inflation-linked government debt prices did fall slightly. Overall, bonds issued by companies, which are a bit higher on the risk spectrum, performed more strongly in both Europe and the US.The Federal Reserve shifts its focus from inflation to growthCentral banks play such an important role in keeping their economies in good shape that investors spend a lot of time trying to predict what they will do next. This month, the central banks of the world’s two largest economies made significant announcements; the US and China.Starting with the US, the Federal Reserve - or simply \"the Fed\" - has been trying to contain inflation in the US economy since the start of 2022. The Fed has a few tools to do this, but interest rates are one of the most powerful. By increasing (or tightening) rates to their highest level since 2007, inflation has indeed come down a long way and is now close to where the Fed wants it. The downside of higher interest rates is that they can stifle economic growth.In September, the Fed was happy enough to cut rates for the first time in four years, and by 0.5%; a bigger move than its usual 0.25%. Investors saw it as good news, which was reflected by the market movements. Expectations are for the Fed to continue cutting rates steadily.It\\'s important to say that there are still elements of the US economy that the Fed will be watching carefully. Containing inflation and keeping it steady is a delicate task.Some contributors to the overall inflation figure – specifically wage inflation – remain higher than is ideal. Even so, this is partially offset by stable and growing productivity, so we think the steady pace of rate cuts will continue for now. In general, the economy overall looks to be in good shape.China is pulling out all the stopsThe Fed’s decision was well received by the market, but also not a huge surprise. The People\\'s Bank of China (PBoC), conversely, announced a series of surprisingly aggressive policy changes, in a bid to reverse the economy’s persistent slowdown.\\xa0 Chinese equities rallied sharply following the news.The measures included\\xa0interest rate and mortgage rate cuts, and financing assistance for the\\xa0ailing property market. Some restrictions on property purchases are also being removed. In addition, the Chinese government announced measures aimed at supporting the equity market. Time will tell if these various policy measures will improve economic performance enough to reach China\\'s growth targets. The Nutmeg investment team aren’t convinced, not yet anyway. To see sustained strength in domestic demand, we feel more is needed.What did the investment team do?The investment team didn\\'t change portfolio allocation over the month. Our positive outlook for economic growth means we have retained our bias towards equities. We also think that technological change is playing an important role in how economies and equities behave. And we are positioned for this trend by being over-allocated to US technology stocks.\\xa0Thanks for watching. If you have any questions or suggestions for a topic you’d like us to discuss in next month’s investor update, you can contact us via social media, email or in the comments section below this video.\\xa0The Nutmeg investor update is also available as a podcast. Listen to this month\\'s update below.About this update: This update was recorded on October 8, 2024. All figures, unless otherwise stated, relate to the month of September, 2024.Risk warningAs with all investing, your capital is at risk. The value of your portfolio with Nutmeg can go down as well as up and you may get back less than you invest. Past performance and forecasts are not reliable indicators of future performance.\\u202f We do not provide investment advice in this update. Always do your own research.App store badgeGoogle play badgeSupportFAQsInsightsSitemapCareersPrivacy policyCookie policySite termsTerms and conditionsRegulatoryComplaintsCookie SettingsClient services020 3598 1515Contact ussupport@nutmeg.comPress enquiries only07788251769pr@nutmeg.comNutmeg25 Bank StreetCanary WharfLondonE14 5JPOffice020 3598 1717As with all investing, your capital is at risk. The value of your portfolio with Nutmeg can go down as well as up and you may get back less than you invest. Learn what we mean by riskCopyright © 2025 Nutmeg Saving and Investment Limited. Nutmeg® is a registered trade mark of Nutmeg Saving and Investment Limited, authorised and regulated by the Financial Conduct Authority, no. 552016, registered in England and Wales, no. 07503666, with a registered office at 25 Bank Street, Canary Wharf, London E14 5JP. Smart Alpha is a trade mark of Schroders plc and is used under licence.App Store is a service mark and Apple and the Apple logo are trademarks of Apple Inc. Google Play and the Google Play logo are trademarks of Google LLC.')]"
      ]
     },
     "execution_count": 11,
     "metadata": {},
     "output_type": "execute_result"
    }
   ],
   "source": [
    "docs_list"
   ]
  },
  {
   "cell_type": "markdown",
   "id": "0ad031bc",
   "metadata": {},
   "source": [
    "#### Summary and keyword extraction for each doc in docs_list using LangChain Expression Language"
   ]
  },
  {
   "cell_type": "code",
   "execution_count": 12,
   "id": "f8a82b44",
   "metadata": {},
   "outputs": [],
   "source": [
    "# Define the output schema\n",
    "class ThemeKeywords(BaseModel):\n",
    "    summary: str = Field(\n",
    "        ...,\n",
    "        description=\"A summary of the document content in 1-2 sentences which covers the most important aspects described in the document and is easy to understand.\",\n",
    "    )\n",
    "    keywords: list[str] = Field(\n",
    "        ..., description=\"A list of the most important keywords from the document.\"\n",
    "    )\n",
    "\n",
    "\n",
    "# Patch for Pydantic v1 compatibility\n",
    "if not hasattr(ThemeKeywords, \"model_json_schema\"):\n",
    "    ThemeKeywords.model_json_schema = ThemeKeywords.schema\n",
    "\n",
    "# Compose the chain using LCEL: prompt | llm | parser\n",
    "parser = PydanticOutputParser(pydantic_object=ThemeKeywords)\n",
    "format_instructions = parser.get_format_instructions()"
   ]
  },
  {
   "cell_type": "code",
   "execution_count": 13,
   "id": "cc6551f3",
   "metadata": {},
   "outputs": [],
   "source": [
    "# Define the prompt template\n",
    "theme_keywords_prompt = ChatPromptTemplate(\n",
    "    messages=[\n",
    "        {\n",
    "            \"role\": \"user\",\n",
    "            \"content\": \"\"\"You are an expert in content analysis and keyword extraction. Your task is to analyze the provided page content and extract the main theme and important keywords.\n",
    "Given the following page content, extract:\n",
    "1. A summary of the document content in 1-2 sentences which covers the most important aspects described in the document and is easy to understand.\n",
    "2. A list of the most important keywords from the document.\n",
    "\n",
    "Page Content:\n",
    "{page_content}\n",
    "\n",
    "Return your answer  in the given format:\n",
    "{format_instructions}\n",
    "\"\"\",\n",
    "        }\n",
    "    ],\n",
    "    input_variables=[\"page_content\"],\n",
    "    partial_variables={\"format_instructions\": format_instructions},\n",
    ")"
   ]
  },
  {
   "cell_type": "code",
   "execution_count": 14,
   "id": "75b28d5a",
   "metadata": {},
   "outputs": [],
   "source": [
    "# Create the chain\n",
    "theme_keywords_chain = theme_keywords_prompt | llm | parser\n",
    "\n",
    "\n",
    "# Asynchronous processing of all docs\n",
    "async def async_theme_keywords_for_docs(docs_list):\n",
    "    async def process(doc):\n",
    "        return await theme_keywords_chain.ainvoke({\"page_content\": doc.page_content})\n",
    "\n",
    "    return await asyncio.gather(*(process(doc) for doc in docs_list))\n",
    "\n",
    "\n",
    "# Run the async function and get results\n",
    "theme_keywords_results = await async_theme_keywords_for_docs(docs_list)"
   ]
  },
  {
   "cell_type": "code",
   "execution_count": 15,
   "id": "e5728c71",
   "metadata": {},
   "outputs": [
    {
     "name": "stdout",
     "output_type": "stream",
     "text": [
      "Doc 1 Theme: In February 2025, Nutmeg observed a divergence in global stock market performance, with European and Chinese equities making gains while US stocks declined. Despite some negative US macroeconomic signals, Nutmeg remains optimistic about the long-term US economic outlook and has adjusted its portfolios to include more US financial sector holdings.\n",
      "Keywords: ['Nutmeg', 'investor update', 'March 2025', 'US stocks', 'European equities', 'Chinese equities', 'geopolitical news', 'US macroeconomic signals', 'consumer confidence', 'financial markets', 'investment outlook', 'portfolio changes', 'financial sector', 'interest rates', 'Republican administration']\n",
      "\n",
      "Doc 2 Theme: The Nutmeg investor update for February 2025 highlights the positive performance of global equities in January, the return of Donald Trump to the White House, and the emergence of the Chinese AI 'DeepSeek'. It also discusses the Bank of England's rate cut and the volatility in the bond and currency markets.\n",
      "Keywords: ['Nutmeg', 'investor update', 'February 2025', 'global equities', 'Donald Trump', 'White House', 'DeepSeek', 'AI', 'Bank of England', 'rate cut', 'bond market', 'currency volatility']\n",
      "\n",
      "Doc 3 Theme: The Nutmeg investor update for January 2025 highlights that despite a weaker December, 2024 was a strong year for most stock markets, particularly in the US, driven by economic stability and corporate earnings. The outlook for 2025 remains optimistic but cautious due to potential geopolitical uncertainties and market volatility.\n",
      "Keywords: ['Nutmeg', 'investor update', 'January 2025', 'stock markets', 'bonds', 'Federal Reserve', 'interest rates', 'inflation', 'economic growth', 'Santa Claus rally', 'S&P 500', 'NASDAQ', 'AI', 'corporate earnings', 'geopolitical uncertainties', 'market volatility', 'US equity', 'emerging markets', 'China', 'Europe', 'UK']\n",
      "\n",
      "Doc 4 Theme: The Nutmeg investor update for December 2024 highlights the positive performance of US equity markets following the re-election of Donald Trump, while emerging markets and European equities faced challenges. The update also discusses the implications of potential trade tariffs and the impact on global trade, particularly for China and other major emerging markets.\n",
      "Keywords: ['Nutmeg', 'investor update', 'December 2024', 'US election', 'Donald Trump', 'equity markets', 'emerging markets', 'trade tariffs', 'global trade', 'US stocks', 'economic growth', 'bond markets', 'investment implications']\n",
      "\n",
      "Doc 5 Theme: The Nutmeg investor update for November 2024 highlights the impact of the UK's Autumn Budget and the US presidential election on financial markets, noting declines in most major asset classes. Despite mixed performance in equities and bonds, corporate earnings in the US and UK were generally positive, with notable gains in Japanese equities.\n",
      "Keywords: ['Nutmeg', 'investor update', 'November 2024', 'Autumn Budget', 'US presidential election', 'equities', 'bonds', 'corporate earnings', 'UK', 'US', 'Japanese equities', 'market performance']\n",
      "\n",
      "Doc 6 Theme: The Nutmeg investor update for October 2024 reviews market performance in September, highlighting significant central bank announcements from the US Federal Reserve and the People's Bank of China, which led to positive investor reactions and market movements. The update also discusses the investment team's unchanged portfolio allocation and their focus on US technology stocks.\n",
      "Keywords: ['Nutmeg', 'investor update', 'October 2024', 'market performance', 'central bank announcements', 'US Federal Reserve', \"People's Bank of China\", 'equity markets', 'interest rates', 'economic growth', 'Chinese equities', 'investment team', 'portfolio allocation', 'US technology stocks']\n",
      "\n"
     ]
    }
   ],
   "source": [
    "# Display results\n",
    "for i, result in enumerate(theme_keywords_results):\n",
    "    print(f\"Doc {i+1} Theme: {result.summary}\")\n",
    "    print(f\"Keywords: {result.keywords}\\n\")"
   ]
  },
  {
   "cell_type": "code",
   "execution_count": 16,
   "id": "92ad53ac",
   "metadata": {},
   "outputs": [],
   "source": [
    "#### We add this content back to the doc metadata\n",
    "for i, doc in enumerate(docs_list):\n",
    "    doc.metadata[\"summary\"] = theme_keywords_results[i].summary\n",
    "    doc.metadata[\"keywords\"] = \" \".join(theme_keywords_results[i].keywords)"
   ]
  },
  {
   "cell_type": "code",
   "execution_count": 17,
   "id": "9fe4a995",
   "metadata": {},
   "outputs": [
    {
     "data": {
      "text/plain": [
       "({'source': 'https://www.nutmeg.com/nutmegonomics/nutmeg-investor-update-march-2025',\n",
       "  'title': 'Nutmeg investor update: March 2025 - Nutmeg',\n",
       "  'description': 'February was a busy month, with investors digesting a lot of geopolitical news. US stocks fell back, but European and Chinese equities made notable gains.',\n",
       "  'language': 'en',\n",
       "  'summary': 'In February 2025, Nutmeg observed a divergence in global stock market performance, with European and Chinese equities making gains while US stocks declined. Despite some negative US macroeconomic signals, Nutmeg remains optimistic about the long-term US economic outlook and has adjusted its portfolios to include more US financial sector holdings.',\n",
       "  'keywords': 'Nutmeg investor update March 2025 US stocks European equities Chinese equities geopolitical news US macroeconomic signals consumer confidence financial markets investment outlook portfolio changes financial sector interest rates Republican administration'},\n",
       " 'Nutmeg investor update: March 2025 - NutmegSkip to contentProductsProductsInvest for every stage for')"
      ]
     },
     "execution_count": 17,
     "metadata": {},
     "output_type": "execute_result"
    }
   ],
   "source": [
    "docs_list[0].metadata, docs_list[0].page_content[:100]"
   ]
  },
  {
   "cell_type": "code",
   "execution_count": 18,
   "id": "e9a4611d",
   "metadata": {},
   "outputs": [],
   "source": [
    "# Split\n",
    "text_splitter = RecursiveCharacterTextSplitter.from_tiktoken_encoder(\n",
    "    chunk_size=1000, chunk_overlap=0\n",
    ")\n",
    "doc_splits = text_splitter.split_documents(docs_list)"
   ]
  },
  {
   "cell_type": "code",
   "execution_count": 19,
   "id": "b90ee2f4",
   "metadata": {},
   "outputs": [
    {
     "data": {
      "text/plain": [
       "16"
      ]
     },
     "execution_count": 19,
     "metadata": {},
     "output_type": "execute_result"
    }
   ],
   "source": [
    "len(doc_splits)"
   ]
  },
  {
   "cell_type": "markdown",
   "id": "dd6fefc6",
   "metadata": {},
   "source": [
    "#### Upload to Vector DB like faiss for now and later we will use Milvus or Weaviate"
   ]
  },
  {
   "cell_type": "code",
   "execution_count": 20,
   "id": "2835f152",
   "metadata": {},
   "outputs": [],
   "source": [
    "# Create a FAISS index and vector store\n",
    "\n",
    "index = faiss.IndexFlatL2(len(embedder.embed_query(\"hello world\")))\n",
    "\n",
    "vector_store = FAISS(\n",
    "    embedding_function=embedder,\n",
    "    index=index,\n",
    "    docstore=InMemoryDocstore(),\n",
    "    index_to_docstore_id={},\n",
    ")"
   ]
  },
  {
   "cell_type": "code",
   "execution_count": 21,
   "id": "fafc1eee",
   "metadata": {},
   "outputs": [],
   "source": [
    "# Add documents to the vector store\n",
    "uuids = [str(uuid4()) for _ in range(len(doc_splits))]\n",
    "ids = vector_store.add_documents(documents=doc_splits, ids=uuids)"
   ]
  },
  {
   "cell_type": "code",
   "execution_count": 22,
   "id": "71ed0494",
   "metadata": {},
   "outputs": [
    {
     "name": "stdout",
     "output_type": "stream",
     "text": [
      "3\n"
     ]
    }
   ],
   "source": [
    "vecdb_retriever = vector_store.as_retriever(search_type=\"mmr\", search_kwargs={\"k\": 3})\n",
    "op = await vecdb_retriever.ainvoke(\n",
    "    \"What are the potential benefits of investing in the financials sector under the new Republican administration\"\n",
    ")\n",
    "print(len(op))"
   ]
  },
  {
   "cell_type": "code",
   "execution_count": 23,
   "id": "49088666",
   "metadata": {},
   "outputs": [],
   "source": [
    "# Additional BM25 retriever\n",
    "keyword_retriever = BM25Retriever.from_documents(\n",
    "    documents=doc_splits,\n",
    "    k=3,\n",
    "    preprocess_func=word_tokenize,\n",
    ")"
   ]
  },
  {
   "cell_type": "code",
   "execution_count": 24,
   "id": "1241a965",
   "metadata": {},
   "outputs": [
    {
     "name": "stdout",
     "output_type": "stream",
     "text": [
      "3\n"
     ]
    }
   ],
   "source": [
    "op = await keyword_retriever.ainvoke(\n",
    "    \"What are the potential benefits of investing in the financials sector under the new Republican administration\"\n",
    ")\n",
    "print(len(op))"
   ]
  },
  {
   "cell_type": "code",
   "execution_count": 25,
   "id": "4c92e0c1",
   "metadata": {},
   "outputs": [],
   "source": [
    "# Ensemble retriever of BM25 and FAISS\n",
    "ensemble_retriever = EnsembleRetriever(\n",
    "    retrievers=[vecdb_retriever, keyword_retriever], weights=[0.5, 0.5]\n",
    ")"
   ]
  },
  {
   "cell_type": "code",
   "execution_count": 26,
   "id": "4bddd32b",
   "metadata": {},
   "outputs": [
    {
     "name": "stdout",
     "output_type": "stream",
     "text": [
      "6\n"
     ]
    }
   ],
   "source": [
    "op = await ensemble_retriever.ainvoke(\n",
    "    \"What are the potential benefits of investing in the financials sector under the new Republican administration\"\n",
    ")\n",
    "print(len(op))"
   ]
  },
  {
   "cell_type": "code",
   "execution_count": 27,
   "id": "3c8015b3",
   "metadata": {},
   "outputs": [],
   "source": [
    "# await ensemble_retriever.aget_relevant_documents(\"What are the potential benefits of investing in the financials sector under the new Republican administration\")"
   ]
  },
  {
   "cell_type": "markdown",
   "id": "7ddb0154",
   "metadata": {},
   "source": [
    "##### Tavily Search"
   ]
  },
  {
   "cell_type": "code",
   "execution_count": 28,
   "id": "08680e0b",
   "metadata": {},
   "outputs": [],
   "source": [
    "web_search_retriever = TavilySearchResults(\n",
    "    max_results=5, include_answer=False, include_raw_content=True, search_depth=\"basic\"\n",
    ")"
   ]
  },
  {
   "cell_type": "markdown",
   "id": "49ed97fd",
   "metadata": {},
   "source": [
    "#### "
   ]
  },
  {
   "cell_type": "code",
   "execution_count": 29,
   "id": "fcce230e",
   "metadata": {},
   "outputs": [
    {
     "name": "stdout",
     "output_type": "stream",
     "text": [
      "5\n"
     ]
    }
   ],
   "source": [
    "op = await web_search_retriever.ainvoke(\n",
    "    input=\"What are the potential benefits of investing in the financials sector under the new Republican administration\"\n",
    ")\n",
    "\n",
    "print(len(op))"
   ]
  },
  {
   "cell_type": "markdown",
   "id": "787b1f49",
   "metadata": {},
   "source": [
    "#### Quick note:\n",
    "For production we can use ElasticSearch BM25 for parse vector search as we have dockerized image for it.\n",
    "Reference:\n",
    "- https://python.langchain.com/docs/integrations/retrievers/elastic_search_bm25/\n",
    "- https://www.elastic.co/blog/practical-bm25-part-1-how-shards-affect-relevance-scoring-in-elasticsearch\n",
    "- https://deepsil.medium.com/the-ultimate-guide-to-installing-elasticsearch-with-docker-2ec119b1b07f\n",
    "- https://hub.docker.com/_/elasticsearch\n",
    "- https://github.com/langchain-ai/langchain/discussions/26112"
   ]
  },
  {
   "attachments": {
    "image-2.png": {
     "image/png": "[encoded data removed]"
    }
   },
   "cell_type": "markdown",
   "id": "ec687dc3",
   "metadata": {},
   "source": [
    "## **Agentic Rag** \n",
    "![image-2.png](attachment:image-2.png)"
   ]
  },
  {
   "cell_type": "markdown",
   "id": "da5117ac",
   "metadata": {},
   "source": [
    "#### Next we will focus on Langgraph creation for the Adaptive RAG system\n",
    "- Start with a query analysis (router) node to determine if the question is related to the index (vector DB) or not.\n",
    "- If unrelated to the index, use a web search and generate an answer from web results.\n",
    "- If related to the index, retrieve documents, grade them for relevance, and only proceed if relevant.\n",
    "- If documents are not relevant, rewrite the question and retry retrieval.\n",
    "- If relevant, generate an answer using the retrieved documents.\n",
    "- Check the generated answer for hallucinations and score the answer and whether it answers the question.\n",
    "- If hallucinations are detected or the answer is insufficient, loop back to regenerate (possibly after rewriting the question).\n",
    "- If the answer is good and not hallucinated, return it as the final answer.\n",
    "- The flow allows for adding more routes or optional nodes as needed.\n"
   ]
  },
  {
   "cell_type": "markdown",
   "id": "9316e554",
   "metadata": {},
   "source": [
    "##### Graph State\n",
    "- Centralized data structure to track the current state of the graph"
   ]
  },
  {
   "cell_type": "code",
   "execution_count": 30,
   "id": "e23a687b",
   "metadata": {},
   "outputs": [],
   "source": [
    "class GraphState(TypedDict):\n",
    "    \"\"\"\n",
    "    A state in the graph representing a node with a specific type and content.\n",
    "    \"\"\"\n",
    "\n",
    "    question: str\n",
    "    documents: list[Document]\n",
    "    rewritten_question: Optional[str]\n",
    "    summary: str\n",
    "    citations: list[str]\n",
    "    grade_score: Optional[str]\n",
    "    hallucination: Optional[str]\n",
    "    response_score: Optional[float]\n",
    "    grading_iteration: Optional[int]\n",
    "    hallucination_iteration: Optional[int]"
   ]
  },
  {
   "cell_type": "code",
   "execution_count": 31,
   "id": "562dff64",
   "metadata": {},
   "outputs": [
    {
     "data": {
      "text/plain": [
       "{'question': 'What are the potential benefits of investing in the financials sector under the new Republican administration',\n",
       " 'documents': [Document(metadata={'source': 'source1'}, page_content='The financials sector is expected to benefit from...'),\n",
       "  Document(metadata={'source': 'source2'}, page_content='Investing in the financials sector can lead to...')],\n",
       " 'rewritten_question': 'What are the advantages of investing in the financials sector with the new Republican administration?',\n",
       " 'summary': \"The financials sector is expected to benefit from the new Republican administration's policies, which may lead to increased investment opportunities.\",\n",
       " 'citations': ['Source 1: The financials sector is expected to benefit from...',\n",
       "  'Source 2: Investing in the financials sector can lead to...'],\n",
       " 'grade_score': 'fully supported',\n",
       " 'hallucination': 'no',\n",
       " 'response_score': 0.95}"
      ]
     },
     "execution_count": 31,
     "metadata": {},
     "output_type": "execute_result"
    }
   ],
   "source": [
    "# Define the graph structure\n",
    "GraphState(\n",
    "    question=\"What are the potential benefits of investing in the financials sector under the new Republican administration\",\n",
    "    documents=[\n",
    "        Document(\n",
    "            page_content=\"The financials sector is expected to benefit from...\",\n",
    "            metadata={\"source\": \"source1\"},\n",
    "        ),\n",
    "        Document(\n",
    "            page_content=\"Investing in the financials sector can lead to...\",\n",
    "            metadata={\"source\": \"source2\"},\n",
    "        ),\n",
    "    ],\n",
    "    rewritten_question=\"What are the advantages of investing in the financials sector with the new Republican administration?\",\n",
    "    summary=\"The financials sector is expected to benefit from the new Republican administration's policies, which may lead to increased investment opportunities.\",\n",
    "    citations=[\n",
    "        \"Source 1: The financials sector is expected to benefit from...\",\n",
    "        \"Source 2: Investing in the financials sector can lead to...\",\n",
    "    ],\n",
    "    grade_score=\"fully supported\",\n",
    "    hallucination=\"no\",\n",
    "    response_score=0.95,\n",
    ")"
   ]
  },
  {
   "cell_type": "markdown",
   "id": "c9c7d0ee",
   "metadata": {},
   "source": [
    "##### Query Router\n",
    "- The query router is responsible for determining the appropriate path for a given query which is either related to the index or not."
   ]
  },
  {
   "cell_type": "code",
   "execution_count": 32,
   "id": "2d9ca6ab",
   "metadata": {},
   "outputs": [],
   "source": [
    "class RouteQuery(BaseModel):\n",
    "    source: Literal[\"vector_retriever\", \"web_search\"] = Field(\n",
    "        ...,\n",
    "        description=\"The source using which the query needs to be answered, either vector_retriever or web_search.\",\n",
    "    )\n",
    "\n",
    "\n",
    "structured_llm_router = llm.with_structured_output(schema=RouteQuery)\n",
    "\n",
    "system_prompt_router = \"\"\" You are an expert in routing queries to the appropriate source. Your task is to determine the best source for answering the given query.\n",
    "Instructions for choosing the source:\n",
    "1. If the query is related to financial markets, investments, or economic trends, route it to the vector_retriever.\n",
    "2. If the query is related to general knowledge or current events, route it to the web_search.\n",
    "\"\"\"\n",
    "router_prompt_template = ChatPromptTemplate(\n",
    "    messages=[\n",
    "        {\"role\": \"user\", \"content\": system_prompt_router},\n",
    "        {\n",
    "            \"role\": \"human\",\n",
    "            \"content\": \"\"\"Given the following query, determine the best source for answering it:{query}\"\"\",\n",
    "        },\n",
    "    ],\n",
    "    input_variables=[\"query\"],\n",
    ")"
   ]
  },
  {
   "cell_type": "code",
   "execution_count": 33,
   "id": "d56b67cf",
   "metadata": {},
   "outputs": [
    {
     "name": "stdout",
     "output_type": "stream",
     "text": [
      "vector_retriever\n",
      "web_search\n"
     ]
    }
   ],
   "source": [
    "question_router_chain = router_prompt_template | structured_llm_router\n",
    "\n",
    "op = await question_router_chain.ainvoke(\n",
    "    {\n",
    "        \"query\": \"What are the potential benefits of investing in the financials sector under the new Republican administration\"\n",
    "    }\n",
    ")\n",
    "print(op.source)\n",
    "op = await question_router_chain.ainvoke({\"query\": \"What is the capital of France?\"})\n",
    "print(op.source)"
   ]
  },
  {
   "cell_type": "markdown",
   "id": "f23fa480",
   "metadata": {},
   "source": [
    "##### Next we define the node for two major tools - vector_retriever and web_search"
   ]
  },
  {
   "cell_type": "code",
   "execution_count": 34,
   "id": "c9cc9504",
   "metadata": {},
   "outputs": [],
   "source": [
    "def vector_retriever(state: GraphState):\n",
    "    \"\"\"\n",
    "    Function to retrieve documents from the vector store based on the question in the state using ensemble_retriever and save the documents in the state.\n",
    "    \"\"\"\n",
    "    question = state[\"question\"]\n",
    "    documents = ensemble_retriever.invoke(question)\n",
    "\n",
    "    return {\"documents\": documents, \"question\": question}"
   ]
  },
  {
   "cell_type": "code",
   "execution_count": 35,
   "id": "6aa70053",
   "metadata": {},
   "outputs": [],
   "source": [
    "def web_search(state: GraphState):\n",
    "    \"\"\"\n",
    "    Function to retrieve documents from the web search based on the question in the state using web_search_retriever and save the documents in the state.\n",
    "    \"\"\"\n",
    "    question = state[\"question\"]\n",
    "    documents = web_search_retriever.invoke(question)\n",
    "    lc_docs = [\n",
    "        Document(page_content=doc[\"content\"], metadata={\"source\": doc[\"url\"]})\n",
    "        for doc in documents\n",
    "    ]\n",
    "\n",
    "    return {\"documents\": lc_docs, \"question\": question}"
   ]
  },
  {
   "cell_type": "code",
   "execution_count": 36,
   "id": "9bf054a1",
   "metadata": {},
   "outputs": [],
   "source": [
    "# # test each node\n",
    "# state = GraphState(\n",
    "#     question=\"What are the potential benefits of investing in the financials sector under the new Republican administration\",\n",
    "#     documents=[],\n",
    "#     rewritten_question=\"What are the advantages of investing in the financials sector with the new Republican administration?\",\n",
    "#     summary=\"The financials sector is expected to benefit from the new Republican administration's policies, which may lead to increased investment opportunities.\",\n",
    "#     citations=[\n",
    "#         \"Source 1: The financials sector is expected to benefit from...\",\n",
    "#         \"Source 2: Investing in the financials sector can lead to...\",\n",
    "#     ],\n",
    "# )\n",
    "# state = vector_retriever(state)\n",
    "# print(len(state[\"documents\"]))\n",
    "# print(\"***************\")\n",
    "# state = web_search(state)\n",
    "# print(len(state[\"documents\"]))"
   ]
  },
  {
   "cell_type": "code",
   "execution_count": 37,
   "id": "58b49de4",
   "metadata": {},
   "outputs": [
    {
     "name": "stdout",
     "output_type": "stream",
     "text": [
      "Content idx: 0 - Nutmeg investor update: December 2024 - NutmegSkip to contentProductsProductsInvest for every stage for life and make the most of your tax allowances. Stocks and Shares ISAPersonal PensionLifetime ISAJunior ISAGeneral Investment AccountInvestment stylesInvestment stylesHave your money managed in a way that fits your goals and priorities.Fully ManagedThematic InvestingSmart AlphaSocially Responsible InvestingFixed AllocationAdviceFinancial advice and guidanceGet expert support to help you make the right investment choices.Free financial guidanceOur financial advice serviceRetirement adviceInvestment adviceConsolidation adviceLump sum adviceBook your free consultationTools and guidesTools and guidesSee how you could reach your goals with our calculators and how-to guides.ToolsSelf-employed tax calculatorCompound returns calculatorISA calculatorPension calculatorCapital Gains Tax calculatorGuidesInvesting for beginnersHow to retire at 55How to avoid the 60% tax trapWhat inflation means in investingWhy it's important to diversifyWhat is volatility?InsightsInsightsRead the latest views from our investment and wealth experts.Financial planningRetirement essentialsInvesting essentialsMarketsBrowse our articlesAbout usAbout usFind out more about who we are and what we do for investors.Our companyOur track recordOur feesMeet the investment teamCareersHelpHelpAsk us about investing, your account, advice and more.Get in touchFAQsGo to our Help hubLog InSign upHamburger MenuProductsProductsInvest for every stage for life and make the most of your tax allowances. Stocks and Shares ISAPersonal PensionLifetime ISAJunior ISAGeneral Investment AccountInvestment stylesInvestment stylesHave your money managed in a way that fits your goals and priorities.Fully ManagedThematic InvestingSmart AlphaSocially Responsible InvestingFixed AllocationAdviceFinancial advice and guidanceGet expert support to help you make the right investment choices.Free financial guidanceOur financial advice serviceRetirement adviceInvestment adviceConsolidation adviceLump sum adviceBook your free consultationTools and guidesTools and guidesSee how you could reach your goals with our calculators and how-to guides.ToolsSelf-employed tax calculatorCompound returns calculatorISA calculatorPension calculatorCapital Gains Tax calculatorGuidesInvesting for beginnersHow to retire at 55How to avoid the 60% tax trapWhat inflation means in investingWhy it's important to diversifyWhat is volatility?InsightsInsightsRead the latest views from our investment and wealth experts.Financial planningRetirement essentialsInvesting essentialsMarketsBrowse our articlesAbout usAbout usFind out more about who we are and what we do for investors.Our companyOur track recordOur feesMeet the investment teamCareersHelpHelpAsk us about investing, your account, advice and more.Get in touchFAQsGo to our Help hub;NutmegonomicsMarket InsightsNutmeg investor update: December 2024Market InsightsNutmeg investor update: December 2024The Nutmeg team|5 minIn November, investors saw the outcome of the US election as positive for US stocks, but it was a different story for emerging market equities.At a glanceEquity markets gained in November, led by strong performance from US stocks.Bond markets – both government and corporate – also rose.Emerging market equity markets were weaker overall.Investors expect the re-election of Donald Trump as US President will support US assets, but that the new administration's policies may also slow the pace of interest rate cuts.What happened in financial markets in November and why? Global equity markets finished November in positive territory, with gains led by US equities which produced one of their strongest months of 2024. Shares in large US companies – also called \"large cap\" equities – rose 5.9% in dollar terms, while smaller companies – or \"small caps\" – had a particularly strong month, rising 10.2%. The driver? A republican clean sweep in the US election, offering investors optimism over the potential for further US economic growth, coupled with tax breaks and deregulation under the new Trump administration.In the rest of the world, Japanese and UK stock equity markets delivered more muted returns in November. Japanese stocks fell 0.8% and the UK FTSE 100 gained 2.6% in local currency terms. European markets declined, as investors digested the potential ramifications of the incoming Republican administration – specifically talk of trade tariffs – against a backdrop of already weak industrial activity.Emerging markets also delivered negative returns, falling 3.5% in November, in dollar terms. China was amongst the largest losers, but most major emerging market stock markets ended the month in negative territory. The exception was India, where stock markets rose slightly in November and where domestic economic activity indicators remain strong. In bond\n",
      "\n",
      "Content idx: 1 - US – was down 1.3% in February. That decline was led by growth-oriented stocks such as those in the technology sector, which finished the month on a weaker footing. The growth-focused Nasdaq index declined 2.7% over the month.The most recent earnings season demonstrated the US stock market’s potential to deliver earnings that outperform expectations once again. But investor enthusiasm in February was tempered by the US macroeconomic picture. Consumer confidence fell to an 8-month low, while investors were disconcerted by service sector data that indicated a surprise contraction of activity. Against a backdrop of a changing tariffs narrative, and geopolitical worries, some investors are beginning to question the stability of US economic growth and the case for US exceptionalism.Does this change how the Nutmeg investment team views the US as an investment destination?We think it is far too early to conclude that US economic growth is on a weakening trajectory. Despite several high-profile data points offering a more muted viewpoint, manufacturing activity appears to be turning up, consumption remains strong, and the labour market’s key indicators are robust.We continue to take the view that a recession in the US is unlikely. But, as we flagged in our 2025 investment outlook, both stock market valuations and elevated geopolitical and policy risks increase the potential for market volatility. So, we retain our preference for US assets across our portfolios but as always, we also remain globally diversified.A good example is our exposure to European stock markets, where we remain ‘neutral’ relative to our long-term allocation. That is to say, in the short term, we do not think the overall case for investment in the region is stronger or weaker than in the long term. However, we do have some preferences for certain countries and sectors where we believe the investment case is strongest, for instance European industrial companies within our equity holdings.The industrials sector comprises a wide variety of companies such as those in machinery, manufacturing, and defence and aerospace. Industrial activity tends to benefit from buoyant global trade, and despite the looming risk of potential US tariffs, global trade volumes have seen a steady rise over the previous 12 months. We think European industrials are supported by three main drivers:rising global tradethe potential for upside in corporate earnings, andthe potential for a meaningful increase in European defence spending in the current geopolitical environment.We also currently favour the Nordics over broader Europe. We think the macro-economic picture for the Nordic countries is currently brighter than that of the wider European bloc. Nordic stock markets have demonstrated strong relative performance over the previous decade in comparison with their European peers.Is the Nutmeg investment team making any portfolio changes?We have made an adjustment to portfolios’ US equity holdings, adding a position in the financials sector, which comprises banks, insurance firms and credit providers.We have done this for several reasons:Firstly, we think the economic backdrop for financials remains attractive. The US economy appears to be growing at a steady pace, and we expect banks to continue to expand activity through lending as the economy grows.Secondly, interest rates remain elevated, yet at the same time off their peak. The Federal Reserve is in no rush to cut interest rates and we expect it will take a steady approach as it balances the pressures of inflation and growth. Higher interest rates tend to be good for financial institutions, as it can increase their earnings potential, so long as they are not constraining economic activity. We think we might reach an interest rate ‘sweet spot’ for US banks over the coming 12 months.Additionally, we believe that there is the possibility of further deregulation under the new Republican administration, including the watering down or scrapping of proposed costly regulations.Our position in financials really reflects us remaining positive on the overall US economic trajectory, while leaning towards a sector we expect to benefit from both the current stage of the economic cycle and the current policy approach of the Republican administration.About this update: This update was recorded on 4 March 2025. All figures, unless otherwise stated, relate to the month of February 2025. Source for figures: MacroBond, Nutmeg and Bloomberg.Risk warningAs with all investing, your capital is at risk. The value of your portfolio with Nutmeg can go down as well as up and you may get back less than you invest. Past performance and forecasts are not reliable indicators of future performance. We do not provide investment advice in this article. Always do your own research. App store badgeGoogle play badgeSupportFAQsInsightsSitemapCareersPrivacy policyCookie policySite termsTerms and conditionsRegulatoryComplaintsCookie SettingsClient services020 3598 1515Contact ussupport@nutmeg.comPress enquiries only07788251769pr@nutmeg.comNutmeg25 Bank StreetCanary WharfLondonE14\n",
      "\n",
      "Content idx: 2 - with a registered office at 25 Bank Street, Canary Wharf, London E14 5JP. Smart Alpha is a trade mark of Schroders plc and is used under licence.App Store is a service mark and Apple and the Apple logo are trademarks of Apple Inc. Google Play and the Google Play logo are trademarks of Google LLC.\n",
      "\n",
      "Content idx: 3 - markets, corporate bonds largely mirrored the atmosphere in equity markets, with investors apparently happy to take on more risk. This was reflected in the performance of riskier US high yield bonds, which delivered returns of 1.1%, and UK Corporate bonds also finished the month having made gains. Government bonds started the month on weaker footing. Election and inflation uncertainty dominated headlines, however, developed market government bonds finished November with returns of around 1.7% in the UK and 1% in the US. What are the investment implications of Donald Trump's re-election in November's US election?It was clear from the market reaction that the re-election of Donald Trump is expected to create distinct winners and losers, yet the President himself is only part of the story. Critically, the election result has offered Republicans control of not just the White House, but also the Senate and House of Representatives. This should make it much easier for the new administration to enact policy. This \"clean sweep\" was a possibility, but far from a certainty, and it heightened the market reaction to the election news.Sectors and stocks perceived to benefit from potential policy moves rallied, such as energy and banks, and investors shifted funds to US dollar denominated assets at the expense of global peers. Meanwhile, assets that are sensitive to trade and tariffs, such as European and emerging market stocks, fell, while their currencies weakened against the US dollar as investors priced the potential for meaningful tariffs. In Europe, an unstable political picture in Germany and France only added to reasons for investors to seek US assets.    Away from stock markets, expectations of looser fiscal policy (the way the government spends and raises money) including the potential to extend tax breaks brought in during Trump's previous presidency, should provide room for continued US economic growth. That has, however, kept bond market investors wary, as concerns grow over the extent of the administration's plans to increase borrowing, and the potential for future tariff-induced inflation pressures. Consequently, the number of expected interest rate cuts from the Federal Reserve over the coming 18 months has fallen post-election.  We anticipate over the medium- to long-term, the US will benefit from a resurgence in domestic investment at the expense of the rest of the world, notably emerging markets. This was also our expectation for the outgoing US administration, but we believe this dynamic may unfold in a less smooth and predictable manner than was the case.How are tariffs expected to affect emerging markets and global trade?The Nutmeg investment team currently holds a smaller allocation to China than our long-term benchmark, given the challenges we feel the Chinese economy faces from both an internal consumption, and external trade perspective. But for much of 2024, we have held a more positive view of the outlook for wider emerging markets given what looked like ongoing recovery in global trade volumes and the demand for durable goods, and cheaper market valuations.That optimism, however has dimmed somewhat over the last quarter. The early-stage recovery and growth signals seen in many emerging market economies at the turn of 2024, are now showing signs of slowing. At the same time, broader emerging markets are facing a number of threats to their outlooks from both an economic and market perspective. The twin effects of a stronger US dollar, alongside the potential for meaningful trade tariffs are reducing our confidence in the extent to which global trade can recover from its post Covid lull. India is a notably bright spot in terms of domestic growth, but valuations do look stretched after a long run of outperformance, according to analysis by the Nutmeg investment team. The situation is far from desperate, but with manufacturing sectors across developed economies in contraction, and the possibility of tariffs imposed by the global economy's largest importer of goods, the investment case is likely to weaken. Clearly China, where we have a small allocation, will feel the brunt of these policies, but many other major emerging markets, particularly Mexico and those in South East Asia with strong trade ties to China, are also unlikely to escape unscathed, and face a more uncertain economic and market outlook post the US election. About this update: This update was recorded on 3 December 2024. All figures, unless otherwise stated, relate to the month of November 2024. Source for figures: MacroBond, Nutmeg and Bloomberg.Risk warningAs with all investing, your capital is at risk. The value of your portfolio with Nutmeg can go down as well as up and you may get back less than you invest. Past performance and forecasts are not reliable indicators of future performance. We do not provide investment advice in this article. Always do your own research. App store badgeGoogle play badgeSupportFAQsInsightsSitemapCareersPrivacy policyCookie policySite termsTerms and conditionsRegulatoryComplaintsCookie SettingsClient services020 3598 1515Contact\n",
      "\n",
      "Content idx: 4 - policySite termsTerms and conditionsRegulatoryComplaintsCookie SettingsClient services020 3598 1515Contact ussupport@nutmeg.comPress enquiries only07788251769pr@nutmeg.comNutmeg25 Bank StreetCanary WharfLondonE14 5JPOffice020 3598 1717As with all investing, your capital is at risk. The value of your portfolio with Nutmeg can go down as well as up and you may get back less than you invest. Learn what we mean by riskCopyright © 2025 Nutmeg Saving and Investment Limited. Nutmeg® is a registered trade mark of Nutmeg Saving and Investment Limited, authorised and regulated by the Financial Conduct Authority, no. 552016, registered in England and Wales, no. 07503666, with a registered office at 25 Bank Street, Canary Wharf, London E14 5JP. Smart Alpha is a trade mark of Schroders plc and is used under licence.App Store is a service mark and Apple and the Apple logo are trademarks of Apple Inc. Google Play and the Google Play logo are trademarks of Google LLC.\n",
      "\n",
      "Content idx: 5 - bonds, the Fed’s messaging pushed yields higher, causing prices to dip slightly across most fixed income asset classes. That's the way bond markets work; when yields rise, their price falls.What was the full picture for 2024?For stock markets, 2024 was generally a very strong year. Regions such as the UK, Canada, India and Asia Pacific all finished the year ahead, despite falling in December. But none could quite match the same combination of economic stability and corporate earnings strength that has underpinned the US.The S&P 500 index, which tracks the performance of the 500 largest US companies, saw a gain of 25% for the year. Historically, returns this high are fairly rare.The NASDAQ index, which is a tech stock index, including high-flying companies such as Nvidia, saw an even stronger year, with prices up just under 26%. Tech stocks have continued to attract investors as artificial intelligence – or AI – starts to become increasingly mainstream. AI has continued to shift from being a technology with potential for the future, to one with real life productivity benefits on a day-to-day basis.Although the main story has been about the strength of stock markets, many bond markets have also experienced a positive year. Higher risk ‘high yield’ bonds in both the US and Europe have increased 8.2% and 8.6%, respectively. They have benefitted from the relative economic stability we saw in 2024, something that was far from guaranteed at the start of last year.It’s been a mixed picture for government bonds. In the UK, gilts have performed poorly. In Europe, Italy and Spain have performed well, helped by the expectation of further rate cuts amid a weaker economic picture relative to the US. US government bonds have seen more muted performance as expectations of further rate cuts were wound back. The re-think was due to better-than-expected economic results.What is the Nutmeg investment team’s outlook for 2025?We are optimistic about the investing landscape as we move into 2025, yet challenges remain.Over the past two years, multi-asset portfolios have thrived, benefiting from strong equity performance. The global economic environment, especially in the US, remains supportive going forward. There is a robust job market, lower inflation and interest rates are on a downward trend. We expect the corporate earnings landscape, especially in the US, to remain positive.However, a degree of caution is warranted. US equity valuations are above historic averages, and geopolitical uncertainties, such as potential instability from the Trump administration and ongoing global conflicts, could increase market volatility. Emerging markets face challenges, including potential Trump tariffs which could strengthen the dollar and impact these economies. China's economic transition and deflationary pressures add to the uncertainty.In Europe, we believe the UK is better positioned than the continent, with growing household incomes and a recovering housing market. Interest rate policies are expected to ease, but the link between wages growth and inflation means that tight labour markets and rising wages could rekindle inflation. Central banks are likely to proceed cautiously with rate cuts.Despite these risks, the investment team maintains a positive long-term outlook. We are, however, holding slightly higher cash reserves than usual, ready to adapt and capitalise on market opportunities that may arise if we see volatility increase in the short term.About this update: This update was recorded on 7 January 2025. All figures, unless otherwise stated, relate to the month of December 2024. Source for figures: MacroBond, Nutmeg and Bloomberg.Risk warningAs with all investing, your capital is at risk. The value of your portfolio with Nutmeg can go down as well as up and you may get back less than you invest. Past performance and forecasts are not reliable indicators of future performance. We do not provide investment advice in this article. Always do your own research. App store badgeGoogle play badgeSupportFAQsInsightsSitemapCareersPrivacy policyCookie policySite termsTerms and conditionsRegulatoryComplaintsCookie SettingsClient services020 3598 1515Contact ussupport@nutmeg.comPress enquiries only07788251769pr@nutmeg.comNutmeg25 Bank StreetCanary WharfLondonE14 5JPOffice020 3598 1717As with all investing, your capital is at risk. The value of your portfolio with Nutmeg can go down as well as up and you may get back less than you invest. Learn what we mean by riskCopyright © 2025 Nutmeg Saving and Investment Limited. Nutmeg® is a registered trade mark of Nutmeg Saving and Investment Limited, authorised and regulated by the Financial Conduct Authority, no. 552016, registered in England and Wales, no. 07503666,\n",
      "Source idx: 0 - https://www.nutmeg.com/nutmegonomics/nutmeg-investor-update-december-2024\n",
      "\n",
      "Source idx: 1 - https://www.nutmeg.com/nutmegonomics/nutmeg-investor-update-march-2025\n",
      "\n",
      "Source idx: 2 - https://www.nutmeg.com/nutmegonomics/nutmeg-investor-update-january-2025\n",
      "\n",
      "Source idx: 3 - https://www.nutmeg.com/nutmegonomics/nutmeg-investor-update-december-2024\n",
      "\n",
      "Source idx: 4 - https://www.nutmeg.com/nutmegonomics/nutmeg-investor-update-february-2025\n",
      "\n",
      "Source idx: 5 - https://www.nutmeg.com/nutmegonomics/nutmeg-investor-update-january-2025\n",
      "Keywords set: 0 - (Nutmeg investor update December 2024 US election Donald Trump equity markets emerging markets trade tariffs global trade US stocks economic growth bond markets investment implications),\n",
      "Keywords set: 1 - (Nutmeg investor update March 2025 US stocks European equities Chinese equities geopolitical news US macroeconomic signals consumer confidence financial markets investment outlook portfolio changes financial sector interest rates Republican administration),\n",
      "Keywords set: 2 - (Nutmeg investor update January 2025 stock markets bonds Federal Reserve interest rates inflation economic growth Santa Claus rally S&P 500 NASDAQ AI corporate earnings geopolitical uncertainties market volatility US equity emerging markets China Europe UK),\n",
      "Keywords set: 3 - (Nutmeg investor update December 2024 US election Donald Trump equity markets emerging markets trade tariffs global trade US stocks economic growth bond markets investment implications),\n",
      "Keywords set: 4 - (Nutmeg investor update February 2025 global equities Donald Trump White House DeepSeek AI Bank of England rate cut bond market currency volatility),\n",
      "Keywords set: 5 - (Nutmeg investor update January 2025 stock markets bonds Federal Reserve interest rates inflation economic growth Santa Claus rally S&P 500 NASDAQ AI corporate earnings geopolitical uncertainties market volatility US equity emerging markets China Europe UK)\n"
     ]
    }
   ],
   "source": [
    "# test each node\n",
    "state = GraphState(\n",
    "    question=\"What are the potential benefits of investing in the financials sector under the new Republican administration\",\n",
    "    documents=[],\n",
    "    rewritten_question=\"\",\n",
    "    summary=\"\",\n",
    "    citations=[],\n",
    ")\n",
    "\n",
    "op = vector_retriever(state)\n",
    "# print(len(op[\"documents\"]))\n",
    "\n",
    "temp_content = \"\\n\\n\".join(\n",
    "    [f\"Content idx: {i} - {doc.page_content}\" for i, doc in enumerate(op[\"documents\"])]\n",
    ")\n",
    "temp_source = \"\\n\\n\".join(\n",
    "    [\n",
    "        f\"Source idx: {i} - {doc.metadata['source']}\"\n",
    "        for i, doc in enumerate(op[\"documents\"])\n",
    "    ]\n",
    ")\n",
    "temp_keyword = \",\\n\".join(\n",
    "    [\n",
    "        f\"Keywords set: {i} - ({doc.metadata['keywords']})\"\n",
    "        for i, doc in enumerate(op[\"documents\"])\n",
    "    ]\n",
    ")\n",
    "\n",
    "print(temp_content)\n",
    "print(temp_source)\n",
    "print(temp_keyword)"
   ]
  },
  {
   "cell_type": "markdown",
   "id": "d2e735e9",
   "metadata": {},
   "source": [
    "##### Grading Retrieved Documents\n",
    "- The grading node evaluates the retrieved documents based on their relevance to the query with a binary grading system (relevant or not relevant)."
   ]
  },
  {
   "cell_type": "code",
   "execution_count": 38,
   "id": "1cdc61d0",
   "metadata": {},
   "outputs": [],
   "source": [
    "class GradingDocuments(BaseModel):\n",
    "    \"\"\"\n",
    "    A class to represent the grading of documents.\n",
    "    \"\"\"\n",
    "\n",
    "    grade_score: Literal[\"full_relevance\", \"partial_relevance\", \"no_relevance\"] = Field(\n",
    "        ...,\n",
    "        description=\"The relevance score of the documents, which can be full_relevance, partial_relevance, or no_relevance based on the content.\",\n",
    "    )"
   ]
  },
  {
   "cell_type": "code",
   "execution_count": 39,
   "id": "2c97d813",
   "metadata": {},
   "outputs": [],
   "source": [
    "structured_llm_grader = llm.with_structured_output(schema=GradingDocuments)"
   ]
  },
  {
   "cell_type": "code",
   "execution_count": 40,
   "id": "51e50764",
   "metadata": {},
   "outputs": [],
   "source": [
    "system_prompt_grader = \"\"\"\n",
    "Task:\n",
    "Assess the relevance of a retrieved document in answering the given user question.\n",
    "\n",
    "Instructions:\n",
    "1. Carefully read the user question and the retrieved document content.\n",
    "2. Determine if the document contains information (keywords, facts, context, or semantics) directly related to the question.\n",
    "3. Classify the document's relevance using one of the following categories:\n",
    "   - full_relevance:\n",
    "     The document contains key facts, figures, arguments, or contextual details that directly and comprehensively address the question.\n",
    "   - partial_relevance:\n",
    "     The document includes some relevant information but is incomplete, too general, or partially off-topic.\n",
    "   - no_relevance:\n",
    "     The document contains little to no meaningful connection to the question, or is entirely off-topic.\n",
    "4. Base your decision on both semantic similarity and the presence of essential context or key information—not just superficial keyword overlap.\n",
    "5. Do not include any additional explanation or commentary in the output.\n",
    "6. Return only the relevance label using one of the following exact values: full_relevance, partial_relevance, no_relevance.\n",
    "\n",
    "Input:\n",
    "Question: <The user’s original question.>\n",
    "Document Content: <The text content of the retrieved document.>\n",
    "\"\"\""
   ]
  },
  {
   "cell_type": "code",
   "execution_count": 41,
   "id": "3ca88332",
   "metadata": {},
   "outputs": [],
   "source": [
    "grader_prompt_template = ChatPromptTemplate(\n",
    "    messages=[\n",
    "        {\n",
    "            \"role\": \"user\",\n",
    "            \"content\": system_prompt_grader,\n",
    "        },\n",
    "        {\n",
    "            \"role\": \"human\",\n",
    "            \"content\": \"\"\"Given the following retrieved set of document{context} and user question {question}, grade the document as relevant or not\"\"\",\n",
    "        },\n",
    "    ],\n",
    "    input_variables=[\"context\", \"question\"],\n",
    "    partial_variables={},\n",
    ")"
   ]
  },
  {
   "cell_type": "code",
   "execution_count": 42,
   "id": "9159c09a",
   "metadata": {},
   "outputs": [],
   "source": [
    "# Create the chain\n",
    "grader_chain = grader_prompt_template | structured_llm_grader"
   ]
  },
  {
   "cell_type": "code",
   "execution_count": 45,
   "id": "537b1d45",
   "metadata": {},
   "outputs": [
    {
     "data": {
      "text/plain": [
       "'Content idx: 0 - Nutmeg investor update: December 2024 - NutmegSkip to contentProductsProductsInvest for every stage for life and make the most of your tax allowances.\\xa0Stocks and Shares ISAPersonal PensionLifetime ISAJunior ISAGeneral Investment AccountInvestment stylesInvestment stylesHave your money managed in a way that fits your goals and\\xa0priorities.Fully ManagedThematic InvestingSmart AlphaSocially Responsible InvestingFixed AllocationAdviceFinancial advice and guidanceGet expert support to help you make the right investment choices.Free financial guidanceOur financial advice serviceRetirement adviceInvestment adviceConsolidation adviceLump sum adviceBook your free consultationTools and guidesTools and guidesSee how you could reach your goals with our calculators and how-to guides.ToolsSelf-employed tax calculatorCompound returns calculatorISA calculatorPension calculatorCapital Gains Tax calculatorGuidesInvesting for beginnersHow to retire at 55How to avoid the 60% tax trapWhat inflation means in investingWhy it\\'s important to diversifyWhat is volatility?InsightsInsightsRead the latest views from our investment and wealth experts.Financial planningRetirement essentialsInvesting essentialsMarketsBrowse our articlesAbout usAbout usFind out more about who we are and what we do for investors.Our companyOur track recordOur feesMeet the investment teamCareersHelpHelpAsk us about investing, your account, advice and more.Get in touchFAQsGo to our Help hubLog InSign upHamburger MenuProductsProductsInvest for every stage for life and make the most of your tax allowances.\\xa0Stocks and Shares ISAPersonal PensionLifetime ISAJunior ISAGeneral Investment AccountInvestment stylesInvestment stylesHave your money managed in a way that fits your goals and\\xa0priorities.Fully ManagedThematic InvestingSmart AlphaSocially Responsible InvestingFixed AllocationAdviceFinancial advice and guidanceGet expert support to help you make the right investment choices.Free financial guidanceOur financial advice serviceRetirement adviceInvestment adviceConsolidation adviceLump sum adviceBook your free consultationTools and guidesTools and guidesSee how you could reach your goals with our calculators and how-to guides.ToolsSelf-employed tax calculatorCompound returns calculatorISA calculatorPension calculatorCapital Gains Tax calculatorGuidesInvesting for beginnersHow to retire at 55How to avoid the 60% tax trapWhat inflation means in investingWhy it\\'s important to diversifyWhat is volatility?InsightsInsightsRead the latest views from our investment and wealth experts.Financial planningRetirement essentialsInvesting essentialsMarketsBrowse our articlesAbout usAbout usFind out more about who we are and what we do for investors.Our companyOur track recordOur feesMeet the investment teamCareersHelpHelpAsk us about investing, your account, advice and more.Get in touchFAQsGo to our Help hub;NutmegonomicsMarket InsightsNutmeg investor update: December 2024Market InsightsNutmeg investor update: December 2024The Nutmeg team|5 minIn\\xa0November, investors saw the outcome of the US election as positive for US stocks, but it was a different story for emerging market equities.At a glanceEquity markets gained in November, led by strong performance from US stocks.Bond markets – both government and corporate – also rose.Emerging market equity markets were weaker overall.Investors expect the re-election of Donald Trump as US President will support US assets, but that the new administration\\'s policies may also slow the pace of interest rate cuts.What happened in financial markets in November and\\xa0why?\\xa0Global equity markets finished November in positive territory, with gains led by US equities which produced one of their strongest months of 2024. Shares in large US companies – also called \"large cap\" equities – rose 5.9% in dollar terms, while smaller companies – or \"small caps\" – had a particularly strong month, rising 10.2%. The driver? A republican clean sweep in the US election, offering investors optimism over the potential for further US economic growth, coupled with tax breaks and deregulation under the new Trump administration.In the rest of the world, Japanese and UK stock equity markets delivered more muted returns in November. Japanese stocks fell 0.8% and the UK FTSE 100 gained 2.6% in local currency terms. European markets declined, as investors digested the potential ramifications of the incoming Republican\\xa0administration –\\xa0specifically talk of trade tariffs – against a backdrop of already weak industrial activity.Emerging markets also delivered negative returns, falling 3.5% in November,\\xa0in dollar terms. China was amongst the largest losers, but most major emerging market stock markets ended the month in negative territory. The exception was India, where stock markets rose\\xa0slightly in November and where domestic economic activity indicators remain strong.\\xa0In bond\\n\\nContent idx: 1 - US – was down 1.3% in February. That decline was led by growth-oriented stocks such as those in the technology sector, which finished the month on a weaker footing. The growth-focused Nasdaq index declined 2.7% over the month.The most recent earnings season demonstrated the US stock market’s potential to deliver earnings that outperform expectations once again. But investor enthusiasm in February was tempered by the US macroeconomic picture. Consumer confidence fell to an 8-month low, while investors were disconcerted by service sector data that indicated a surprise contraction of activity. Against a backdrop of a changing tariffs narrative, and geopolitical worries, some investors are beginning to question the stability of US economic growth and the case for US exceptionalism.Does this change how the Nutmeg investment team views the US as an investment destination?We think it is far too early to conclude that US economic growth is on a weakening trajectory. Despite several high-profile data points offering a more muted viewpoint, manufacturing activity appears to be turning up, consumption remains strong, and the labour market’s key indicators are robust.We continue to take the view that a recession in the US is unlikely. But, as we flagged in our 2025 investment outlook, both stock market valuations and elevated geopolitical and policy risks increase the potential for market volatility. So, we retain our preference for US assets across our portfolios but as always, we also remain globally diversified.A good example is our exposure to European stock markets, where we remain ‘neutral’ relative to our long-term allocation. That is to say, in the short term, we do not think the overall case for investment in the region is stronger or weaker than in the long term. However, we do have some preferences for certain countries and sectors where we believe the investment case is strongest,\\xa0for instance\\xa0European industrial companies\\xa0within our\\xa0equity holdings.The industrials sector comprises a wide variety of companies such as those in machinery, manufacturing, and defence and aerospace. Industrial activity tends to benefit from buoyant global trade, and despite the looming risk of potential US tariffs, global trade volumes have seen a steady rise over the previous 12 months. We think European industrials are supported by three main drivers:rising global tradethe potential for upside in corporate earnings, andthe potential for a meaningful increase in European defence spending in the current geopolitical environment.We also currently favour the Nordics over broader Europe. We think the macro-economic picture for the Nordic countries is currently brighter than that of the wider European bloc. Nordic stock markets have demonstrated strong relative performance over the previous decade in comparison with their European peers.Is the Nutmeg investment team making any portfolio changes?We\\xa0have made an adjustment to portfolios’ US equity holdings,\\xa0adding\\xa0a position in the financials sector, which comprises banks, insurance firms and credit providers.We have done this for several reasons:Firstly, we think the economic backdrop for financials remains attractive. The US economy appears to be growing at a steady pace, and we expect banks to continue to expand activity through lending as the economy grows.Secondly, interest rates remain elevated, yet at the same time off their peak. The Federal Reserve is in no rush to cut interest rates and we expect it will take a steady approach as it balances the pressures of inflation and growth. Higher interest rates tend to be good for financial institutions, as it can increase their earnings potential, so long as they are not constraining economic activity. We think we might reach an interest rate ‘sweet spot’ for US banks over the coming 12 months.Additionally, we believe that there is the possibility of further deregulation under the new Republican administration, including the watering down or scrapping of proposed costly regulations.Our position in financials really reflects us remaining positive on the overall US economic trajectory, while leaning towards a sector we expect to benefit from both the current stage of the economic cycle and the current policy approach of the Republican administration.About this update: This update was recorded on\\xa04 March 2025. All figures, unless otherwise stated, relate to the month of February 2025.\\xa0Source for figures: MacroBond, Nutmeg and Bloomberg.Risk warningAs with all investing, your capital is at risk. The value of your portfolio with Nutmeg can go down as well as up and you may get back less than you invest. Past performance and forecasts are not reliable indicators of future\\xa0performance.\\u202fWe do not provide investment advice in this article. Always do your own research.\\xa0App store badgeGoogle play badgeSupportFAQsInsightsSitemapCareersPrivacy policyCookie policySite termsTerms and conditionsRegulatoryComplaintsCookie SettingsClient services020 3598 1515Contact ussupport@nutmeg.comPress enquiries only07788251769pr@nutmeg.comNutmeg25 Bank StreetCanary WharfLondonE14\\n\\nContent idx: 2 - with a registered office at 25 Bank Street, Canary Wharf, London E14 5JP. Smart Alpha is a trade mark of Schroders plc and is used under licence.App Store is a service mark and Apple and the Apple logo are trademarks of Apple Inc. Google Play and the Google Play logo are trademarks of Google LLC.\\n\\nContent idx: 3 - markets, corporate bonds largely mirrored the\\xa0atmosphere in equity markets, with investors apparently happy to take on more risk. This was reflected in the performance of riskier US high yield bonds, which delivered returns of 1.1%, and UK Corporate bonds also finished the month having made gains. Government bonds started the month on weaker footing. Election and inflation uncertainty dominated headlines, however, developed market government bonds finished November with returns of around 1.7% in the UK and 1% in the US.\\xa0What are the investment implications of Donald Trump\\'s re-election in November\\'s US election?It was clear from the market reaction that the re-election of Donald Trump is expected to create distinct winners and losers,\\xa0yet the President himself is only part of the story. Critically, the election result has offered Republicans control of not just the White House, but also the Senate and House of Representatives. This should make it much easier for the new administration to enact policy. This \"clean sweep\" was a possibility, but far from a certainty, and it heightened the market reaction to the election news.Sectors and stocks perceived to benefit from potential policy moves rallied, such as energy and banks, and investors shifted funds to US dollar denominated assets at the expense of global peers. Meanwhile, assets that are sensitive to trade and tariffs, such as European and emerging market stocks, fell, while their currencies weakened against the US dollar as investors priced the potential for meaningful tariffs. In Europe, an unstable political picture in Germany and France only added to reasons for investors to seek US assets.\\xa0 \\xa0\\xa0Away from stock markets, expectations of looser fiscal policy (the way the government spends and raises money) including the potential to extend tax breaks brought in during Trump\\'s previous presidency, should provide room for continued US economic growth. That has, however, kept bond market investors wary, as concerns grow over the extent of the administration\\'s plans to increase borrowing, and the potential for future tariff-induced inflation pressures. Consequently, the number of expected interest rate cuts from the Federal Reserve over the coming 18 months has fallen post-election. \\xa0We anticipate over the medium- to long-term, the US will benefit from a resurgence in domestic investment at the expense of the rest of the world, notably emerging markets. This was also our\\xa0expectation for the outgoing US administration, but we believe this dynamic may unfold\\xa0in a less smooth and predictable manner than was the case.How are tariffs expected to affect emerging markets and global trade?The Nutmeg investment team currently holds a smaller allocation to China than our long-term benchmark, given the challenges we feel the Chinese economy faces from both an internal consumption, and external trade perspective. But for much of 2024, we have held a more positive view of the outlook for wider emerging markets given what looked like ongoing recovery in global trade volumes and the demand for durable goods, and cheaper market valuations.That optimism, however has dimmed somewhat over the last quarter. The early-stage recovery and growth signals seen in many emerging market economies at the turn of 2024, are now showing signs of slowing. At the same time, broader emerging markets are facing a number of threats to their outlooks from both an economic and market perspective. The twin effects of a stronger US dollar, alongside the potential for meaningful trade tariffs are reducing our confidence in the extent to which global trade can recover from its post Covid lull. India is a notably bright spot in terms of domestic growth, but valuations do look stretched after a long run of outperformance, according to analysis by the Nutmeg investment team.\\xa0The situation is far from desperate, but with manufacturing sectors across developed economies in contraction, and the possibility of tariffs imposed by the global economy\\'s largest importer of goods, the investment case is likely to weaken. Clearly China, where we have a small allocation, will feel the brunt of these policies, but many other major emerging markets, particularly Mexico and those in South East Asia with strong trade ties to China, are also unlikely to escape unscathed, and face a more uncertain economic and market outlook post the US election.\\xa0About this update: This update was recorded on\\xa03 December 2024. All figures, unless otherwise stated, relate to the month of November\\xa02024.\\xa0Source for figures: MacroBond, Nutmeg and Bloomberg.Risk warningAs with all investing, your capital is at risk. The value of your portfolio with Nutmeg can go down as well as up and you may get back less than you invest. Past performance and forecasts are not reliable indicators of future\\xa0performance.\\u202fWe do not provide investment advice in this article. Always do your own research.\\xa0App store badgeGoogle play badgeSupportFAQsInsightsSitemapCareersPrivacy policyCookie policySite termsTerms and conditionsRegulatoryComplaintsCookie SettingsClient services020 3598 1515Contact\\n\\nContent idx: 4 - policySite termsTerms and conditionsRegulatoryComplaintsCookie SettingsClient services020 3598 1515Contact ussupport@nutmeg.comPress enquiries only07788251769pr@nutmeg.comNutmeg25 Bank StreetCanary WharfLondonE14 5JPOffice020 3598 1717As with all investing, your capital is at risk. The value of your portfolio with Nutmeg can go down as well as up and you may get back less than you invest. Learn what we mean by riskCopyright © 2025 Nutmeg Saving and Investment Limited. Nutmeg® is a registered trade mark of Nutmeg Saving and Investment Limited, authorised and regulated by the Financial Conduct Authority, no. 552016, registered in England and Wales, no. 07503666, with a registered office at 25 Bank Street, Canary Wharf, London E14 5JP. Smart Alpha is a trade mark of Schroders plc and is used under licence.App Store is a service mark and Apple and the Apple logo are trademarks of Apple Inc. Google Play and the Google Play logo are trademarks of Google LLC.\\n\\nContent idx: 5 - bonds, the Fed’s messaging pushed yields higher, causing prices to dip slightly across most fixed income asset classes.\\xa0That\\'s the way bond markets work; when yields rise, their price falls.What was the full picture for 2024?For stock markets, 2024\\xa0was\\xa0generally\\xa0a very strong year.\\xa0Regions such as the UK, Canada, India and Asia Pacific\\xa0all finished the year ahead, despite falling in December. But none could quite match the same combination of economic stability and corporate earnings strength that has underpinned the US.The S&P 500 index, which tracks the performance of the 500 largest US companies, saw a gain of 25% for the year. Historically, returns this high are fairly rare.The NASDAQ index, which is a tech stock index, including high-flying companies such as Nvidia, saw an even stronger year, with prices up just under 26%. Tech stocks have continued to attract investors as artificial intelligence – or AI – starts to become increasingly mainstream. AI has continued to shift from being a technology with potential for the future, to one with real life productivity benefits on a day-to-day basis.Although the main story has been about the strength of stock markets, many bond markets have also experienced a positive year. Higher risk ‘high yield’ bonds in both the US and Europe have increased 8.2% and 8.6%, respectively. They have benefitted from the relative economic stability we saw in 2024, something that was far from guaranteed at the start of last year.It’s been a mixed picture for government bonds.\\xa0In the UK, gilts have performed poorly.\\xa0In\\xa0Europe, Italy and Spain have performed well,\\xa0helped by\\xa0the expectation of further rate cuts amid a\\xa0weaker\\xa0economic picture relative to the US. US government bonds have seen more muted performance as expectations of further rate cuts were wound back. The re-think was due to\\xa0better-than-expected economic results.What is the Nutmeg investment team’s outlook for 2025?We are optimistic about the investing landscape as we move into 2025, yet challenges remain.Over the past two years, multi-asset portfolios have thrived, benefiting from strong equity performance. The global economic environment, especially in the US, remains supportive going forward. There is a robust job market, lower inflation and interest rates are on a downward trend. We expect the corporate earnings landscape, especially in the US, to remain positive.However, a degree of caution is warranted. US equity valuations are above historic averages, and geopolitical uncertainties, such as potential instability from the Trump\\xa0administration\\xa0and ongoing global conflicts, could increase market volatility. Emerging markets face challenges, including potential Trump tariffs which could strengthen the dollar and impact these economies.\\xa0China\\'s economic transition\\xa0and deflationary pressures add to the uncertainty.In Europe,\\xa0we believe\\xa0the UK is better positioned than the continent, with growing household incomes and a recovering housing market. Interest rate policies are expected to ease, but the link between wages growth and inflation means that\\xa0tight\\xa0labour\\xa0markets and rising wages could rekindle inflation.\\xa0Central banks are likely to proceed cautiously with rate cuts.Despite these risks, the investment team maintains a positive long-term outlook. We are, however, holding slightly higher cash reserves than usual, ready to adapt and capitalise on market opportunities that may arise if we see volatility increase in the short term.About this update: This update was recorded on\\xa07 January 2025. All figures, unless otherwise stated, relate to the month of December 2024.\\xa0Source for figures: MacroBond, Nutmeg and Bloomberg.Risk warningAs with all investing, your capital is at risk. The value of your portfolio with Nutmeg can go down as well as up and you may get back less than you invest. Past performance and forecasts are not reliable indicators of future\\xa0performance.\\u202fWe do not provide investment advice in this article. Always do your own research.\\xa0App store badgeGoogle play badgeSupportFAQsInsightsSitemapCareersPrivacy policyCookie policySite termsTerms and conditionsRegulatoryComplaintsCookie SettingsClient services020 3598 1515Contact ussupport@nutmeg.comPress enquiries only07788251769pr@nutmeg.comNutmeg25 Bank StreetCanary WharfLondonE14 5JPOffice020 3598 1717As with all investing, your capital is at risk. The value of your portfolio with Nutmeg can go down as well as up and you may get back less than you invest. Learn what we mean by riskCopyright © 2025 Nutmeg Saving and Investment Limited. Nutmeg® is a registered trade mark of Nutmeg Saving and Investment Limited, authorised and regulated by the Financial Conduct Authority, no. 552016, registered in England and Wales, no. 07503666,'"
      ]
     },
     "execution_count": 45,
     "metadata": {},
     "output_type": "execute_result"
    }
   ],
   "source": [
    "temp_content"
   ]
  },
  {
   "cell_type": "code",
   "execution_count": 46,
   "id": "b8fc49f9",
   "metadata": {},
   "outputs": [
    {
     "data": {
      "text/plain": [
       "'What are the potential benefits of investing in the financials sector under the new Republican administration'"
      ]
     },
     "execution_count": 46,
     "metadata": {},
     "output_type": "execute_result"
    }
   ],
   "source": [
    "state[\"question\"]"
   ]
  },
  {
   "cell_type": "code",
   "execution_count": 43,
   "id": "f68783bf",
   "metadata": {},
   "outputs": [
    {
     "name": "stdout",
     "output_type": "stream",
     "text": [
      "partial_relevance\n"
     ]
    }
   ],
   "source": [
    "op = await grader_chain.ainvoke(\n",
    "    {\n",
    "        \"context\": temp_content,\n",
    "        \"question\": state[\"question\"],\n",
    "    }\n",
    ")\n",
    "\n",
    "print(op.grade_score)"
   ]
  },
  {
   "cell_type": "code",
   "execution_count": 44,
   "id": "a1b5c975",
   "metadata": {},
   "outputs": [],
   "source": [
    "# build some partially relevant content\n",
    "partially_relevant_content = \"\"\" The republican administration has been focusing on various sectors, including technology and healthcare. The financials sector is also expected to benefit from the new policies. However, the impact on the financials sector is still uncertain and requires further analysis. \"\"\"\n",
    "\n",
    "random_document = \"\"\" Due to the war in Ukraine, the financial markets have been volatile. The russian invasion of Ukraine has led to increased energy prices and supply chain disruptions. Investors are advised to stay informed about the geopolitical situation and its potential impact on the markets. \"\"\""
   ]
  },
  {
   "cell_type": "code",
   "execution_count": 46,
   "id": "1100bc0a",
   "metadata": {},
   "outputs": [
    {
     "name": "stdout",
     "output_type": "stream",
     "text": [
      "partial_relevance\n"
     ]
    }
   ],
   "source": [
    "op = await grader_chain.ainvoke(\n",
    "    {\n",
    "        \"context\": partially_relevant_content,\n",
    "        \"question\": state[\"question\"],\n",
    "    }\n",
    ")\n",
    "print(op.grade_score)"
   ]
  },
  {
   "cell_type": "markdown",
   "id": "c78c8765",
   "metadata": {},
   "source": [
    "##### Rewriting Queries for Better Retrieval\n",
    "- The objetive of this node is to improve the chances of retrieving relevant documents by rewriting the query based on the grading results\n",
    "- The rewriting process involves analyzing the original query and the retrieved documents to identify key terms and concepts that can be emphasized or clarified in the rewritten query."
   ]
  },
  {
   "cell_type": "code",
   "execution_count": 47,
   "id": "e254334c",
   "metadata": {},
   "outputs": [],
   "source": [
    "class RewriteQuery(BaseModel):\n",
    "    \"\"\"\n",
    "    A class to represent the rewriting of a query based on the original question and the retrieved documents.\n",
    "    The rewritten query is generated to improve the relevance of the retrieved documents.\n",
    "    \"\"\"\n",
    "\n",
    "    rewritten_query: str = Field(\n",
    "        ...,\n",
    "        description=\"The rewritten query based on the original question and the retrieved documents.\",\n",
    "    )"
   ]
  },
  {
   "cell_type": "code",
   "execution_count": 48,
   "id": "c89d78d3",
   "metadata": {},
   "outputs": [],
   "source": [
    "structured_query_rewriter = llm.with_structured_output(schema=RewriteQuery)"
   ]
  },
  {
   "cell_type": "code",
   "execution_count": 49,
   "id": "0928b1fd",
   "metadata": {},
   "outputs": [],
   "source": [
    "system_prompt_rewriter = \"\"\"\n",
    "Task:\n",
    "Rewrite the user’s original query to improve its clarity, specificity, and relevance using insights from retrieved document keywords.\n",
    "\n",
    "Instructions:\n",
    "1. Read the original user question and the accompanying list of document keywords or key phrases.\n",
    "2. Understand that these keywords represent the most important terms, entities, or concepts repeatedly emphasized across the retrieved documents.\n",
    "   - These keywords reflect the dominant themes and signals in the documents that may align with or clarify the user's intent.\n",
    "   - If the original question is vague or underspecified, these keywords help infer the probable topic, context, or direction of the intended question.\n",
    "3. Rewrite the user question to make it more targeted, context-aware, and useful for downstream retrieval.\n",
    "   - Incorporate relevant keywords that enhance clarity and relevance.\n",
    "   - Add specificity or disambiguation where needed, based on the keyword context.\n",
    "4. Ensure the rewritten query:\n",
    "   - Preserves the original intent.\n",
    "   - Is concise, focused, and aligned with the inferred direction from the keywords.\n",
    "   - Maximizes relevance and retrieval quality.\n",
    "5. Return only the final rewritten query without any explanation or formatting.\n",
    "\n",
    "Input:\n",
    "Original Question: <The user's original query.>\n",
    "Document Keywords: <A list of significant keywords or phrases extracted from the retrieved documents. These reflect the dominant semantic signals that inform the likely intent of the user’s question.>\n",
    "\"\"\""
   ]
  },
  {
   "cell_type": "code",
   "execution_count": 50,
   "id": "85c43159",
   "metadata": {},
   "outputs": [],
   "source": [
    "rewrite_prompt_template = ChatPromptTemplate(\n",
    "    messages=[\n",
    "        {\n",
    "            \"role\": \"user\",\n",
    "            \"content\": system_prompt_rewriter,\n",
    "        },\n",
    "        {\n",
    "            \"role\": \"human\",\n",
    "            \"content\": \"\"\"Given the following original question {question} and document keyword {context}, rewrite the question to improve its relevance and specificity.\"\"\",\n",
    "        },\n",
    "    ],\n",
    "    input_variables=[\"context\", \"question\"],\n",
    "    partial_variables={},\n",
    ")"
   ]
  },
  {
   "cell_type": "code",
   "execution_count": 51,
   "id": "a7408dfd",
   "metadata": {},
   "outputs": [],
   "source": [
    "rewrite_chain = rewrite_prompt_template | structured_query_rewriter"
   ]
  },
  {
   "cell_type": "code",
   "execution_count": 61,
   "id": "4f519d6f",
   "metadata": {},
   "outputs": [
    {
     "data": {
      "text/plain": [
       "'Keywords set: 0 - (Nutmeg investor update December 2024 US election Donald Trump equity markets emerging markets trade tariffs global trade US stocks economic growth bond markets investment implications),\\nKeywords set: 1 - (Nutmeg investor update March 2025 US stocks European equities Chinese equities geopolitical news US macroeconomic signals consumer confidence financial markets investment outlook portfolio changes financial sector interest rates Republican administration),\\nKeywords set: 2 - (Nutmeg investor update January 2025 stock markets bonds Federal Reserve interest rates inflation economic growth Santa Claus rally S&P 500 NASDAQ AI corporate earnings geopolitical uncertainties market volatility US equity emerging markets China Europe UK),\\nKeywords set: 3 - (Nutmeg investor update December 2024 US election Donald Trump equity markets emerging markets trade tariffs global trade US stocks economic growth bond markets investment implications),\\nKeywords set: 4 - (Nutmeg investor update February 2025 global equities Donald Trump White House DeepSeek AI Bank of England rate cut bond market currency volatility),\\nKeywords set: 5 - (Nutmeg investor update January 2025 stock markets bonds Federal Reserve interest rates inflation economic growth Santa Claus rally S&P 500 NASDAQ AI corporate earnings geopolitical uncertainties market volatility US equity emerging markets China Europe UK)'"
      ]
     },
     "execution_count": 61,
     "metadata": {},
     "output_type": "execute_result"
    }
   ],
   "source": [
    "temp_keyword"
   ]
  },
  {
   "cell_type": "code",
   "execution_count": 52,
   "id": "278e6fa0",
   "metadata": {},
   "outputs": [
    {
     "name": "stdout",
     "output_type": "stream",
     "text": [
      "rewritten_query='What are the benefits of investing in the financial sector under the new Republican administration, considering the recent US election, interest rates, economic growth, and geopolitical uncertainties?'\n"
     ]
    }
   ],
   "source": [
    "op = rewrite_chain.invoke(\n",
    "    {\n",
    "        \"context\": temp_keyword,\n",
    "        \"question\": \"Benefits of investing in the financials sector under the new new administration\",\n",
    "    }\n",
    ")\n",
    "print(op)"
   ]
  },
  {
   "cell_type": "markdown",
   "id": "62be9442",
   "metadata": {},
   "source": [
    "#### Generating Response from Relevant Documents\n",
    "- In this step obj is to generate a response based on the retrieved documents and the rewritten query/user question."
   ]
  },
  {
   "cell_type": "code",
   "execution_count": 53,
   "id": "9fa58bb2",
   "metadata": {},
   "outputs": [],
   "source": [
    "class SummarizedResponse(BaseModel):\n",
    "    \"\"\"\n",
    "    A class to represent the summarization of a response based on the original question and the retrieved documents.\n",
    "    The summarized response is generated to provide a concise answer to the user's question.\n",
    "    \"\"\"\n",
    "\n",
    "    summary: str = Field(\n",
    "        ...,\n",
    "        description=\"The summarized response based on the original question and the retrieved documents with proper headings and subheadings and bullet points. The summary should have introduction, body, and conclusion witthout citations.\",\n",
    "    )\n",
    "    citation: str = Field(\n",
    "        ...,\n",
    "        description=\"The citation for the summarized response, indicating the source of the information used in the summary.\",\n",
    "    )\n",
    "\n",
    "\n",
    "# get the structured llm\n",
    "structured_llm_summarizer = llm.with_structured_output(schema=SummarizedResponse)"
   ]
  },
  {
   "cell_type": "code",
   "execution_count": 54,
   "id": "6fa47e00",
   "metadata": {},
   "outputs": [],
   "source": [
    "system_prompt_summarizer = \"\"\"\n",
    "Task:\n",
    "Generate a focused and accurate summary that answers the user’s original question using the retrieved documents and their citations.\n",
    "\n",
    "Instructions:\n",
    "1. Carefully read the original question, the full content of the retrieved documents, and the provided citation references.\n",
    "2. Identify the most important and relevant information that directly responds to the user’s question.\n",
    "   - Prioritize facts, insights, or arguments that align semantically and contextually with the question.\n",
    "3. Write a concise and coherent summary that:\n",
    "   - Clearly addresses the user's question.\n",
    "   - Captures the essence of the supporting documents.\n",
    "   - Is easy to understand and free from ambiguity.\n",
    "4. Do not include information that is irrelevant, vague, or unrelated to the question.\n",
    "5. Integrate citations into the summary to support factual statements, referencing the sources in the same order as they appear in the retrieved documents.\n",
    "6. Maintain a neutral and informative tone—avoid speculation or unsupported claims.\n",
    "7. Only return the final summary. Do not include commentary or formatting outside the summary text.\n",
    "8. The summary should be structured with proper headings and subheadings and bullet points and in string format.\n",
    "9. The summary should always have and introduction, body and conclusion in the response.\n",
    "\n",
    "Input:\n",
    "Original Question: <The user’s original question.>\n",
    "Retrieved Documents: <Raw text content from the retrieved documents.>\n",
    "Citations: <Citation identifiers matching the order and origin of the retrieved documents.>\n",
    "\"\"\""
   ]
  },
  {
   "cell_type": "code",
   "execution_count": 55,
   "id": "b0c01d48",
   "metadata": {},
   "outputs": [],
   "source": [
    "summarizer_prompt_template = ChatPromptTemplate(\n",
    "    messages=[\n",
    "        {\n",
    "            \"role\": \"user\",\n",
    "            \"content\": system_prompt_summarizer,\n",
    "        },\n",
    "        {\n",
    "            \"role\": \"human\",\n",
    "            \"content\": \"\"\"Given the following retrieved set of document{context}, citations {citation} and user question {question}, summarize the response to provide a concise answer to the user's question.\"\"\",\n",
    "        },\n",
    "    ],\n",
    "    input_variables=[\"context\", \"question\"],\n",
    "    partial_variables={},\n",
    ")"
   ]
  },
  {
   "cell_type": "code",
   "execution_count": 56,
   "id": "15b786da",
   "metadata": {},
   "outputs": [],
   "source": [
    "summarizer_chain = summarizer_prompt_template | structured_llm_summarizer"
   ]
  },
  {
   "cell_type": "code",
   "execution_count": 57,
   "id": "38ef5fa1",
   "metadata": {},
   "outputs": [],
   "source": [
    "op = summarizer_chain.invoke(\n",
    "    {\n",
    "        \"question\": state[\"question\"],\n",
    "        \"context\": temp_content,\n",
    "        \"citation\": temp_source,\n",
    "    }\n",
    ")"
   ]
  },
  {
   "cell_type": "code",
   "execution_count": 58,
   "id": "6caadfae",
   "metadata": {},
   "outputs": [
    {
     "name": "stdout",
     "output_type": "stream",
     "text": [
      "**Introduction**\n",
      "\n",
      "Investing in the financials sector under the new Republican administration presents several potential benefits. This summary outlines the key reasons why the Nutmeg investment team has added a position in the financials sector to their portfolios.\n",
      "\n",
      "**Body**\n",
      "\n",
      "- **Economic Backdrop**: The US economy is growing at a steady pace, which is favorable for financial institutions. Banks are expected to expand their activities through increased lending as the economy grows.\n",
      "- **Interest Rates**: Interest rates remain elevated but are off their peak. The Federal Reserve is expected to take a steady approach to interest rate adjustments, balancing inflation and growth pressures. Higher interest rates can increase the earnings potential for financial institutions, provided they do not constrain economic activity.\n",
      "- **Deregulation**: There is a possibility of further deregulation under the new Republican administration. This could include the watering down or scrapping of proposed costly regulations, which would benefit financial institutions by reducing their compliance costs and increasing their operational flexibility.\n",
      "\n",
      "**Conclusion**\n",
      "\n",
      "Overall, the Nutmeg investment team remains positive on the US economic trajectory and believes that the financials sector is well-positioned to benefit from the current economic cycle and policy approach of the Republican administration. This strategic position reflects confidence in the sector's potential for growth and profitability in the coming months.\n",
      "\n",
      "Source: https://www.nutmeg.com/nutmegonomics/nutmeg-investor-update-march-2025\n"
     ]
    }
   ],
   "source": [
    "print(op.summary)\n",
    "print(op.citation)"
   ]
  },
  {
   "cell_type": "code",
   "execution_count": 59,
   "id": "345f5229",
   "metadata": {},
   "outputs": [
    {
     "name": "stdout",
     "output_type": "stream",
     "text": [
      "Response: **Introduction**\n",
      "\n",
      "Investing in the financials sector under the new Republican administration presents several potential benefits. This summary outlines the key reasons why the Nutmeg investment team has added a position in the financials sector to their portfolios.\n",
      "\n",
      "**Body**\n",
      "\n",
      "- **Economic Backdrop**: The US economy is growing at a steady pace, which is favorable for financial institutions. Banks are expected to expand their activities through increased lending as the economy grows.\n",
      "- **Interest Rates**: Interest rates remain elevated but are off their peak. The Federal Reserve is expected to take a steady approach to interest rate adjustments, balancing inflation and growth pressures. Higher interest rates can increase the earnings potential for financial institutions, provided they do not constrain economic activity.\n",
      "- **Deregulation**: There is a possibility of further deregulation under the new Republican administration. This could include the watering down or scrapping of proposed costly regulations, which would benefit financial institutions by reducing their compliance costs and increasing their operational flexibility.\n",
      "\n",
      "**Conclusion**\n",
      "\n",
      "Overall, the Nutmeg investment team remains positive on the US economic trajectory and believes that the financials sector is well-positioned to benefit from the current economic cycle and policy approach of the Republican administration. This strategic position reflects confidence in the sector's potential for growth and profitability in the coming months.\n",
      "\n"
     ]
    }
   ],
   "source": [
    "response = op.summary\n",
    "print(\"Response:\", response)"
   ]
  },
  {
   "cell_type": "code",
   "execution_count": 60,
   "id": "aed00c45",
   "metadata": {},
   "outputs": [
    {
     "data": {
      "text/plain": [
       "'Source idx: 0 - https://www.nutmeg.com/nutmegonomics/nutmeg-investor-update-december-2024\\n\\nSource idx: 1 - https://www.nutmeg.com/nutmegonomics/nutmeg-investor-update-march-2025\\n\\nSource idx: 2 - https://www.nutmeg.com/nutmegonomics/nutmeg-investor-update-january-2025\\n\\nSource idx: 3 - https://www.nutmeg.com/nutmegonomics/nutmeg-investor-update-december-2024\\n\\nSource idx: 4 - https://www.nutmeg.com/nutmegonomics/nutmeg-investor-update-february-2025\\n\\nSource idx: 5 - https://www.nutmeg.com/nutmegonomics/nutmeg-investor-update-january-2025'"
      ]
     },
     "execution_count": 60,
     "metadata": {},
     "output_type": "execute_result"
    }
   ],
   "source": [
    "temp_source"
   ]
  },
  {
   "cell_type": "markdown",
   "id": "34803d47",
   "metadata": {},
   "source": [
    "#### Hallucination and Grading Response\n",
    "- Check if the final response is hallucinated or not\n",
    "- What is the evaluation score for the response"
   ]
  },
  {
   "cell_type": "code",
   "execution_count": 60,
   "id": "e9df4c23",
   "metadata": {},
   "outputs": [],
   "source": [
    "class CheckandGradeResponse(BaseModel):\n",
    "    \"\"\"\n",
    "    A class to represent the grading of a response based on the original question and the summarized response.\n",
    "    The grading is done to ensure the quality and relevance of the response.\n",
    "    \"\"\"\n",
    "\n",
    "    hallucination: Literal[\"yes\", \"no\"] = Field(\n",
    "        ...,\n",
    "        description=\"A binary score indicating whether the response contains hallucinations or not.\",\n",
    "    )\n",
    "\n",
    "    response_score: float = Field(\n",
    "        ...,\n",
    "        description=\"A score indicating the quality of the response, ranging from 0 to 1 based on the relevance and precision of the information provided.\",\n",
    "    )\n",
    "\n",
    "\n",
    "structured_llm_checker = llm.with_structured_output(schema=CheckandGradeResponse)"
   ]
  },
  {
   "cell_type": "code",
   "execution_count": 61,
   "id": "d6fb6198",
   "metadata": {},
   "outputs": [],
   "source": [
    "system_prompt_checker_grader = \"\"\"\n",
    "Task:\n",
    "Evaluate whether the summarized response accurately and relevantly answers the original user question, based on the retrieved documents.\n",
    "\n",
    "Instructions:\n",
    "1. Carefully read the original user question, the summarized response, and the raw content of the retrieved documents.\n",
    "2. Identify hallucinations in the summarized response:\n",
    "   - A hallucination is any fabricated, inaccurate, or unsupported information not grounded in the retrieved documents.\n",
    "   - This includes entities, facts, or claims that are either not present in or contradict the retrieved content.\n",
    "3. Set the Hallucination flag to:\n",
    "   - 'yes' if any hallucinated content is found.\n",
    "   - 'no' if the response is fully supported by the retrieved documents.\n",
    "4. Assign a numerical score between 0.0 and 1.0 based on the following:\n",
    "   - Relevance: How well the summarized response answers the original question.\n",
    "   - Precision: How factually accurate the summary is according to the retrieved documents.\n",
    "   - Score 1.0 for responses that are fully relevant and precise.\n",
    "   - Score 0.0 for responses that are entirely irrelevant, incorrect, or hallucinated.\n",
    "   - Use intermediate values (e.g., 0.3, 0.6, 0.8) to reflect partially relevant or accurate responses.\n",
    "5. If hallucination is 'yes', the score must be 0.0.\n",
    "6. If hallucination is 'no', assign a score between 0.0 and 1.0 based on relevance and accuracy.\n",
    "7. Do not include any explanation or justification.\n",
    "8. Return only the following output format:\n",
    "   Hallucination: <yes/no>\n",
    "   Score: <float value between 0.0 and 1.0>\n",
    "\n",
    "Input:\n",
    "Original Question: <The original user question.>\n",
    "Summarized Response: <The summarized response generated from the question and retrieved documents.>\n",
    "Retrieved Documents: <The raw content of the retrieved documents used to generate the summary.>\n",
    "\"\"\""
   ]
  },
  {
   "cell_type": "code",
   "execution_count": 62,
   "id": "c918a5b1",
   "metadata": {},
   "outputs": [],
   "source": [
    "checker_grader_prompt_template = ChatPromptTemplate(\n",
    "    messages=[\n",
    "        {\n",
    "            \"role\": \"user\",\n",
    "            \"content\": system_prompt_checker_grader,\n",
    "        },\n",
    "        {\n",
    "            \"role\": \"human\",\n",
    "            \"content\": \"\"\"Given the following summarized response {response} , raw content of the retrieved documents {context} and user question {question}, evaluate whether the summarized response accurately and relevantly answers the original user question.\"\"\",\n",
    "        },\n",
    "    ],\n",
    "    input_variables=[\"response\", \"question\", \"context\"],\n",
    "    partial_variables={},\n",
    ")"
   ]
  },
  {
   "cell_type": "code",
   "execution_count": 63,
   "id": "e28e2b70",
   "metadata": {},
   "outputs": [],
   "source": [
    "# Create the chain\n",
    "checker_grader_chain = checker_grader_prompt_template | structured_llm_checker"
   ]
  },
  {
   "cell_type": "code",
   "execution_count": 64,
   "id": "39662314",
   "metadata": {},
   "outputs": [],
   "source": [
    "# curate a random response\n",
    "# response = \"The financials sector is expected to benefit from the new Republican administration's policies, which may lead to increased investment opportunities because of Narendra Modi's policies.\""
   ]
  },
  {
   "cell_type": "code",
   "execution_count": 65,
   "id": "e9ba2d9e",
   "metadata": {},
   "outputs": [],
   "source": [
    "# half precise response\n",
    "response = \"The financials sector is expected to benefit from the new Republican administration's policies, which may lead to increased investment opportunities because of the new policies.\""
   ]
  },
  {
   "cell_type": "code",
   "execution_count": 66,
   "id": "6fa3d9c2",
   "metadata": {},
   "outputs": [
    {
     "name": "stdout",
     "output_type": "stream",
     "text": [
      "yes\n",
      "0.0\n"
     ]
    }
   ],
   "source": [
    "op = checker_grader_chain.invoke(\n",
    "    {\n",
    "        \"response\": response,\n",
    "        \"question\": state[\"question\"],\n",
    "        \"context\": temp_content,\n",
    "    }\n",
    ")\n",
    "print(op.hallucination)\n",
    "print(op.response_score)"
   ]
  },
  {
   "cell_type": "markdown",
   "id": "bfa71f16",
   "metadata": {},
   "source": [
    "### Building the LangGraph"
   ]
  },
  {
   "cell_type": "code",
   "execution_count": 70,
   "id": "3070d091",
   "metadata": {},
   "outputs": [],
   "source": [
    "class GraphState(TypedDict):\n",
    "    \"\"\"\n",
    "    A state in the graph representing a node with a specific type and content.\n",
    "    \"\"\"\n",
    "\n",
    "    question: str\n",
    "    documents: list[Document]\n",
    "    rewritten_question: Optional[str]\n",
    "    summary: str\n",
    "    citations: list[str]\n",
    "    grade_score: Optional[str]\n",
    "    hallucination: Optional[str]\n",
    "    response_score: Optional[float]\n",
    "    grading_iteration: Optional[int]\n",
    "    hallucination_iteration: Optional[int]"
   ]
  },
  {
   "cell_type": "code",
   "execution_count": 71,
   "id": "7f4668a1",
   "metadata": {},
   "outputs": [],
   "source": [
    "# Start the workflow\n",
    "workflow = StateGraph(GraphState)"
   ]
  },
  {
   "cell_type": "markdown",
   "id": "328f93f3",
   "metadata": {},
   "source": [
    "##### Tool Nodes"
   ]
  },
  {
   "cell_type": "code",
   "execution_count": 72,
   "id": "ef18a3d8",
   "metadata": {},
   "outputs": [],
   "source": [
    "def vector_retriever(state: GraphState):\n",
    "    \"\"\"\n",
    "    Function to retrieve documents from the vector store based on the question in the state using ensemble_retriever and save the documents in the state.\n",
    "    \"\"\"\n",
    "    print(\"Vector Retriever\")\n",
    "    question = state[\"rewritten_question\"] if \"rewritten_question\" in state else state[\"question\"]\n",
    "    print(\"Question used for vector retriever:\", question)\n",
    "    documents = ensemble_retriever.invoke(question)\n",
    "\n",
    "    return {\"documents\": documents, \"question\": question}"
   ]
  },
  {
   "cell_type": "code",
   "execution_count": 73,
   "id": "27178d21",
   "metadata": {},
   "outputs": [],
   "source": [
    "def web_search(state: GraphState):\n",
    "    \"\"\"\n",
    "    Function to retrieve documents from the web search based on the question in the state using web_search_retriever and save the documents in the state.\n",
    "    \"\"\"\n",
    "    print(\"Web Search\")\n",
    "    question = state[\"question\"]\n",
    "    documents = web_search_retriever.invoke(question)\n",
    "    lc_docs = [\n",
    "        Document(page_content=doc[\"content\"], metadata={\"source\": doc[\"url\"]})\n",
    "        for doc in documents\n",
    "    ]\n",
    "\n",
    "    return {\"documents\": lc_docs, \"question\": question}"
   ]
  },
  {
   "cell_type": "markdown",
   "id": "10228ba1",
   "metadata": {},
   "source": [
    "##### Adding the router node"
   ]
  },
  {
   "cell_type": "code",
   "execution_count": 74,
   "id": "a0cbb3bc",
   "metadata": {},
   "outputs": [],
   "source": [
    "def router_node(state: GraphState):\n",
    "    \"\"\"\n",
    "    Function to route the question to the appropriate source based on the user's query.\n",
    "    \"\"\"\n",
    "    print(\"Routing the question to the appropriate source...\")\n",
    "    question = state[\"question\"]\n",
    "    op = question_router_chain.invoke({\"query\": question})\n",
    "\n",
    "    if op.source == \"vector_retriever\":\n",
    "        print(\"Routing to vector_retriever...\")\n",
    "        return \"vectordb\"\n",
    "    elif op.source == \"web_search\":\n",
    "        print(\"Routing to web_search...\")\n",
    "        return \"web\""
   ]
  },
  {
   "cell_type": "code",
   "execution_count": 75,
   "id": "ef8a0a0b",
   "metadata": {},
   "outputs": [],
   "source": [
    "# workflow.add_node(node=\"router_node\", action=router_node)"
   ]
  },
  {
   "cell_type": "code",
   "execution_count": 76,
   "id": "23f24ff9",
   "metadata": {},
   "outputs": [
    {
     "data": {
      "text/plain": [
       "<langgraph.graph.state.StateGraph at 0x7f0eee39f9d0>"
      ]
     },
     "execution_count": 76,
     "metadata": {},
     "output_type": "execute_result"
    }
   ],
   "source": [
    "###### Adding tool nodes\n",
    "\n",
    "workflow.add_node(\n",
    "    node=\"vector_retriever\",\n",
    "    action=vector_retriever,\n",
    ")\n",
    "\n",
    "workflow.add_node(\n",
    "    node=\"web_search\",\n",
    "    action=web_search,\n",
    ")"
   ]
  },
  {
   "cell_type": "code",
   "execution_count": 77,
   "id": "84b86faf",
   "metadata": {},
   "outputs": [
    {
     "data": {
      "text/plain": [
       "<langgraph.graph.state.StateGraph at 0x7f0eee39f9d0>"
      ]
     },
     "execution_count": 77,
     "metadata": {},
     "output_type": "execute_result"
    }
   ],
   "source": [
    "# build the first layer with conditonal edges\n",
    "workflow.add_conditional_edges(\n",
    "    source=START,\n",
    "    path=router_node,\n",
    "    path_map={\"vectordb\": \"vector_retriever\", \"web\": \"web_search\"},\n",
    ")"
   ]
  },
  {
   "cell_type": "markdown",
   "id": "1cfef341",
   "metadata": {},
   "source": [
    "##### Adding Document Grader Node"
   ]
  },
  {
   "cell_type": "code",
   "execution_count": 78,
   "id": "8417a876",
   "metadata": {},
   "outputs": [],
   "source": [
    "# def document_grader_node(state: GraphState):\n",
    "#     \"\"\"\n",
    "#     Function to grade the retrieved documents based on their relevance to the user's question.\n",
    "#     \"\"\"\n",
    "#     print(\"Grading the retrieved documents...\")\n",
    "#     question = state[\"question\"]\n",
    "#     documents = state[\"documents\"]\n",
    "\n",
    "#     only_content = \"\\n\\n\".join(\n",
    "#         [f\"Content idx: {i} - {doc.page_content}\" for i, doc in enumerate(documents)]\n",
    "#     )\n",
    "\n",
    "#     op = grader_chain.invoke(\n",
    "#     {\n",
    "#         \"context\": only_content,\n",
    "#         \"question\": question,\n",
    "#     }\n",
    "#     )\n",
    "\n",
    "#     grade_score = op.grade_score\n",
    "#     print(\"Graded documents with score:\", grade_score)\n",
    "\n",
    "#     return {\n",
    "#         \"grade_score\": grade_score,\n",
    "#         \"grading_iteration\": 1 if \"grading_iteration\" not in state else state[\"grading_iteration\"] + 1,\n",
    "\n",
    "#     }"
   ]
  },
  {
   "cell_type": "code",
   "execution_count": 79,
   "id": "03eff1be",
   "metadata": {},
   "outputs": [],
   "source": [
    "def document_grader_node(state: GraphState):\n",
    "    \"\"\"\n",
    "    Grades the retrieved documents for relevance to the user's question.\n",
    "    Optimized for clarity, robustness, and consistent state updates.\n",
    "    \"\"\"\n",
    "    print(\"Grading the retrieved documents...\")\n",
    "    question = state[\"rewritten_question\"] if \"rewritten_question\" in state else state[\"question\"]\n",
    "    print(\"Question used for grading:\", question)\n",
    "    documents = state.get(\"documents\", [])\n",
    "\n",
    "    only_content = \"\\n\\n\".join(\n",
    "        f\"Content idx: {i} - {getattr(doc, 'page_content', '')}\"\n",
    "        for i, doc in enumerate(documents)\n",
    "    )\n",
    "\n",
    "    op = grader_chain.invoke(\n",
    "        {\n",
    "            \"context\": only_content,\n",
    "            \"question\": question,\n",
    "        }\n",
    "    )\n",
    "\n",
    "    grade_score = getattr(op, \"grade_score\", None)\n",
    "    print(\"Graded documents with score:\", grade_score)\n",
    "\n",
    "    grading_iteration = state.get(\"grading_iteration\", 0) + 1\n",
    "\n",
    "    return {\n",
    "        \"grade_score\": grade_score,\n",
    "        \"grading_iteration\": grading_iteration,\n",
    "    }"
   ]
  },
  {
   "cell_type": "code",
   "execution_count": 80,
   "id": "a1301130",
   "metadata": {},
   "outputs": [],
   "source": [
    "def decide_to_generate_rewrite(state: GraphState):\n",
    "    \"\"\"\n",
    "    Function to decide whether to generate a new query or rewrite the existing one based on the grading score.\n",
    "    If grading_iteration crosses the limit, print a message.\n",
    "    \"\"\"\n",
    "    grade_score = state.get(\"grade_score\")\n",
    "    grading_iteration = state.get(\"grading_iteration\", 0)\n",
    "    print(\"Grade score:\", grade_score)\n",
    "    print(\"Grading iteration:\", grading_iteration)\n",
    "    print(\"Deciding whether to generate or rewrite based on the grading score...\")\n",
    "\n",
    "    if grading_iteration > 2:\n",
    "        print(\"Grading iteration exceeded the limit. Stopping further attempts.\")\n",
    "        return \"generate\"  # END can be used to stop the workflow\n",
    "    if grade_score == \"full_relevance\":\n",
    "        return \"generate\"\n",
    "    elif grade_score == \"partial_relevance\":\n",
    "        return \"rewrite\"\n",
    "    elif grade_score == \"no_relevance\":\n",
    "        return END"
   ]
  },
  {
   "cell_type": "markdown",
   "id": "9bdee2e9",
   "metadata": {},
   "source": [
    "**Question on Grader Node**:\n",
    "- What should be the ideal step if grading_iteration is not converging?"
   ]
  },
  {
   "cell_type": "code",
   "execution_count": 81,
   "id": "47f0fdf6",
   "metadata": {},
   "outputs": [
    {
     "data": {
      "text/plain": [
       "<langgraph.graph.state.StateGraph at 0x7f0eee39f9d0>"
      ]
     },
     "execution_count": 81,
     "metadata": {},
     "output_type": "execute_result"
    }
   ],
   "source": [
    "# adding node\n",
    "workflow.add_node(\n",
    "    node=\"document_grader_node\",\n",
    "    action=document_grader_node,\n",
    ")\n",
    "# adding normal edge\n",
    "workflow.add_edge(\n",
    "    start_key=\"vector_retriever\",\n",
    "    end_key=\"document_grader_node\",\n",
    ")"
   ]
  },
  {
   "cell_type": "markdown",
   "id": "d6bbb5b4",
   "metadata": {},
   "source": [
    "##### Query Rewriter Node"
   ]
  },
  {
   "cell_type": "code",
   "execution_count": 82,
   "id": "7e443520",
   "metadata": {},
   "outputs": [],
   "source": [
    "# # sameple graph state\n",
    "# gst = GraphState(\n",
    "#     question=\"What are the potential benefits of investing in the financials sector under the new Republican administration\",\n",
    "#     documents=[\n",
    "#         Document(\n",
    "#             page_content=\"The financials sector is expected to benefit from...\",\n",
    "#             metadata={\"source\": \"source1\"},\n",
    "#         ),\n",
    "#         Document(\n",
    "#             page_content=\"Investing in the financials sector can lead to...\",\n",
    "#             metadata={\"source\": \"source2\"},\n",
    "#         ),\n",
    "#     ],\n",
    "#     summary=\"The financials sector is expected to benefit from the new Republican administration's policies, which may lead to increased investment opportunities.\",\n",
    "#     citations=[\n",
    "#         \"Source 1: The financials sector is expected to benefit from...\",\n",
    "#         \"Source 2: Investing in the financials sector can lead to...\",\n",
    "#     ],\n",
    "#     grade_score=\"full_relevance\",\n",
    "#     rewritten_question=\"What are the advantages of investing in the financials sector with the new Republican administration?\",\n",
    "# )"
   ]
  },
  {
   "cell_type": "code",
   "execution_count": 83,
   "id": "fae70df0",
   "metadata": {},
   "outputs": [],
   "source": [
    "# if \"rewritten_question\" not in gst:\n",
    "#     print(\"rewritten_question not in gst\")\n",
    "#     print(gst[\"question\"])\n",
    "\n",
    "# else:\n",
    "#     print(\"rewritten_question in gst\")\n",
    "#     print(gst[\"rewritten_question\"])"
   ]
  },
  {
   "cell_type": "code",
   "execution_count": 84,
   "id": "58ee9826",
   "metadata": {},
   "outputs": [],
   "source": [
    "# def query_rewriter_node(state: GraphState):\n",
    "#     \"\"\"\n",
    "#     Function to rewrite the user's question based on the retrieved documents and their keywords.\n",
    "#     \"\"\"\n",
    "#     print(\"Rewriting the user's question...\")\n",
    "#     question = state[\"question\"]\n",
    "#     documents = state[\"documents\"]\n",
    "\n",
    "#     only_keyword = \",\\n\".join(\n",
    "#         [\n",
    "#             f\"Keywords set: {i} - ({doc.metadata['keywords']})\"\n",
    "#             for i, doc in enumerate(documents)\n",
    "#         ]\n",
    "#     )\n",
    "\n",
    "#     op = rewrite_chain.invoke(\n",
    "#         {\n",
    "#             \"context\": only_keyword,\n",
    "#             \"question\": question,\n",
    "#         }\n",
    "#     )\n",
    "\n",
    "#     rewritten_question = op.rewritten_query\n",
    "#     print(\"Rewritten question:\", rewritten_question)\n",
    "\n",
    "#     return {\n",
    "#         \"rewritten_question\": rewritten_question,\n",
    "#     }"
   ]
  },
  {
   "cell_type": "code",
   "execution_count": 85,
   "id": "093e4721",
   "metadata": {},
   "outputs": [],
   "source": [
    "def query_rewriter_node(state: GraphState):\n",
    "    \"\"\"\n",
    "    Function to rewrite the user's question based on the retrieved documents and their keywords.\n",
    "    Optimized for robustness and clarity.\n",
    "    \"\"\"\n",
    "    print(\"Rewriting the user's question...\")\n",
    "    question = state[\"rewritten_question\"] if \"rewritten_question\" in state else state[\"question\"]\n",
    "    print(\"Question used for rewriting:\", question)\n",
    "    documents = state.get(\"documents\", [])\n",
    "\n",
    "    only_keyword = \",\\n\".join(\n",
    "        f\"Keywords set: {i} - ({doc.metadata.get('keywords', '')})\"\n",
    "        for i, doc in enumerate(documents)\n",
    "    )\n",
    "\n",
    "    op = rewrite_chain.invoke(\n",
    "        {\n",
    "            \"context\": only_keyword,\n",
    "            \"question\": question,\n",
    "        }\n",
    "    )\n",
    "\n",
    "    rewritten_question = getattr(op, \"rewritten_query\", \"\")\n",
    "    print(\"Rewritten question:\", rewritten_question)\n",
    "\n",
    "    return {\n",
    "        \"rewritten_question\": rewritten_question,\n",
    "    }"
   ]
  },
  {
   "cell_type": "code",
   "execution_count": 86,
   "id": "e12cc828",
   "metadata": {},
   "outputs": [
    {
     "data": {
      "text/plain": [
       "<langgraph.graph.state.StateGraph at 0x7f0eee39f9d0>"
      ]
     },
     "execution_count": 86,
     "metadata": {},
     "output_type": "execute_result"
    }
   ],
   "source": [
    "# add the node\n",
    "workflow.add_node(\n",
    "    node=\"query_rewriter_node\",\n",
    "    action=query_rewriter_node,\n",
    ")\n",
    "# add a reverse edge to retriever\n",
    "workflow.add_edge(\n",
    "    start_key=\"query_rewriter_node\",\n",
    "    end_key=\"vector_retriever\",\n",
    ")"
   ]
  },
  {
   "cell_type": "markdown",
   "id": "2e9708dd",
   "metadata": {},
   "source": [
    "##### Response Regeneration Node"
   ]
  },
  {
   "cell_type": "code",
   "execution_count": 87,
   "id": "891d44cd",
   "metadata": {},
   "outputs": [],
   "source": [
    "# def response_summarizer_node(state: GraphState):\n",
    "#     \"\"\"\n",
    "#     Function to summarize the response based on the user's question and the retrieved documents.\n",
    "#     \"\"\"\n",
    "#     print(\"Summarizing the response...\")\n",
    "#     question = state[\"question\"]\n",
    "#     documents = state[\"documents\"]\n",
    "\n",
    "#     only_content = \"\\n\\n\".join(\n",
    "#         [f\"Content idx: {i} - {doc.page_content}\" for i, doc in enumerate(documents)]\n",
    "#     )\n",
    "\n",
    "#     only_citation = \"\\n\\n\".join(\n",
    "#         [\n",
    "#             f\"Source idx: {i} - {doc.metadata['source']}\"\n",
    "#             for i, doc in enumerate(documents)\n",
    "#         ]\n",
    "#     )\n",
    "\n",
    "#     op = summarizer_chain.invoke(\n",
    "#         {\n",
    "#             \"context\": only_content,\n",
    "#             \"question\": question,\n",
    "#             \"citation\": only_citation,\n",
    "#         }\n",
    "#     )\n",
    "\n",
    "#     summary = op.summary\n",
    "#     citation = op.citation\n",
    "\n",
    "#     return {\n",
    "#         \"summary\": summary,\n",
    "#         \"citation\": citation\n",
    "#     }"
   ]
  },
  {
   "cell_type": "code",
   "execution_count": 88,
   "id": "2e7ef585",
   "metadata": {},
   "outputs": [],
   "source": [
    "def response_summarizer_node(state: GraphState):\n",
    "    \"\"\"\n",
    "    Function to summarize the response based on the user's question and the retrieved documents.\n",
    "    Optimized for robustness and clarity.\n",
    "    \"\"\"\n",
    "    print(\"Summarizing the response...\")\n",
    "    question = state[\"rewritten_question\"] if \"rewritten_question\" in state else state[\"question\"]\n",
    "    print(\"Question used for summarization:\", question)\n",
    "    documents = state.get(\"documents\", [])\n",
    "\n",
    "    only_content = \"\\n\\n\".join(\n",
    "        f\"Content idx: {i} - {getattr(doc, 'page_content', '')}\"\n",
    "        for i, doc in enumerate(documents)\n",
    "    )\n",
    "\n",
    "    only_citation = \"\\n\\n\".join(\n",
    "        f\"Source idx: {i} - {doc.metadata.get('source', '')}\"\n",
    "        for i, doc in enumerate(documents)\n",
    "    )\n",
    "\n",
    "    op = summarizer_chain.invoke(\n",
    "        {\n",
    "            \"context\": only_content,\n",
    "            \"question\": question,\n",
    "            \"citation\": only_citation,\n",
    "        }\n",
    "    )\n",
    "\n",
    "    summary = getattr(op, \"summary\", \"\")\n",
    "    citation = getattr(op, \"citation\", \"\")\n",
    "\n",
    "    return {\"summary\": summary, \"citation\": citation}"
   ]
  },
  {
   "cell_type": "code",
   "execution_count": 89,
   "id": "d6133fa2",
   "metadata": {},
   "outputs": [
    {
     "data": {
      "text/plain": [
       "<langgraph.graph.state.StateGraph at 0x7f0eee39f9d0>"
      ]
     },
     "execution_count": 89,
     "metadata": {},
     "output_type": "execute_result"
    }
   ],
   "source": [
    "# add the node\n",
    "workflow.add_node(\n",
    "    node=\"response_summarizer_node\",\n",
    "    action=response_summarizer_node,\n",
    ")\n",
    "\n",
    "# add one edge to the summarizer from web_search\n",
    "workflow.add_edge(\n",
    "    start_key=\"web_search\",\n",
    "    end_key=\"response_summarizer_node\",\n",
    ")"
   ]
  },
  {
   "cell_type": "markdown",
   "id": "e51b0f31",
   "metadata": {},
   "source": [
    "##### start with grade score to function decide_to_generate_rewrite and then to the downstream"
   ]
  },
  {
   "cell_type": "code",
   "execution_count": 90,
   "id": "638abc9a",
   "metadata": {},
   "outputs": [
    {
     "data": {
      "text/plain": [
       "<langgraph.graph.state.StateGraph at 0x7f0eee39f9d0>"
      ]
     },
     "execution_count": 90,
     "metadata": {},
     "output_type": "execute_result"
    }
   ],
   "source": [
    "workflow.add_conditional_edges(\n",
    "    source=\"document_grader_node\",\n",
    "    path=decide_to_generate_rewrite,\n",
    "    path_map={\n",
    "        \"generate\": \"response_summarizer_node\",\n",
    "        \"rewrite\": \"query_rewriter_node\",\n",
    "        END: END,\n",
    "    },\n",
    ")"
   ]
  },
  {
   "cell_type": "markdown",
   "id": "6ec14b55",
   "metadata": {},
   "source": [
    "##### Hallucination and grading node"
   ]
  },
  {
   "cell_type": "code",
   "execution_count": 91,
   "id": "9e6369c3",
   "metadata": {},
   "outputs": [],
   "source": [
    "# def hallucination_grader_node(state: GraphState):\n",
    "#     \"\"\"\n",
    "#     Function to check for hallucinations in the summarized response and grade it.\n",
    "#     \"\"\"\n",
    "#     print(\"Checking for hallucinations in the summarized response and grading it...\")\n",
    "#     question = state[\"question\"]\n",
    "#     summary = state[\"summary\"]\n",
    "#     documents = state[\"documents\"]\n",
    "\n",
    "#     only_content = \"\\n\\n\".join(\n",
    "#         [f\"Content idx: {i} - {doc.page_content}\" for i, doc in enumerate(documents)]\n",
    "#     )\n",
    "\n",
    "#     op = checker_grader_chain.invoke(\n",
    "#         {\n",
    "#             \"response\": summary,\n",
    "#             \"question\": question,\n",
    "#             \"context\": only_content,\n",
    "#         }\n",
    "#     )\n",
    "\n",
    "#     hallucination = op.hallucination\n",
    "#     repsonse_score = op.repsonse_score\n",
    "\n",
    "#     return {\n",
    "#         \"hallucination\": hallucination,\n",
    "#         \"repsonse_score\": repsonse_score,\n",
    "#         \"hallucination_iteration\": 1 if \"hallucination_iteration\" not in state else state[\"hallucination_iteration\"] + 1,\n",
    "#     }\n",
    "\n",
    "# def decide_to_accept_reject(state: GraphState):\n",
    "#     \"\"\"\n",
    "#     Function to decide whether to accept or reject the summarized response based on the grading score.\n",
    "#     \"\"\"\n",
    "#     print(\"Deciding whether to accept or reject the summarized response based on the grading score...\")\n",
    "#     hallucination = state[\"hallucination\"]\n",
    "#     print(\"Hallucination:\", hallucination)\n",
    "#     repsonse_score = state[\"repsonse_score\"]\n",
    "#     print(\"Response score:\", repsonse_score)\n",
    "\n",
    "\n",
    "#     hallucination_iteration = state[\"hallucination_iteration\"]\n",
    "#     print(\"Hallucination iteration:\", hallucination_iteration)\n",
    "\n",
    "#     if hallucination_iteration > 2:\n",
    "#         print(\"Hallucination iteration exceeded the limit. Rejecting the response.\")\n",
    "#         return \"not_acceptable\"\n",
    "\n",
    "#     else:\n",
    "#         if hallucination == \"yes\":\n",
    "#             print(\"Hallucination detected in the response.\")\n",
    "#             return \"not_acceptable\"\n",
    "#         else:\n",
    "#             if repsonse_score >= 0.7:\n",
    "#                 print(\"Response is acceptable. \")\n",
    "#                 return \"acceptable\"\n",
    "#             else:\n",
    "#                 print(\"Response is not acceptable, so rewriting the question.\")\n",
    "#                 return \"rewrite_try\""
   ]
  },
  {
   "cell_type": "code",
   "execution_count": 92,
   "id": "43b9ac6c",
   "metadata": {},
   "outputs": [],
   "source": [
    "def hallucination_grader_node(state: GraphState):\n",
    "    \"\"\"\n",
    "    Checks for hallucinations in the summarized response and grades it.\n",
    "    \"\"\"\n",
    "    print(\"Checking for hallucinations in the summarized response and grading it...\")\n",
    "    question = state[\"rewritten_question\"] if \"rewritten_question\" in state else state[\"question\"]\n",
    "    print(\"Question used for hallucination grading:\", question)\n",
    "    summary = state.get(\"summary\", \"\")\n",
    "    documents = state.get(\"documents\", [])\n",
    "\n",
    "    only_content = \"\\n\\n\".join(\n",
    "        [f\"Content idx: {i} - {doc.page_content}\" for i, doc in enumerate(documents)]\n",
    "    )\n",
    "\n",
    "    op = checker_grader_chain.invoke(\n",
    "        {\n",
    "            \"response\": summary,\n",
    "            \"question\": question,\n",
    "            \"context\": only_content,\n",
    "        }\n",
    "    )\n",
    "\n",
    "    hallucination = getattr(op, \"hallucination\")\n",
    "    response_score = getattr(op, \"response_score\")\n",
    "\n",
    "    print(\"Hallucination:\", hallucination)\n",
    "    print(\"Response score:\", response_score)\n",
    "\n",
    "    hallucination_iteration = state.get(\"hallucination_iteration\", 0) + 1\n",
    "\n",
    "    return {\n",
    "        \"hallucination\": hallucination,\n",
    "        \"response_score\": response_score,\n",
    "        \"hallucination_iteration\": hallucination_iteration,\n",
    "    }"
   ]
  },
  {
   "cell_type": "code",
   "execution_count": 93,
   "id": "3027a28a",
   "metadata": {},
   "outputs": [],
   "source": [
    "def decide_to_accept_reject(state: GraphState):\n",
    "    \"\"\"\n",
    "    Decides whether to accept or reject the summarized response based on hallucination and grading score.\n",
    "    \"\"\"\n",
    "    print(\n",
    "        \"Deciding whether to accept or reject the summarized response based on the grading score...\"\n",
    "    )\n",
    "    hallucination = state.get(\"hallucination\")\n",
    "    response_score = state.get(\"response_score\")\n",
    "    hallucination_iteration = state.get(\"hallucination_iteration\", 0)\n",
    "\n",
    "    # print(\"Hallucination:\", hallucination)\n",
    "    # print(\"Response score:\", response_score)\n",
    "    print(\"Hallucination iteration:\", hallucination_iteration)\n",
    "\n",
    "    if hallucination_iteration > 2:\n",
    "        print(\"Hallucination iteration exceeded the limit. Rejecting the response.\")\n",
    "        return \"not_acceptable\"\n",
    "    if hallucination == \"yes\":\n",
    "        print(\"Hallucination detected in the response.\")\n",
    "        return \"not_acceptable\"\n",
    "    if response_score >= 0.7:\n",
    "        print(\"Response is acceptable.\")\n",
    "        return \"acceptable\"\n",
    "    print(\"Response is not acceptable, so rewriting the question.\")\n",
    "    return \"rewrite_try\""
   ]
  },
  {
   "cell_type": "code",
   "execution_count": 94,
   "id": "f60d44a2",
   "metadata": {},
   "outputs": [
    {
     "data": {
      "text/plain": [
       "<langgraph.graph.state.StateGraph at 0x7f0eee39f9d0>"
      ]
     },
     "execution_count": 94,
     "metadata": {},
     "output_type": "execute_result"
    }
   ],
   "source": [
    "# add the node after response summarizer\n",
    "workflow.add_node(\n",
    "    node=\"hallucination_grader_node\",\n",
    "    action=hallucination_grader_node,\n",
    ")\n",
    "\n",
    "# add the edge to the hallucination grader\n",
    "workflow.add_edge(\n",
    "    start_key=\"response_summarizer_node\",\n",
    "    end_key=\"hallucination_grader_node\",\n",
    ")"
   ]
  },
  {
   "cell_type": "code",
   "execution_count": 95,
   "id": "6408e61d",
   "metadata": {},
   "outputs": [
    {
     "data": {
      "text/plain": [
       "<langgraph.graph.state.StateGraph at 0x7f0eee39f9d0>"
      ]
     },
     "execution_count": 95,
     "metadata": {},
     "output_type": "execute_result"
    }
   ],
   "source": [
    "# add the conditional edges to decide to accept or reject\n",
    "workflow.add_conditional_edges(\n",
    "    source=\"hallucination_grader_node\",\n",
    "    path=decide_to_accept_reject,\n",
    "    path_map={\n",
    "        \"acceptable\": END,\n",
    "        \"not_acceptable\": END,\n",
    "        \"rewrite_try\": \"query_rewriter_node\",\n",
    "    },\n",
    ")"
   ]
  },
  {
   "cell_type": "code",
   "execution_count": 96,
   "id": "d60c6f80",
   "metadata": {},
   "outputs": [],
   "source": [
    "# compile the graph and check the graph\n",
    "graph = workflow.compile()"
   ]
  },
  {
   "cell_type": "code",
   "execution_count": 97,
   "id": "779b6624",
   "metadata": {},
   "outputs": [
    {
     "data": {
      "image/png": "[encoded data removed]",
      "text/plain": [
       "<IPython.core.display.Image object>"
      ]
     },
     "metadata": {},
     "output_type": "display_data"
    }
   ],
   "source": [
    "display(Image(graph.get_graph().draw_png()))"
   ]
  },
  {
   "cell_type": "code",
   "execution_count": 98,
   "id": "fdce3056",
   "metadata": {},
   "outputs": [],
   "source": [
    "from pprint import pprint\n",
    "from time import time"
   ]
  },
  {
   "cell_type": "code",
   "execution_count": 99,
   "id": "a0e02486",
   "metadata": {},
   "outputs": [],
   "source": [
    "# create a time decorator\n",
    "\n",
    "def timeit(func):\n",
    "    \"\"\"\n",
    "    Decorator to measure the execution time of a function.\n",
    "    \"\"\"\n",
    "\n",
    "    def wrapper(*args, **kwargs):\n",
    "        start_time = time()\n",
    "        result = func(*args, **kwargs)\n",
    "        end_time = time()\n",
    "        print(f\"Execution time: {end_time - start_time:.2f} seconds\")\n",
    "        return result\n",
    "\n",
    "    return wrapper"
   ]
  },
  {
   "cell_type": "code",
   "execution_count": 100,
   "id": "3b2c050a",
   "metadata": {},
   "outputs": [],
   "source": [
    "@timeit\n",
    "def run_graph(graph, inputs):\n",
    "    \"\"\"\n",
    "    Function to run the graph with the given inputs.\n",
    "    \"\"\"\n",
    "    print(\"Running the graph...\")\n",
    "\n",
    "    # run the graph with the inputs\n",
    "\n",
    "    op = graph.invoke(inputs)\n",
    "    return op"
   ]
  },
  {
   "cell_type": "code",
   "execution_count": 101,
   "id": "1dbb2c36",
   "metadata": {},
   "outputs": [
    {
     "name": "stdout",
     "output_type": "stream",
     "text": [
      "Running the graph...\n",
      "Routing the question to the appropriate source...\n",
      "Routing to vector_retriever...\n",
      "Vector Retriever\n",
      "Question used for vector retriever: What are the potential benefits of investing in the financials sector under the new Republican administration\n",
      "Grading the retrieved documents...\n",
      "Question used for grading: What are the potential benefits of investing in the financials sector under the new Republican administration\n",
      "Graded documents with score: full_relevance\n",
      "Grade score: full_relevance\n",
      "Grading iteration: 1\n",
      "Deciding whether to generate or rewrite based on the grading score...\n",
      "Summarizing the response...\n",
      "Question used for summarization: What are the potential benefits of investing in the financials sector under the new Republican administration\n",
      "Checking for hallucinations in the summarized response and grading it...\n",
      "Question used for hallucination grading: What are the potential benefits of investing in the financials sector under the new Republican administration\n",
      "Hallucination: no\n",
      "Response score: 1.0\n",
      "Deciding whether to accept or reject the summarized response based on the grading score...\n",
      "Hallucination iteration: 1\n",
      "Response is acceptable.\n",
      "Execution time: 6.33 seconds\n"
     ]
    }
   ],
   "source": [
    "inputs = {\n",
    "    \"question\": \"What are the potential benefits of investing in the financials sector under the new Republican administration\",\n",
    "}\n",
    "\n",
    "# run the graph with the inputs\n",
    "op = run_graph(graph, inputs)"
   ]
  },
  {
   "cell_type": "code",
   "execution_count": 102,
   "id": "611e7d61",
   "metadata": {},
   "outputs": [
    {
     "data": {
      "text/plain": [
       "{'question': 'What are the potential benefits of investing in the financials sector under the new Republican administration',\n",
       " 'documents': [Document(id='9bffbb5a-67b4-4dcb-8992-d9fba6fefc12', metadata={'source': 'https://www.nutmeg.com/nutmegonomics/nutmeg-investor-update-december-2024', 'title': 'Nutmeg investor update: December 2024 - Nutmeg', 'description': 'In November, investors saw the outcome of the US election as positive for US stocks, but it was a different story for emerging market equities.', 'language': 'en', 'summary': 'The Nutmeg investor update for December 2024 highlights the positive performance of US equity and bond markets following the re-election of Donald Trump, while emerging markets and European equities faced challenges. The update also discusses the potential impact of trade tariffs and a stronger US dollar on global trade and emerging markets.', 'keywords': 'Nutmeg investor update December 2024 US election Donald Trump equity markets bond markets emerging markets trade tariffs US dollar economic growth investment implications'}, page_content='markets, corporate bonds largely mirrored the\\xa0atmosphere in equity markets, with investors apparently happy to take on more risk. This was reflected in the performance of riskier US high yield bonds, which delivered returns of 1.1%, and UK Corporate bonds also finished the month having made gains. Government bonds started the month on weaker footing. Election and inflation uncertainty dominated headlines, however, developed market government bonds finished November with returns of around 1.7% in the UK and 1% in the US.\\xa0What are the investment implications of Donald Trump\\'s re-election in November\\'s US election?It was clear from the market reaction that the re-election of Donald Trump is expected to create distinct winners and losers,\\xa0yet the President himself is only part of the story. Critically, the election result has offered Republicans control of not just the White House, but also the Senate and House of Representatives. This should make it much easier for the new administration to enact policy. This \"clean sweep\" was a possibility, but far from a certainty, and it heightened the market reaction to the election news.Sectors and stocks perceived to benefit from potential policy moves rallied, such as energy and banks, and investors shifted funds to US dollar denominated assets at the expense of global peers. Meanwhile, assets that are sensitive to trade and tariffs, such as European and emerging market stocks, fell, while their currencies weakened against the US dollar as investors priced the potential for meaningful tariffs. In Europe, an unstable political picture in Germany and France only added to reasons for investors to seek US assets.\\xa0 \\xa0\\xa0Away from stock markets, expectations of looser fiscal policy (the way the government spends and raises money) including the potential to extend tax breaks brought in during Trump\\'s previous presidency, should provide room for continued US economic growth. That has, however, kept bond market investors wary, as concerns grow over the extent of the administration\\'s plans to increase borrowing, and the potential for future tariff-induced inflation pressures. Consequently, the number of expected interest rate cuts from the Federal Reserve over the coming 18 months has fallen post-election. \\xa0We anticipate over the medium- to long-term, the US will benefit from a resurgence in domestic investment at the expense of the rest of the world, notably emerging markets. This was also our\\xa0expectation for the outgoing US administration, but we believe this dynamic may unfold\\xa0in a less smooth and predictable manner than was the case.How are tariffs expected to affect emerging markets and global trade?The Nutmeg investment team currently holds a smaller allocation to China than our long-term benchmark, given the challenges we feel the Chinese economy faces from both an internal consumption, and external trade perspective. But for much of 2024, we have held a more positive view of the outlook for wider emerging markets given what looked like ongoing recovery in global trade volumes and the demand for durable goods, and cheaper market valuations.That optimism, however has dimmed somewhat over the last quarter. The early-stage recovery and growth signals seen in many emerging market economies at the turn of 2024, are now showing signs of slowing. At the same time, broader emerging markets are facing a number of threats to their outlooks from both an economic and market perspective. The twin effects of a stronger US dollar, alongside the potential for meaningful trade tariffs are reducing our confidence in the extent to which global trade can recover from its post Covid lull. India is a notably bright spot in terms of domestic growth, but valuations do look stretched after a long run of outperformance, according to analysis by the Nutmeg investment team.\\xa0The situation is far from desperate, but with manufacturing sectors across developed economies in contraction, and the possibility of tariffs imposed by the global economy\\'s largest importer of goods, the investment case is likely to weaken. Clearly China, where we have a small allocation, will feel the brunt of these policies, but many other major emerging markets, particularly Mexico and those in South East Asia with strong trade ties to China, are also unlikely to escape unscathed, and face a more uncertain economic and market outlook post the US election.\\xa0About this update: This update was recorded on\\xa03 December 2024. All figures, unless otherwise stated, relate to the month of November\\xa02024.\\xa0Source for figures: MacroBond, Nutmeg and Bloomberg.Risk warningAs with all investing, your capital is at risk. The value of your portfolio with Nutmeg can go down as well as up and you may get back less than you invest. Past performance and forecasts are not reliable indicators of future\\xa0performance.\\u202fWe do not provide investment advice in this article. Always do your own research.\\xa0App store badgeGoogle play badgeSupportFAQsInsightsSitemapCareersPrivacy policyCookie policySite termsTerms and conditionsRegulatoryComplaintsCookie SettingsClient services020 3598 1515Contact'),\n",
       "  Document(metadata={'source': 'https://www.nutmeg.com/nutmegonomics/nutmeg-investor-update-march-2025', 'title': 'Nutmeg investor update: March 2025 - Nutmeg', 'description': 'February was a busy month, with investors digesting a lot of geopolitical news. US stocks fell back, but European and Chinese equities made notable gains.', 'language': 'en', 'summary': \"The Nutmeg investor update for March 2025 highlights the mixed performance of global stock markets in February, with European and Chinese equities gaining while US stocks declined. The update also discusses the Nutmeg investment team's views on the US economic outlook, portfolio adjustments, and the potential benefits of investing in the financial sector under the new Republican administration.\", 'keywords': 'Nutmeg investor update March 2025 global stock markets European equities Chinese equities US stocks economic outlook portfolio adjustments financial sector Republican administration geopolitical news consumer confidence interest rates deregulation'}, page_content='US – was down 1.3% in February. That decline was led by growth-oriented stocks such as those in the technology sector, which finished the month on a weaker footing. The growth-focused Nasdaq index declined 2.7% over the month.The most recent earnings season demonstrated the US stock market’s potential to deliver earnings that outperform expectations once again. But investor enthusiasm in February was tempered by the US macroeconomic picture. Consumer confidence fell to an 8-month low, while investors were disconcerted by service sector data that indicated a surprise contraction of activity. Against a backdrop of a changing tariffs narrative, and geopolitical worries, some investors are beginning to question the stability of US economic growth and the case for US exceptionalism.Does this change how the Nutmeg investment team views the US as an investment destination?We think it is far too early to conclude that US economic growth is on a weakening trajectory. Despite several high-profile data points offering a more muted viewpoint, manufacturing activity appears to be turning up, consumption remains strong, and the labour market’s key indicators are robust.We continue to take the view that a recession in the US is unlikely. But, as we flagged in our 2025 investment outlook, both stock market valuations and elevated geopolitical and policy risks increase the potential for market volatility. So, we retain our preference for US assets across our portfolios but as always, we also remain globally diversified.A good example is our exposure to European stock markets, where we remain ‘neutral’ relative to our long-term allocation. That is to say, in the short term, we do not think the overall case for investment in the region is stronger or weaker than in the long term. However, we do have some preferences for certain countries and sectors where we believe the investment case is strongest,\\xa0for instance\\xa0European industrial companies\\xa0within our\\xa0equity holdings.The industrials sector comprises a wide variety of companies such as those in machinery, manufacturing, and defence and aerospace. Industrial activity tends to benefit from buoyant global trade, and despite the looming risk of potential US tariffs, global trade volumes have seen a steady rise over the previous 12 months. We think European industrials are supported by three main drivers:rising global tradethe potential for upside in corporate earnings, andthe potential for a meaningful increase in European defence spending in the current geopolitical environment.We also currently favour the Nordics over broader Europe. We think the macro-economic picture for the Nordic countries is currently brighter than that of the wider European bloc. Nordic stock markets have demonstrated strong relative performance over the previous decade in comparison with their European peers.Is the Nutmeg investment team making any portfolio changes?We\\xa0have made an adjustment to portfolios’ US equity holdings,\\xa0adding\\xa0a position in the financials sector, which comprises banks, insurance firms and credit providers.We have done this for several reasons:Firstly, we think the economic backdrop for financials remains attractive. The US economy appears to be growing at a steady pace, and we expect banks to continue to expand activity through lending as the economy grows.Secondly, interest rates remain elevated, yet at the same time off their peak. The Federal Reserve is in no rush to cut interest rates and we expect it will take a steady approach as it balances the pressures of inflation and growth. Higher interest rates tend to be good for financial institutions, as it can increase their earnings potential, so long as they are not constraining economic activity. We think we might reach an interest rate ‘sweet spot’ for US banks over the coming 12 months.Additionally, we believe that there is the possibility of further deregulation under the new Republican administration, including the watering down or scrapping of proposed costly regulations.Our position in financials really reflects us remaining positive on the overall US economic trajectory, while leaning towards a sector we expect to benefit from both the current stage of the economic cycle and the current policy approach of the Republican administration.About this update: This update was recorded on\\xa04 March 2025. All figures, unless otherwise stated, relate to the month of February 2025.\\xa0Source for figures: MacroBond, Nutmeg and Bloomberg.Risk warningAs with all investing, your capital is at risk. The value of your portfolio with Nutmeg can go down as well as up and you may get back less than you invest. Past performance and forecasts are not reliable indicators of future\\xa0performance.\\u202fWe do not provide investment advice in this article. Always do your own research.\\xa0App store badgeGoogle play badgeSupportFAQsInsightsSitemapCareersPrivacy policyCookie policySite termsTerms and conditionsRegulatoryComplaintsCookie SettingsClient services020 3598 1515Contact ussupport@nutmeg.comPress enquiries only07788251769pr@nutmeg.comNutmeg25 Bank StreetCanary WharfLondonE14'),\n",
       "  Document(id='08ac252c-3a2f-43b7-b98b-f63747b50280', metadata={'source': 'https://www.nutmeg.com/nutmegonomics/nutmeg-investor-update-january-2025', 'title': 'Nutmeg investor update: January 2025 - Nutmeg', 'description': \"In December, there was a little cold water poured on investors' optimism. However, 2024 was still a particularly strong year for most stock markets.\", 'language': 'en', 'summary': 'The Nutmeg investor update for January 2025 highlights that despite a weaker December, 2024 was a strong year for most stock markets, particularly in the US, driven by economic stability and corporate earnings. The outlook for 2025 remains optimistic but cautious due to potential geopolitical uncertainties and market volatility.', 'keywords': 'Nutmeg investor update January 2025 stock markets bonds Federal Reserve interest rates inflation economic growth Santa Claus rally S&P 500 NASDAQ AI corporate earnings geopolitical uncertainties market volatility US equity emerging markets China Europe UK'}, page_content='with a registered office at 25 Bank Street, Canary Wharf, London E14 5JP. Smart Alpha is a trade mark of Schroders plc and is used under licence.App Store is a service mark and Apple and the Apple logo are trademarks of Apple Inc. Google Play and the Google Play logo are trademarks of Google LLC.'),\n",
       "  Document(id='7345d296-4438-4482-a1fb-f81fe7ca6c51', metadata={'source': 'https://www.nutmeg.com/nutmegonomics/nutmeg-investor-update-january-2025', 'title': 'Nutmeg investor update: January 2025 - Nutmeg', 'description': \"In December, there was a little cold water poured on investors' optimism. However, 2024 was still a particularly strong year for most stock markets.\", 'language': 'en', 'summary': 'The Nutmeg investor update for January 2025 highlights that despite a weaker December, 2024 was a strong year for most stock markets, particularly in the US, driven by economic stability and corporate earnings. The outlook for 2025 remains optimistic but cautious due to potential geopolitical uncertainties and market volatility.', 'keywords': 'Nutmeg investor update January 2025 stock markets bonds Federal Reserve interest rates inflation economic growth Santa Claus rally S&P 500 NASDAQ AI corporate earnings geopolitical uncertainties market volatility US equity emerging markets China Europe UK'}, page_content=\"Nutmeg investor update: January 2025 - NutmegSkip to contentProductsProductsInvest for every stage for life and make the most of your tax allowances.\\xa0Stocks and Shares ISAPersonal PensionLifetime ISAJunior ISAGeneral Investment AccountInvestment stylesInvestment stylesHave your money managed in a way that fits your goals and\\xa0priorities.Fully ManagedThematic InvestingSmart AlphaSocially Responsible InvestingFixed AllocationAdviceFinancial advice and guidanceGet expert support to help you make the right investment choices.Free financial guidanceOur financial advice serviceRetirement adviceInvestment adviceConsolidation adviceLump sum adviceBook your free consultationTools and guidesTools and guidesSee how you could reach your goals with our calculators and how-to guides.ToolsSelf-employed tax calculatorCompound returns calculatorISA calculatorPension calculatorCapital Gains Tax calculatorGuidesInvesting for beginnersHow to retire at 55How to avoid the 60% tax trapWhat inflation means in investingWhy it's important to diversifyWhat is volatility?InsightsInsightsRead the latest views from our investment and wealth experts.Financial planningRetirement essentialsInvesting essentialsMarketsBrowse our articlesAbout usAbout usFind out more about who we are and what we do for investors.Our companyOur track recordOur feesMeet the investment teamCareersHelpHelpAsk us about investing, your account, advice and more.Get in touchFAQsGo to our Help hubLog InSign upHamburger MenuProductsProductsInvest for every stage for life and make the most of your tax allowances.\\xa0Stocks and Shares ISAPersonal PensionLifetime ISAJunior ISAGeneral Investment AccountInvestment stylesInvestment stylesHave your money managed in a way that fits your goals and\\xa0priorities.Fully ManagedThematic InvestingSmart AlphaSocially Responsible InvestingFixed AllocationAdviceFinancial advice and guidanceGet expert support to help you make the right investment choices.Free financial guidanceOur financial advice serviceRetirement adviceInvestment adviceConsolidation adviceLump sum adviceBook your free consultationTools and guidesTools and guidesSee how you could reach your goals with our calculators and how-to guides.ToolsSelf-employed tax calculatorCompound returns calculatorISA calculatorPension calculatorCapital Gains Tax calculatorGuidesInvesting for beginnersHow to retire at 55How to avoid the 60% tax trapWhat inflation means in investingWhy it's important to diversifyWhat is volatility?InsightsInsightsRead the latest views from our investment and wealth experts.Financial planningRetirement essentialsInvesting essentialsMarketsBrowse our articlesAbout usAbout usFind out more about who we are and what we do for investors.Our companyOur track recordOur feesMeet the investment teamCareersHelpHelpAsk us about investing, your account, advice and more.Get in touchFAQsGo to our Help hub;NutmegonomicsMarket InsightsNutmeg investor update: January 2025Market InsightsNutmeg investor update: January 2025The Nutmeg team|4 minIn December, there was a little cold water poured on investors’ optimism. However, 2024 was still particularly strong for most stock markets.At a glanceIn December, the Fed poured a little cold water on investor optimismThe 'Santa Claus' rally didn’t materialise for most stock marketsBond markets had a disappointing month, with rising yields pushing down pricesDespite a weaker December, 2024 was a very strong year for most stock markets but a more mixed one for bondsWhat happened in financial markets in December?\\xa0Well, for context let’s start off by saying that, for stock markets, 2024 was a particularly strong year for many regions, and we’ll delve into the detail of that in a moment.But firstly, December. The optimism of November had a little cold water poured on it by the US Federal Reserve – more commonly known as the Fed. At their December meeting rates were cut by a further 0.25 percentage points, but it was more what was said than what was done that caused the year to finish on a slightly flat note. While rate cuts are typically welcomed by investors, the Fed now anticipates that rates will only be cut by 0.50 percentage points during 2025.As a quick recap, central banks like the Fed – and the UK’s Bank of England – have been cutting rates to help boost economic growth.\\xa0However, inflation in the US has remained stubbornly above target. The Fed is therefore concerned that if they cut rates too much too quickly, it could bring unwanted upward price pressures. This is a fine balancing act for Fed Chair Jerome Powell and his colleagues.For stock markets, this meant that the famous 'Santa Claus rally' – where stock markets can be boosted in December by increased consumer spending and optimism – failed to\\xa0materialise\\xa0for most regions.For\"),\n",
       "  Document(metadata={'source': 'https://www.nutmeg.com/nutmegonomics/nutmeg-investor-update-january-2025', 'title': 'Nutmeg investor update: January 2025 - Nutmeg', 'description': \"In December, there was a little cold water poured on investors' optimism. However, 2024 was still a particularly strong year for most stock markets.\", 'language': 'en', 'summary': 'The Nutmeg investor update for January 2025 highlights that despite a weaker December, 2024 was a strong year for most stock markets, particularly in the US, driven by economic stability and corporate earnings. The outlook for 2025 remains optimistic but cautious due to potential geopolitical uncertainties and market volatility.', 'keywords': 'Nutmeg investor update January 2025 stock markets bonds Federal Reserve interest rates inflation economic growth Santa Claus rally S&P 500 NASDAQ AI corporate earnings geopolitical uncertainties market volatility US equity emerging markets China Europe UK'}, page_content=\"bonds, the Fed’s messaging pushed yields higher, causing prices to dip slightly across most fixed income asset classes.\\xa0That's the way bond markets work; when yields rise, their price falls.What was the full picture for 2024?For stock markets, 2024\\xa0was\\xa0generally\\xa0a very strong year.\\xa0Regions such as the UK, Canada, India and Asia Pacific\\xa0all finished the year ahead, despite falling in December. But none could quite match the same combination of economic stability and corporate earnings strength that has underpinned the US.The S&P 500 index, which tracks the performance of the 500 largest US companies, saw a gain of 25% for the year. Historically, returns this high are fairly rare.The NASDAQ index, which is a tech stock index, including high-flying companies such as Nvidia, saw an even stronger year, with prices up just under 26%. Tech stocks have continued to attract investors as artificial intelligence – or AI – starts to become increasingly mainstream. AI has continued to shift from being a technology with potential for the future, to one with real life productivity benefits on a day-to-day basis.Although the main story has been about the strength of stock markets, many bond markets have also experienced a positive year. Higher risk ‘high yield’ bonds in both the US and Europe have increased 8.2% and 8.6%, respectively. They have benefitted from the relative economic stability we saw in 2024, something that was far from guaranteed at the start of last year.It’s been a mixed picture for government bonds.\\xa0In the UK, gilts have performed poorly.\\xa0In\\xa0Europe, Italy and Spain have performed well,\\xa0helped by\\xa0the expectation of further rate cuts amid a\\xa0weaker\\xa0economic picture relative to the US. US government bonds have seen more muted performance as expectations of further rate cuts were wound back. The re-think was due to\\xa0better-than-expected economic results.What is the Nutmeg investment team’s outlook for 2025?We are optimistic about the investing landscape as we move into 2025, yet challenges remain.Over the past two years, multi-asset portfolios have thrived, benefiting from strong equity performance. The global economic environment, especially in the US, remains supportive going forward. There is a robust job market, lower inflation and interest rates are on a downward trend. We expect the corporate earnings landscape, especially in the US, to remain positive.However, a degree of caution is warranted. US equity valuations are above historic averages, and geopolitical uncertainties, such as potential instability from the Trump\\xa0administration\\xa0and ongoing global conflicts, could increase market volatility. Emerging markets face challenges, including potential Trump tariffs which could strengthen the dollar and impact these economies.\\xa0China's economic transition\\xa0and deflationary pressures add to the uncertainty.In Europe,\\xa0we believe\\xa0the UK is better positioned than the continent, with growing household incomes and a recovering housing market. Interest rate policies are expected to ease, but the link between wages growth and inflation means that\\xa0tight\\xa0labour\\xa0markets and rising wages could rekindle inflation.\\xa0Central banks are likely to proceed cautiously with rate cuts.Despite these risks, the investment team maintains a positive long-term outlook. We are, however, holding slightly higher cash reserves than usual, ready to adapt and capitalise on market opportunities that may arise if we see volatility increase in the short term.About this update: This update was recorded on\\xa07 January 2025. All figures, unless otherwise stated, relate to the month of December 2024.\\xa0Source for figures: MacroBond, Nutmeg and Bloomberg.Risk warningAs with all investing, your capital is at risk. The value of your portfolio with Nutmeg can go down as well as up and you may get back less than you invest. Past performance and forecasts are not reliable indicators of future\\xa0performance.\\u202fWe do not provide investment advice in this article. Always do your own research.\\xa0App store badgeGoogle play badgeSupportFAQsInsightsSitemapCareersPrivacy policyCookie policySite termsTerms and conditionsRegulatoryComplaintsCookie SettingsClient services020 3598 1515Contact ussupport@nutmeg.comPress enquiries only07788251769pr@nutmeg.comNutmeg25 Bank StreetCanary WharfLondonE14 5JPOffice020 3598 1717As with all investing, your capital is at risk. The value of your portfolio with Nutmeg can go down as well as up and you may get back less than you invest. Learn what we mean by riskCopyright © 2025 Nutmeg Saving and Investment Limited. Nutmeg® is a registered trade mark of Nutmeg Saving and Investment Limited, authorised and regulated by the Financial Conduct Authority, no. 552016, registered in England and Wales, no. 07503666,\")],\n",
       " 'summary': '**Introduction**\\n\\nInvesting in the financials sector under the new Republican administration presents several potential benefits. This summary outlines the key reasons why the financials sector may be an attractive investment opportunity.\\n\\n**Body**\\n\\n1. **Economic Growth**\\n   - The US economy is expected to grow steadily, providing a favorable environment for financial institutions to expand their activities, particularly through lending.\\n\\n2. **Interest Rates**\\n   - Interest rates remain elevated but are off their peak. The Federal Reserve is likely to take a steady approach to balancing inflation and growth pressures. Higher interest rates can increase the earnings potential for financial institutions, provided they do not constrain economic activity.\\n\\n3. **Deregulation**\\n   - There is a possibility of further deregulation under the new Republican administration. This could include the reduction or elimination of costly regulations, which would benefit financial institutions by lowering their operational costs and increasing profitability.\\n\\n**Conclusion**\\n\\nOverall, the financials sector stands to benefit from a combination of steady economic growth, favorable interest rate conditions, and potential deregulation. These factors make it a promising area for investment under the new Republican administration.',\n",
       " 'grade_score': 'full_relevance',\n",
       " 'hallucination': 'no',\n",
       " 'response_score': 1.0,\n",
       " 'grading_iteration': 1,\n",
       " 'hallucination_iteration': 1}"
      ]
     },
     "execution_count": 102,
     "metadata": {},
     "output_type": "execute_result"
    }
   ],
   "source": [
    "op"
   ]
  },
  {
   "cell_type": "code",
   "execution_count": 103,
   "id": "d20201a4",
   "metadata": {},
   "outputs": [
    {
     "name": "stdout",
     "output_type": "stream",
     "text": [
      "Running the graph...\n",
      "Routing the question to the appropriate source...\n",
      "Routing to vector_retriever...\n",
      "Vector Retriever\n",
      "Question used for vector retriever: What is the reason for the financial markets to be volatile?\n",
      "Grading the retrieved documents...\n",
      "Question used for grading: What is the reason for the financial markets to be volatile?\n",
      "Graded documents with score: partial_relevance\n",
      "Grade score: partial_relevance\n",
      "Grading iteration: 1\n",
      "Deciding whether to generate or rewrite based on the grading score...\n",
      "Rewriting the user's question...\n",
      "Question used for rewriting: What is the reason for the financial markets to be volatile?\n",
      "Rewritten question: What are the reasons for financial market volatility, considering factors such as US elections, trade tariffs, interest rates, inflation, and geopolitical uncertainties?\n",
      "Vector Retriever\n",
      "Question used for vector retriever: What are the reasons for financial market volatility, considering factors such as US elections, trade tariffs, interest rates, inflation, and geopolitical uncertainties?\n",
      "Grading the retrieved documents...\n",
      "Question used for grading: What are the reasons for financial market volatility, considering factors such as US elections, trade tariffs, interest rates, inflation, and geopolitical uncertainties?\n",
      "Graded documents with score: full_relevance\n",
      "Grade score: full_relevance\n",
      "Grading iteration: 2\n",
      "Deciding whether to generate or rewrite based on the grading score...\n",
      "Summarizing the response...\n",
      "Question used for summarization: What are the reasons for financial market volatility, considering factors such as US elections, trade tariffs, interest rates, inflation, and geopolitical uncertainties?\n",
      "Checking for hallucinations in the summarized response and grading it...\n",
      "Question used for hallucination grading: What are the reasons for financial market volatility, considering factors such as US elections, trade tariffs, interest rates, inflation, and geopolitical uncertainties?\n",
      "Hallucination: no\n",
      "Response score: 0.9\n",
      "Deciding whether to accept or reject the summarized response based on the grading score...\n",
      "Hallucination iteration: 1\n",
      "Response is acceptable.\n",
      "Execution time: 11.57 seconds\n"
     ]
    }
   ],
   "source": [
    "# bad question\n",
    "\n",
    "inputs = {\n",
    "    \"question\": \"What is the reason for the financial markets to be volatile?\",\n",
    "}\n",
    "\n",
    "op = run_graph(graph, inputs)"
   ]
  },
  {
   "cell_type": "code",
   "execution_count": 104,
   "id": "d7d16a33",
   "metadata": {},
   "outputs": [
    {
     "data": {
      "text/plain": [
       "{'question': 'What are the reasons for financial market volatility, considering factors such as US elections, trade tariffs, interest rates, inflation, and geopolitical uncertainties?',\n",
       " 'documents': [Document(id='9bffbb5a-67b4-4dcb-8992-d9fba6fefc12', metadata={'source': 'https://www.nutmeg.com/nutmegonomics/nutmeg-investor-update-december-2024', 'title': 'Nutmeg investor update: December 2024 - Nutmeg', 'description': 'In November, investors saw the outcome of the US election as positive for US stocks, but it was a different story for emerging market equities.', 'language': 'en', 'summary': 'The Nutmeg investor update for December 2024 highlights the positive performance of US equity and bond markets following the re-election of Donald Trump, while emerging markets and European equities faced challenges. The update also discusses the potential impact of trade tariffs and a stronger US dollar on global trade and emerging markets.', 'keywords': 'Nutmeg investor update December 2024 US election Donald Trump equity markets bond markets emerging markets trade tariffs US dollar economic growth investment implications'}, page_content='markets, corporate bonds largely mirrored the\\xa0atmosphere in equity markets, with investors apparently happy to take on more risk. This was reflected in the performance of riskier US high yield bonds, which delivered returns of 1.1%, and UK Corporate bonds also finished the month having made gains. Government bonds started the month on weaker footing. Election and inflation uncertainty dominated headlines, however, developed market government bonds finished November with returns of around 1.7% in the UK and 1% in the US.\\xa0What are the investment implications of Donald Trump\\'s re-election in November\\'s US election?It was clear from the market reaction that the re-election of Donald Trump is expected to create distinct winners and losers,\\xa0yet the President himself is only part of the story. Critically, the election result has offered Republicans control of not just the White House, but also the Senate and House of Representatives. This should make it much easier for the new administration to enact policy. This \"clean sweep\" was a possibility, but far from a certainty, and it heightened the market reaction to the election news.Sectors and stocks perceived to benefit from potential policy moves rallied, such as energy and banks, and investors shifted funds to US dollar denominated assets at the expense of global peers. Meanwhile, assets that are sensitive to trade and tariffs, such as European and emerging market stocks, fell, while their currencies weakened against the US dollar as investors priced the potential for meaningful tariffs. In Europe, an unstable political picture in Germany and France only added to reasons for investors to seek US assets.\\xa0 \\xa0\\xa0Away from stock markets, expectations of looser fiscal policy (the way the government spends and raises money) including the potential to extend tax breaks brought in during Trump\\'s previous presidency, should provide room for continued US economic growth. That has, however, kept bond market investors wary, as concerns grow over the extent of the administration\\'s plans to increase borrowing, and the potential for future tariff-induced inflation pressures. Consequently, the number of expected interest rate cuts from the Federal Reserve over the coming 18 months has fallen post-election. \\xa0We anticipate over the medium- to long-term, the US will benefit from a resurgence in domestic investment at the expense of the rest of the world, notably emerging markets. This was also our\\xa0expectation for the outgoing US administration, but we believe this dynamic may unfold\\xa0in a less smooth and predictable manner than was the case.How are tariffs expected to affect emerging markets and global trade?The Nutmeg investment team currently holds a smaller allocation to China than our long-term benchmark, given the challenges we feel the Chinese economy faces from both an internal consumption, and external trade perspective. But for much of 2024, we have held a more positive view of the outlook for wider emerging markets given what looked like ongoing recovery in global trade volumes and the demand for durable goods, and cheaper market valuations.That optimism, however has dimmed somewhat over the last quarter. The early-stage recovery and growth signals seen in many emerging market economies at the turn of 2024, are now showing signs of slowing. At the same time, broader emerging markets are facing a number of threats to their outlooks from both an economic and market perspective. The twin effects of a stronger US dollar, alongside the potential for meaningful trade tariffs are reducing our confidence in the extent to which global trade can recover from its post Covid lull. India is a notably bright spot in terms of domestic growth, but valuations do look stretched after a long run of outperformance, according to analysis by the Nutmeg investment team.\\xa0The situation is far from desperate, but with manufacturing sectors across developed economies in contraction, and the possibility of tariffs imposed by the global economy\\'s largest importer of goods, the investment case is likely to weaken. Clearly China, where we have a small allocation, will feel the brunt of these policies, but many other major emerging markets, particularly Mexico and those in South East Asia with strong trade ties to China, are also unlikely to escape unscathed, and face a more uncertain economic and market outlook post the US election.\\xa0About this update: This update was recorded on\\xa03 December 2024. All figures, unless otherwise stated, relate to the month of November\\xa02024.\\xa0Source for figures: MacroBond, Nutmeg and Bloomberg.Risk warningAs with all investing, your capital is at risk. The value of your portfolio with Nutmeg can go down as well as up and you may get back less than you invest. Past performance and forecasts are not reliable indicators of future\\xa0performance.\\u202fWe do not provide investment advice in this article. Always do your own research.\\xa0App store badgeGoogle play badgeSupportFAQsInsightsSitemapCareersPrivacy policyCookie policySite termsTerms and conditionsRegulatoryComplaintsCookie SettingsClient services020 3598 1515Contact'),\n",
       "  Document(metadata={'source': 'https://www.nutmeg.com/nutmegonomics/nutmeg-investor-update-march-2025', 'title': 'Nutmeg investor update: March 2025 - Nutmeg', 'description': 'February was a busy month, with investors digesting a lot of geopolitical news. US stocks fell back, but European and Chinese equities made notable gains.', 'language': 'en', 'summary': \"The Nutmeg investor update for March 2025 highlights the mixed performance of global stock markets in February, with European and Chinese equities gaining while US stocks declined. The update also discusses the Nutmeg investment team's views on the US economic outlook, portfolio adjustments, and the potential benefits of investing in the financial sector under the new Republican administration.\", 'keywords': 'Nutmeg investor update March 2025 global stock markets European equities Chinese equities US stocks economic outlook portfolio adjustments financial sector Republican administration geopolitical news consumer confidence interest rates deregulation'}, page_content='US – was down 1.3% in February. That decline was led by growth-oriented stocks such as those in the technology sector, which finished the month on a weaker footing. The growth-focused Nasdaq index declined 2.7% over the month.The most recent earnings season demonstrated the US stock market’s potential to deliver earnings that outperform expectations once again. But investor enthusiasm in February was tempered by the US macroeconomic picture. Consumer confidence fell to an 8-month low, while investors were disconcerted by service sector data that indicated a surprise contraction of activity. Against a backdrop of a changing tariffs narrative, and geopolitical worries, some investors are beginning to question the stability of US economic growth and the case for US exceptionalism.Does this change how the Nutmeg investment team views the US as an investment destination?We think it is far too early to conclude that US economic growth is on a weakening trajectory. Despite several high-profile data points offering a more muted viewpoint, manufacturing activity appears to be turning up, consumption remains strong, and the labour market’s key indicators are robust.We continue to take the view that a recession in the US is unlikely. But, as we flagged in our 2025 investment outlook, both stock market valuations and elevated geopolitical and policy risks increase the potential for market volatility. So, we retain our preference for US assets across our portfolios but as always, we also remain globally diversified.A good example is our exposure to European stock markets, where we remain ‘neutral’ relative to our long-term allocation. That is to say, in the short term, we do not think the overall case for investment in the region is stronger or weaker than in the long term. However, we do have some preferences for certain countries and sectors where we believe the investment case is strongest,\\xa0for instance\\xa0European industrial companies\\xa0within our\\xa0equity holdings.The industrials sector comprises a wide variety of companies such as those in machinery, manufacturing, and defence and aerospace. Industrial activity tends to benefit from buoyant global trade, and despite the looming risk of potential US tariffs, global trade volumes have seen a steady rise over the previous 12 months. We think European industrials are supported by three main drivers:rising global tradethe potential for upside in corporate earnings, andthe potential for a meaningful increase in European defence spending in the current geopolitical environment.We also currently favour the Nordics over broader Europe. We think the macro-economic picture for the Nordic countries is currently brighter than that of the wider European bloc. Nordic stock markets have demonstrated strong relative performance over the previous decade in comparison with their European peers.Is the Nutmeg investment team making any portfolio changes?We\\xa0have made an adjustment to portfolios’ US equity holdings,\\xa0adding\\xa0a position in the financials sector, which comprises banks, insurance firms and credit providers.We have done this for several reasons:Firstly, we think the economic backdrop for financials remains attractive. The US economy appears to be growing at a steady pace, and we expect banks to continue to expand activity through lending as the economy grows.Secondly, interest rates remain elevated, yet at the same time off their peak. The Federal Reserve is in no rush to cut interest rates and we expect it will take a steady approach as it balances the pressures of inflation and growth. Higher interest rates tend to be good for financial institutions, as it can increase their earnings potential, so long as they are not constraining economic activity. We think we might reach an interest rate ‘sweet spot’ for US banks over the coming 12 months.Additionally, we believe that there is the possibility of further deregulation under the new Republican administration, including the watering down or scrapping of proposed costly regulations.Our position in financials really reflects us remaining positive on the overall US economic trajectory, while leaning towards a sector we expect to benefit from both the current stage of the economic cycle and the current policy approach of the Republican administration.About this update: This update was recorded on\\xa04 March 2025. All figures, unless otherwise stated, relate to the month of February 2025.\\xa0Source for figures: MacroBond, Nutmeg and Bloomberg.Risk warningAs with all investing, your capital is at risk. The value of your portfolio with Nutmeg can go down as well as up and you may get back less than you invest. Past performance and forecasts are not reliable indicators of future\\xa0performance.\\u202fWe do not provide investment advice in this article. Always do your own research.\\xa0App store badgeGoogle play badgeSupportFAQsInsightsSitemapCareersPrivacy policyCookie policySite termsTerms and conditionsRegulatoryComplaintsCookie SettingsClient services020 3598 1515Contact ussupport@nutmeg.comPress enquiries only07788251769pr@nutmeg.comNutmeg25 Bank StreetCanary WharfLondonE14'),\n",
       "  Document(id='08ac252c-3a2f-43b7-b98b-f63747b50280', metadata={'source': 'https://www.nutmeg.com/nutmegonomics/nutmeg-investor-update-january-2025', 'title': 'Nutmeg investor update: January 2025 - Nutmeg', 'description': \"In December, there was a little cold water poured on investors' optimism. However, 2024 was still a particularly strong year for most stock markets.\", 'language': 'en', 'summary': 'The Nutmeg investor update for January 2025 highlights that despite a weaker December, 2024 was a strong year for most stock markets, particularly in the US, driven by economic stability and corporate earnings. The outlook for 2025 remains optimistic but cautious due to potential geopolitical uncertainties and market volatility.', 'keywords': 'Nutmeg investor update January 2025 stock markets bonds Federal Reserve interest rates inflation economic growth Santa Claus rally S&P 500 NASDAQ AI corporate earnings geopolitical uncertainties market volatility US equity emerging markets China Europe UK'}, page_content='with a registered office at 25 Bank Street, Canary Wharf, London E14 5JP. Smart Alpha is a trade mark of Schroders plc and is used under licence.App Store is a service mark and Apple and the Apple logo are trademarks of Apple Inc. Google Play and the Google Play logo are trademarks of Google LLC.'),\n",
       "  Document(metadata={'source': 'https://www.nutmeg.com/nutmegonomics/nutmeg-investor-update-january-2025', 'title': 'Nutmeg investor update: January 2025 - Nutmeg', 'description': \"In December, there was a little cold water poured on investors' optimism. However, 2024 was still a particularly strong year for most stock markets.\", 'language': 'en', 'summary': 'The Nutmeg investor update for January 2025 highlights that despite a weaker December, 2024 was a strong year for most stock markets, particularly in the US, driven by economic stability and corporate earnings. The outlook for 2025 remains optimistic but cautious due to potential geopolitical uncertainties and market volatility.', 'keywords': 'Nutmeg investor update January 2025 stock markets bonds Federal Reserve interest rates inflation economic growth Santa Claus rally S&P 500 NASDAQ AI corporate earnings geopolitical uncertainties market volatility US equity emerging markets China Europe UK'}, page_content=\"bonds, the Fed’s messaging pushed yields higher, causing prices to dip slightly across most fixed income asset classes.\\xa0That's the way bond markets work; when yields rise, their price falls.What was the full picture for 2024?For stock markets, 2024\\xa0was\\xa0generally\\xa0a very strong year.\\xa0Regions such as the UK, Canada, India and Asia Pacific\\xa0all finished the year ahead, despite falling in December. But none could quite match the same combination of economic stability and corporate earnings strength that has underpinned the US.The S&P 500 index, which tracks the performance of the 500 largest US companies, saw a gain of 25% for the year. Historically, returns this high are fairly rare.The NASDAQ index, which is a tech stock index, including high-flying companies such as Nvidia, saw an even stronger year, with prices up just under 26%. Tech stocks have continued to attract investors as artificial intelligence – or AI – starts to become increasingly mainstream. AI has continued to shift from being a technology with potential for the future, to one with real life productivity benefits on a day-to-day basis.Although the main story has been about the strength of stock markets, many bond markets have also experienced a positive year. Higher risk ‘high yield’ bonds in both the US and Europe have increased 8.2% and 8.6%, respectively. They have benefitted from the relative economic stability we saw in 2024, something that was far from guaranteed at the start of last year.It’s been a mixed picture for government bonds.\\xa0In the UK, gilts have performed poorly.\\xa0In\\xa0Europe, Italy and Spain have performed well,\\xa0helped by\\xa0the expectation of further rate cuts amid a\\xa0weaker\\xa0economic picture relative to the US. US government bonds have seen more muted performance as expectations of further rate cuts were wound back. The re-think was due to\\xa0better-than-expected economic results.What is the Nutmeg investment team’s outlook for 2025?We are optimistic about the investing landscape as we move into 2025, yet challenges remain.Over the past two years, multi-asset portfolios have thrived, benefiting from strong equity performance. The global economic environment, especially in the US, remains supportive going forward. There is a robust job market, lower inflation and interest rates are on a downward trend. We expect the corporate earnings landscape, especially in the US, to remain positive.However, a degree of caution is warranted. US equity valuations are above historic averages, and geopolitical uncertainties, such as potential instability from the Trump\\xa0administration\\xa0and ongoing global conflicts, could increase market volatility. Emerging markets face challenges, including potential Trump tariffs which could strengthen the dollar and impact these economies.\\xa0China's economic transition\\xa0and deflationary pressures add to the uncertainty.In Europe,\\xa0we believe\\xa0the UK is better positioned than the continent, with growing household incomes and a recovering housing market. Interest rate policies are expected to ease, but the link between wages growth and inflation means that\\xa0tight\\xa0labour\\xa0markets and rising wages could rekindle inflation.\\xa0Central banks are likely to proceed cautiously with rate cuts.Despite these risks, the investment team maintains a positive long-term outlook. We are, however, holding slightly higher cash reserves than usual, ready to adapt and capitalise on market opportunities that may arise if we see volatility increase in the short term.About this update: This update was recorded on\\xa07 January 2025. All figures, unless otherwise stated, relate to the month of December 2024.\\xa0Source for figures: MacroBond, Nutmeg and Bloomberg.Risk warningAs with all investing, your capital is at risk. The value of your portfolio with Nutmeg can go down as well as up and you may get back less than you invest. Past performance and forecasts are not reliable indicators of future\\xa0performance.\\u202fWe do not provide investment advice in this article. Always do your own research.\\xa0App store badgeGoogle play badgeSupportFAQsInsightsSitemapCareersPrivacy policyCookie policySite termsTerms and conditionsRegulatoryComplaintsCookie SettingsClient services020 3598 1515Contact ussupport@nutmeg.comPress enquiries only07788251769pr@nutmeg.comNutmeg25 Bank StreetCanary WharfLondonE14 5JPOffice020 3598 1717As with all investing, your capital is at risk. The value of your portfolio with Nutmeg can go down as well as up and you may get back less than you invest. Learn what we mean by riskCopyright © 2025 Nutmeg Saving and Investment Limited. Nutmeg® is a registered trade mark of Nutmeg Saving and Investment Limited, authorised and regulated by the Financial Conduct Authority, no. 552016, registered in England and Wales, no. 07503666,\"),\n",
       "  Document(id='36d560a3-3a15-4fc3-a98e-d29fae706559', metadata={'source': 'https://www.nutmeg.com/nutmegonomics/nutmeg-investor-update-october-2024', 'title': 'Nutmeg investor update: October 2024 - Nutmeg', 'description': 'Brad Holland, Director of Investment Strategy, reviews market performance during September.', 'language': 'en', 'summary': \"The Nutmeg investor update for October 2024 reviews market performance in September, highlighting significant central bank announcements from the US Federal Reserve and the People's Bank of China, which led to positive investor reactions and market movements. The update also discusses the investment team's unchanged portfolio allocation and their focus on US technology stocks due to technological change.\", 'keywords': \"Nutmeg investor update October 2024 market performance central bank announcements US Federal Reserve People's Bank of China equity markets interest rates economic growth Chinese equities investment strategy US technology stocks\"}, page_content='significant announcements; the US and China.Starting with the US, the Federal Reserve - or simply \"the Fed\" - has been trying to contain inflation in the US economy since the start of 2022. The Fed has a few tools to do this, but interest rates are one of the most powerful. By increasing (or tightening) rates to their highest level since 2007, inflation has indeed come down a long way and is now close to where the Fed wants it. The downside of higher interest rates is that they can stifle economic growth.In September, the Fed was happy enough to cut rates for the first time in four years, and by 0.5%; a bigger move than its usual 0.25%. Investors saw it as good news, which was reflected by the market movements. Expectations are for the Fed to continue cutting rates steadily.It\\'s important to say that there are still elements of the US economy that the Fed will be watching carefully. Containing inflation and keeping it steady is a delicate task.Some contributors to the overall inflation figure – specifically wage inflation – remain higher than is ideal. Even so, this is partially offset by stable and growing productivity, so we think the steady pace of rate cuts will continue for now. In general, the economy overall looks to be in good shape.China is pulling out all the stopsThe Fed’s decision was well received by the market, but also not a huge surprise. The People\\'s Bank of China (PBoC), conversely, announced a series of surprisingly aggressive policy changes, in a bid to reverse the economy’s persistent slowdown.\\xa0 Chinese equities rallied sharply following the news.The measures included\\xa0interest rate and mortgage rate cuts, and financing assistance for the\\xa0ailing property market. Some restrictions on property purchases are also being removed. In addition, the Chinese government announced measures aimed at supporting the equity market. Time will tell if these various policy measures will improve economic performance enough to reach China\\'s growth targets. The Nutmeg investment team aren’t convinced, not yet anyway. To see sustained strength in domestic demand, we feel more is needed.What did the investment team do?The investment team didn\\'t change portfolio allocation over the month. Our positive outlook for economic growth means we have retained our bias towards equities. We also think that technological change is playing an important role in how economies and equities behave. And we are positioned for this trend by being over-allocated to US technology stocks.\\xa0Thanks for watching. If you have any questions or suggestions for a topic you’d like us to discuss in next month’s investor update, you can contact us via social media, email or in the comments section below this video.\\xa0The Nutmeg investor update is also available as a podcast. Listen to this month\\'s update below.About this update: This update was recorded on October 8, 2024. All figures, unless otherwise stated, relate to the month of September, 2024.Risk warningAs with all investing, your capital is at risk. The value of your portfolio with Nutmeg can go down as well as up and you may get back less than you invest. Past performance and forecasts are not reliable indicators of future performance.\\u202f We do not provide investment advice in this update. Always do your own research.App store badgeGoogle play badgeSupportFAQsInsightsSitemapCareersPrivacy policyCookie policySite termsTerms and conditionsRegulatoryComplaintsCookie SettingsClient services020 3598 1515Contact ussupport@nutmeg.comPress enquiries only07788251769pr@nutmeg.comNutmeg25 Bank StreetCanary WharfLondonE14 5JPOffice020 3598 1717As with all investing, your capital is at risk. The value of your portfolio with Nutmeg can go down as well as up and you may get back less than you invest. Learn what we mean by riskCopyright © 2025 Nutmeg Saving and Investment Limited. Nutmeg® is a registered trade mark of Nutmeg Saving and Investment Limited, authorised and regulated by the Financial Conduct Authority, no. 552016, registered in England and Wales, no. 07503666, with a registered office at 25 Bank Street, Canary Wharf, London E14 5JP. Smart Alpha is a trade mark of Schroders plc and is used under licence.App Store is a service mark and Apple and the Apple logo are trademarks of Apple Inc. Google Play and the Google Play logo are trademarks of Google LLC.')],\n",
       " 'rewritten_question': 'What are the reasons for financial market volatility, considering factors such as US elections, trade tariffs, interest rates, inflation, and geopolitical uncertainties?',\n",
       " 'summary': \"### Introduction\\nFinancial market volatility is influenced by a variety of factors including US elections, trade tariffs, interest rates, inflation, and geopolitical uncertainties. These elements interact in complex ways to shape market dynamics and investor behavior.\\n\\n### Body\\n#### US Elections\\n- The re-election of Donald Trump in November 2024 led to significant market reactions. The Republican control of the White House, Senate, and House of Representatives is expected to facilitate policy enactment, benefiting sectors like energy and banks while negatively impacting trade-sensitive assets such as European and emerging market stocks (Source: idx 0).\\n\\n#### Trade Tariffs\\n- The potential for meaningful trade tariffs, particularly from the US, has created uncertainty in global trade. Emerging markets, especially those with strong trade ties to China, face a more uncertain economic outlook due to these tariffs (Source: idx 0).\\n\\n#### Interest Rates\\n- The Federal Reserve's interest rate policies have a direct impact on market volatility. Higher interest rates, aimed at containing inflation, can stifle economic growth. Recent rate cuts by the Fed were well-received by the market, but the overall economic impact remains to be seen (Source: idx 4).\\n\\n#### Inflation\\n- Inflation remains a critical factor. The Fed's efforts to control inflation through interest rate adjustments have brought inflation closer to target levels, but wage inflation and other contributors still pose challenges (Source: idx 4).\\n\\n#### Geopolitical Uncertainties\\n- Geopolitical risks, including potential instability from the Trump administration and ongoing global conflicts, add to market volatility. These uncertainties can affect investor confidence and market stability (Source: idx 3).\\n\\n### Conclusion\\nIn summary, financial market volatility is driven by a combination of political events, economic policies, and global uncertainties. Investors must navigate these factors to make informed decisions, understanding that each element can significantly influence market behavior.\\n\",\n",
       " 'grade_score': 'full_relevance',\n",
       " 'hallucination': 'no',\n",
       " 'response_score': 0.9,\n",
       " 'grading_iteration': 2,\n",
       " 'hallucination_iteration': 1}"
      ]
     },
     "execution_count": 104,
     "metadata": {},
     "output_type": "execute_result"
    }
   ],
   "source": [
    "op"
   ]
  },
  {
   "cell_type": "code",
   "execution_count": null,
   "id": "cb2817ef",
   "metadata": {},
   "outputs": [],
   "source": [
    "# inputs = {\n",
    "#     \"question\": \"What are the potential benefits of investing in the financials sector under the new Republican administration\",\n",
    "# }\n",
    "\n",
    "# for output in graph.stream(inputs, stream_mode=\"values\"):\n",
    "#     for key, value in output.items():\n",
    "#         pprint(f\"Node '{key}':\")\n",
    "#         # Ensure 'generation' key exists\n",
    "#         if \"summary\" in value:\n",
    "#             pprint(value[\"summary\"])\n",
    "#             pprint(value[\"citation\"])\n",
    "#         else:\n",
    "#             pprint(\"No generation found at this step.\")\n",
    "#     print(\"\\n---\\n\")\n",
    "\n",
    "# print(f\"The final output is: {output}\")\n",
    "# print(\"\\n---\\n\")"
   ]
  },
  {
   "cell_type": "code",
   "execution_count": null,
   "id": "b5ea7f45",
   "metadata": {},
   "outputs": [],
   "source": [
    "# inputs = {\n",
    "#     \"question\": \"What are the potential causes of the war between Russia and Ukraine\",\n",
    "# }\n",
    "# for output in graph.stream(inputs, stream_mode=\"values\"):\n",
    "#     for key, value in output.items():\n",
    "#         pprint(f\"Node '{key}':\")\n",
    "#         pprint(f\"Value '{value}':\")\n",
    "#         # Ensure 'generation' key exists\n",
    "#         if \"summary\" in value:\n",
    "#             pprint(value[\"summary\"])\n",
    "#             pprint(value[\"citation\"])\n",
    "#         else:\n",
    "#             pprint(\"No generation found at this step.\")\n",
    "#     print(\"\\n---\\n\")\n",
    "\n",
    "# print(f\"The final output is: {output}\")\n",
    "# print(\"\\n---\\n\")"
   ]
  },
  {
   "cell_type": "markdown",
   "id": "20a75ef3",
   "metadata": {},
   "source": [
    "This LangGraph workflow implements an Adaptive RAG (Retrieval-Augmented Generation) System with the following nodes and logic:\n",
    "\n",
    "Router Node:\n",
    "\n",
    "Receives the user question.\n",
    "Uses an LLM-based router to decide if the question should be answered using the vector database (vectordb) or web search.\n",
    "Routes to either the vector_retriever or web_search node.\n",
    "Vector Retriever Node:\n",
    "\n",
    "Retrieves relevant documents from the vector store using an ensemble retriever.\n",
    "Passes the documents and question to the next node.\n",
    "Web Search Node:\n",
    "\n",
    "Retrieves relevant documents from the web using a search API.\n",
    "Converts results into LangChain Document objects.\n",
    "Passes the documents and question to the next node.\n",
    "Document Grader Node:\n",
    "\n",
    "Grades the relevance of the retrieved documents to the question using an LLM-based grader.\n",
    "Increments a grading iteration counter.\n",
    "Passes the grade score and iteration count to the next step.\n",
    "Conditional Edge (decide_to_generate_rewrite):\n",
    "\n",
    "If the documents are fully relevant or the grading iteration exceeds 2, proceeds to generate a response.\n",
    "If partially relevant, rewrites the query and retries retrieval.\n",
    "If not relevant, ends the workflow.\n",
    "Query Rewriter Node:\n",
    "\n",
    "Uses document keywords to rewrite the question for better retrieval.\n",
    "Loops back to the vector retriever for another attempt.\n",
    "Response Summarizer Node:\n",
    "\n",
    "Summarizes the answer using the question and retrieved documents.\n",
    "Produces a summary and citations.\n",
    "Hallucination Grader Node:\n",
    "\n",
    "Checks the summary for hallucinations and scores the response.\n",
    "Increments a hallucination iteration counter.\n",
    "Conditional Edge (decide_to_accept_reject):\n",
    "\n",
    "If the response is acceptable (no hallucination, score ≥ 0.7), ends the workflow.\n",
    "If not acceptable or hallucination iteration exceeds 2, ends the workflow.\n",
    "If not acceptable but not hallucinated, rewrites the question and retries.\n",
    "\n",
    "Summary:\n",
    "The graph adaptively routes questions, retrieves and grades documents, rewrites queries if needed, summarizes responses, and checks for hallucinations. It loops through retrieval and rewriting until a high-quality, non-hallucinated answer is produced or a retry limit is reached, ensuring robust and accurate RAG-based question answering.\n",
    "\n"
   ]
  },
  {
   "cell_type": "markdown",
   "id": "cc3da3f5",
   "metadata": {},
   "source": [
    "####################################################### END #######################################################"
   ]
  }
 ],
 "metadata": {
  "kernelspec": {
   "display_name": "Python 3",
   "language": "python",
   "name": "python3"
  },
  "language_info": {
   "codemirror_mode": {
    "name": "ipython",
    "version": 3
   },
   "file_extension": ".py",
   "mimetype": "text/x-python",
   "name": "python",
   "nbconvert_exporter": "python",
   "pygments_lexer": "ipython3",
   "version": "3.10.16"
  }
 },
 "nbformat": 4,
 "nbformat_minor": 5
}

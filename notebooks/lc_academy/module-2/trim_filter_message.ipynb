{
 "cells": [
  {
   "cell_type": "markdown",
   "metadata": {
    "vscode": {
     "languageId": "plaintext"
    }
   },
   "source": [
    "# Filtering and trimming messages\n",
    "\n",
    "## Review\n",
    "\n",
    "Now, we have a deeper understanding of a few things: \n",
    "\n",
    "* How to customize the graph state schema\n",
    "* How to define custom state reducers\n",
    "* How to use multiple graph state schemas\n",
    "\n",
    "## Goals\n",
    "\n",
    "Now, we can start using these concepts with models in LangGraph!\n",
    " \n",
    "In the next few sessions, we'll build towards a chatbot that has long-term memory.\n",
    "\n",
    "Because our chatbot will use messages, let's first talk a bit more about advanced ways to work with messages in graph state."
   ]
  },
  {
   "cell_type": "code",
   "execution_count": 48,
   "metadata": {},
   "outputs": [],
   "source": [
    "import os\n",
    "from dotenv import load_dotenv\n",
    "from langchain_openai import ChatOpenAI\n",
    "from pprint import pprint\n",
    "from langchain_core.messages import AIMessage, HumanMessage\n",
    "from IPython.display import Image, display\n",
    "from langgraph.graph import MessagesState\n",
    "from langgraph.graph import StateGraph, START, END\n",
    "from langchain_core.messages import RemoveMessage\n",
    "from langchain_core.messages import trim_messages"
   ]
  },
  {
   "cell_type": "code",
   "execution_count": 2,
   "metadata": {},
   "outputs": [],
   "source": [
    "os.environ[\"LANGSMITH_TRACING\"] = \"true\"\n",
    "os.environ[\"LANGSMITH_PROJECT\"] = \"langchain-academy\""
   ]
  },
  {
   "cell_type": "code",
   "execution_count": 3,
   "metadata": {},
   "outputs": [
    {
     "name": "stdout",
     "output_type": "stream",
     "text": [
      "==================================\u001b[1m Ai Message \u001b[0m==================================\n",
      "\n",
      "So you are researching on Penguins\n",
      "================================\u001b[1m Human Message \u001b[0m=================================\n",
      "\n",
      "I am looking for penguins in Antartica\n"
     ]
    }
   ],
   "source": [
    "messages = [AIMessage(content=\"So you are researching on Penguins\")]\n",
    "messages.append(HumanMessage(content=\"I am looking for penguins in Antartica\"))\n",
    "\n",
    "for msg in messages:\n",
    "    msg.pretty_print()"
   ]
  },
  {
   "cell_type": "code",
   "execution_count": 4,
   "metadata": {},
   "outputs": [],
   "source": [
    "llm = ChatOpenAI(model=\"gpt-4o\")\n",
    "op = llm.invoke(messages)"
   ]
  },
  {
   "cell_type": "code",
   "execution_count": 5,
   "metadata": {},
   "outputs": [
    {
     "name": "stdout",
     "output_type": "stream",
     "text": [
      "==================================\u001b[1m Ai Message \u001b[0m==================================\n",
      "\n",
      "If you're interested in observing penguins in Antarctica, you're in for a remarkable experience! Antarctica is home to several species of penguins, each with unique behaviors and habitats. Here are some of the penguin species you can find there:\n",
      "\n",
      "1. **Emperor Penguins**: The largest of all penguin species, emperor penguins are famous for their incredible breeding cycle during the harsh Antarctic winter. They are primarily found on the sea ice surrounding Antarctica.\n",
      "\n",
      "2. **Adélie Penguins**: Known for their classic tuxedo appearance, Adélie penguins are abundant along the Antarctic coast. They breed on rocky, ice-free areas.\n",
      "\n",
      "3. **Gentoo Penguins**: Recognizable by the white stripe across their heads, gentoo penguins are found on many sub-Antarctic islands as well as the Antarctic Peninsula.\n",
      "\n",
      "4. **Chinstrap Penguins**: These penguins, named for the distinctive black band under their heads, also inhabit the islands and coasts of the Antarctic Peninsula.\n",
      "\n",
      "5. **Macaroni Penguins**: While not as common on the mainland of Antarctica, macaroni penguins can be found on several sub-Antarctic islands.\n",
      "\n",
      "Observing these penguins in their natural habitat often involves traveling to the Antarctic Peninsula or surrounding islands. Most visitors access these areas on organized cruises or expeditions, which typically depart from Ushuaia, Argentina, or Punta Arenas, Chile. These expeditions often combine guided tours, wildlife observation, and sometimes opportunities for scientific engagement.\n",
      "\n",
      "Keep in mind that visiting Antarctica requires careful planning due to its remote and extreme environment. Considerations include adhering to environmental regulations, preparing for cold and icy conditions, and ensuring your travel arrangements are with a reputable operator with experience in polar expeditions.\n"
     ]
    }
   ],
   "source": [
    "op.pretty_print()"
   ]
  },
  {
   "cell_type": "markdown",
   "metadata": {},
   "source": [
    "We can run our chat model in a simple graph with `MessagesState` The same thing"
   ]
  },
  {
   "cell_type": "code",
   "execution_count": 6,
   "metadata": {},
   "outputs": [
    {
     "data": {
      "image/png": "[encoded data removed]",
      "text/plain": [
       "<IPython.core.display.Image object>"
      ]
     },
     "metadata": {},
     "output_type": "display_data"
    }
   ],
   "source": [
    "# Node\n",
    "def chat_model_node(state: MessagesState):\n",
    "    return {\"messages\": llm.invoke(state[\"messages\"])}\n",
    "\n",
    "\n",
    "# Build graph\n",
    "builder = StateGraph(MessagesState)\n",
    "builder.add_node(\"chat_model\", chat_model_node)\n",
    "builder.add_edge(START, \"chat_model\")\n",
    "builder.add_edge(\"chat_model\", END)\n",
    "graph = builder.compile()\n",
    "\n",
    "# View\n",
    "display(Image(graph.get_graph().draw_mermaid_png()))"
   ]
  },
  {
   "cell_type": "code",
   "execution_count": null,
   "metadata": {},
   "outputs": [
    {
     "name": "stdout",
     "output_type": "stream",
     "text": [
      "==================================\u001b[1m Ai Message \u001b[0m==================================\n",
      "\n",
      "So you are researching on Penguins\n",
      "================================\u001b[1m Human Message \u001b[0m=================================\n",
      "\n",
      "I am looking for penguins in Antartica\n",
      "==================================\u001b[1m Ai Message \u001b[0m==================================\n",
      "\n",
      "If you're searching for penguins in Antarctica, you're in for a fascinating experience. Antarctica is home to several species of penguins, each with unique characteristics and habitats. Here are some of the most notable penguin species you can find there:\n",
      "\n",
      "1. **Emperor Penguin**: The largest of all penguin species, emperor penguins are known for their majestic stature and intriguing breeding habits. They breed during the Antarctic winter, with males incubating the eggs during harsh conditions.\n",
      "\n",
      "2. **Adélie Penguin**: Recognizable by their classic black-and-white coloring and distinctively white eye ring, Adélie penguins are one of the most widespread penguin species in Antarctica. They are social birds, often found in large colonies.\n",
      "\n",
      "3. **Gentoo Penguin**: Known for their bright orange beaks and feet, Gentoo penguins are the fastest swimming penguins. They build nests from stones and are often found in coastal areas with ice-free lands.\n",
      "\n",
      "4. **Chinstrap Penguin**: Named for the thin black band under their heads that looks like a helmet strap, chinstrap penguins are highly social and often found on rocky slopes where they nest in large colonies.\n",
      "\n",
      "5. **Macaroni Penguin**: Although primarily found on sub-Antarctic islands, some macaroni penguins can be seen in the Antarctic region. They are characterized by their striking yellow crests.\n",
      "\n",
      "When searching for penguins in Antarctica, consider these tips:\n",
      "\n",
      "- **Plan a trip during the summer** (November to February) when the weather is relatively milder and the penguins are more active.\n",
      "  \n",
      "- **Join a guided expedition cruise**: Many companies offer expeditions to Antarctica, which include visits to key penguin habitats and colonies.\n",
      "\n",
      "- **Respect wildlife regulations**: When visiting penguins, it's crucial to maintain a respectful distance and follow guidelines to ensure the safety and preservation of the wildlife.\n",
      "\n",
      "- **Photographic opportunities**: Be prepared for stunning photographic moments; bring a good camera with a telephoto lens for capturing penguins in their natural habitat.\n",
      "\n",
      "Research and prepare thoroughly before your journey to maximize your experience of observing these incredible creatures in the wild.\n"
     ]
    }
   ],
   "source": [
    "output = graph.invoke({\"messages\": messages})\n",
    "for m in output[\"messages\"]:\n",
    "    m.pretty_print()"
   ]
  },
  {
   "cell_type": "markdown",
   "metadata": {},
   "source": [
    "## Reducer\n",
    "\n",
    "A practical challenge when working with messages is managing long-running conversations. \n",
    "\n",
    "Long-running conversations result in high token usage and latency if we are not careful, because we pass a growing list of messages to the model.\n",
    "\n",
    "We have a few ways to address this.\n",
    "\n",
    "First, recall the trick we saw using `RemoveMessage` and the `add_messages` reducer."
   ]
  },
  {
   "cell_type": "code",
   "execution_count": 41,
   "metadata": {},
   "outputs": [],
   "source": [
    "# define the nodes\n",
    "def remove_message(state: MessagesState):\n",
    "    print(\"remove_message\")\n",
    "    delete_messages = [RemoveMessage(id=m.id) for m in state[\"messages\"][:-2]]\n",
    "    return {\"messsages\": delete_messages}\n",
    "\n",
    "\n",
    "def chat_model_node(state: MessagesState):\n",
    "    return {\"messages\": [llm.invoke(state[\"messages\"])]}"
   ]
  },
  {
   "cell_type": "code",
   "execution_count": 42,
   "metadata": {},
   "outputs": [
    {
     "data": {
      "image/png": "[encoded data removed]",
      "text/plain": [
       "<IPython.core.display.Image object>"
      ]
     },
     "metadata": {},
     "output_type": "display_data"
    }
   ],
   "source": [
    "# lets build the graph\n",
    "builder = StateGraph(MessagesState)\n",
    "# add nodes\n",
    "builder.add_node(\"remove_message\", remove_message)\n",
    "builder.add_node(\"chat_node\", chat_model_node)\n",
    "# add edges\n",
    "builder.add_edge(START, \"remove_message\")\n",
    "builder.add_edge(\"remove_message\", \"chat_node\")\n",
    "builder.add_edge(\"chat_node\", END)\n",
    "# compile\n",
    "graph = builder.compile()\n",
    "# View\n",
    "display(Image(graph.get_graph().draw_mermaid_png()))"
   ]
  },
  {
   "cell_type": "code",
   "execution_count": 43,
   "metadata": {},
   "outputs": [
    {
     "name": "stdout",
     "output_type": "stream",
     "text": [
      "remove_message\n",
      "==================================\u001b[1m Ai Message \u001b[0m==================================\n",
      "Name: Bot\n",
      "\n",
      "Hi.\n",
      "================================\u001b[1m Human Message \u001b[0m=================================\n",
      "Name: Lance\n",
      "\n",
      "Hi.\n",
      "==================================\u001b[1m Ai Message \u001b[0m==================================\n",
      "Name: Bot\n",
      "\n",
      "So you said you were researching ocean mammals?\n",
      "================================\u001b[1m Human Message \u001b[0m=================================\n",
      "Name: Lance\n",
      "\n",
      "Yes, I know about whales. But what others should I learn about?\n",
      "==================================\u001b[1m Ai Message \u001b[0m==================================\n",
      "\n",
      "In addition to whales, there are several other fascinating groups of ocean mammals you might want to learn about:\n",
      "\n",
      "1. **Dolphins and Porpoises**: These are closely related to whales and belong to the cetacean family. Dolphins are generally larger and have more elongated snouts compared to porpoises. They're known for their intelligence and complex social behaviors.\n",
      "\n",
      "2. **Seals, Sea Lions, and Walruses (Pinnipeds)**:\n",
      "   - **Seals**: True seals, or earless seals, are known for their streamlined bodies and lack of visible ear flaps.\n",
      "   - **Sea Lions**: These have external ear flaps and are more agile on land compared to true seals.\n",
      "   - **Walruses**: Recognizable by their long tusks and whiskers, walruses are social animals that inhabit the Arctic.\n",
      "\n",
      "3. **Manatees and Dugongs (Sirenia)**:\n",
      "   - **Manatees**: Often referred to as sea cows, they are large, slow-moving herbivores that inhabit warm coastal areas.\n",
      "   - **Dugongs**: Similar to manatees, they are also herbivorous but have a fluke-shaped tail similar to a whale's.\n",
      "\n",
      "4. **Sea Otters**: While not as fully aquatic as other marine mammals, sea otters are significant for their role in kelp forest ecosystems. They're known for their dexterous use of tools to open shellfish.\n",
      "\n",
      "5. **Polar Bears**: Although they split their time between land and sea, polar bears are often considered marine mammals due to their reliance on sea ice and marine prey like seals.\n",
      "\n",
      "Each of these groups has unique adaptations that allow them to thrive in marine environments. Exploring these animals will give you a deeper understanding of marine biodiversity and the ecological roles these mammals play.\n"
     ]
    }
   ],
   "source": [
    "# Message list with a preamble\n",
    "messages = [AIMessage(\"Hi.\", name=\"Bot\", id=\"1\")]\n",
    "messages.append(HumanMessage(\"Hi.\", name=\"Lance\", id=\"2\"))\n",
    "messages.append(AIMessage(\"So you said you were researching ocean mammals?\", name=\"Bot\", id=\"3\"))\n",
    "messages.append(HumanMessage(\"Yes, I know about whales. But what others should I learn about?\", name=\"Lance\", id=\"4\"))\n",
    "\n",
    "# Invoke\n",
    "output = graph.invoke({\"messages\": messages})\n",
    "for m in output[\"messages\"]:\n",
    "    m.pretty_print()"
   ]
  },
  {
   "cell_type": "markdown",
   "metadata": {},
   "source": [
    "## Filtering messages\n",
    "\n",
    "If you don't need or want to modify the graph state, you can just filter the messages you pass to the chat model.\n",
    "\n",
    "For example, just pass in a filtered list: `llm.invoke(messages[-1:])` to the model."
   ]
  },
  {
   "cell_type": "code",
   "execution_count": 44,
   "metadata": {},
   "outputs": [
    {
     "data": {
      "image/png": "[encoded data removed]",
      "text/plain": [
       "<IPython.core.display.Image object>"
      ]
     },
     "metadata": {},
     "output_type": "display_data"
    }
   ],
   "source": [
    "# Node\n",
    "def chat_model_node(state: MessagesState):\n",
    "    return {\"messages\": [llm.invoke(state[\"messages\"][-1:])]}\n",
    "\n",
    "\n",
    "# Build graph\n",
    "builder = StateGraph(MessagesState)\n",
    "builder.add_node(\"chat_model\", chat_model_node)\n",
    "builder.add_edge(START, \"chat_model\")\n",
    "builder.add_edge(\"chat_model\", END)\n",
    "graph = builder.compile()\n",
    "\n",
    "# View\n",
    "display(Image(graph.get_graph().draw_mermaid_png()))"
   ]
  },
  {
   "cell_type": "code",
   "execution_count": 45,
   "metadata": {},
   "outputs": [
    {
     "name": "stdout",
     "output_type": "stream",
     "text": [
      "==================================\u001b[1m Ai Message \u001b[0m==================================\n",
      "Name: Bot\n",
      "\n",
      "Hi.\n",
      "================================\u001b[1m Human Message \u001b[0m=================================\n",
      "Name: Lance\n",
      "\n",
      "Hi.\n",
      "==================================\u001b[1m Ai Message \u001b[0m==================================\n",
      "Name: Bot\n",
      "\n",
      "So you said you were researching ocean mammals?\n",
      "================================\u001b[1m Human Message \u001b[0m=================================\n",
      "Name: Lance\n",
      "\n",
      "Yes, I know about whales. But what others should I learn about?\n",
      "==================================\u001b[1m Ai Message \u001b[0m==================================\n",
      "\n",
      "In addition to whales, there are several other fascinating groups of ocean mammals you might want to learn about:\n",
      "\n",
      "1. **Dolphins and Porpoises**: These are closely related to whales and belong to the cetacean family. Dolphins are generally larger and have more elongated snouts compared to porpoises. They're known for their intelligence and complex social behaviors.\n",
      "\n",
      "2. **Seals, Sea Lions, and Walruses (Pinnipeds)**:\n",
      "   - **Seals**: True seals, or earless seals, are known for their streamlined bodies and lack of visible ear flaps.\n",
      "   - **Sea Lions**: These have external ear flaps and are more agile on land compared to true seals.\n",
      "   - **Walruses**: Recognizable by their long tusks and whiskers, walruses are social animals that inhabit the Arctic.\n",
      "\n",
      "3. **Manatees and Dugongs (Sirenia)**:\n",
      "   - **Manatees**: Often referred to as sea cows, they are large, slow-moving herbivores that inhabit warm coastal areas.\n",
      "   - **Dugongs**: Similar to manatees, they are also herbivorous but have a fluke-shaped tail similar to a whale's.\n",
      "\n",
      "4. **Sea Otters**: While not as fully aquatic as other marine mammals, sea otters are significant for their role in kelp forest ecosystems. They're known for their dexterous use of tools to open shellfish.\n",
      "\n",
      "5. **Polar Bears**: Although they split their time between land and sea, polar bears are often considered marine mammals due to their reliance on sea ice and marine prey like seals.\n",
      "\n",
      "Each of these groups has unique adaptations that allow them to thrive in marine environments. Exploring these animals will give you a deeper understanding of marine biodiversity and the ecological roles these mammals play.\n",
      "================================\u001b[1m Human Message \u001b[0m=================================\n",
      "Name: Lance\n",
      "\n",
      "What is my name again??\n"
     ]
    }
   ],
   "source": [
    "messages.append(output[\"messages\"][-1])\n",
    "messages.append(HumanMessage(f\"What is my name again??\", name=\"Lance\"))\n",
    "for m in messages:\n",
    "    m.pretty_print()"
   ]
  },
  {
   "cell_type": "code",
   "execution_count": 46,
   "metadata": {},
   "outputs": [
    {
     "name": "stdout",
     "output_type": "stream",
     "text": [
      "==================================\u001b[1m Ai Message \u001b[0m==================================\n",
      "Name: Bot\n",
      "\n",
      "Hi.\n",
      "================================\u001b[1m Human Message \u001b[0m=================================\n",
      "Name: Lance\n",
      "\n",
      "Hi.\n",
      "==================================\u001b[1m Ai Message \u001b[0m==================================\n",
      "Name: Bot\n",
      "\n",
      "So you said you were researching ocean mammals?\n",
      "================================\u001b[1m Human Message \u001b[0m=================================\n",
      "Name: Lance\n",
      "\n",
      "Yes, I know about whales. But what others should I learn about?\n",
      "==================================\u001b[1m Ai Message \u001b[0m==================================\n",
      "\n",
      "In addition to whales, there are several other fascinating groups of ocean mammals you might want to learn about:\n",
      "\n",
      "1. **Dolphins and Porpoises**: These are closely related to whales and belong to the cetacean family. Dolphins are generally larger and have more elongated snouts compared to porpoises. They're known for their intelligence and complex social behaviors.\n",
      "\n",
      "2. **Seals, Sea Lions, and Walruses (Pinnipeds)**:\n",
      "   - **Seals**: True seals, or earless seals, are known for their streamlined bodies and lack of visible ear flaps.\n",
      "   - **Sea Lions**: These have external ear flaps and are more agile on land compared to true seals.\n",
      "   - **Walruses**: Recognizable by their long tusks and whiskers, walruses are social animals that inhabit the Arctic.\n",
      "\n",
      "3. **Manatees and Dugongs (Sirenia)**:\n",
      "   - **Manatees**: Often referred to as sea cows, they are large, slow-moving herbivores that inhabit warm coastal areas.\n",
      "   - **Dugongs**: Similar to manatees, they are also herbivorous but have a fluke-shaped tail similar to a whale's.\n",
      "\n",
      "4. **Sea Otters**: While not as fully aquatic as other marine mammals, sea otters are significant for their role in kelp forest ecosystems. They're known for their dexterous use of tools to open shellfish.\n",
      "\n",
      "5. **Polar Bears**: Although they split their time between land and sea, polar bears are often considered marine mammals due to their reliance on sea ice and marine prey like seals.\n",
      "\n",
      "Each of these groups has unique adaptations that allow them to thrive in marine environments. Exploring these animals will give you a deeper understanding of marine biodiversity and the ecological roles these mammals play.\n",
      "================================\u001b[1m Human Message \u001b[0m=================================\n",
      "Name: Lance\n",
      "\n",
      "What is my name again??\n",
      "==================================\u001b[1m Ai Message \u001b[0m==================================\n",
      "\n",
      "I'm sorry, but I don't have access to personal data about users unless it's shared with me in the course of our conversation. Therefore, I don't know your name.\n"
     ]
    }
   ],
   "source": [
    "# Invoke, using message filtering\n",
    "output = graph.invoke({\"messages\": messages})\n",
    "for m in output[\"messages\"]:\n",
    "    m.pretty_print()"
   ]
  },
  {
   "cell_type": "markdown",
   "metadata": {},
   "source": [
    "## Trim messages\n",
    "\n",
    "Another approach is to [trim messages](https://python.langchain.com/v0.2/docs/how_to/trim_messages/#getting-the-last-max_tokens-tokens), based upon a set number of tokens. \n",
    "\n",
    "This restricts the message history to a specified number of tokens.\n",
    "\n",
    "While filtering only returns a post-hoc subset of the messages between agents, trimming restricts the number of tokens that a chat model can use to respond.\n",
    "\n",
    "See the `trim_messages` below."
   ]
  },
  {
   "cell_type": "code",
   "execution_count": 50,
   "metadata": {},
   "outputs": [],
   "source": [
    "# define the nodes\n",
    "def trim_node(state: MessagesState):\n",
    "    trimmed_messages = trim_messages(\n",
    "        messages=state[\"messages\"], max_tokens=100, strategy=\"last\", token_counter=llm, allow_partial=True\n",
    "    )\n",
    "    return {\"messages\": trimmed_messages}\n",
    "\n",
    "\n",
    "def chat_model_node(state: MessagesState):\n",
    "    return {\"messages\": [llm.invoke(state[\"messages\"])]}"
   ]
  },
  {
   "cell_type": "code",
   "execution_count": 51,
   "metadata": {},
   "outputs": [
    {
     "data": {
      "image/png": "[encoded data removed]",
      "text/plain": [
       "<IPython.core.display.Image object>"
      ]
     },
     "metadata": {},
     "output_type": "display_data"
    }
   ],
   "source": [
    "# lets build the graph\n",
    "builder = StateGraph(MessagesState)\n",
    "# add nodes\n",
    "builder.add_node(\"trim_message\", trim_node)\n",
    "builder.add_node(\"chat_node\", chat_model_node)\n",
    "# add edges\n",
    "builder.add_edge(START, \"trim_message\")\n",
    "builder.add_edge(\"trim_message\", \"chat_node\")\n",
    "builder.add_edge(\"chat_node\", END)\n",
    "# compile\n",
    "graph = builder.compile()\n",
    "# View\n",
    "display(Image(graph.get_graph().draw_mermaid_png()))"
   ]
  },
  {
   "cell_type": "code",
   "execution_count": 52,
   "metadata": {},
   "outputs": [],
   "source": [
    "messages.append(output['messages'][-1])\n",
    "messages.append(HumanMessage(f\"Tell me where Orcas live!\", name=\"Lance\"))"
   ]
  },
  {
   "cell_type": "code",
   "execution_count": 53,
   "metadata": {},
   "outputs": [],
   "source": [
    "# Invoke, using message trimming in the chat_model_node \n",
    "messages_out_trim = graph.invoke({'messages': messages})"
   ]
  },
  {
   "cell_type": "code",
   "execution_count": 54,
   "metadata": {},
   "outputs": [
    {
     "name": "stdout",
     "output_type": "stream",
     "text": [
      "==================================\u001b[1m Ai Message \u001b[0m==================================\n",
      "Name: Bot\n",
      "\n",
      "Hi.\n",
      "================================\u001b[1m Human Message \u001b[0m=================================\n",
      "Name: Lance\n",
      "\n",
      "Hi.\n",
      "==================================\u001b[1m Ai Message \u001b[0m==================================\n",
      "Name: Bot\n",
      "\n",
      "So you said you were researching ocean mammals?\n",
      "================================\u001b[1m Human Message \u001b[0m=================================\n",
      "Name: Lance\n",
      "\n",
      "Yes, I know about whales. But what others should I learn about?\n",
      "==================================\u001b[1m Ai Message \u001b[0m==================================\n",
      "\n",
      "In addition to whales, there are several other fascinating groups of ocean mammals you might want to learn about:\n",
      "\n",
      "1. **Dolphins and Porpoises**: These are closely related to whales and belong to the cetacean family. Dolphins are generally larger and have more elongated snouts compared to porpoises. They're known for their intelligence and complex social behaviors.\n",
      "\n",
      "2. **Seals, Sea Lions, and Walruses (Pinnipeds)**:\n",
      "   - **Seals**: True seals, or earless seals, are known for their streamlined bodies and lack of visible ear flaps.\n",
      "   - **Sea Lions**: These have external ear flaps and are more agile on land compared to true seals.\n",
      "   - **Walruses**: Recognizable by their long tusks and whiskers, walruses are social animals that inhabit the Arctic.\n",
      "\n",
      "3. **Manatees and Dugongs (Sirenia)**:\n",
      "   - **Manatees**: Often referred to as sea cows, they are large, slow-moving herbivores that inhabit warm coastal areas.\n",
      "   - **Dugongs**: Similar to manatees, they are also herbivorous but have a fluke-shaped tail similar to a whale's.\n",
      "\n",
      "4. **Sea Otters**: While not as fully aquatic as other marine mammals, sea otters are significant for their role in kelp forest ecosystems. They're known for their dexterous use of tools to open shellfish.\n",
      "\n",
      "5. **Polar Bears**: Although they split their time between land and sea, polar bears are often considered marine mammals due to their reliance on sea ice and marine prey like seals.\n",
      "\n",
      "Each of these groups has unique adaptations that allow them to thrive in marine environments. Exploring these animals will give you a deeper understanding of marine biodiversity and the ecological roles these mammals play.\n",
      "================================\u001b[1m Human Message \u001b[0m=================================\n",
      "Name: Lance\n",
      "\n",
      "What is my name again??\n",
      "==================================\u001b[1m Ai Message \u001b[0m==================================\n",
      "\n",
      "I'm sorry, but I don't have access to personal data about users unless it's shared with me in the course of our conversation. Therefore, I don't know your name.\n",
      "================================\u001b[1m Human Message \u001b[0m=================================\n",
      "Name: Lance\n",
      "\n",
      "Tell me where Orcas live!\n",
      "==================================\u001b[1m Ai Message \u001b[0m==================================\n",
      "\n",
      "Orcas, also known as killer whales, are highly adaptable and can be found in all of the world's oceans, from the polar regions to tropical seas. However, they are most commonly found in areas with rich marine food sources. Here are some specific regions where orcas are commonly found:\n",
      "\n",
      "1. **Arctic and Antarctic Regions**: Orcas are often seen in the cold waters around the Arctic and Antarctica, where they hunt seals, fish, and other marine mammals.\n",
      "\n",
      "2. **North Pacific Ocean**: This includes the coasts of Alaska, British Columbia, and the Pacific Northwest of the United States. The Salish Sea, which includes the waters around southern Vancouver Island and the Puget Sound, is well known for resident orca populations.\n",
      "\n",
      "3. **North Atlantic Ocean**: They are found around Norway, Iceland, and the UK. There are known populations off the coasts of Scotland and Ireland as well.\n",
      "\n",
      "4. **Southern Ocean**: Around the waters of New Zealand, Australia, and southern South America, orcas are often spotted in the nutrient-rich waters.\n",
      "\n",
      "5. **Eastern Tropical Pacific Ocean**: Although less common, orcas can also be found in the warmer waters of this region.\n",
      "\n",
      "Orcas are apex predators with a diverse and adaptable diet, which allows them to inhabit a variety of marine environments. Different ecotypes or populations of orcas specialize in different types of prey and have adapted to their local environments, demonstrating varied behaviors and social structures.\n"
     ]
    }
   ],
   "source": [
    "for msg in messages_out_trim['messages']:\n",
    "    msg.pretty_print()\n"
   ]
  },
  {
   "cell_type": "markdown",
   "metadata": {},
   "source": [
    "################################## END #######################"
   ]
  }
 ],
 "metadata": {
  "kernelspec": {
   "display_name": "langgraph_env",
   "language": "python",
   "name": "python3"
  },
  "language_info": {
   "codemirror_mode": {
    "name": "ipython",
    "version": 3
   },
   "file_extension": ".py",
   "mimetype": "text/x-python",
   "name": "python",
   "nbconvert_exporter": "python",
   "pygments_lexer": "ipython3",
   "version": "3.11.11"
  }
 },
 "nbformat": 4,
 "nbformat_minor": 2
}

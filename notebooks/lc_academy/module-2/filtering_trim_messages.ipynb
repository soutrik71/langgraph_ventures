{
 "cells": [
  {
   "cell_type": "markdown",
   "metadata": {
    "vscode": {
     "languageId": "plaintext"
    }
   },
   "source": [
    "# Filtering and trimming messages\n",
    "\n",
    "## Review\n",
    "\n",
    "Now, we have a deeper understanding of a few things: \n",
    "\n",
    "* How to customize the graph state schema\n",
    "* How to define custom state reducers\n",
    "* How to use multiple graph state schemas\n",
    "\n",
    "## Goals\n",
    "\n",
    "Now, we can start using these concepts with models in LangGraph!\n",
    " \n",
    "In the next few sessions, we'll build towards a chatbot that has long-term memory.\n",
    "\n",
    "Because our chatbot will use messages, let's first talk a bit more about advanced ways to work with messages in graph state."
   ]
  },
  {
   "cell_type": "markdown",
   "metadata": {},
   "source": []
  },
  {
   "cell_type": "code",
   "execution_count": 1,
   "metadata": {},
   "outputs": [],
   "source": [
    "import os, getpass\n",
    "\n",
    "\n",
    "def _set_env(var: str):\n",
    "    if not os.environ.get(var):\n",
    "        os.environ[var] = getpass.getpass(f\"{var}: \")\n",
    "\n",
    "\n",
    "_set_env(\"OPENAI_API_KEY\")\n",
    "\n",
    "_set_env(\"LANGCHAIN_API_KEY\")\n",
    "os.environ[\"LANGCHAIN_TRACING_V2\"] = \"true\"\n",
    "os.environ[\"LANGCHAIN_PROJECT\"] = \"langchain-academy\""
   ]
  },
  {
   "cell_type": "markdown",
   "metadata": {},
   "source": [
    "## Messages as state\n",
    "\n",
    "First, let's define some messages."
   ]
  },
  {
   "cell_type": "code",
   "execution_count": 3,
   "metadata": {},
   "outputs": [],
   "source": [
    "from pprint import pprint\n",
    "from langchain_core.messages import AIMessage, HumanMessage"
   ]
  },
  {
   "cell_type": "markdown",
   "metadata": {},
   "source": [
    "#### Basic chatbot example using messages"
   ]
  },
  {
   "cell_type": "code",
   "execution_count": 4,
   "metadata": {},
   "outputs": [
    {
     "name": "stdout",
     "output_type": "stream",
     "text": [
      "==================================\u001b[1m Ai Message \u001b[0m==================================\n",
      "Name: Bot\n",
      "\n",
      "So you said you were researching ocean mammals?\n",
      "================================\u001b[1m Human Message \u001b[0m=================================\n",
      "Name: Lance\n",
      "\n",
      "Yes, I know about whales. But what others should I learn about?\n"
     ]
    }
   ],
   "source": [
    "messages = [AIMessage(f\"So you said you were researching ocean mammals?\", name=\"Bot\")]\n",
    "\n",
    "messages.append(\n",
    "    HumanMessage(\n",
    "        f\"Yes, I know about whales. But what others should I learn about?\", name=\"Lance\"\n",
    "    )\n",
    ")\n",
    "\n",
    "for m in messages:\n",
    "    m.pretty_print()"
   ]
  },
  {
   "cell_type": "code",
   "execution_count": 6,
   "metadata": {},
   "outputs": [
    {
     "name": "stdout",
     "output_type": "stream",
     "text": [
      "('There are several fascinating ocean mammals besides whales that you might '\n",
      " 'find interesting to learn about. Here are a few:\\n'\n",
      " '\\n'\n",
      " '1. **Dolphins**: Known for their intelligence and playful behavior, dolphins '\n",
      " 'are part of the cetacean family, which also includes whales. There are '\n",
      " 'several species of dolphins, including the well-known bottlenose dolphin.\\n'\n",
      " '\\n'\n",
      " '2. **Porpoises**: Often confused with dolphins, porpoises are another group '\n",
      " 'of marine mammals. They tend to be smaller and have shorter beaks compared '\n",
      " 'to dolphins. \\n'\n",
      " '\\n'\n",
      " '3. **Seals**: These are pinnipeds, a group of marine mammals that include '\n",
      " 'eared seals like sea lions and true seals like the harbor seal. They are '\n",
      " 'known for their adaptability to both land and water environments.\\n'\n",
      " '\\n'\n",
      " '4. **Sea Lions**: Another type of pinniped, sea lions have external ear '\n",
      " 'flaps and are more agile on land compared to true seals. They are social '\n",
      " 'animals and often found in large groups.\\n'\n",
      " '\\n'\n",
      " '5. **Walruses**: Recognizable by their long tusks and whiskers, walruses are '\n",
      " 'also pinnipeds. They are found in the Arctic and are heavily dependent on '\n",
      " 'sea ice for resting and hunting.\\n'\n",
      " '\\n'\n",
      " '6. **Manatees and Dugongs**: Often referred to as \"sea cows,\" these gentle '\n",
      " 'herbivorous marine mammals are part of the sirenian family. Manatees are '\n",
      " 'found in the warm shallow waters of the Americas and Africa, whereas dugongs '\n",
      " 'are found in the Indian and Pacific Oceans.\\n'\n",
      " '\\n'\n",
      " '7. **Sea Otters**: While not as large as other ocean mammals, sea otters '\n",
      " 'play a crucial role in their ecosystem as keystone species. They are known '\n",
      " 'for their use of tools to open shellfish.\\n'\n",
      " '\\n'\n",
      " '8. **Narwhals**: Known as the \"unicorns of the sea\" due to their long, '\n",
      " 'spiral tusks, narwhals are Arctic cetaceans closely related to the beluga '\n",
      " 'whale.\\n'\n",
      " '\\n'\n",
      " 'Each of these mammals has unique adaptations and behaviors suited to their '\n",
      " 'marine environments, making them fascinating subjects for study.')\n"
     ]
    }
   ],
   "source": [
    "from langchain_openai import ChatOpenAI\n",
    "\n",
    "llm = ChatOpenAI(model=\"gpt-4o\")\n",
    "op = llm.invoke(messages)\n",
    "pprint(op.content)"
   ]
  },
  {
   "cell_type": "code",
   "execution_count": 7,
   "metadata": {},
   "outputs": [],
   "source": [
    "# Now we do this using graph\n",
    "from IPython.display import Image, display\n",
    "from langgraph.graph import MessagesState\n",
    "from langgraph.graph import StateGraph, START, END"
   ]
  },
  {
   "cell_type": "code",
   "execution_count": 8,
   "metadata": {},
   "outputs": [
    {
     "data": {
      "image/png": "[encoded data removed]",
      "text/plain": [
       "<IPython.core.display.Image object>"
      ]
     },
     "metadata": {},
     "output_type": "display_data"
    }
   ],
   "source": [
    "# Node\n",
    "def chat_model_node(state: MessagesState):\n",
    "    return {\"messages\": llm.invoke(state[\"messages\"])}\n",
    "\n",
    "\n",
    "# Build graph\n",
    "builder = StateGraph(MessagesState)\n",
    "builder.add_node(\"chat_model\", chat_model_node)\n",
    "builder.add_edge(START, \"chat_model\")\n",
    "builder.add_edge(\"chat_model\", END)\n",
    "graph = builder.compile()\n",
    "\n",
    "# View\n",
    "display(Image(graph.get_graph().draw_mermaid_png()))"
   ]
  },
  {
   "cell_type": "code",
   "execution_count": 9,
   "metadata": {},
   "outputs": [
    {
     "name": "stdout",
     "output_type": "stream",
     "text": [
      "==================================\u001b[1m Ai Message \u001b[0m==================================\n",
      "Name: Bot\n",
      "\n",
      "So you said you were researching ocean mammals?\n",
      "================================\u001b[1m Human Message \u001b[0m=================================\n",
      "Name: Lance\n",
      "\n",
      "Yes, I know about whales. But what others should I learn about?\n",
      "==================================\u001b[1m Ai Message \u001b[0m==================================\n",
      "\n",
      "There are several fascinating ocean mammals besides whales that you might enjoy learning about:\n",
      "\n",
      "1. **Dolphins**: Known for their intelligence and playful behavior, dolphins are highly social animals often seen traveling in pods. There are many different species, including the bottlenose dolphin and the orca, which is technically a type of dolphin.\n",
      "\n",
      "2. **Porpoises**: Similar in appearance to dolphins but generally smaller and with a more robust body, porpoises are less acrobatic than dolphins but equally interesting.\n",
      "\n",
      "3. **Seals**: These semi-aquatic marine mammals are part of the pinniped family, which also includes sea lions and walruses. They are known for their playful nature and depend on both land and sea for survival.\n",
      "\n",
      "4. **Sea Lions**: Easily distinguished from true seals by their external ear flaps and their ability to “walk” on land using their large flippers, sea lions are highly sociable and can often be seen sunbathing in large groups.\n",
      "\n",
      "5. **Walruses**: Recognizable by their large tusks, whiskers, and significant blubber, walruses inhabit the Arctic regions. They use their tusks to help haul their large bodies out of the water and onto ice floes.\n",
      "\n",
      "6. **Manatees and Dugongs**: Known as \"sea cows,\" these gentle giants are herbivorous and occupy shallow, slow-moving rivers, estuaries, and coastal waters. They are notable for their slow pace and gentle demeanor.\n",
      "\n",
      "7. **Sea Otters**: Although not entirely marine, sea otters spend most of their time in water and are known for their playful behavior and use of tools to open shellfish.\n",
      "\n",
      "8. **Polar Bears**: While not entirely marine, polar bears are considered marine mammals due to their reliance on sea ice for hunting seals, their primary food source.\n",
      "\n",
      "9. **Narwhals**: Often called the \"unicorns of the sea\" due to their long, spiral tusk, narwhals are deep divers inhabiting Arctic and sub-Arctic regions.\n",
      "\n",
      "10. **Beluga Whales**: Known for their distinctive white color and vocal sounds, sometimes called the “canaries of the sea,” belugas are social creatures that live in groups called pods.\n",
      "\n",
      "Each of these marine mammals has unique adaptations and behaviors that make them well-suited to life in their aquatic environments. Exploring these ocean mammals further can reveal a lot about the diversity and complexity of marine life.\n"
     ]
    }
   ],
   "source": [
    "output = graph.invoke({'messages': messages})\n",
    "for m in output['messages']:\n",
    "    m.pretty_print()"
   ]
  },
  {
   "cell_type": "markdown",
   "metadata": {},
   "source": [
    "## Reducer\n",
    "\n",
    "A practical challenge when working with messages is managing long-running conversations. \n",
    "\n",
    "Long-running conversations result in high token usage and latency if we are not careful, because we pass a growing list of messages to the model.\n",
    "\n",
    "We have a few ways to address this.\n",
    "\n",
    "First, recall the trick we saw using `RemoveMessage` and the `add_messages` reducer."
   ]
  },
  {
   "cell_type": "code",
   "execution_count": 21,
   "metadata": {},
   "outputs": [],
   "source": [
    "from langgraph.graph import MessagesState\n",
    "from langgraph.graph.message import add_messages\n",
    "from langchain_core.messages import RemoveMessage"
   ]
  },
  {
   "cell_type": "code",
   "execution_count": 22,
   "metadata": {},
   "outputs": [],
   "source": [
    "class MessagesState(MessagesState):\n",
    "    pass\n"
   ]
  },
  {
   "cell_type": "code",
   "execution_count": 23,
   "metadata": {},
   "outputs": [],
   "source": [
    "# Nodes\n",
    "def filter_messages(state: MessagesState):\n",
    "    \"\"\"Filter messages to keep only the 2 most recent messages\"\"\"\n",
    "    # Delete all but the 2 most recent messages\n",
    "    delete_messages = [RemoveMessage(id=m.id) for m in state[\"messages\"][:-2]]\n",
    "    return {\"messages\": delete_messages}\n",
    "\n",
    "\n",
    "def chat_model_node(state: MessagesState):\n",
    "    \"\"\"Chat with the model\"\"\"\n",
    "    return {\"messages\": [llm.invoke(state[\"messages\"])]}"
   ]
  },
  {
   "cell_type": "code",
   "execution_count": 24,
   "metadata": {},
   "outputs": [
    {
     "data": {
      "image/png": "[encoded data removed]",
      "text/plain": [
       "<IPython.core.display.Image object>"
      ]
     },
     "metadata": {},
     "output_type": "display_data"
    }
   ],
   "source": [
    "# Build graph: flow is now filter_messages -> chat_model\n",
    "builder = StateGraph(MessagesState)\n",
    "builder.add_node(\"filter_messages\", filter_messages)\n",
    "builder.add_node(\"chat_model\", chat_model_node)\n",
    "builder.add_edge(START, \"filter_messages\")\n",
    "builder.add_edge(\"filter_messages\", \"chat_model\")\n",
    "builder.add_edge(\"chat_model\", END)\n",
    "graph = builder.compile()\n",
    "\n",
    "# View\n",
    "display(Image(graph.get_graph().draw_mermaid_png()))"
   ]
  },
  {
   "cell_type": "code",
   "execution_count": 36,
   "metadata": {},
   "outputs": [
    {
     "name": "stdout",
     "output_type": "stream",
     "text": [
      "==================================\u001b[1m Ai Message \u001b[0m==================================\n",
      "Name: Bot\n",
      "\n",
      "Hi.\n",
      "================================\u001b[1m Human Message \u001b[0m=================================\n",
      "Name: Lance\n",
      "\n",
      "Hi.\n",
      "==================================\u001b[1m Ai Message \u001b[0m==================================\n",
      "Name: Bot\n",
      "\n",
      "So you said you were researching ocean mammals?\n",
      "================================\u001b[1m Human Message \u001b[0m=================================\n",
      "Name: Lance\n",
      "\n",
      "Yes, I know about whales. But what others should I learn about?\n",
      "==================================\u001b[1m Ai Message \u001b[0m==================================\n",
      "\n",
      "In addition to whales, there are several other interesting ocean mammals you might want to explore:\n",
      "\n",
      "1. **Dolphins**: Highly intelligent and social animals, known for their playful behavior and acrobatics. The bottlenose dolphin is the most familiar species.\n",
      "\n",
      "2. **Porpoises**: Often confused with dolphins, porpoises are smaller and have different shaped teeth and fins. The Harbor porpoise is one common species.\n",
      "\n",
      "3. **Seals**: Aquatic mammals with a streamlined body and limbs modified into flippers. Examples include the harbor seal and the leopard seal.\n",
      "\n",
      "4. **Sea Lions**: Similar to seals but generally larger and with external ear flaps. The California sea lion is notable in circuses and zoos.\n",
      "\n",
      "5. **Walruses**: Large marine mammals known for their characteristic tusks, whiskers, and bulk.\n",
      "\n",
      "6. **Manatees and Dugongs**: Sometimes referred to as \"sea cows,\" these slow-moving herbivores graze on underwater vegetation.\n",
      "\n",
      "7. **Sea Otters**: Native to the coasts of the northern and eastern North Pacific Ocean, they are known for their use of tools to open shellfish.\n",
      "\n",
      "8. **Polar Bears**: While not primarily ocean-dwelling, they rely heavily on the oceanic environment for hunting seals.\n",
      "\n",
      "Each of these animals plays a unique role in marine ecosystems and has distinct behaviors, adaptations, and conservation challenges.\n"
     ]
    }
   ],
   "source": [
    "# Message list with a preamble\n",
    "messages = [AIMessage(\"Hi.\", name=\"Bot\", id=\"1\")]\n",
    "messages.append(HumanMessage(\"Hi.\", name=\"Lance\", id=\"2\"))\n",
    "messages.append(AIMessage(\"So you said you were researching ocean mammals?\", name=\"Bot\", id=\"3\"))\n",
    "messages.append(HumanMessage(\"Yes, I know about whales. But what others should I learn about?\", name=\"Lance\", id=\"4\"))\n",
    "\n",
    "# Invoke\n",
    "output = graph.invoke({'messages': messages})\n",
    "for m in output['messages']:\n",
    "    m.pretty_print()"
   ]
  },
  {
   "cell_type": "markdown",
   "metadata": {},
   "source": [
    "## Filtering messages\n",
    "\n",
    "If you don't need or want to modify the graph state, you can just filter the messages you pass to the chat model.\n",
    "\n",
    "For example, just pass in a filtered list: `llm.invoke(messages[-1:])` to the model."
   ]
  },
  {
   "cell_type": "code",
   "execution_count": 37,
   "metadata": {},
   "outputs": [
    {
     "data": {
      "image/png": "[encoded data removed]",
      "text/plain": [
       "<IPython.core.display.Image object>"
      ]
     },
     "metadata": {},
     "output_type": "display_data"
    }
   ],
   "source": [
    "# Node\n",
    "def chat_model_node(state: MessagesState):\n",
    "    \"\"\"Chat with the model using only the most recent message\"\"\"\n",
    "    return {\"messages\": [llm.invoke(state[\"messages\"][-1:])]}\n",
    "\n",
    "\n",
    "# Build graph\n",
    "builder = StateGraph(MessagesState)\n",
    "builder.add_node(\"chat_model\", chat_model_node)\n",
    "builder.add_edge(START, \"chat_model\")\n",
    "builder.add_edge(\"chat_model\", END)\n",
    "graph = builder.compile()\n",
    "\n",
    "# View\n",
    "display(Image(graph.get_graph().draw_mermaid_png()))"
   ]
  },
  {
   "cell_type": "code",
   "execution_count": 38,
   "metadata": {},
   "outputs": [
    {
     "name": "stdout",
     "output_type": "stream",
     "text": [
      "Conversation 0\n",
      "==================================\u001b[1m Ai Message \u001b[0m==================================\n",
      "Name: Bot\n",
      "\n",
      "Hi.\n",
      "Conversation 1\n",
      "================================\u001b[1m Human Message \u001b[0m=================================\n",
      "Name: Lance\n",
      "\n",
      "Hi.\n",
      "Conversation 2\n",
      "==================================\u001b[1m Ai Message \u001b[0m==================================\n",
      "Name: Bot\n",
      "\n",
      "So you said you were researching ocean mammals?\n",
      "Conversation 3\n",
      "================================\u001b[1m Human Message \u001b[0m=================================\n",
      "Name: Lance\n",
      "\n",
      "Yes, I know about whales. But what others should I learn about?\n",
      "Conversation 4\n",
      "==================================\u001b[1m Ai Message \u001b[0m==================================\n",
      "\n",
      "In addition to whales, there are several other interesting ocean mammals you might want to explore:\n",
      "\n",
      "1. **Dolphins**: Highly intelligent and social animals, known for their playful behavior and acrobatics. The bottlenose dolphin is the most familiar species.\n",
      "\n",
      "2. **Porpoises**: Often confused with dolphins, porpoises are smaller and have different shaped teeth and fins. The Harbor porpoise is one common species.\n",
      "\n",
      "3. **Seals**: Aquatic mammals with a streamlined body and limbs modified into flippers. Examples include the harbor seal and the leopard seal.\n",
      "\n",
      "4. **Sea Lions**: Similar to seals but generally larger and with external ear flaps. The California sea lion is notable in circuses and zoos.\n",
      "\n",
      "5. **Walruses**: Large marine mammals known for their characteristic tusks, whiskers, and bulk.\n",
      "\n",
      "6. **Manatees and Dugongs**: Sometimes referred to as \"sea cows,\" these slow-moving herbivores graze on underwater vegetation.\n",
      "\n",
      "7. **Sea Otters**: Native to the coasts of the northern and eastern North Pacific Ocean, they are known for their use of tools to open shellfish.\n",
      "\n",
      "8. **Polar Bears**: While not primarily ocean-dwelling, they rely heavily on the oceanic environment for hunting seals.\n",
      "\n",
      "Each of these animals plays a unique role in marine ecosystems and has distinct behaviors, adaptations, and conservation challenges.\n",
      "Conversation 5\n",
      "================================\u001b[1m Human Message \u001b[0m=================================\n",
      "Name: Lance\n",
      "\n",
      "Tell me more about Dolphins!\n"
     ]
    }
   ],
   "source": [
    "messages.append(output['messages'][-1])\n",
    "messages.append(HumanMessage(f\"Tell me more about Dolphins!\", name=\"Lance\"))\n",
    "for i, m in enumerate(messages):\n",
    "    print(f\"Conversation {i}\")\n",
    "    m.pretty_print()"
   ]
  },
  {
   "cell_type": "code",
   "execution_count": 39,
   "metadata": {},
   "outputs": [
    {
     "name": "stdout",
     "output_type": "stream",
     "text": [
      "==================================\u001b[1m Ai Message \u001b[0m==================================\n",
      "Name: Bot\n",
      "\n",
      "Hi.\n",
      "================================\u001b[1m Human Message \u001b[0m=================================\n",
      "Name: Lance\n",
      "\n",
      "Hi.\n",
      "==================================\u001b[1m Ai Message \u001b[0m==================================\n",
      "Name: Bot\n",
      "\n",
      "So you said you were researching ocean mammals?\n",
      "================================\u001b[1m Human Message \u001b[0m=================================\n",
      "Name: Lance\n",
      "\n",
      "Yes, I know about whales. But what others should I learn about?\n",
      "==================================\u001b[1m Ai Message \u001b[0m==================================\n",
      "\n",
      "In addition to whales, there are several other interesting ocean mammals you might want to explore:\n",
      "\n",
      "1. **Dolphins**: Highly intelligent and social animals, known for their playful behavior and acrobatics. The bottlenose dolphin is the most familiar species.\n",
      "\n",
      "2. **Porpoises**: Often confused with dolphins, porpoises are smaller and have different shaped teeth and fins. The Harbor porpoise is one common species.\n",
      "\n",
      "3. **Seals**: Aquatic mammals with a streamlined body and limbs modified into flippers. Examples include the harbor seal and the leopard seal.\n",
      "\n",
      "4. **Sea Lions**: Similar to seals but generally larger and with external ear flaps. The California sea lion is notable in circuses and zoos.\n",
      "\n",
      "5. **Walruses**: Large marine mammals known for their characteristic tusks, whiskers, and bulk.\n",
      "\n",
      "6. **Manatees and Dugongs**: Sometimes referred to as \"sea cows,\" these slow-moving herbivores graze on underwater vegetation.\n",
      "\n",
      "7. **Sea Otters**: Native to the coasts of the northern and eastern North Pacific Ocean, they are known for their use of tools to open shellfish.\n",
      "\n",
      "8. **Polar Bears**: While not primarily ocean-dwelling, they rely heavily on the oceanic environment for hunting seals.\n",
      "\n",
      "Each of these animals plays a unique role in marine ecosystems and has distinct behaviors, adaptations, and conservation challenges.\n",
      "================================\u001b[1m Human Message \u001b[0m=================================\n",
      "Name: Lance\n",
      "\n",
      "Tell me more about Dolphins!\n",
      "==================================\u001b[1m Ai Message \u001b[0m==================================\n",
      "\n",
      "Dolphins are highly intelligent and social marine mammals known for their playful behavior and acrobatic abilities. They belong to the family Delphinidae, which includes about 90 species of toothed whales, including dolphins, orcas, and pilot whales. Here are some key points about dolphins:\n",
      "\n",
      "1. **Habitat**: Dolphins are found in oceans worldwide, from tropical and temperate waters to cooler seas. Some species, like the Amazon river dolphin and the Ganges river dolphin, inhabit freshwater rivers.\n",
      "\n",
      "2. **Intelligence**: Dolphins are renowned for their cognitive abilities, including problem-solving, self-awareness, and complex social interactions. They have large brains relative to their body size and exhibit behaviors that suggest high intelligence, such as using tools, recognizing themselves in mirrors, and showing empathy toward injured individuals.\n",
      "\n",
      "3. **Communication**: Dolphins have a sophisticated communication system, using clicks, whistles, and body movements. Each dolphin has a unique signature whistle that acts like a name, helping them identify one another. They also use echolocation to navigate and hunt in murky waters.\n",
      "\n",
      "4. **Diet**: Most dolphins are carnivorous, feeding on fish and squid. Some species, like the orca, have a more varied diet and may hunt marine mammals like seals and other whales.\n",
      "\n",
      "5. **Social Structure**: Dolphins are highly social animals, often found in groups called pods. These groups can be small, consisting of a few individuals, or larger, numbering in the hundreds or even thousands, referred to as superpods. Within these pods, dolphins exhibit complex social behaviors and cooperate in activities like hunting and protection from predators.\n",
      "\n",
      "6. **Conservation**: Some dolphin species face threats from human activities, including habitat loss, pollution, entanglement in fishing gear, and hunting. Conservation efforts are ongoing to protect dolphins and their habitats, with various organizations promoting sustainable fishing practices and marine protected areas.\n",
      "\n",
      "7. **Lifespan**: The lifespan of dolphins varies by species, but many can live for several decades. For example, bottlenose dolphins can live for more than 40 years, while orcas can live over 80 years in some cases.\n",
      "\n",
      "Dolphins are a beloved symbol of marine conservation and are often featured in ecotourism activities like dolphin watching. Their charismatic nature and important role in marine ecosystems make them a focus of scientific research and conservation efforts worldwide.\n"
     ]
    }
   ],
   "source": [
    "# Invoke, using message filtering\n",
    "output = graph.invoke({'messages': messages})\n",
    "for m in output['messages']:\n",
    "    m.pretty_print()"
   ]
  },
  {
   "cell_type": "markdown",
   "metadata": {},
   "source": [
    "## Trim messages\n",
    "\n",
    "Another approach is to [trim messages](https://python.langchain.com/v0.2/docs/how_to/trim_messages/#getting-the-last-max_tokens-tokens), based upon a set number of tokens. \n",
    "\n",
    "This restricts the message history to a specified number of tokens.\n",
    "\n",
    "While filtering only returns a post-hoc subset of the messages between agents, trimming restricts the number of tokens that a chat model can use to respond.\n",
    "\n",
    "See the `trim_messages` below.\n",
    "Trim messages to be below a token count.\n",
    "\n",
    "trim_messages can be used to reduce the size of a chat history to a specified token count or specified message count."
   ]
  },
  {
   "cell_type": "code",
   "execution_count": 40,
   "metadata": {},
   "outputs": [
    {
     "data": {
      "image/png": "[encoded data removed]",
      "text/plain": [
       "<IPython.core.display.Image object>"
      ]
     },
     "metadata": {},
     "output_type": "display_data"
    }
   ],
   "source": [
    "from langchain_core.messages import trim_messages\n",
    "\n",
    "\n",
    "# Node\n",
    "def chat_model_node(state: MessagesState):\n",
    "    messages = trim_messages(\n",
    "        state[\"messages\"],\n",
    "        max_tokens=100,\n",
    "        strategy=\"last\",\n",
    "        token_counter=ChatOpenAI(model=\"gpt-4o\"),\n",
    "        allow_partial=False,\n",
    "    )\n",
    "    return {\"messages\": [llm.invoke(messages)]}\n",
    "\n",
    "\n",
    "# Build graph\n",
    "builder = StateGraph(MessagesState)\n",
    "builder.add_node(\"chat_model\", chat_model_node)\n",
    "builder.add_edge(START, \"chat_model\")\n",
    "builder.add_edge(\"chat_model\", END)\n",
    "graph = builder.compile()\n",
    "\n",
    "# View\n",
    "display(Image(graph.get_graph().draw_mermaid_png()))"
   ]
  },
  {
   "cell_type": "code",
   "execution_count": 41,
   "metadata": {},
   "outputs": [],
   "source": [
    "messages.append(output[\"messages\"][-1])\n",
    "messages.append(HumanMessage(f\"Tell me where Orcas live!\", name=\"Lance\"))\n",
    "\n",
    "# Invoke, using message trimming in the chat_model_node\n",
    "messages_out_trim = graph.invoke({\"messages\": messages})"
   ]
  },
  {
   "cell_type": "code",
   "execution_count": 42,
   "metadata": {},
   "outputs": [
    {
     "data": {
      "text/plain": [
       "{'messages': [AIMessage(content='Hi.', additional_kwargs={}, response_metadata={}, name='Bot', id='1'),\n",
       "  HumanMessage(content='Hi.', additional_kwargs={}, response_metadata={}, name='Lance', id='2'),\n",
       "  AIMessage(content='So you said you were researching ocean mammals?', additional_kwargs={}, response_metadata={}, name='Bot', id='3'),\n",
       "  HumanMessage(content='Yes, I know about whales. But what others should I learn about?', additional_kwargs={}, response_metadata={}, name='Lance', id='4'),\n",
       "  AIMessage(content='In addition to whales, there are several other interesting ocean mammals you might want to explore:\\n\\n1. **Dolphins**: Highly intelligent and social animals, known for their playful behavior and acrobatics. The bottlenose dolphin is the most familiar species.\\n\\n2. **Porpoises**: Often confused with dolphins, porpoises are smaller and have different shaped teeth and fins. The Harbor porpoise is one common species.\\n\\n3. **Seals**: Aquatic mammals with a streamlined body and limbs modified into flippers. Examples include the harbor seal and the leopard seal.\\n\\n4. **Sea Lions**: Similar to seals but generally larger and with external ear flaps. The California sea lion is notable in circuses and zoos.\\n\\n5. **Walruses**: Large marine mammals known for their characteristic tusks, whiskers, and bulk.\\n\\n6. **Manatees and Dugongs**: Sometimes referred to as \"sea cows,\" these slow-moving herbivores graze on underwater vegetation.\\n\\n7. **Sea Otters**: Native to the coasts of the northern and eastern North Pacific Ocean, they are known for their use of tools to open shellfish.\\n\\n8. **Polar Bears**: While not primarily ocean-dwelling, they rely heavily on the oceanic environment for hunting seals.\\n\\nEach of these animals plays a unique role in marine ecosystems and has distinct behaviors, adaptations, and conservation challenges.', additional_kwargs={'refusal': None}, response_metadata={'token_usage': {'completion_tokens': 293, 'prompt_tokens': 55, 'total_tokens': 348, 'completion_tokens_details': {'accepted_prediction_tokens': 0, 'audio_tokens': 0, 'reasoning_tokens': 0, 'rejected_prediction_tokens': 0}, 'prompt_tokens_details': {'audio_tokens': 0, 'cached_tokens': 0}}, 'model_name': 'gpt-4o-2024-08-06', 'system_fingerprint': 'fp_4691090a87', 'finish_reason': 'stop', 'logprobs': None}, id='run-d40d1c06-feb8-4528-aad8-fed14e84a8cb-0', usage_metadata={'input_tokens': 55, 'output_tokens': 293, 'total_tokens': 348, 'input_token_details': {'audio': 0, 'cache_read': 0}, 'output_token_details': {'audio': 0, 'reasoning': 0}}),\n",
       "  HumanMessage(content='Tell me more about Dolphins!', additional_kwargs={}, response_metadata={}, name='Lance', id='9279a9ff-6c44-4a59-b14c-524bdf88e25f'),\n",
       "  AIMessage(content='Dolphins are highly intelligent and social marine mammals known for their playful behavior and acrobatic abilities. They belong to the family Delphinidae, which includes about 90 species of toothed whales, including dolphins, orcas, and pilot whales. Here are some key points about dolphins:\\n\\n1. **Habitat**: Dolphins are found in oceans worldwide, from tropical and temperate waters to cooler seas. Some species, like the Amazon river dolphin and the Ganges river dolphin, inhabit freshwater rivers.\\n\\n2. **Intelligence**: Dolphins are renowned for their cognitive abilities, including problem-solving, self-awareness, and complex social interactions. They have large brains relative to their body size and exhibit behaviors that suggest high intelligence, such as using tools, recognizing themselves in mirrors, and showing empathy toward injured individuals.\\n\\n3. **Communication**: Dolphins have a sophisticated communication system, using clicks, whistles, and body movements. Each dolphin has a unique signature whistle that acts like a name, helping them identify one another. They also use echolocation to navigate and hunt in murky waters.\\n\\n4. **Diet**: Most dolphins are carnivorous, feeding on fish and squid. Some species, like the orca, have a more varied diet and may hunt marine mammals like seals and other whales.\\n\\n5. **Social Structure**: Dolphins are highly social animals, often found in groups called pods. These groups can be small, consisting of a few individuals, or larger, numbering in the hundreds or even thousands, referred to as superpods. Within these pods, dolphins exhibit complex social behaviors and cooperate in activities like hunting and protection from predators.\\n\\n6. **Conservation**: Some dolphin species face threats from human activities, including habitat loss, pollution, entanglement in fishing gear, and hunting. Conservation efforts are ongoing to protect dolphins and their habitats, with various organizations promoting sustainable fishing practices and marine protected areas.\\n\\n7. **Lifespan**: The lifespan of dolphins varies by species, but many can live for several decades. For example, bottlenose dolphins can live for more than 40 years, while orcas can live over 80 years in some cases.\\n\\nDolphins are a beloved symbol of marine conservation and are often featured in ecotourism activities like dolphin watching. Their charismatic nature and important role in marine ecosystems make them a focus of scientific research and conservation efforts worldwide.', additional_kwargs={'refusal': None}, response_metadata={'token_usage': {'completion_tokens': 485, 'prompt_tokens': 15, 'total_tokens': 500, 'completion_tokens_details': {'accepted_prediction_tokens': 0, 'audio_tokens': 0, 'reasoning_tokens': 0, 'rejected_prediction_tokens': 0}, 'prompt_tokens_details': {'audio_tokens': 0, 'cached_tokens': 0}}, 'model_name': 'gpt-4o-2024-08-06', 'system_fingerprint': 'fp_50cad350e4', 'finish_reason': 'stop', 'logprobs': None}, id='run-8397ee46-0c4b-42d5-bf61-7fc012166938-0', usage_metadata={'input_tokens': 15, 'output_tokens': 485, 'total_tokens': 500, 'input_token_details': {'audio': 0, 'cache_read': 0}, 'output_token_details': {'audio': 0, 'reasoning': 0}}),\n",
       "  HumanMessage(content='Tell me where Orcas live!', additional_kwargs={}, response_metadata={}, name='Lance', id='5cd40a50-71f8-4648-bf8c-51b407201247'),\n",
       "  AIMessage(content=\"Orcas, also known as killer whales, are widely distributed marine mammals and are found in all of the world's oceans. They inhabit a variety of marine environments, from the icy waters of the polar regions to the warm seas of the tropics. Some of the specific areas where orcas are commonly found include:\\n\\n1. **Polar Regions**: Orcas are often seen in the Arctic and Antarctic waters, where they hunt for seals, fish, and other marine mammals.\\n\\n2. **Temperate Zones**: Many orcas inhabit coastal waters in temperate regions, such as those off the coasts of the Pacific Northwest in North America, Norway, and Patagonia in South America.\\n\\n3. **Open Ocean**: While typically more concentrated in coastal areas, some orca pods are known to travel vast distances through the open ocean.\\n\\n4. **Mediterranean Sea**: Though less common, orcas can also be found in some parts of the Mediterranean Sea.\\n\\n5. **Southern Ocean**: Around the Antarctic, orcas are adapted to the cold and are seen hunting and living among the ice.\\n\\nOrca populations are often categorized into different ecotypes, each with its own distinct dietary preferences, behaviors, and social structures, which influences where they are found and how they interact with their environment.\", additional_kwargs={'refusal': None}, response_metadata={'token_usage': {'completion_tokens': 261, 'prompt_tokens': 16, 'total_tokens': 277, 'completion_tokens_details': {'accepted_prediction_tokens': 0, 'audio_tokens': 0, 'reasoning_tokens': 0, 'rejected_prediction_tokens': 0}, 'prompt_tokens_details': {'audio_tokens': 0, 'cached_tokens': 0}}, 'model_name': 'gpt-4o-2024-08-06', 'system_fingerprint': 'fp_50cad350e4', 'finish_reason': 'stop', 'logprobs': None}, id='run-f1283cc8-0d7b-4b17-bfca-d8eaa7436bbb-0', usage_metadata={'input_tokens': 16, 'output_tokens': 261, 'total_tokens': 277, 'input_token_details': {'audio': 0, 'cache_read': 0}, 'output_token_details': {'audio': 0, 'reasoning': 0}})]}"
      ]
     },
     "execution_count": 42,
     "metadata": {},
     "output_type": "execute_result"
    }
   ],
   "source": [
    "messages_out_trim"
   ]
  },
  {
   "cell_type": "code",
   "execution_count": null,
   "metadata": {},
   "outputs": [],
   "source": []
  }
 ],
 "metadata": {
  "kernelspec": {
   "display_name": "base",
   "language": "python",
   "name": "python3"
  },
  "language_info": {
   "codemirror_mode": {
    "name": "ipython",
    "version": 3
   },
   "file_extension": ".py",
   "mimetype": "text/x-python",
   "name": "python",
   "nbconvert_exporter": "python",
   "pygments_lexer": "ipython3",
   "version": "3.12.2"
  }
 },
 "nbformat": 4,
 "nbformat_minor": 2
}

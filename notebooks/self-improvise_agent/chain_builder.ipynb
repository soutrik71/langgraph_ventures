{
 "cells": [
  {
   "cell_type": "code",
   "execution_count": 1,
   "id": "e25ac732",
   "metadata": {},
   "outputs": [
    {
     "data": {
      "application/javascript": "IPython.notebook.set_autosave_interval(300000)"
     },
     "metadata": {},
     "output_type": "display_data"
    },
    {
     "name": "stdout",
     "output_type": "stream",
     "text": [
      "Autosaving every 300 seconds\n"
     ]
    }
   ],
   "source": [
    "%autosave 300\n",
    "%load_ext autoreload\n",
    "%autoreload 2\n",
    "%reload_ext autoreload\n",
    "%config Completer.use_jedi = False"
   ]
  },
  {
   "cell_type": "code",
   "execution_count": 2,
   "id": "578f8776",
   "metadata": {},
   "outputs": [
    {
     "name": "stdout",
     "output_type": "stream",
     "text": [
      "/mnt/batch/tasks/shared/LS_root/mounts/clusters/soutrik-vm-dev/code/Users/Soutrik.Chowdhury/langgraph_ventures\n"
     ]
    }
   ],
   "source": [
    "import os\n",
    "\n",
    "os.chdir(\"../..\")\n",
    "print(os.getcwd())"
   ]
  },
  {
   "cell_type": "code",
   "execution_count": 3,
   "id": "1c1a1bc4",
   "metadata": {},
   "outputs": [],
   "source": [
    "from src.query_router import get_question_router_chain\n",
    "from src.doc_grader import get_doc_grader_chain\n",
    "from src.query_rewriter import get_query_rewrite_chain\n",
    "from src.utils import get_llm, get_embedder\n",
    "from src.doc_summarizer import get_doc_summarizer_chain\n",
    "from src.response_scorer import get_response_scorer_chain"
   ]
  },
  {
   "cell_type": "code",
   "execution_count": 4,
   "id": "bbf0d937",
   "metadata": {},
   "outputs": [],
   "source": [
    "query = \"What are the potential benefits of investing in the financials sector under the new Republican administration\"\n",
    "content = \"\"\"\n",
    "Nutmeg Investor Update: December 2024 – January 2025\n",
    "\n",
    "Introduction\n",
    "The end of 2024 saw strong performance in global equity and bond markets, with US stocks leading gains. The re-election of Donald Trump and a Republican sweep in the US election boosted investor optimism for US assets, while emerging markets and Europe faced headwinds.\n",
    "\n",
    "Market Highlights\n",
    "\n",
    "US Equities: Large-cap US stocks rose 5.9% and small caps 10.2% in November. The S&P 500 gained 25% for 2024, and the NASDAQ nearly 26%, driven by robust corporate earnings and optimism over tax breaks and deregulation.\n",
    "Global Markets: Japanese and UK equities posted modest gains, while European markets declined amid concerns over US trade tariffs and weak industrial activity. Emerging markets fell 3.5% in November, with China underperforming but India remaining resilient.\n",
    "Bonds: Both government and corporate bonds rose in November. High-yield bonds in the US and Europe gained over 8% for the year, reflecting investor risk appetite. However, government bonds had mixed results, with UK gilts underperforming and US bonds muted due to fewer expected rate cuts.\n",
    "Outlook for 2025\n",
    "Nutmeg’s investment team remains optimistic but cautious. The US economic environment is supportive, with a strong job market and declining inflation. However, high US equity valuations and geopolitical risks, including potential Trump administration policies and global conflicts, could increase volatility. Emerging markets face challenges from a stronger dollar and possible tariffs. The team is holding higher cash reserves to respond to market opportunities and risks.\n",
    "\n",
    "Conclusion\n",
    "Despite uncertainties, Nutmeg maintains a positive long-term outlook, emphasizing diversification and readiness to adapt to changing market conditions.\n",
    "\n",
    "The Nutmeg investment team is closely monitoring the evolving landscape and is prepared to adjust strategies as necessary. The focus remains on delivering value to clients through informed investment decisions and a commitment to long-term growth.\n",
    "\"\"\"\n",
    "source = \"Source idx: 0 - https://www.nutmeg.com/nutmegonomics/nutmeg-investor-update-december-2024\\n\\nSource idx: 1 - https://www.nutmeg.com/nutmegonomics/nutmeg-investor-update-march-2025\\n\\nSource idx: 2 - https://www.nutmeg.com/nutmegonomics/nutmeg-investor-update-january-2025\\n\\nSource idx: 3 - https://www.nutmeg.com/nutmegonomics/nutmeg-investor-update-december-2024\\n\\nSource idx: 4 - https://www.nutmeg.com/nutmegonomics/nutmeg-investor-update-february-2025\\n\\nSource idx: 5 - https://www.nutmeg.com/nutmegonomics/nutmeg-investor-update-january-2025\"\n",
    "keywords = \"Keywords set: 0 - (Nutmeg investor update December 2024 US election Donald Trump equity markets emerging markets trade tariffs global trade US stocks economic growth bond markets investment implications),\\nKeywords set: 1 - (Nutmeg investor update March 2025 US stocks European equities Chinese equities geopolitical news US macroeconomic signals consumer confidence financial markets investment outlook portfolio changes financial sector interest rates Republican administration),\\nKeywords set: 2 - (Nutmeg investor update January 2025 stock markets bonds Federal Reserve interest rates inflation economic growth Santa Claus rally S&P 500 NASDAQ AI corporate earnings geopolitical uncertainties market volatility US equity emerging markets China Europe UK),\\nKeywords set: 3 - (Nutmeg investor update December 2024 US election Donald Trump equity markets emerging markets trade tariffs global trade US stocks economic growth bond markets investment implications),\\nKeywords set: 4 - (Nutmeg investor update February 2025 global equities Donald Trump White House DeepSeek AI Bank of England rate cut bond market currency volatility),\\nKeywords set: 5 - (Nutmeg investor update January 2025 stock markets bonds Federal Reserve interest rates inflation economic growth Santa Claus rally S&P 500 NASDAQ AI corporate earnings geopolitical uncertainties market volatility US equity emerging markets China Europe UK)\""
   ]
  },
  {
   "cell_type": "code",
   "execution_count": 5,
   "id": "91b4c273",
   "metadata": {},
   "outputs": [],
   "source": [
    "llm = get_llm()\n",
    "embedder = get_embedder()"
   ]
  },
  {
   "cell_type": "markdown",
   "id": "bad9fe44",
   "metadata": {},
   "source": [
    "##### ROUTER CHAIN"
   ]
  },
  {
   "cell_type": "code",
   "execution_count": 6,
   "id": "dd74989e",
   "metadata": {},
   "outputs": [],
   "source": [
    "question_router_chain = get_question_router_chain(llm)"
   ]
  },
  {
   "cell_type": "code",
   "execution_count": 7,
   "id": "71220265",
   "metadata": {},
   "outputs": [
    {
     "name": "stdout",
     "output_type": "stream",
     "text": [
      "vector_retriever\n",
      "web_search\n"
     ]
    }
   ],
   "source": [
    "op = await question_router_chain.ainvoke(\n",
    "    {\n",
    "        \"query\": query,\n",
    "    }\n",
    ")\n",
    "print(op.source)\n",
    "op = await question_router_chain.ainvoke({\"query\": \"What is the capital of France?\"})\n",
    "print(op.source)"
   ]
  },
  {
   "cell_type": "markdown",
   "id": "1eb3eab0",
   "metadata": {},
   "source": [
    "##### DOC GRADER"
   ]
  },
  {
   "cell_type": "code",
   "execution_count": 8,
   "id": "ede1d40b",
   "metadata": {},
   "outputs": [],
   "source": [
    "doc_grader_chain = get_doc_grader_chain(llm)"
   ]
  },
  {
   "cell_type": "code",
   "execution_count": 9,
   "id": "a75cba0f",
   "metadata": {},
   "outputs": [
    {
     "name": "stdout",
     "output_type": "stream",
     "text": [
      "no_relevance\n"
     ]
    }
   ],
   "source": [
    "op = await doc_grader_chain.ainvoke(\n",
    "    {\n",
    "        \"context\": content,\n",
    "        \"question\": query,\n",
    "    }\n",
    ")\n",
    "\n",
    "print(op.grade_score)"
   ]
  },
  {
   "cell_type": "markdown",
   "id": "e171de77",
   "metadata": {},
   "source": [
    "##### Query Rewriter"
   ]
  },
  {
   "cell_type": "code",
   "execution_count": 10,
   "id": "651d9a61",
   "metadata": {},
   "outputs": [],
   "source": [
    "query_rewrite_chain = get_query_rewrite_chain(llm)"
   ]
  },
  {
   "cell_type": "code",
   "execution_count": 11,
   "id": "891965db",
   "metadata": {},
   "outputs": [
    {
     "name": "stdout",
     "output_type": "stream",
     "text": [
      "rewritten_query='What are the potential benefits of investing in the financials sector under the new Republican administration, considering the recent US election results, economic growth, interest rates, and geopolitical news?'\n"
     ]
    }
   ],
   "source": [
    "op = query_rewrite_chain.invoke(\n",
    "    {\n",
    "        \"context\": keywords,\n",
    "        \"question\": query,\n",
    "    }\n",
    ")\n",
    "print(op)"
   ]
  },
  {
   "cell_type": "markdown",
   "id": "6948fdf1",
   "metadata": {},
   "source": [
    "##### DOC Summarizer"
   ]
  },
  {
   "cell_type": "code",
   "execution_count": 12,
   "id": "60a1c49f",
   "metadata": {},
   "outputs": [],
   "source": [
    "summarizer_chain = get_doc_summarizer_chain(llm)"
   ]
  },
  {
   "cell_type": "code",
   "execution_count": 13,
   "id": "3053c221",
   "metadata": {},
   "outputs": [
    {
     "name": "stdout",
     "output_type": "stream",
     "text": [
      "summary=\"**Introduction**\\n\\nThe re-election of Donald Trump and a Republican sweep in the US election have created a favorable environment for the financials sector. The new administration's policies are expected to benefit this sector significantly.\\n\\n**Potential Benefits of Investing in the Financials Sector**\\n\\n- **Tax Breaks and Deregulation**: The Republican administration is likely to implement tax breaks and deregulation, which can boost corporate earnings and profitability in the financials sector.\\n- **Investor Optimism**: The positive sentiment among investors towards US assets, driven by the new administration's policies, can lead to increased investments and higher valuations in the financials sector.\\n- **Strong Economic Environment**: A supportive US economic environment, characterized by a strong job market and declining inflation, can further enhance the performance of financial stocks.\\n- **High-Yield Bonds**: The rise in high-yield bonds reflects investor risk appetite, which can be beneficial for financial institutions involved in bond markets.\\n\\n**Conclusion**\\n\\nOverall, the new Republican administration's policies are expected to create a conducive environment for the financials sector, with potential benefits including tax breaks, deregulation, and a strong economic backdrop. Investors may find attractive opportunities in this sector due to increased optimism and favorable market conditions.\" citation='Source: Nutmeg Investor Update: December 2024 – January 2025'\n"
     ]
    }
   ],
   "source": [
    "op = summarizer_chain.invoke(\n",
    "    {\n",
    "        \"question\": query,\n",
    "        \"context\": content,\n",
    "        \"citation\": source,\n",
    "    }\n",
    ")\n",
    "print(op)"
   ]
  },
  {
   "cell_type": "code",
   "execution_count": 14,
   "id": "6e306f8d",
   "metadata": {},
   "outputs": [],
   "source": [
    "response = op"
   ]
  },
  {
   "cell_type": "markdown",
   "id": "6ef564bd",
   "metadata": {},
   "source": [
    "##### Response Scorer"
   ]
  },
  {
   "cell_type": "code",
   "execution_count": 15,
   "id": "c7b07295",
   "metadata": {},
   "outputs": [],
   "source": [
    "scorer_chain = get_response_scorer_chain(llm)"
   ]
  },
  {
   "cell_type": "code",
   "execution_count": 16,
   "id": "e551b89b",
   "metadata": {},
   "outputs": [
    {
     "name": "stdout",
     "output_type": "stream",
     "text": [
      "no\n",
      "0.9\n"
     ]
    }
   ],
   "source": [
    "op = scorer_chain.invoke(\n",
    "    {\n",
    "        \"response\": response,\n",
    "        \"question\": query,\n",
    "        \"context\": content,\n",
    "    }\n",
    ")\n",
    "print(op.hallucination)\n",
    "print(op.response_score)"
   ]
  },
  {
   "cell_type": "markdown",
   "id": "7ee27602",
   "metadata": {},
   "source": [
    "########## END ##########"
   ]
  }
 ],
 "metadata": {
  "kernelspec": {
   "display_name": "Python 3",
   "language": "python",
   "name": "python3"
  },
  "language_info": {
   "codemirror_mode": {
    "name": "ipython",
    "version": 3
   },
   "file_extension": ".py",
   "mimetype": "text/x-python",
   "name": "python",
   "nbconvert_exporter": "python",
   "pygments_lexer": "ipython3",
   "version": "3.10.16"
  }
 },
 "nbformat": 4,
 "nbformat_minor": 5
}

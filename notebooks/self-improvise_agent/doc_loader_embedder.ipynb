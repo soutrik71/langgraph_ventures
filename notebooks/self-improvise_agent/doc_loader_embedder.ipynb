{
 "cells": [
  {
   "cell_type": "code",
   "execution_count": 1,
   "id": "34663290",
   "metadata": {},
   "outputs": [
    {
     "data": {
      "application/javascript": "IPython.notebook.set_autosave_interval(300000)"
     },
     "metadata": {},
     "output_type": "display_data"
    },
    {
     "name": "stdout",
     "output_type": "stream",
     "text": [
      "Autosaving every 300 seconds\n"
     ]
    }
   ],
   "source": [
    "%autosave 300\n",
    "%load_ext autoreload\n",
    "%autoreload 2\n",
    "%reload_ext autoreload\n",
    "%config Completer.use_jedi = False"
   ]
  },
  {
   "cell_type": "code",
   "execution_count": 2,
   "id": "ffada6b9",
   "metadata": {},
   "outputs": [
    {
     "name": "stdout",
     "output_type": "stream",
     "text": [
      "/mnt/batch/tasks/shared/LS_root/mounts/clusters/soutrik-vm-dev/code/Users/Soutrik.Chowdhury/langgraph_ventures\n"
     ]
    }
   ],
   "source": [
    "import os\n",
    "\n",
    "os.chdir(\"../..\")\n",
    "print(os.getcwd())"
   ]
  },
  {
   "cell_type": "markdown",
   "id": "5c947146",
   "metadata": {},
   "source": [
    "#### Doc Generator"
   ]
  },
  {
   "cell_type": "code",
   "execution_count": 3,
   "id": "3649b52a",
   "metadata": {},
   "outputs": [
    {
     "name": "stderr",
     "output_type": "stream",
     "text": [
      "USER_AGENT environment variable not set, consider setting it to identify your requests.\n"
     ]
    }
   ],
   "source": [
    "from langchain.text_splitter import RecursiveCharacterTextSplitter\n",
    "from langchain_community.document_loaders import WebBaseLoader\n",
    "from src.utils import get_llm, get_embedder\n",
    "from src.doc_loader import DocumentProcessor\n",
    "import asyncio\n",
    "from src.vector_db import VectorDBManager"
   ]
  },
  {
   "cell_type": "code",
   "execution_count": 4,
   "id": "2fed6a36",
   "metadata": {},
   "outputs": [],
   "source": [
    "llm = get_llm()\n",
    "embedder = get_embedder()"
   ]
  },
  {
   "cell_type": "code",
   "execution_count": 5,
   "id": "d5609d86",
   "metadata": {},
   "outputs": [],
   "source": [
    "urls = [\n",
    "    \"https://www.nutmeg.com/nutmegonomics/nutmeg-investor-update-march-2025\",\n",
    "    \"https://www.nutmeg.com/nutmegonomics/nutmeg-investor-update-february-2025\",\n",
    "    \"https://www.nutmeg.com/nutmegonomics/nutmeg-investor-update-january-2025\",\n",
    "    \"https://www.nutmeg.com/nutmegonomics/nutmeg-investor-update-december-2024\",\n",
    "    \"https://www.nutmeg.com/nutmegonomics/nutmeg-investor-update-november-2024\",\n",
    "    \"https://www.nutmeg.com/nutmegonomics/nutmeg-investor-update-october-2024\",\n",
    "]"
   ]
  },
  {
   "cell_type": "code",
   "execution_count": 6,
   "id": "4988e952",
   "metadata": {},
   "outputs": [
    {
     "name": "stdout",
     "output_type": "stream",
     "text": [
      "Loaded 6 documents from 6 URLs.\n",
      "Split into 16 chunks.\n",
      "Processed 16 chunks.\n"
     ]
    }
   ],
   "source": [
    "doc_processor = DocumentProcessor(llm=llm)\n",
    "chunked_docs = await doc_processor.process_all(urls)\n",
    "print(f\"Processed {len(chunked_docs)} chunks.\")"
   ]
  },
  {
   "cell_type": "code",
   "execution_count": 7,
   "id": "6819f840",
   "metadata": {},
   "outputs": [],
   "source": [
    "# Vector DB"
   ]
  },
  {
   "cell_type": "code",
   "execution_count": 8,
   "id": "8d7f08a8",
   "metadata": {},
   "outputs": [],
   "source": [
    "vectordb_manager = VectorDBManager(\n",
    "    embedder=embedder,\n",
    "    drop_old=True,\n",
    "    collection_name=\"nutmeg\",\n",
    ")"
   ]
  },
  {
   "cell_type": "code",
   "execution_count": 9,
   "id": "6d40b644",
   "metadata": {},
   "outputs": [
    {
     "name": "stderr",
     "output_type": "stream",
     "text": [
      "\u001b[32m2025-05-15 05:34:16.376\u001b[0m | \u001b[1mINFO    \u001b[0m | \u001b[36msrc.vector_db\u001b[0m:\u001b[36mcheck_collections\u001b[0m:\u001b[36m120\u001b[0m - \u001b[1mAll collections in 'milvus_demo': ['LangChainCollection']\u001b[0m\n",
      "\u001b[32m2025-05-15 05:34:16.377\u001b[0m | \u001b[33m\u001b[1mWARNING \u001b[0m | \u001b[36msrc.vector_db\u001b[0m:\u001b[36mcheck_collections\u001b[0m:\u001b[36m125\u001b[0m - \u001b[33m\u001b[1mCollection 'nutmeg' does not exist.\u001b[0m\n"
     ]
    },
    {
     "data": {
      "text/plain": [
       "False"
      ]
     },
     "execution_count": 9,
     "metadata": {},
     "output_type": "execute_result"
    }
   ],
   "source": [
    "vectordb_manager.check_collections()"
   ]
  },
  {
   "cell_type": "code",
   "execution_count": 10,
   "id": "799e424e",
   "metadata": {},
   "outputs": [
    {
     "name": "stderr",
     "output_type": "stream",
     "text": [
      "\u001b[32m2025-05-15 05:34:23.957\u001b[0m | \u001b[33m\u001b[1mWARNING \u001b[0m | \u001b[36msrc.vector_db\u001b[0m:\u001b[36mdrop_collections\u001b[0m:\u001b[36m144\u001b[0m - \u001b[33m\u001b[1mCollection 'langchain_milvus' does not exist and cannot be dropped.\u001b[0m\n",
      "\u001b[32m2025-05-15 05:34:23.957\u001b[0m | \u001b[33m\u001b[1mWARNING \u001b[0m | \u001b[36msrc.vector_db\u001b[0m:\u001b[36mdrop_collections\u001b[0m:\u001b[36m144\u001b[0m - \u001b[33m\u001b[1mCollection 'book_recommendations' does not exist and cannot be dropped.\u001b[0m\n",
      "\u001b[32m2025-05-15 05:34:23.958\u001b[0m | \u001b[33m\u001b[1mWARNING \u001b[0m | \u001b[36msrc.vector_db\u001b[0m:\u001b[36mdrop_collections\u001b[0m:\u001b[36m144\u001b[0m - \u001b[33m\u001b[1mCollection 'lilian_weng_blog' does not exist and cannot be dropped.\u001b[0m\n",
      "\u001b[32m2025-05-15 05:34:23.960\u001b[0m | \u001b[1mINFO    \u001b[0m | \u001b[36msrc.vector_db\u001b[0m:\u001b[36mdrop_collections\u001b[0m:\u001b[36m149\u001b[0m - \u001b[1mRemaining collections: ['LangChainCollection']\u001b[0m\n"
     ]
    }
   ],
   "source": [
    "vectordb_manager.drop_collections(\n",
    "    [\"langchain_milvus\", \"book_recommendations\", \"lilian_weng_blog\"]\n",
    ")"
   ]
  },
  {
   "cell_type": "code",
   "execution_count": 11,
   "id": "5cc92ad0",
   "metadata": {},
   "outputs": [
    {
     "name": "stderr",
     "output_type": "stream",
     "text": [
      "\u001b[32m2025-05-15 05:34:29.775\u001b[0m | \u001b[1mINFO    \u001b[0m | \u001b[36msrc.vector_db\u001b[0m:\u001b[36madd_documents\u001b[0m:\u001b[36m83\u001b[0m - \u001b[1mAdded 16 documents to the collection 'nutmeg'.\u001b[0m\n",
      "\u001b[32m2025-05-15 05:34:29.779\u001b[0m | \u001b[1mINFO    \u001b[0m | \u001b[36msrc.vector_db\u001b[0m:\u001b[36mcheck_collections\u001b[0m:\u001b[36m120\u001b[0m - \u001b[1mAll collections in 'milvus_demo': ['LangChainCollection', 'nutmeg']\u001b[0m\n",
      "\u001b[32m2025-05-15 05:34:29.780\u001b[0m | \u001b[1mINFO    \u001b[0m | \u001b[36msrc.vector_db\u001b[0m:\u001b[36mcheck_collections\u001b[0m:\u001b[36m122\u001b[0m - \u001b[1mCollection 'nutmeg' exists.\u001b[0m\n"
     ]
    },
    {
     "data": {
      "text/plain": [
       "True"
      ]
     },
     "execution_count": 11,
     "metadata": {},
     "output_type": "execute_result"
    }
   ],
   "source": [
    "vectordb_manager.add_documents(chunked_docs)\n",
    "vectordb_manager.check_collections()"
   ]
  },
  {
   "cell_type": "code",
   "execution_count": 12,
   "id": "fefa0d43",
   "metadata": {},
   "outputs": [],
   "source": [
    "vectordb_manager_new = VectorDBManager(\n",
    "    embedder=embedder,\n",
    "    collection_name=\"nutmeg\",\n",
    "    drop_old=False,\n",
    ")"
   ]
  },
  {
   "cell_type": "code",
   "execution_count": 13,
   "id": "9e4f12b6",
   "metadata": {},
   "outputs": [
    {
     "name": "stderr",
     "output_type": "stream",
     "text": [
      "\u001b[32m2025-05-15 05:34:37.150\u001b[0m | \u001b[1mINFO    \u001b[0m | \u001b[36msrc.vector_db\u001b[0m:\u001b[36mcheck_collections\u001b[0m:\u001b[36m120\u001b[0m - \u001b[1mAll collections in 'milvus_demo': ['LangChainCollection', 'nutmeg']\u001b[0m\n",
      "\u001b[32m2025-05-15 05:34:37.150\u001b[0m | \u001b[1mINFO    \u001b[0m | \u001b[36msrc.vector_db\u001b[0m:\u001b[36mcheck_collections\u001b[0m:\u001b[36m122\u001b[0m - \u001b[1mCollection 'nutmeg' exists.\u001b[0m\n"
     ]
    },
    {
     "data": {
      "text/plain": [
       "True"
      ]
     },
     "execution_count": 13,
     "metadata": {},
     "output_type": "execute_result"
    }
   ],
   "source": [
    "vectordb_manager_new.check_collections()"
   ]
  },
  {
   "cell_type": "code",
   "execution_count": 14,
   "id": "1503a1e7",
   "metadata": {},
   "outputs": [
    {
     "data": {
      "text/plain": [
       "[Document(metadata={'language': 'en', 'keywords': \"Nutmeg investor update October 2024 market performance central bank announcements US Federal Reserve People's Bank of China equity markets interest rates economic growth Chinese equities investment team portfolio allocation US technology stocks\", 'source': 'https://www.nutmeg.com/nutmegonomics/nutmeg-investor-update-october-2024', 'title': 'Nutmeg investor update: October 2024 - Nutmeg', 'description': 'Brad Holland, Director of Investment Strategy, reviews market performance during September.', 'summary': \"The Nutmeg investor update for October 2024 reviews market performance in September, highlighting significant central bank announcements from the US Federal Reserve and the People's Bank of China, which led to positive investor reactions and market movements. The update also discusses the investment team's unchanged portfolio allocation and their focus on US technology stocks due to technological change.\", 'pk': '867c6724-e8fd-4692-858d-a2c2a225aa2c'}, page_content='significant announcements; the US and China.Starting with the US, the Federal Reserve - or simply \"the Fed\" - has been trying to contain inflation in the US economy since the start of 2022. The Fed has a few tools to do this, but interest rates are one of the most powerful. By increasing (or tightening) rates to their highest level since 2007, inflation has indeed come down a long way and is now close to where the Fed wants it. The downside of higher interest rates is that they can stifle economic growth.In September, the Fed was happy enough to cut rates for the first time in four years, and by 0.5%; a bigger move than its usual 0.25%. Investors saw it as good news, which was reflected by the market movements. Expectations are for the Fed to continue cutting rates steadily.It\\'s important to say that there are still elements of the US economy that the Fed will be watching carefully. Containing inflation and keeping it steady is a delicate task.Some contributors to the overall inflation figure – specifically wage inflation – remain higher than is ideal. Even so, this is partially offset by stable and growing productivity, so we think the steady pace of rate cuts will continue for now. In general, the economy overall looks to be in good shape.China is pulling out all the stopsThe Fed’s decision was well received by the market, but also not a huge surprise. The People\\'s Bank of China (PBoC), conversely, announced a series of surprisingly aggressive policy changes, in a bid to reverse the economy’s persistent slowdown.\\xa0 Chinese equities rallied sharply following the news.The measures included\\xa0interest rate and mortgage rate cuts, and financing assistance for the\\xa0ailing property market. Some restrictions on property purchases are also being removed. In addition, the Chinese government announced measures aimed at supporting the equity market. Time will tell if these various policy measures will improve economic performance enough to reach China\\'s growth targets. The Nutmeg investment team aren’t convinced, not yet anyway. To see sustained strength in domestic demand, we feel more is needed.What did the investment team do?The investment team didn\\'t change portfolio allocation over the month. Our positive outlook for economic growth means we have retained our bias towards equities. We also think that technological change is playing an important role in how economies and equities behave. And we are positioned for this trend by being over-allocated to US technology stocks.\\xa0Thanks for watching. If you have any questions or suggestions for a topic you’d like us to discuss in next month’s investor update, you can contact us via social media, email or in the comments section below this video.\\xa0The Nutmeg investor update is also available as a podcast. Listen to this month\\'s update below.About this update: This update was recorded on October 8, 2024. All figures, unless otherwise stated, relate to the month of September, 2024.Risk warningAs with all investing, your capital is at risk. The value of your portfolio with Nutmeg can go down as well as up and you may get back less than you invest. Past performance and forecasts are not reliable indicators of future performance.\\u202f We do not provide investment advice in this update. Always do your own research.App store badgeGoogle play badgeSupportFAQsInsightsSitemapCareersPrivacy policyCookie policySite termsTerms and conditionsRegulatoryComplaintsCookie SettingsClient services020 3598 1515Contact ussupport@nutmeg.comPress enquiries only07788251769pr@nutmeg.comNutmeg25 Bank StreetCanary WharfLondonE14 5JPOffice020 3598 1717As with all investing, your capital is at risk. The value of your portfolio with Nutmeg can go down as well as up and you may get back less than you invest. Learn what we mean by riskCopyright © 2025 Nutmeg Saving and Investment Limited. Nutmeg® is a registered trade mark of Nutmeg Saving and Investment Limited, authorised and regulated by the Financial Conduct Authority, no. 552016, registered in England and Wales, no. 07503666, with a registered office at 25 Bank Street, Canary Wharf, London E14 5JP. Smart Alpha is a trade mark of Schroders plc and is used under licence.App Store is a service mark and Apple and the Apple logo are trademarks of Apple Inc. Google Play and the Google Play logo are trademarks of Google LLC.'),\n",
       " Document(metadata={'language': 'en', 'keywords': 'Nutmeg investor update March 2025 global stock markets European equities Chinese equities US stocks economic outlook portfolio adjustments European industrials financial sector Republican administration', 'source': 'https://www.nutmeg.com/nutmegonomics/nutmeg-investor-update-march-2025', 'title': 'Nutmeg investor update: March 2025 - Nutmeg', 'description': 'February was a busy month, with investors digesting a lot of geopolitical news. US stocks fell back, but European and Chinese equities made notable gains.', 'summary': \"The Nutmeg investor update for March 2025 highlights the mixed performance of global stock markets in February, with European and Chinese equities gaining while US stocks declined. The update also discusses the Nutmeg investment team's views on the US economic outlook, their portfolio adjustments, and the potential benefits of investing in European industrials and the financial sector under the new Republican administration.\", 'pk': '816b00bb-ce4d-4b95-bdf5-90fe3d21dc35'}, page_content=\"Nutmeg investor update: March 2025 - NutmegSkip to contentProductsProductsInvest for every stage for life and make the most of your tax allowances.\\xa0Stocks and Shares ISAPersonal PensionLifetime ISAJunior ISAGeneral Investment AccountInvestment stylesInvestment stylesHave your money managed in a way that fits your goals and\\xa0priorities.Fully ManagedThematic InvestingSmart AlphaSocially Responsible InvestingFixed AllocationAdviceFinancial advice and guidanceGet expert support to help you make the right investment choices.Free financial guidanceOur financial advice serviceRetirement adviceInvestment adviceConsolidation adviceLump sum adviceBook your free consultationTools and guidesTools and guidesSee how you could reach your goals with our calculators and how-to guides.ToolsSelf-employed tax calculatorCompound returns calculatorISA calculatorPension calculatorCapital Gains Tax calculatorGuidesInvesting for beginnersHow to retire at 55How to avoid the 60% tax trapWhat inflation means in investingWhy it's important to diversifyWhat is volatility?InsightsInsightsRead the latest views from our investment and wealth experts.Financial planningRetirement essentialsInvesting essentialsMarketsBrowse our articlesAbout usAbout usFind out more about who we are and what we do for investors.Our companyOur track recordOur feesMeet the investment teamCareersHelpHelpAsk us about investing, your account, advice and more.Get in touchFAQsGo to our Help hubLog InSign upHamburger MenuProductsProductsInvest for every stage for life and make the most of your tax allowances.\\xa0Stocks and Shares ISAPersonal PensionLifetime ISAJunior ISAGeneral Investment AccountInvestment stylesInvestment stylesHave your money managed in a way that fits your goals and\\xa0priorities.Fully ManagedThematic InvestingSmart AlphaSocially Responsible InvestingFixed AllocationAdviceFinancial advice and guidanceGet expert support to help you make the right investment choices.Free financial guidanceOur financial advice serviceRetirement adviceInvestment adviceConsolidation adviceLump sum adviceBook your free consultationTools and guidesTools and guidesSee how you could reach your goals with our calculators and how-to guides.ToolsSelf-employed tax calculatorCompound returns calculatorISA calculatorPension calculatorCapital Gains Tax calculatorGuidesInvesting for beginnersHow to retire at 55How to avoid the 60% tax trapWhat inflation means in investingWhy it's important to diversifyWhat is volatility?InsightsInsightsRead the latest views from our investment and wealth experts.Financial planningRetirement essentialsInvesting essentialsMarketsBrowse our articlesAbout usAbout usFind out more about who we are and what we do for investors.Our companyOur track recordOur feesMeet the investment teamCareersHelpHelpAsk us about investing, your account, advice and more.Get in touchFAQsGo to our Help hub;NutmegonomicsMarket InsightsNutmeg investor update: March 2025Market InsightsNutmeg investor update: March 2025The Nutmeg team|5 minFebruary was a busy month, with investors digesting a lot of geopolitical news. US stocks fell back, but European and Chinese equities made notable gains.At a glanceEuropean stocks rose, while US markets declined, led by weakness in growth-focused sectors.The US macroeconomic picture saw some negative signals, such as US consumer confidence hitting an eight-month low. However, we think the positive long-term picture remains intact.In Europe, there are some signs of changing sentiment, with indications of renewed confidence in the region’s prospects.What happened in financial markets in February?It’s been an interesting month in global financial markets. Investors had a lot of geopolitical news to digest, especially from the US, where the new Republican Administration was busy during its first month in office. Global stock markets saw some divergence in performance. Regions such as Europe and China have performed well, while others such as the US have seen a dip in stock market performance.In Europe, there are some signs of changing sentiment, with indications of renewed confidence in the region’s prospects. European stocks made gains, up 3.5% over the month, while there were notable\\xa0gains\\xa0in\\xa0German\\xa0and Italian equity indices, up 6.3% and 7.2%, respectively. Alongside better-than-expected company earnings, hope began to build that we could see\\xa0a resolution to the Russia-Ukraine\\xa0conflict.\\xa0This\\xa0path is by no means\\xa0certain,\\xa0and as you will likely have seen,\\xa0the tone of\\xa0recent\\xa0meetings on the world stage about the conflict\\xa0has been\\xa0mixed\\xa0at best.In the US, we saw stocks fall back a little over the month. The S&P 500 index – which reflects the performance of the 500 largest companies in the\")]"
      ]
     },
     "execution_count": 14,
     "metadata": {},
     "output_type": "execute_result"
    }
   ],
   "source": [
    "vectordb_manager_new.retrieve_similar(\n",
    "    query=\"What is the latest news about the economy?\"\n",
    ")"
   ]
  },
  {
   "cell_type": "markdown",
   "id": "f45203f0",
   "metadata": {},
   "source": [
    "################# END ###################"
   ]
  }
 ],
 "metadata": {
  "kernelspec": {
   "display_name": "Python 3",
   "language": "python",
   "name": "python3"
  },
  "language_info": {
   "codemirror_mode": {
    "name": "ipython",
    "version": 3
   },
   "file_extension": ".py",
   "mimetype": "text/x-python",
   "name": "python",
   "nbconvert_exporter": "python",
   "pygments_lexer": "ipython3",
   "version": "3.10.16"
  }
 },
 "nbformat": 4,
 "nbformat_minor": 5
}

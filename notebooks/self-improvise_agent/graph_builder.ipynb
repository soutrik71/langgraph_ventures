{
 "cells": [
  {
   "cell_type": "code",
   "execution_count": 1,
   "id": "b00b3772",
   "metadata": {},
   "outputs": [
    {
     "data": {
      "application/javascript": "IPython.notebook.set_autosave_interval(300000)"
     },
     "metadata": {},
     "output_type": "display_data"
    },
    {
     "name": "stdout",
     "output_type": "stream",
     "text": [
      "Autosaving every 300 seconds\n"
     ]
    }
   ],
   "source": [
    "%autosave 300\n",
    "%load_ext autoreload\n",
    "%autoreload 2\n",
    "%reload_ext autoreload\n",
    "%config Completer.use_jedi = False"
   ]
  },
  {
   "cell_type": "code",
   "execution_count": 2,
   "id": "1c9b71fe",
   "metadata": {},
   "outputs": [
    {
     "name": "stdout",
     "output_type": "stream",
     "text": [
      "/mnt/batch/tasks/shared/LS_root/mounts/clusters/soutrik-vm-dev/code/Users/Soutrik.Chowdhury/langgraph_ventures\n"
     ]
    }
   ],
   "source": [
    "import os\n",
    "\n",
    "os.chdir(\"../..\")\n",
    "print(os.getcwd())"
   ]
  },
  {
   "cell_type": "markdown",
   "id": "2fa70739",
   "metadata": {},
   "source": [
    "##### In this script we will build the langgraph orchestration system:\n",
    "1. Load the tools the retriever tool and the tavily tool\n",
    "2. Load the independent chains for each node\n",
    "3. Create the conditional edges between the nodes\n",
    "4. Create the graph\n",
    "5. Create the graph executor"
   ]
  },
  {
   "cell_type": "code",
   "execution_count": 3,
   "id": "a5973268",
   "metadata": {},
   "outputs": [],
   "source": [
    "from src.utils import get_llm, get_embedder, timeit\n",
    "from src.vector_db import VectorDBManager\n",
    "from typing_extensions import TypedDict\n",
    "from langgraph.graph import START, END, StateGraph\n",
    "from langchain_community.tools.tavily_search import TavilySearchResults\n",
    "from IPython.display import Image, display\n",
    "from langchain_core.documents import Document\n",
    "from typing import List, Dict, Any, Optional, Tuple\n",
    "from src.query_router import get_question_router_chain\n",
    "from src.doc_grader import get_doc_grader_chain\n",
    "from src.query_rewriter import get_query_rewrite_chain\n",
    "from src.doc_summarizer import get_doc_summarizer_chain\n",
    "from src.response_scorer import get_response_scorer_chain"
   ]
  },
  {
   "cell_type": "code",
   "execution_count": 4,
   "id": "d7331f6b",
   "metadata": {},
   "outputs": [
    {
     "data": {
      "text/plain": [
       "True"
      ]
     },
     "execution_count": 4,
     "metadata": {},
     "output_type": "execute_result"
    }
   ],
   "source": [
    "from dotenv import load_dotenv\n",
    "\n",
    "load_dotenv()"
   ]
  },
  {
   "cell_type": "code",
   "execution_count": 5,
   "id": "057997f1",
   "metadata": {},
   "outputs": [],
   "source": [
    "llm = get_llm()\n",
    "embedder = get_embedder()"
   ]
  },
  {
   "cell_type": "code",
   "execution_count": 6,
   "id": "abcf7759",
   "metadata": {},
   "outputs": [],
   "source": [
    "question_router_chain = get_question_router_chain(llm)\n",
    "doc_grader_chain = get_doc_grader_chain(llm)\n",
    "query_rewrite_chain = get_query_rewrite_chain(llm)\n",
    "summarizer_chain = get_doc_summarizer_chain(llm)\n",
    "scorer_chain = get_response_scorer_chain(llm)"
   ]
  },
  {
   "cell_type": "code",
   "execution_count": 7,
   "id": "41931833",
   "metadata": {},
   "outputs": [],
   "source": [
    "vectordb_manager_new = VectorDBManager(embedder=embedder,\n",
    "                                   collection_name=\"nutmeg\",\n",
    "                                   drop_old=False,\n",
    ")"
   ]
  },
  {
   "cell_type": "code",
   "execution_count": 8,
   "id": "2fa528f1",
   "metadata": {},
   "outputs": [],
   "source": [
    "# vectordb_manager_new.check_collections()"
   ]
  },
  {
   "cell_type": "code",
   "execution_count": 9,
   "id": "cbcca9a5",
   "metadata": {},
   "outputs": [],
   "source": [
    "# vectordb_manager_new.retrieve_similar(query=\"What is the latest news about the economy?\")"
   ]
  },
  {
   "cell_type": "code",
   "execution_count": 10,
   "id": "814b2ca4",
   "metadata": {},
   "outputs": [],
   "source": [
    "web_search_retriever = TavilySearchResults(\n",
    "    max_results=5, include_answer=False, include_raw_content=True, search_depth=\"basic\"\n",
    ")"
   ]
  },
  {
   "cell_type": "code",
   "execution_count": 11,
   "id": "9ec7b164",
   "metadata": {},
   "outputs": [],
   "source": [
    "class GraphState(TypedDict):\n",
    "    \"\"\"\n",
    "    A state in the graph representing a node with a specific type and content.\n",
    "    \"\"\"\n",
    "\n",
    "    question: str\n",
    "    documents: list[Document]\n",
    "    rewritten_question: Optional[str]\n",
    "    summary: str\n",
    "    citation: list[str]\n",
    "    grade_score: Optional[str]\n",
    "    hallucination: Optional[str]\n",
    "    response_score: Optional[float]\n",
    "    grading_iteration: Optional[int]\n",
    "    hallucination_iteration: Optional[int]"
   ]
  },
  {
   "cell_type": "code",
   "execution_count": 12,
   "id": "e928501d",
   "metadata": {},
   "outputs": [],
   "source": [
    "# # Define the graph structure\n",
    "# state = GraphState(\n",
    "#     question=\"What are the potential benefits of investing in the financials sector under the new Republican administration\",\n",
    "#     documents=[\n",
    "#         Document(\n",
    "#             page_content=\"The financials sector is expected to benefit from...\",\n",
    "#             metadata={\"source\": \"source1\"},\n",
    "#         ),\n",
    "#         Document(\n",
    "#             page_content=\"Investing in the financials sector can lead to...\",\n",
    "#             metadata={\"source\": \"source2\"},\n",
    "#         ),\n",
    "#     ],\n",
    "#     rewritten_question=\"What are the advantages of investing in the financials sector with the new Republican administration?\",\n",
    "#     summary=\"The financials sector is expected to benefit from the new Republican administration's policies, which may lead to increased investment opportunities.\",\n",
    "#     citations=[\n",
    "#         \"Source 1: The financials sector is expected to benefit from...\",\n",
    "#         \"Source 2: Investing in the financials sector can lead to...\",\n",
    "#     ],\n",
    "#     grade_score=\"fully supported\",\n",
    "#     hallucination=\"no\",\n",
    "#     response_score=0.95,\n",
    "# )"
   ]
  },
  {
   "cell_type": "markdown",
   "id": "75140a0e",
   "metadata": {},
   "source": [
    "##### Tool Declaration"
   ]
  },
  {
   "cell_type": "code",
   "execution_count": 13,
   "id": "e7e4437c",
   "metadata": {},
   "outputs": [],
   "source": [
    "def vector_retriever(state: GraphState):\n",
    "    \"\"\"\n",
    "    Function to retrieve documents from the vector store based on the question in the state using ensemble_retriever and save the documents in the state.\n",
    "    \"\"\"\n",
    "    print(\"Vector Retriever\")\n",
    "    question = state[\"rewritten_question\"] if \"rewritten_question\" in state else state[\"question\"]\n",
    "    print(\"Question used for vector retriever:\", question)\n",
    "    documents = vectordb_manager_new.retrieve_similar(question, k=5)\n",
    "\n",
    "    return {\"documents\": documents, \"question\": question}"
   ]
  },
  {
   "cell_type": "code",
   "execution_count": 14,
   "id": "69833e4c",
   "metadata": {},
   "outputs": [],
   "source": [
    "# op = vector_retriever(state)"
   ]
  },
  {
   "cell_type": "code",
   "execution_count": 15,
   "id": "b31dceea",
   "metadata": {},
   "outputs": [],
   "source": [
    "# temp_content = \"\\n\\n\".join(\n",
    "#     [f\"Content idx: {i} - {doc.page_content}\" for i, doc in enumerate(op[\"documents\"])]\n",
    "# )\n",
    "# temp_source = \"\\n\\n\".join(\n",
    "#     [\n",
    "#         f\"Source idx: {i} - {doc.metadata['source']}\"\n",
    "#         for i, doc in enumerate(op[\"documents\"])\n",
    "#     ]\n",
    "# )\n",
    "# temp_keyword = \",\\n\".join(\n",
    "#     [\n",
    "#         f\"Keywords set: {i} - ({doc.metadata['keywords']})\"\n",
    "#         for i, doc in enumerate(op[\"documents\"])\n",
    "#     ]\n",
    "# )\n",
    "\n",
    "# print(\"Documents retrieved:\")\n",
    "# print(temp_content)\n",
    "# print(\"\\n\\n\")\n",
    "# print(\"Sources retrieved:\")\n",
    "# print(temp_source)\n",
    "# print(\"\\n\\n\")\n",
    "# print(\"Keywords retrieved:\")\n",
    "# print(temp_keyword)"
   ]
  },
  {
   "cell_type": "code",
   "execution_count": 16,
   "id": "aeb72ca1",
   "metadata": {},
   "outputs": [],
   "source": [
    "def web_search(state: GraphState):\n",
    "    \"\"\"\n",
    "    Function to retrieve documents from the web search based on the question in the state using web_search_retriever and save the documents in the state.\n",
    "    \"\"\"\n",
    "    print(\"Web Search\")\n",
    "    question = state[\"question\"]\n",
    "    documents = web_search_retriever.invoke(question)\n",
    "    lc_docs = [\n",
    "        Document(page_content=doc[\"content\"], metadata={\"source\": doc[\"url\"]})\n",
    "        for doc in documents\n",
    "    ]\n",
    "\n",
    "    return {\"documents\": lc_docs, \"question\": question}"
   ]
  },
  {
   "cell_type": "code",
   "execution_count": 17,
   "id": "6c0c6e0b",
   "metadata": {},
   "outputs": [],
   "source": [
    "# op = web_search(state)\n",
    "# print(\"Documents retrieved:\")\n",
    "# print(op[\"documents\"])"
   ]
  },
  {
   "cell_type": "markdown",
   "id": "56b7f3dc",
   "metadata": {},
   "source": [
    "##### Nodes Declaration"
   ]
  },
  {
   "cell_type": "code",
   "execution_count": 18,
   "id": "e8fac644",
   "metadata": {},
   "outputs": [],
   "source": [
    "def router_node(state: GraphState):\n",
    "    \"\"\"\n",
    "    Function to route the question to the appropriate source based on the user's query.\n",
    "    \"\"\"\n",
    "    print(\"Routing the question to the appropriate source...\")\n",
    "    question = state[\"question\"]\n",
    "    op = question_router_chain.invoke({\"query\": question})\n",
    "\n",
    "    if op.source == \"vector_retriever\":\n",
    "        print(\"Routing to vector_retriever...\")\n",
    "        return \"vectordb\"\n",
    "    elif op.source == \"web_search\":\n",
    "        print(\"Routing to web_search...\")\n",
    "        return \"web\""
   ]
  },
  {
   "cell_type": "code",
   "execution_count": 19,
   "id": "350492df",
   "metadata": {},
   "outputs": [],
   "source": [
    "def document_grader_node(state: GraphState):\n",
    "    \"\"\"\n",
    "    Grades the retrieved documents for relevance to the user's question.\n",
    "    Optimized for clarity, robustness, and consistent state updates.\n",
    "    \"\"\"\n",
    "    print(\"Grading the retrieved documents...\")\n",
    "    question = state[\"rewritten_question\"] if \"rewritten_question\" in state else state[\"question\"]\n",
    "    print(\"Question used for grading:\", question)\n",
    "    documents = state.get(\"documents\", [])\n",
    "\n",
    "    only_content = \"\\n\\n\".join(\n",
    "        f\"Content idx: {i} - {getattr(doc, 'page_content', '')}\"\n",
    "        for i, doc in enumerate(documents)\n",
    "    )\n",
    "\n",
    "    op = doc_grader_chain.invoke(\n",
    "        {\n",
    "            \"context\": only_content,\n",
    "            \"question\": question,\n",
    "        }\n",
    "    )\n",
    "\n",
    "    grade_score = getattr(op, \"grade_score\", None)\n",
    "    print(\"Graded documents with score:\", grade_score)\n",
    "\n",
    "    grading_iteration = state.get(\"grading_iteration\", 0) + 1\n",
    "\n",
    "    return {\n",
    "        \"grade_score\": grade_score,\n",
    "        \"grading_iteration\": grading_iteration,\n",
    "    }"
   ]
  },
  {
   "cell_type": "code",
   "execution_count": 20,
   "id": "6f0c03dd",
   "metadata": {},
   "outputs": [],
   "source": [
    "def decide_to_generate_rewrite(state: GraphState):\n",
    "    \"\"\"\n",
    "    Function to decide whether to generate a new query or rewrite the existing one based on the grading score.\n",
    "    If grading_iteration crosses the limit, print a message.\n",
    "    \"\"\"\n",
    "    grade_score = state.get(\"grade_score\")\n",
    "    grading_iteration = state.get(\"grading_iteration\", 0)\n",
    "    print(\"Grade score:\", grade_score)\n",
    "    print(\"Grading iteration:\", grading_iteration)\n",
    "    print(\"Deciding whether to generate or rewrite based on the grading score...\")\n",
    "\n",
    "    if grading_iteration > 2:\n",
    "        print(\"Grading iteration exceeded the limit. Stopping further attempts.\")\n",
    "        return \"generate\"  # END can be used to stop the workflow\n",
    "    if grade_score == \"full_relevance\":\n",
    "        return \"generate\"\n",
    "    elif grade_score == \"partial_relevance\":\n",
    "        return \"rewrite\"\n",
    "    elif grade_score == \"no_relevance\":\n",
    "        return END"
   ]
  },
  {
   "cell_type": "code",
   "execution_count": 21,
   "id": "b7481305",
   "metadata": {},
   "outputs": [],
   "source": [
    "def query_rewriter_node(state: GraphState):\n",
    "    \"\"\"\n",
    "    Function to rewrite the user's question based on the retrieved documents and their keywords.\n",
    "    Optimized for robustness and clarity.\n",
    "    \"\"\"\n",
    "    print(\"Rewriting the user's question...\")\n",
    "    question = state[\"rewritten_question\"] if \"rewritten_question\" in state else state[\"question\"]\n",
    "    print(\"Question used for rewriting:\", question)\n",
    "    documents = state.get(\"documents\", [])\n",
    "\n",
    "    only_keyword = \",\\n\".join(\n",
    "        f\"Keywords set: {i} - ({doc.metadata.get('keywords', '')})\"\n",
    "        for i, doc in enumerate(documents)\n",
    "    )\n",
    "\n",
    "    op = query_rewrite_chain.invoke(\n",
    "        {\n",
    "            \"context\": only_keyword,\n",
    "            \"question\": question,\n",
    "        }\n",
    "    )\n",
    "\n",
    "    rewritten_question = getattr(op, \"rewritten_query\", \"\")\n",
    "    print(\"Rewritten question:\", rewritten_question)\n",
    "\n",
    "    return {\n",
    "        \"rewritten_question\": rewritten_question,\n",
    "    }"
   ]
  },
  {
   "cell_type": "code",
   "execution_count": 22,
   "id": "dd3bf91e",
   "metadata": {},
   "outputs": [],
   "source": [
    "def response_summarizer_node(state: GraphState):\n",
    "    \"\"\"\n",
    "    Function to summarize the response based on the user's question and the retrieved documents.\n",
    "    Optimized for robustness and clarity.\n",
    "    \"\"\"\n",
    "    print(\"Summarizing the response...\")\n",
    "    question = state[\"rewritten_question\"] if \"rewritten_question\" in state else state[\"question\"]\n",
    "    print(\"Question used for summarization:\", question)\n",
    "    documents = state.get(\"documents\", [])\n",
    "\n",
    "    only_content = \"\\n\\n\".join(\n",
    "        f\"Content idx: {i} - {getattr(doc, 'page_content', '')}\"\n",
    "        for i, doc in enumerate(documents)\n",
    "    )\n",
    "\n",
    "    only_citation = \"\\n\\n\".join(\n",
    "        f\"Source idx: {i} - {doc.metadata.get('source', '')}\"\n",
    "        for i, doc in enumerate(documents)\n",
    "    )\n",
    "    # print(\"Content used for summarization:\", only_content)\n",
    "    # print(\"Citations used for summarization:\", only_citation)\n",
    "\n",
    "    op = summarizer_chain.invoke(\n",
    "        {\n",
    "            \"context\": only_content,\n",
    "            \"question\": question,\n",
    "            \"citation\": only_citation,\n",
    "        }\n",
    "    )\n",
    "\n",
    "    summary = getattr(op, \"summary\", \"\")\n",
    "    citation = getattr(op, \"citation\", \"\")\n",
    "\n",
    "    return {\"summary\": summary, \"citation\": citation}"
   ]
  },
  {
   "cell_type": "code",
   "execution_count": 23,
   "id": "b871974d",
   "metadata": {},
   "outputs": [],
   "source": [
    "def hallucination_grader_node(state: GraphState):\n",
    "    \"\"\"\n",
    "    Checks for hallucinations in the summarized response and grades it.\n",
    "    \"\"\"\n",
    "    print(\"Checking for hallucinations in the summarized response and grading it...\")\n",
    "    question = state[\"rewritten_question\"] if \"rewritten_question\" in state else state[\"question\"]\n",
    "    print(\"Question used for hallucination grading:\", question)\n",
    "    summary = state.get(\"summary\", \"\")\n",
    "    documents = state.get(\"documents\", [])\n",
    "\n",
    "    only_content = \"\\n\\n\".join(\n",
    "        [f\"Content idx: {i} - {doc.page_content}\" for i, doc in enumerate(documents)]\n",
    "    )\n",
    "\n",
    "    op = scorer_chain.invoke(\n",
    "        {\n",
    "            \"response\": summary,\n",
    "            \"question\": question,\n",
    "            \"context\": only_content,\n",
    "        }\n",
    "    )\n",
    "\n",
    "    hallucination = getattr(op, \"hallucination\")\n",
    "    response_score = getattr(op, \"response_score\")\n",
    "\n",
    "    print(\"Hallucination:\", hallucination)\n",
    "    print(\"Response score:\", response_score)\n",
    "\n",
    "    hallucination_iteration = state.get(\"hallucination_iteration\", 0) + 1\n",
    "\n",
    "    return {\n",
    "        \"hallucination\": hallucination,\n",
    "        \"response_score\": response_score,\n",
    "        \"hallucination_iteration\": hallucination_iteration,\n",
    "    }\n"
   ]
  },
  {
   "cell_type": "code",
   "execution_count": 24,
   "id": "485b18d7",
   "metadata": {},
   "outputs": [],
   "source": [
    "def decide_to_accept_reject(state: GraphState):\n",
    "    \"\"\"\n",
    "    Decides whether to accept or reject the summarized response based on hallucination and grading score.\n",
    "    \"\"\"\n",
    "    print(\n",
    "        \"Deciding whether to accept or reject the summarized response based on the grading score...\"\n",
    "    )\n",
    "    hallucination = state.get(\"hallucination\")\n",
    "    response_score = state.get(\"response_score\")\n",
    "    hallucination_iteration = state.get(\"hallucination_iteration\", 0)\n",
    "\n",
    "    # print(\"Hallucination:\", hallucination)\n",
    "    # print(\"Response score:\", response_score)\n",
    "    print(\"Hallucination iteration:\", hallucination_iteration)\n",
    "\n",
    "    if hallucination_iteration > 2:\n",
    "        print(\"Hallucination iteration exceeded the limit. Rejecting the response.\")\n",
    "        return \"not_acceptable\"\n",
    "    if hallucination == \"yes\":\n",
    "        print(\"Hallucination detected in the response.\")\n",
    "        return \"not_acceptable\"\n",
    "    if response_score >= 0.7:\n",
    "        print(\"Response is acceptable.\")\n",
    "        return \"acceptable\"\n",
    "    print(\"Response is not acceptable, so rewriting the question.\")\n",
    "    return \"rewrite_try\""
   ]
  },
  {
   "cell_type": "code",
   "execution_count": 25,
   "id": "abadcde7",
   "metadata": {},
   "outputs": [],
   "source": [
    "def validate_response(response_dict):\n",
    "    \"\"\"\n",
    "    Validates a response dictionary and sets summary and citation to None if hallucination is 'yes'.\n",
    "    \n",
    "    Args:\n",
    "        response_dict (dict): A dictionary containing response data with keys like 'hallucination',\n",
    "                              'summary', and 'citation'\n",
    "    \n",
    "    Returns:\n",
    "        dict: The validated response dictionary with summary and citation set to None if hallucination is 'yes'\n",
    "    \"\"\"\n",
    "    # Make a copy of the input dictionary to avoid modifying the original\n",
    "    validated_response = response_dict.copy()\n",
    "    \n",
    "    # Check if hallucination is 'yes'\n",
    "    if validated_response.get('hallucination') == 'yes':\n",
    "        validated_response['summary'] = None\n",
    "        validated_response['citation'] = None\n",
    "        validated_response[\"grade_score\"] = None\n",
    "    \n",
    "    return validated_response"
   ]
  },
  {
   "cell_type": "markdown",
   "id": "d3310d8b",
   "metadata": {},
   "source": [
    "##### Graph Declaration"
   ]
  },
  {
   "cell_type": "code",
   "execution_count": 26,
   "id": "fa855f25",
   "metadata": {},
   "outputs": [],
   "source": [
    "# Start the workflow\n",
    "workflow = StateGraph(GraphState)"
   ]
  },
  {
   "cell_type": "code",
   "execution_count": 27,
   "id": "576ec922",
   "metadata": {},
   "outputs": [
    {
     "data": {
      "text/plain": [
       "<langgraph.graph.state.StateGraph at 0x7ff062b4eaa0>"
      ]
     },
     "execution_count": 27,
     "metadata": {},
     "output_type": "execute_result"
    }
   ],
   "source": [
    "###### Adding tool nodes\n",
    "\n",
    "workflow.add_node(\n",
    "    node=\"vector_retriever\",\n",
    "    action=vector_retriever,\n",
    ")\n",
    "\n",
    "workflow.add_node(\n",
    "    node=\"web_search\",\n",
    "    action=web_search,\n",
    ")"
   ]
  },
  {
   "cell_type": "code",
   "execution_count": 28,
   "id": "15d19949",
   "metadata": {},
   "outputs": [
    {
     "data": {
      "text/plain": [
       "<langgraph.graph.state.StateGraph at 0x7ff062b4eaa0>"
      ]
     },
     "execution_count": 28,
     "metadata": {},
     "output_type": "execute_result"
    }
   ],
   "source": [
    "# build the first layer with conditonal edges for tool routing\n",
    "workflow.add_conditional_edges(\n",
    "    source=START,\n",
    "    path=router_node,\n",
    "    path_map={\"vectordb\": \"vector_retriever\", \"web\": \"web_search\"},\n",
    ")"
   ]
  },
  {
   "cell_type": "code",
   "execution_count": 29,
   "id": "42378cce",
   "metadata": {},
   "outputs": [
    {
     "data": {
      "text/plain": [
       "<langgraph.graph.state.StateGraph at 0x7ff062b4eaa0>"
      ]
     },
     "execution_count": 29,
     "metadata": {},
     "output_type": "execute_result"
    }
   ],
   "source": [
    "# adding node for doc grader\n",
    "workflow.add_node(\n",
    "    node=\"document_grader_node\",\n",
    "    action=document_grader_node,\n",
    ")\n",
    "# adding normal edge to connect the tool node to the doc grader\n",
    "workflow.add_edge(\n",
    "    start_key=\"vector_retriever\",\n",
    "    end_key=\"document_grader_node\",\n",
    ")"
   ]
  },
  {
   "cell_type": "code",
   "execution_count": 30,
   "id": "c6fb6577",
   "metadata": {},
   "outputs": [
    {
     "data": {
      "text/plain": [
       "<langgraph.graph.state.StateGraph at 0x7ff062b4eaa0>"
      ]
     },
     "execution_count": 30,
     "metadata": {},
     "output_type": "execute_result"
    }
   ],
   "source": [
    "# add the node for query rewriter\n",
    "workflow.add_node(\n",
    "    node=\"query_rewriter_node\",\n",
    "    action=query_rewriter_node,\n",
    ")\n",
    "# add a reverse edge to retriever\n",
    "workflow.add_edge(\n",
    "    start_key=\"query_rewriter_node\",\n",
    "    end_key=\"vector_retriever\",\n",
    ")"
   ]
  },
  {
   "cell_type": "code",
   "execution_count": 31,
   "id": "f42a9615",
   "metadata": {},
   "outputs": [
    {
     "data": {
      "text/plain": [
       "<langgraph.graph.state.StateGraph at 0x7ff062b4eaa0>"
      ]
     },
     "execution_count": 31,
     "metadata": {},
     "output_type": "execute_result"
    }
   ],
   "source": [
    "# add the node for summarizer\n",
    "workflow.add_node(\n",
    "    node=\"response_summarizer_node\",\n",
    "    action=response_summarizer_node,\n",
    ")\n",
    "\n",
    "# add one edge to the summarizer from web_search\n",
    "workflow.add_edge(\n",
    "    start_key=\"web_search\",\n",
    "    end_key=\"response_summarizer_node\",\n",
    ")"
   ]
  },
  {
   "cell_type": "code",
   "execution_count": 32,
   "id": "01c274ce",
   "metadata": {},
   "outputs": [
    {
     "data": {
      "text/plain": [
       "<langgraph.graph.state.StateGraph at 0x7ff062b4eaa0>"
      ]
     },
     "execution_count": 32,
     "metadata": {},
     "output_type": "execute_result"
    }
   ],
   "source": [
    "# adding conditional edges to connect the doc grader to the query rewriter and summarizer\n",
    "workflow.add_conditional_edges(\n",
    "    source=\"document_grader_node\",\n",
    "    path=decide_to_generate_rewrite,\n",
    "    path_map={\n",
    "        \"generate\": \"response_summarizer_node\",\n",
    "        \"rewrite\": \"query_rewriter_node\",\n",
    "        END: END,\n",
    "    },\n",
    ")"
   ]
  },
  {
   "cell_type": "code",
   "execution_count": 33,
   "id": "96751ff3",
   "metadata": {},
   "outputs": [
    {
     "data": {
      "text/plain": [
       "<langgraph.graph.state.StateGraph at 0x7ff062b4eaa0>"
      ]
     },
     "execution_count": 33,
     "metadata": {},
     "output_type": "execute_result"
    }
   ],
   "source": [
    "# add the node after response summarizer\n",
    "workflow.add_node(\n",
    "    node=\"hallucination_grader_node\",\n",
    "    action=hallucination_grader_node,\n",
    ")\n",
    "\n",
    "# add the edge to the hallucination grader\n",
    "workflow.add_edge(\n",
    "    start_key=\"response_summarizer_node\",\n",
    "    end_key=\"hallucination_grader_node\",\n",
    ")"
   ]
  },
  {
   "cell_type": "code",
   "execution_count": 34,
   "id": "d1992434",
   "metadata": {},
   "outputs": [
    {
     "data": {
      "text/plain": [
       "<langgraph.graph.state.StateGraph at 0x7ff062b4eaa0>"
      ]
     },
     "execution_count": 34,
     "metadata": {},
     "output_type": "execute_result"
    }
   ],
   "source": [
    "# add the conditional edges to decide to accept or reject the response\n",
    "workflow.add_conditional_edges(\n",
    "    source=\"hallucination_grader_node\",\n",
    "    path=decide_to_accept_reject,\n",
    "    path_map={\n",
    "        \"acceptable\": END,\n",
    "        \"not_acceptable\": END,\n",
    "        \"rewrite_try\": \"query_rewriter_node\",\n",
    "    },\n",
    ")"
   ]
  },
  {
   "cell_type": "code",
   "execution_count": 35,
   "id": "9568afef",
   "metadata": {},
   "outputs": [],
   "source": [
    "# compile the graph and check the graph\n",
    "graph = workflow.compile()"
   ]
  },
  {
   "cell_type": "code",
   "execution_count": 36,
   "id": "74e20c53",
   "metadata": {},
   "outputs": [
    {
     "data": {
      "image/png": "[encoded data removed]",
      "text/plain": [
       "<IPython.core.display.Image object>"
      ]
     },
     "metadata": {},
     "output_type": "display_data"
    }
   ],
   "source": [
    "display(Image(graph.get_graph().draw_png()))"
   ]
  },
  {
   "cell_type": "code",
   "execution_count": 37,
   "id": "f57ed269",
   "metadata": {},
   "outputs": [],
   "source": [
    "@timeit\n",
    "def run_graph(graph, inputs):\n",
    "    \"\"\"\n",
    "    Function to run the graph with the given inputs.\n",
    "    \"\"\"\n",
    "    print(\"Running the graph...\")\n",
    "\n",
    "    # run the graph with the inputs\n",
    "\n",
    "    op = graph.invoke(inputs)\n",
    "    op = validate_response(op)\n",
    "    return op"
   ]
  },
  {
   "cell_type": "code",
   "execution_count": 38,
   "id": "ce386960",
   "metadata": {},
   "outputs": [
    {
     "name": "stdout",
     "output_type": "stream",
     "text": [
      "Running the graph...\n",
      "Routing the question to the appropriate source...\n",
      "Routing to vector_retriever...\n",
      "Vector Retriever\n",
      "Question used for vector retriever: What are the potential benefits of investing in the financials sector under the new Republican administration\n",
      "Grading the retrieved documents...\n",
      "Question used for grading: What are the potential benefits of investing in the financials sector under the new Republican administration\n",
      "Graded documents with score: full_relevance\n",
      "Grade score: full_relevance\n",
      "Grading iteration: 1\n",
      "Deciding whether to generate or rewrite based on the grading score...\n",
      "Summarizing the response...\n",
      "Question used for summarization: What are the potential benefits of investing in the financials sector under the new Republican administration\n",
      "Checking for hallucinations in the summarized response and grading it...\n",
      "Question used for hallucination grading: What are the potential benefits of investing in the financials sector under the new Republican administration\n",
      "Hallucination: no\n",
      "Response score: 1.0\n",
      "Deciding whether to accept or reject the summarized response based on the grading score...\n",
      "Hallucination iteration: 1\n",
      "Response is acceptable.\n",
      "Execution time: 8.57 seconds\n"
     ]
    }
   ],
   "source": [
    "# legit question\n",
    "inputs = {\n",
    "    \"question\": \"What are the potential benefits of investing in the financials sector under the new Republican administration\",\n",
    "}\n",
    "\n",
    "# run the graph with the inputs\n",
    "op = run_graph(graph, inputs)"
   ]
  },
  {
   "cell_type": "code",
   "execution_count": 39,
   "id": "06a11c86",
   "metadata": {},
   "outputs": [
    {
     "data": {
      "text/plain": [
       "{'question': 'What are the potential benefits of investing in the financials sector under the new Republican administration',\n",
       " 'documents': [Document(metadata={'title': 'Nutmeg investor update: March 2025 - Nutmeg', 'description': 'February was a busy month, with investors digesting a lot of geopolitical news. US stocks fell back, but European and Chinese equities made notable gains.', 'keywords': 'Nutmeg investor update March 2025 global stock markets European equities Chinese equities US stocks economic outlook portfolio adjustments European industrials financial sector Republican administration', 'source': 'https://www.nutmeg.com/nutmegonomics/nutmeg-investor-update-march-2025', 'language': 'en', 'summary': \"The Nutmeg investor update for March 2025 highlights the mixed performance of global stock markets in February, with European and Chinese equities gaining while US stocks declined. The update also discusses the Nutmeg investment team's views on the US economic outlook, their portfolio adjustments, and the potential benefits of investing in European industrials and the financial sector under the new Republican administration.\", 'pk': '27f5a795-a4e4-4705-96b9-9237c3b2296b'}, page_content='US – was down 1.3% in February. That decline was led by growth-oriented stocks such as those in the technology sector, which finished the month on a weaker footing. The growth-focused Nasdaq index declined 2.7% over the month.The most recent earnings season demonstrated the US stock market’s potential to deliver earnings that outperform expectations once again. But investor enthusiasm in February was tempered by the US macroeconomic picture. Consumer confidence fell to an 8-month low, while investors were disconcerted by service sector data that indicated a surprise contraction of activity. Against a backdrop of a changing tariffs narrative, and geopolitical worries, some investors are beginning to question the stability of US economic growth and the case for US exceptionalism.Does this change how the Nutmeg investment team views the US as an investment destination?We think it is far too early to conclude that US economic growth is on a weakening trajectory. Despite several high-profile data points offering a more muted viewpoint, manufacturing activity appears to be turning up, consumption remains strong, and the labour market’s key indicators are robust.We continue to take the view that a recession in the US is unlikely. But, as we flagged in our 2025 investment outlook, both stock market valuations and elevated geopolitical and policy risks increase the potential for market volatility. So, we retain our preference for US assets across our portfolios but as always, we also remain globally diversified.A good example is our exposure to European stock markets, where we remain ‘neutral’ relative to our long-term allocation. That is to say, in the short term, we do not think the overall case for investment in the region is stronger or weaker than in the long term. However, we do have some preferences for certain countries and sectors where we believe the investment case is strongest,\\xa0for instance\\xa0European industrial companies\\xa0within our\\xa0equity holdings.The industrials sector comprises a wide variety of companies such as those in machinery, manufacturing, and defence and aerospace. Industrial activity tends to benefit from buoyant global trade, and despite the looming risk of potential US tariffs, global trade volumes have seen a steady rise over the previous 12 months. We think European industrials are supported by three main drivers:rising global tradethe potential for upside in corporate earnings, andthe potential for a meaningful increase in European defence spending in the current geopolitical environment.We also currently favour the Nordics over broader Europe. We think the macro-economic picture for the Nordic countries is currently brighter than that of the wider European bloc. Nordic stock markets have demonstrated strong relative performance over the previous decade in comparison with their European peers.Is the Nutmeg investment team making any portfolio changes?We\\xa0have made an adjustment to portfolios’ US equity holdings,\\xa0adding\\xa0a position in the financials sector, which comprises banks, insurance firms and credit providers.We have done this for several reasons:Firstly, we think the economic backdrop for financials remains attractive. The US economy appears to be growing at a steady pace, and we expect banks to continue to expand activity through lending as the economy grows.Secondly, interest rates remain elevated, yet at the same time off their peak. The Federal Reserve is in no rush to cut interest rates and we expect it will take a steady approach as it balances the pressures of inflation and growth. Higher interest rates tend to be good for financial institutions, as it can increase their earnings potential, so long as they are not constraining economic activity. We think we might reach an interest rate ‘sweet spot’ for US banks over the coming 12 months.Additionally, we believe that there is the possibility of further deregulation under the new Republican administration, including the watering down or scrapping of proposed costly regulations.Our position in financials really reflects us remaining positive on the overall US economic trajectory, while leaning towards a sector we expect to benefit from both the current stage of the economic cycle and the current policy approach of the Republican administration.About this update: This update was recorded on\\xa04 March 2025. All figures, unless otherwise stated, relate to the month of February 2025.\\xa0Source for figures: MacroBond, Nutmeg and Bloomberg.Risk warningAs with all investing, your capital is at risk. The value of your portfolio with Nutmeg can go down as well as up and you may get back less than you invest. Past performance and forecasts are not reliable indicators of future\\xa0performance.\\u202fWe do not provide investment advice in this article. Always do your own research.\\xa0App store badgeGoogle play badgeSupportFAQsInsightsSitemapCareersPrivacy policyCookie policySite termsTerms and conditionsRegulatoryComplaintsCookie SettingsClient services020 3598 1515Contact ussupport@nutmeg.comPress enquiries only07788251769pr@nutmeg.comNutmeg25 Bank StreetCanary WharfLondonE14'),\n",
       "  Document(metadata={'title': 'Nutmeg investor update: December 2024 - Nutmeg', 'description': 'In November, investors saw the outcome of the US election as positive for US stocks, but it was a different story for emerging market equities.', 'keywords': 'Nutmeg investor update December 2024 US stocks Donald Trump emerging markets trade tariffs fiscal policies bond market economic growth Republican administration global trade', 'source': 'https://www.nutmeg.com/nutmegonomics/nutmeg-investor-update-december-2024', 'language': 'en', 'summary': 'The Nutmeg investor update for December 2024 highlights the positive performance of US stocks following the re-election of Donald Trump, while emerging markets and European stocks faced challenges. The update also discusses the potential impact of trade tariffs and fiscal policies on global markets, with a focus on the implications for emerging markets and the bond market.', 'pk': 'e84cb540-12f0-4632-8646-805cdbd701c7'}, page_content='Nutmeg investor update: December 2024 - NutmegSkip to contentProductsProductsInvest for every stage for life and make the most of your tax allowances.\\xa0Stocks and Shares ISAPersonal PensionLifetime ISAJunior ISAGeneral Investment AccountInvestment stylesInvestment stylesHave your money managed in a way that fits your goals and\\xa0priorities.Fully ManagedThematic InvestingSmart AlphaSocially Responsible InvestingFixed AllocationAdviceFinancial advice and guidanceGet expert support to help you make the right investment choices.Free financial guidanceOur financial advice serviceRetirement adviceInvestment adviceConsolidation adviceLump sum adviceBook your free consultationTools and guidesTools and guidesSee how you could reach your goals with our calculators and how-to guides.ToolsSelf-employed tax calculatorCompound returns calculatorISA calculatorPension calculatorCapital Gains Tax calculatorGuidesInvesting for beginnersHow to retire at 55How to avoid the 60% tax trapWhat inflation means in investingWhy it\\'s important to diversifyWhat is volatility?InsightsInsightsRead the latest views from our investment and wealth experts.Financial planningRetirement essentialsInvesting essentialsMarketsBrowse our articlesAbout usAbout usFind out more about who we are and what we do for investors.Our companyOur track recordOur feesMeet the investment teamCareersHelpHelpAsk us about investing, your account, advice and more.Get in touchFAQsGo to our Help hubLog InSign upHamburger MenuProductsProductsInvest for every stage for life and make the most of your tax allowances.\\xa0Stocks and Shares ISAPersonal PensionLifetime ISAJunior ISAGeneral Investment AccountInvestment stylesInvestment stylesHave your money managed in a way that fits your goals and\\xa0priorities.Fully ManagedThematic InvestingSmart AlphaSocially Responsible InvestingFixed AllocationAdviceFinancial advice and guidanceGet expert support to help you make the right investment choices.Free financial guidanceOur financial advice serviceRetirement adviceInvestment adviceConsolidation adviceLump sum adviceBook your free consultationTools and guidesTools and guidesSee how you could reach your goals with our calculators and how-to guides.ToolsSelf-employed tax calculatorCompound returns calculatorISA calculatorPension calculatorCapital Gains Tax calculatorGuidesInvesting for beginnersHow to retire at 55How to avoid the 60% tax trapWhat inflation means in investingWhy it\\'s important to diversifyWhat is volatility?InsightsInsightsRead the latest views from our investment and wealth experts.Financial planningRetirement essentialsInvesting essentialsMarketsBrowse our articlesAbout usAbout usFind out more about who we are and what we do for investors.Our companyOur track recordOur feesMeet the investment teamCareersHelpHelpAsk us about investing, your account, advice and more.Get in touchFAQsGo to our Help hub;NutmegonomicsMarket InsightsNutmeg investor update: December 2024Market InsightsNutmeg investor update: December 2024The Nutmeg team|5 minIn\\xa0November, investors saw the outcome of the US election as positive for US stocks, but it was a different story for emerging market equities.At a glanceEquity markets gained in November, led by strong performance from US stocks.Bond markets – both government and corporate – also rose.Emerging market equity markets were weaker overall.Investors expect the re-election of Donald Trump as US President will support US assets, but that the new administration\\'s policies may also slow the pace of interest rate cuts.What happened in financial markets in November and\\xa0why?\\xa0Global equity markets finished November in positive territory, with gains led by US equities which produced one of their strongest months of 2024. Shares in large US companies – also called \"large cap\" equities – rose 5.9% in dollar terms, while smaller companies – or \"small caps\" – had a particularly strong month, rising 10.2%. The driver? A republican clean sweep in the US election, offering investors optimism over the potential for further US economic growth, coupled with tax breaks and deregulation under the new Trump administration.In the rest of the world, Japanese and UK stock equity markets delivered more muted returns in November. Japanese stocks fell 0.8% and the UK FTSE 100 gained 2.6% in local currency terms. European markets declined, as investors digested the potential ramifications of the incoming Republican\\xa0administration –\\xa0specifically talk of trade tariffs – against a backdrop of already weak industrial activity.Emerging markets also delivered negative returns, falling 3.5% in November,\\xa0in dollar terms. China was amongst the largest losers, but most major emerging market stock markets ended the month in negative territory. The exception was India, where stock markets rose\\xa0slightly in November and where domestic economic activity indicators remain strong.\\xa0In bond'),\n",
       "  Document(metadata={'title': 'Nutmeg investor update: January 2025 - Nutmeg', 'description': \"In December, there was a little cold water poured on investors' optimism. However, 2024 was still a particularly strong year for most stock markets.\", 'keywords': 'Nutmeg investor update January 2025 stock markets 2024 performance US Federal Reserve rate cuts bond markets economic stability corporate earnings geopolitical uncertainties market volatility investment outlook', 'source': 'https://www.nutmeg.com/nutmegonomics/nutmeg-investor-update-january-2025', 'language': 'en', 'summary': \"The Nutmeg investor update for January 2025 highlights the strong performance of stock markets in 2024, despite a weaker December influenced by the US Federal Reserve's cautious rate cuts. The outlook for 2025 remains optimistic, though challenges such as geopolitical uncertainties and potential market volatility persist.\", 'pk': '0edad004-be72-4ef8-bf1f-2499e8c1eae0'}, page_content=\"bonds, the Fed’s messaging pushed yields higher, causing prices to dip slightly across most fixed income asset classes.\\xa0That's the way bond markets work; when yields rise, their price falls.What was the full picture for 2024?For stock markets, 2024\\xa0was\\xa0generally\\xa0a very strong year.\\xa0Regions such as the UK, Canada, India and Asia Pacific\\xa0all finished the year ahead, despite falling in December. But none could quite match the same combination of economic stability and corporate earnings strength that has underpinned the US.The S&P 500 index, which tracks the performance of the 500 largest US companies, saw a gain of 25% for the year. Historically, returns this high are fairly rare.The NASDAQ index, which is a tech stock index, including high-flying companies such as Nvidia, saw an even stronger year, with prices up just under 26%. Tech stocks have continued to attract investors as artificial intelligence – or AI – starts to become increasingly mainstream. AI has continued to shift from being a technology with potential for the future, to one with real life productivity benefits on a day-to-day basis.Although the main story has been about the strength of stock markets, many bond markets have also experienced a positive year. Higher risk ‘high yield’ bonds in both the US and Europe have increased 8.2% and 8.6%, respectively. They have benefitted from the relative economic stability we saw in 2024, something that was far from guaranteed at the start of last year.It’s been a mixed picture for government bonds.\\xa0In the UK, gilts have performed poorly.\\xa0In\\xa0Europe, Italy and Spain have performed well,\\xa0helped by\\xa0the expectation of further rate cuts amid a\\xa0weaker\\xa0economic picture relative to the US. US government bonds have seen more muted performance as expectations of further rate cuts were wound back. The re-think was due to\\xa0better-than-expected economic results.What is the Nutmeg investment team’s outlook for 2025?We are optimistic about the investing landscape as we move into 2025, yet challenges remain.Over the past two years, multi-asset portfolios have thrived, benefiting from strong equity performance. The global economic environment, especially in the US, remains supportive going forward. There is a robust job market, lower inflation and interest rates are on a downward trend. We expect the corporate earnings landscape, especially in the US, to remain positive.However, a degree of caution is warranted. US equity valuations are above historic averages, and geopolitical uncertainties, such as potential instability from the Trump\\xa0administration\\xa0and ongoing global conflicts, could increase market volatility. Emerging markets face challenges, including potential Trump tariffs which could strengthen the dollar and impact these economies.\\xa0China's economic transition\\xa0and deflationary pressures add to the uncertainty.In Europe,\\xa0we believe\\xa0the UK is better positioned than the continent, with growing household incomes and a recovering housing market. Interest rate policies are expected to ease, but the link between wages growth and inflation means that\\xa0tight\\xa0labour\\xa0markets and rising wages could rekindle inflation.\\xa0Central banks are likely to proceed cautiously with rate cuts.Despite these risks, the investment team maintains a positive long-term outlook. We are, however, holding slightly higher cash reserves than usual, ready to adapt and capitalise on market opportunities that may arise if we see volatility increase in the short term.About this update: This update was recorded on\\xa07 January 2025. All figures, unless otherwise stated, relate to the month of December 2024.\\xa0Source for figures: MacroBond, Nutmeg and Bloomberg.Risk warningAs with all investing, your capital is at risk. The value of your portfolio with Nutmeg can go down as well as up and you may get back less than you invest. Past performance and forecasts are not reliable indicators of future\\xa0performance.\\u202fWe do not provide investment advice in this article. Always do your own research.\\xa0App store badgeGoogle play badgeSupportFAQsInsightsSitemapCareersPrivacy policyCookie policySite termsTerms and conditionsRegulatoryComplaintsCookie SettingsClient services020 3598 1515Contact ussupport@nutmeg.comPress enquiries only07788251769pr@nutmeg.comNutmeg25 Bank StreetCanary WharfLondonE14 5JPOffice020 3598 1717As with all investing, your capital is at risk. The value of your portfolio with Nutmeg can go down as well as up and you may get back less than you invest. Learn what we mean by riskCopyright © 2025 Nutmeg Saving and Investment Limited. Nutmeg® is a registered trade mark of Nutmeg Saving and Investment Limited, authorised and regulated by the Financial Conduct Authority, no. 552016, registered in England and Wales, no. 07503666,\"),\n",
       "  Document(metadata={'title': 'Nutmeg investor update: February 2025 - Nutmeg', 'description': 'In January, all eyes were on President Trump as he returned to the White House for a second term. Equity markets gained, but there were signs of investor uncertainty.', 'keywords': 'Nutmeg investor update February 2025 global equities Donald Trump White House DeepSeek AI Bank of England rate cut government bonds currencies US dollar tariffs US tech stocks', 'source': 'https://www.nutmeg.com/nutmegonomics/nutmeg-investor-update-february-2025', 'language': 'en', 'summary': \"The Nutmeg investor update for February 2025 highlights the positive performance of global equities in January, the return of Donald Trump to the White House, and the emergence of the Chinese AI 'DeepSeek'. It also discusses the Bank of England's rate cut and its implications, as well as the volatility in government bonds and currencies.\", 'pk': '6c79a9ed-8506-46b2-b579-fdc5ecd0af0b'}, page_content=\"and mid-cap companies. The small and mid-cap focused FTSE 250 ended the month behind the large-cap FTSE 100, although after a weaker start to the month it managed to recover during the last week. The UK faced some negative headlines over the month, primarily due to concerns about budget-related risks and low growth. This impacted the bond market and the domestically-focused British small and mid-cap stocks.Europe, unusually,\\xa0outperformed many other regions in January. Japan underperformed, moving very little over the month. Emerging markets lagged slightly, but still posted positive returns.There was some significant volatility in UK government bonds also known as 'gilts' during the month, and to a lesser extent in US government bonds or 'Treasuries'. In the case of gilts, concerns over UK government spending spooked the market in mid-January, although ultimately they finished the month almost exactly where they started. Data released on UK inflation was more moderate than expected, renewing hopes for further rate cuts in the UK, which was positively received by bond investors.Currencies were also volatile. The US dollar reversed most of the gains made at the start of January as new US inflation data was in line\\xa0with\\xa0or even slightly\\xa0lower\\xa0than expected. This grants the US Federal Reserve some more room to manoeuvre as needed, whereas a rise in inflation would have made life trickier for policy makers at the central bank. The strength or potential weakness of the US dollar will remain a key factor for global markets in 2025 and one to watch carefully.Donald Trump has started his second term as president. Were there any surprises in his first days?In January, Donald Trump returned to the Oval Office, and the future impact and actions of his administration remain a significant focus for investors. It was clearly a hot topic\\xa0at the World Economic Forum in Davos, where it dominated many conversations among participants. While the initial days of Trump's presidency were generally viewed positively by the markets, two notable points emerged.First, while the imposition of high tariffs was expected to be enacted in Trump's first days or weeks in office, investors were made to wait a little longer to find out if proposals of sweeping tariffs would become reality.\\xa0This was received favourably by investors, as high tariffs are seen as a potential inflation risk and could negatively impact the global economy. However, investors are unlikely to have read too much into the delay, because of point number two; the unpredictability of the new US administration.This unpredictability is expected to introduce a level of uncertainty, which we anticipate will create regular opportunities for engaged investors. At Nutmeg, we aim to keep a long-term perspective and look beyond short-term 'noise' generated by unpredictable comments or actions. That said, the durable impact of proposed tariffs can’t be neglected, given the potential ramifications for the US and world economies.What is DeepSeek and does it represent a risk for US mega-cap tech stocks?DeepSeek is a new large language model (LLM) AI by a Chinese startup, released in late January 2025. You might have heard of ChatGPT. That's a large language model – or 'LLM' based AI – as well. The release of DeepSeek caught the market off guard and led to a challenging day for US tech stocks. For instance, Nvidia experienced a 16% drop in a single day, losing more in market value than the total market value of the largest European stock. However, it's important to look beyond the headlines and focus on the mid-term outlook.While it's undeniable that some US mega-cap tech companies (along with a few European and Asian ones) are highly valued, we believe the earnings released in January continue to demonstrate their exceptional profitability, even amid substantial investments in AI technology development. Although the threat of a Chinese startup adds a challenge to the costly process of AI development, we believe that the US's innovation capabilities remain unparalleled\\xa0and can continue to support stock performance in the years ahead. There will always be winners and losers in a technological revolution, and we continue to believe that the US will be a major beneficiary. Consequently, we maintain an overweight position in US stocks within our portfolios.About this update: This update was recorded on\\xa05 February 2025. All figures, unless otherwise stated, relate to the month of January 2025.\\xa0Source for figures: MacroBond, Nutmeg and Bloomberg.Risk warningAs with all investing, your capital is at risk. The value of your portfolio with Nutmeg can go down as well as up and you may get back less than you invest. Past performance and forecasts are not reliable indicators of future\\xa0performance.\\u202fWe do not provide investment advice in this article. Always do your own research.\\xa0App store badgeGoogle play badgeSupportFAQsInsightsSitemapCareersPrivacy policyCookie\"),\n",
       "  Document(metadata={'title': 'Nutmeg investor update: December 2024 - Nutmeg', 'description': 'In November, investors saw the outcome of the US election as positive for US stocks, but it was a different story for emerging market equities.', 'keywords': 'Nutmeg investor update December 2024 US stocks Donald Trump emerging markets trade tariffs fiscal policies bond market economic growth Republican administration global trade', 'source': 'https://www.nutmeg.com/nutmegonomics/nutmeg-investor-update-december-2024', 'language': 'en', 'summary': 'The Nutmeg investor update for December 2024 highlights the positive performance of US stocks following the re-election of Donald Trump, while emerging markets and European stocks faced challenges. The update also discusses the potential impact of trade tariffs and fiscal policies on global markets, with a focus on the implications for emerging markets and the bond market.', 'pk': 'b57b0f37-54a7-4cd7-b5e4-661c29dd12b7'}, page_content='markets, corporate bonds largely mirrored the\\xa0atmosphere in equity markets, with investors apparently happy to take on more risk. This was reflected in the performance of riskier US high yield bonds, which delivered returns of 1.1%, and UK Corporate bonds also finished the month having made gains. Government bonds started the month on weaker footing. Election and inflation uncertainty dominated headlines, however, developed market government bonds finished November with returns of around 1.7% in the UK and 1% in the US.\\xa0What are the investment implications of Donald Trump\\'s re-election in November\\'s US election?It was clear from the market reaction that the re-election of Donald Trump is expected to create distinct winners and losers,\\xa0yet the President himself is only part of the story. Critically, the election result has offered Republicans control of not just the White House, but also the Senate and House of Representatives. This should make it much easier for the new administration to enact policy. This \"clean sweep\" was a possibility, but far from a certainty, and it heightened the market reaction to the election news.Sectors and stocks perceived to benefit from potential policy moves rallied, such as energy and banks, and investors shifted funds to US dollar denominated assets at the expense of global peers. Meanwhile, assets that are sensitive to trade and tariffs, such as European and emerging market stocks, fell, while their currencies weakened against the US dollar as investors priced the potential for meaningful tariffs. In Europe, an unstable political picture in Germany and France only added to reasons for investors to seek US assets.\\xa0 \\xa0\\xa0Away from stock markets, expectations of looser fiscal policy (the way the government spends and raises money) including the potential to extend tax breaks brought in during Trump\\'s previous presidency, should provide room for continued US economic growth. That has, however, kept bond market investors wary, as concerns grow over the extent of the administration\\'s plans to increase borrowing, and the potential for future tariff-induced inflation pressures. Consequently, the number of expected interest rate cuts from the Federal Reserve over the coming 18 months has fallen post-election. \\xa0We anticipate over the medium- to long-term, the US will benefit from a resurgence in domestic investment at the expense of the rest of the world, notably emerging markets. This was also our\\xa0expectation for the outgoing US administration, but we believe this dynamic may unfold\\xa0in a less smooth and predictable manner than was the case.How are tariffs expected to affect emerging markets and global trade?The Nutmeg investment team currently holds a smaller allocation to China than our long-term benchmark, given the challenges we feel the Chinese economy faces from both an internal consumption, and external trade perspective. But for much of 2024, we have held a more positive view of the outlook for wider emerging markets given what looked like ongoing recovery in global trade volumes and the demand for durable goods, and cheaper market valuations.That optimism, however has dimmed somewhat over the last quarter. The early-stage recovery and growth signals seen in many emerging market economies at the turn of 2024, are now showing signs of slowing. At the same time, broader emerging markets are facing a number of threats to their outlooks from both an economic and market perspective. The twin effects of a stronger US dollar, alongside the potential for meaningful trade tariffs are reducing our confidence in the extent to which global trade can recover from its post Covid lull. India is a notably bright spot in terms of domestic growth, but valuations do look stretched after a long run of outperformance, according to analysis by the Nutmeg investment team.\\xa0The situation is far from desperate, but with manufacturing sectors across developed economies in contraction, and the possibility of tariffs imposed by the global economy\\'s largest importer of goods, the investment case is likely to weaken. Clearly China, where we have a small allocation, will feel the brunt of these policies, but many other major emerging markets, particularly Mexico and those in South East Asia with strong trade ties to China, are also unlikely to escape unscathed, and face a more uncertain economic and market outlook post the US election.\\xa0About this update: This update was recorded on\\xa03 December 2024. All figures, unless otherwise stated, relate to the month of November\\xa02024.\\xa0Source for figures: MacroBond, Nutmeg and Bloomberg.Risk warningAs with all investing, your capital is at risk. The value of your portfolio with Nutmeg can go down as well as up and you may get back less than you invest. Past performance and forecasts are not reliable indicators of future\\xa0performance.\\u202fWe do not provide investment advice in this article. Always do your own research.\\xa0App store badgeGoogle play badgeSupportFAQsInsightsSitemapCareersPrivacy policyCookie policySite termsTerms and conditionsRegulatoryComplaintsCookie SettingsClient services020 3598 1515Contact')],\n",
       " 'summary': \"**Introduction**\\n\\nInvesting in the financials sector under the new Republican administration presents several potential benefits. The Nutmeg investment team has identified key factors that make this sector attractive in the current economic and political climate.\\n\\n**Body**\\n\\n- **Economic Backdrop**: The US economy is growing steadily, which supports the expansion of financial activities such as lending by banks. This growth is expected to continue, providing a favorable environment for financial institutions.\\n- **Interest Rates**: Interest rates remain elevated but are off their peak. The Federal Reserve is expected to take a steady approach to balancing inflation and growth pressures. Higher interest rates can increase the earnings potential of financial institutions, provided they do not constrain economic activity.\\n- **Deregulation**: There is a possibility of further deregulation under the new Republican administration. This could include the reduction or elimination of costly regulations, which would benefit financial institutions by lowering their operational costs and increasing profitability.\\n- **Market Position**: The Nutmeg investment team remains positive on the overall US economic trajectory and believes that the financials sector will benefit from the current stage of the economic cycle and the policy approach of the Republican administration.\\n\\n**Conclusion**\\n\\nOverall, the financials sector is seen as a promising investment under the new Republican administration due to steady economic growth, favorable interest rate conditions, potential deregulation, and a positive market outlook. These factors collectively enhance the sector's attractiveness and potential for profitability.\\n\",\n",
       " 'citation': 'Source: https://www.nutmeg.com/nutmegonomics/nutmeg-investor-update-march-2025',\n",
       " 'grade_score': 'full_relevance',\n",
       " 'hallucination': 'no',\n",
       " 'response_score': 1.0,\n",
       " 'grading_iteration': 1,\n",
       " 'hallucination_iteration': 1}"
      ]
     },
     "execution_count": 39,
     "metadata": {},
     "output_type": "execute_result"
    }
   ],
   "source": [
    "op"
   ]
  },
  {
   "cell_type": "code",
   "execution_count": 40,
   "id": "65207fb0",
   "metadata": {},
   "outputs": [
    {
     "name": "stdout",
     "output_type": "stream",
     "text": [
      "Running the graph...\n",
      "Routing the question to the appropriate source...\n",
      "Routing to vector_retriever...\n",
      "Vector Retriever\n",
      "Question used for vector retriever: What is the reason for the financial markets to be volatile?\n",
      "Grading the retrieved documents...\n",
      "Question used for grading: What is the reason for the financial markets to be volatile?\n",
      "Graded documents with score: partial_relevance\n",
      "Grade score: partial_relevance\n",
      "Grading iteration: 1\n",
      "Deciding whether to generate or rewrite based on the grading score...\n",
      "Rewriting the user's question...\n",
      "Question used for rewriting: What is the reason for the financial markets to be volatile?\n",
      "Rewritten question: What factors are contributing to the volatility in financial markets, considering recent updates on stock market performance, Federal Reserve rate cuts, bond markets, and geopolitical uncertainties?\n",
      "Vector Retriever\n",
      "Question used for vector retriever: What factors are contributing to the volatility in financial markets, considering recent updates on stock market performance, Federal Reserve rate cuts, bond markets, and geopolitical uncertainties?\n",
      "Grading the retrieved documents...\n",
      "Question used for grading: What factors are contributing to the volatility in financial markets, considering recent updates on stock market performance, Federal Reserve rate cuts, bond markets, and geopolitical uncertainties?\n",
      "Graded documents with score: full_relevance\n",
      "Grade score: full_relevance\n",
      "Grading iteration: 2\n",
      "Deciding whether to generate or rewrite based on the grading score...\n",
      "Summarizing the response...\n",
      "Question used for summarization: What factors are contributing to the volatility in financial markets, considering recent updates on stock market performance, Federal Reserve rate cuts, bond markets, and geopolitical uncertainties?\n",
      "Checking for hallucinations in the summarized response and grading it...\n",
      "Question used for hallucination grading: What factors are contributing to the volatility in financial markets, considering recent updates on stock market performance, Federal Reserve rate cuts, bond markets, and geopolitical uncertainties?\n",
      "Hallucination: yes\n",
      "Response score: 0.0\n",
      "Deciding whether to accept or reject the summarized response based on the grading score...\n",
      "Hallucination iteration: 1\n",
      "Hallucination detected in the response.\n",
      "Execution time: 13.24 seconds\n"
     ]
    }
   ],
   "source": [
    "# partial relevance question\n",
    "inputs = {\n",
    "    \"question\": \"What is the reason for the financial markets to be volatile?\",\n",
    "}\n",
    "\n",
    "op = run_graph(graph, inputs)"
   ]
  },
  {
   "cell_type": "code",
   "execution_count": 41,
   "id": "1ea70c21",
   "metadata": {},
   "outputs": [
    {
     "data": {
      "text/plain": [
       "{'question': 'What factors are contributing to the volatility in financial markets, considering recent updates on stock market performance, Federal Reserve rate cuts, bond markets, and geopolitical uncertainties?',\n",
       " 'documents': [Document(metadata={'language': 'en', 'summary': \"The Nutmeg investor update for October 2024 reviews market performance in September, highlighting significant central bank announcements from the US Federal Reserve and the People's Bank of China, which led to positive investor reactions and market movements. The update also discusses the investment team's unchanged portfolio allocation and their focus on US technology stocks due to technological change.\", 'keywords': \"Nutmeg investor update October 2024 market performance central bank announcements US Federal Reserve People's Bank of China equity markets interest rates economic growth Chinese equities investment team portfolio allocation US technology stocks\", 'title': 'Nutmeg investor update: October 2024 - Nutmeg', 'description': 'Brad Holland, Director of Investment Strategy, reviews market performance during September.', 'source': 'https://www.nutmeg.com/nutmegonomics/nutmeg-investor-update-october-2024', 'pk': '4c36d842-e1e9-4ea2-acc7-c561caf350da'}, page_content=\"Nutmeg investor update: October 2024 - NutmegSkip to contentProductsProductsInvest for every stage for life and make the most of your tax allowances.\\xa0Stocks and Shares ISAPersonal PensionLifetime ISAJunior ISAGeneral Investment AccountInvestment stylesInvestment stylesHave your money managed in a way that fits your goals and\\xa0priorities.Fully ManagedThematic InvestingSmart AlphaSocially Responsible InvestingFixed AllocationAdviceFinancial advice and guidanceGet expert support to help you make the right investment choices.Free financial guidanceOur financial advice serviceRetirement adviceInvestment adviceConsolidation adviceLump sum adviceBook your free consultationTools and guidesTools and guidesSee how you could reach your goals with our calculators and how-to guides.ToolsSelf-employed tax calculatorCompound returns calculatorISA calculatorPension calculatorCapital Gains Tax calculatorGuidesInvesting for beginnersHow to retire at 55How to avoid the 60% tax trapWhat inflation means in investingWhy it's important to diversifyWhat is volatility?InsightsInsightsRead the latest views from our investment and wealth experts.Financial planningRetirement essentialsInvesting essentialsMarketsBrowse our articlesAbout usAbout usFind out more about who we are and what we do for investors.Our companyOur track recordOur feesMeet the investment teamCareersHelpHelpAsk us about investing, your account, advice and more.Get in touchFAQsGo to our Help hubLog InSign upHamburger MenuProductsProductsInvest for every stage for life and make the most of your tax allowances.\\xa0Stocks and Shares ISAPersonal PensionLifetime ISAJunior ISAGeneral Investment AccountInvestment stylesInvestment stylesHave your money managed in a way that fits your goals and\\xa0priorities.Fully ManagedThematic InvestingSmart AlphaSocially Responsible InvestingFixed AllocationAdviceFinancial advice and guidanceGet expert support to help you make the right investment choices.Free financial guidanceOur financial advice serviceRetirement adviceInvestment adviceConsolidation adviceLump sum adviceBook your free consultationTools and guidesTools and guidesSee how you could reach your goals with our calculators and how-to guides.ToolsSelf-employed tax calculatorCompound returns calculatorISA calculatorPension calculatorCapital Gains Tax calculatorGuidesInvesting for beginnersHow to retire at 55How to avoid the 60% tax trapWhat inflation means in investingWhy it's important to diversifyWhat is volatility?InsightsInsightsRead the latest views from our investment and wealth experts.Financial planningRetirement essentialsInvesting essentialsMarketsBrowse our articlesAbout usAbout usFind out more about who we are and what we do for investors.Our companyOur track recordOur feesMeet the investment teamCareersHelpHelpAsk us about investing, your account, advice and more.Get in touchFAQsGo to our Help hub;NutmegonomicsMarket InsightsNutmeg investor update: October 2024Market InsightsNutmeg investor update: October 2024The Nutmeg team|4 minBrad Holland, Director of Investment Strategy, reviews market performance during September.September was a significant month for central bank announcements. Two of the biggest hitters - the US Federal Reserve and the People's Bank of China - each made policy changes that made headlines, although for very different reasons. For the most part, investors reacted positively.Most major equity markets rose this month, and investors seemed happy to take on a little more risk.What happened in financial markets in September?Most equity markets rose. The UK’s FTSE 100 fell slightly, most likely due to a stronger pound sterling over the month. This can act as a headwind against companies that earn most of their revenues overseas, as is the case with the FTSE 100. The FTSE 250 – the UK’s more domestically focused equity index, was slightly stronger.Performance was more robust in the US, where both the S&P500 and the more tech-centric NASDAQ gained ground. Equities in the eurozone also finished the month higher.More dramatic were the movements in Chinese equities. Having struggled to make headway since the middle of the year, the Chinese stock market rallied very strongly on a surge of investor optimism this month.In bond markets, there wasn’t a huge amount of movement in the prices of UK government debt, or ‘gilts’. Inflation-linked government debt prices did fall slightly. Overall, bonds issued by companies, which are a bit higher on the risk spectrum, performed more strongly in both Europe and the US.The Federal Reserve shifts its focus from inflation to growthCentral banks play such an important role in keeping their economies in good shape that investors spend a lot of time trying to predict what they will do next. This month, the central banks of the world’s two largest economies made\"),\n",
       "  Document(metadata={'language': 'en', 'summary': \"The Nutmeg investor update for January 2025 highlights the strong performance of stock markets in 2024, despite a weaker December influenced by the US Federal Reserve's cautious rate cuts. The outlook for 2025 remains optimistic, though challenges such as geopolitical uncertainties and potential market volatility persist.\", 'keywords': 'Nutmeg investor update January 2025 stock markets 2024 performance US Federal Reserve rate cuts bond markets economic stability corporate earnings geopolitical uncertainties market volatility investment outlook', 'title': 'Nutmeg investor update: January 2025 - Nutmeg', 'description': \"In December, there was a little cold water poured on investors' optimism. However, 2024 was still a particularly strong year for most stock markets.\", 'source': 'https://www.nutmeg.com/nutmegonomics/nutmeg-investor-update-january-2025', 'pk': '0edad004-be72-4ef8-bf1f-2499e8c1eae0'}, page_content=\"bonds, the Fed’s messaging pushed yields higher, causing prices to dip slightly across most fixed income asset classes.\\xa0That's the way bond markets work; when yields rise, their price falls.What was the full picture for 2024?For stock markets, 2024\\xa0was\\xa0generally\\xa0a very strong year.\\xa0Regions such as the UK, Canada, India and Asia Pacific\\xa0all finished the year ahead, despite falling in December. But none could quite match the same combination of economic stability and corporate earnings strength that has underpinned the US.The S&P 500 index, which tracks the performance of the 500 largest US companies, saw a gain of 25% for the year. Historically, returns this high are fairly rare.The NASDAQ index, which is a tech stock index, including high-flying companies such as Nvidia, saw an even stronger year, with prices up just under 26%. Tech stocks have continued to attract investors as artificial intelligence – or AI – starts to become increasingly mainstream. AI has continued to shift from being a technology with potential for the future, to one with real life productivity benefits on a day-to-day basis.Although the main story has been about the strength of stock markets, many bond markets have also experienced a positive year. Higher risk ‘high yield’ bonds in both the US and Europe have increased 8.2% and 8.6%, respectively. They have benefitted from the relative economic stability we saw in 2024, something that was far from guaranteed at the start of last year.It’s been a mixed picture for government bonds.\\xa0In the UK, gilts have performed poorly.\\xa0In\\xa0Europe, Italy and Spain have performed well,\\xa0helped by\\xa0the expectation of further rate cuts amid a\\xa0weaker\\xa0economic picture relative to the US. US government bonds have seen more muted performance as expectations of further rate cuts were wound back. The re-think was due to\\xa0better-than-expected economic results.What is the Nutmeg investment team’s outlook for 2025?We are optimistic about the investing landscape as we move into 2025, yet challenges remain.Over the past two years, multi-asset portfolios have thrived, benefiting from strong equity performance. The global economic environment, especially in the US, remains supportive going forward. There is a robust job market, lower inflation and interest rates are on a downward trend. We expect the corporate earnings landscape, especially in the US, to remain positive.However, a degree of caution is warranted. US equity valuations are above historic averages, and geopolitical uncertainties, such as potential instability from the Trump\\xa0administration\\xa0and ongoing global conflicts, could increase market volatility. Emerging markets face challenges, including potential Trump tariffs which could strengthen the dollar and impact these economies.\\xa0China's economic transition\\xa0and deflationary pressures add to the uncertainty.In Europe,\\xa0we believe\\xa0the UK is better positioned than the continent, with growing household incomes and a recovering housing market. Interest rate policies are expected to ease, but the link between wages growth and inflation means that\\xa0tight\\xa0labour\\xa0markets and rising wages could rekindle inflation.\\xa0Central banks are likely to proceed cautiously with rate cuts.Despite these risks, the investment team maintains a positive long-term outlook. We are, however, holding slightly higher cash reserves than usual, ready to adapt and capitalise on market opportunities that may arise if we see volatility increase in the short term.About this update: This update was recorded on\\xa07 January 2025. All figures, unless otherwise stated, relate to the month of December 2024.\\xa0Source for figures: MacroBond, Nutmeg and Bloomberg.Risk warningAs with all investing, your capital is at risk. The value of your portfolio with Nutmeg can go down as well as up and you may get back less than you invest. Past performance and forecasts are not reliable indicators of future\\xa0performance.\\u202fWe do not provide investment advice in this article. Always do your own research.\\xa0App store badgeGoogle play badgeSupportFAQsInsightsSitemapCareersPrivacy policyCookie policySite termsTerms and conditionsRegulatoryComplaintsCookie SettingsClient services020 3598 1515Contact ussupport@nutmeg.comPress enquiries only07788251769pr@nutmeg.comNutmeg25 Bank StreetCanary WharfLondonE14 5JPOffice020 3598 1717As with all investing, your capital is at risk. The value of your portfolio with Nutmeg can go down as well as up and you may get back less than you invest. Learn what we mean by riskCopyright © 2025 Nutmeg Saving and Investment Limited. Nutmeg® is a registered trade mark of Nutmeg Saving and Investment Limited, authorised and regulated by the Financial Conduct Authority, no. 552016, registered in England and Wales, no. 07503666,\"),\n",
       "  Document(metadata={'language': 'en', 'summary': \"The Nutmeg investor update for March 2025 highlights the mixed performance of global stock markets in February, with European and Chinese equities gaining while US stocks declined. The update also discusses the Nutmeg investment team's views on the US economic outlook, their portfolio adjustments, and the potential benefits of investing in European industrials and the financial sector under the new Republican administration.\", 'keywords': 'Nutmeg investor update March 2025 global stock markets European equities Chinese equities US stocks economic outlook portfolio adjustments European industrials financial sector Republican administration', 'title': 'Nutmeg investor update: March 2025 - Nutmeg', 'description': 'February was a busy month, with investors digesting a lot of geopolitical news. US stocks fell back, but European and Chinese equities made notable gains.', 'source': 'https://www.nutmeg.com/nutmegonomics/nutmeg-investor-update-march-2025', 'pk': '27f5a795-a4e4-4705-96b9-9237c3b2296b'}, page_content='US – was down 1.3% in February. That decline was led by growth-oriented stocks such as those in the technology sector, which finished the month on a weaker footing. The growth-focused Nasdaq index declined 2.7% over the month.The most recent earnings season demonstrated the US stock market’s potential to deliver earnings that outperform expectations once again. But investor enthusiasm in February was tempered by the US macroeconomic picture. Consumer confidence fell to an 8-month low, while investors were disconcerted by service sector data that indicated a surprise contraction of activity. Against a backdrop of a changing tariffs narrative, and geopolitical worries, some investors are beginning to question the stability of US economic growth and the case for US exceptionalism.Does this change how the Nutmeg investment team views the US as an investment destination?We think it is far too early to conclude that US economic growth is on a weakening trajectory. Despite several high-profile data points offering a more muted viewpoint, manufacturing activity appears to be turning up, consumption remains strong, and the labour market’s key indicators are robust.We continue to take the view that a recession in the US is unlikely. But, as we flagged in our 2025 investment outlook, both stock market valuations and elevated geopolitical and policy risks increase the potential for market volatility. So, we retain our preference for US assets across our portfolios but as always, we also remain globally diversified.A good example is our exposure to European stock markets, where we remain ‘neutral’ relative to our long-term allocation. That is to say, in the short term, we do not think the overall case for investment in the region is stronger or weaker than in the long term. However, we do have some preferences for certain countries and sectors where we believe the investment case is strongest,\\xa0for instance\\xa0European industrial companies\\xa0within our\\xa0equity holdings.The industrials sector comprises a wide variety of companies such as those in machinery, manufacturing, and defence and aerospace. Industrial activity tends to benefit from buoyant global trade, and despite the looming risk of potential US tariffs, global trade volumes have seen a steady rise over the previous 12 months. We think European industrials are supported by three main drivers:rising global tradethe potential for upside in corporate earnings, andthe potential for a meaningful increase in European defence spending in the current geopolitical environment.We also currently favour the Nordics over broader Europe. We think the macro-economic picture for the Nordic countries is currently brighter than that of the wider European bloc. Nordic stock markets have demonstrated strong relative performance over the previous decade in comparison with their European peers.Is the Nutmeg investment team making any portfolio changes?We\\xa0have made an adjustment to portfolios’ US equity holdings,\\xa0adding\\xa0a position in the financials sector, which comprises banks, insurance firms and credit providers.We have done this for several reasons:Firstly, we think the economic backdrop for financials remains attractive. The US economy appears to be growing at a steady pace, and we expect banks to continue to expand activity through lending as the economy grows.Secondly, interest rates remain elevated, yet at the same time off their peak. The Federal Reserve is in no rush to cut interest rates and we expect it will take a steady approach as it balances the pressures of inflation and growth. Higher interest rates tend to be good for financial institutions, as it can increase their earnings potential, so long as they are not constraining economic activity. We think we might reach an interest rate ‘sweet spot’ for US banks over the coming 12 months.Additionally, we believe that there is the possibility of further deregulation under the new Republican administration, including the watering down or scrapping of proposed costly regulations.Our position in financials really reflects us remaining positive on the overall US economic trajectory, while leaning towards a sector we expect to benefit from both the current stage of the economic cycle and the current policy approach of the Republican administration.About this update: This update was recorded on\\xa04 March 2025. All figures, unless otherwise stated, relate to the month of February 2025.\\xa0Source for figures: MacroBond, Nutmeg and Bloomberg.Risk warningAs with all investing, your capital is at risk. The value of your portfolio with Nutmeg can go down as well as up and you may get back less than you invest. Past performance and forecasts are not reliable indicators of future\\xa0performance.\\u202fWe do not provide investment advice in this article. Always do your own research.\\xa0App store badgeGoogle play badgeSupportFAQsInsightsSitemapCareersPrivacy policyCookie policySite termsTerms and conditionsRegulatoryComplaintsCookie SettingsClient services020 3598 1515Contact ussupport@nutmeg.comPress enquiries only07788251769pr@nutmeg.comNutmeg25 Bank StreetCanary WharfLondonE14'),\n",
       "  Document(metadata={'language': 'en', 'summary': \"The Nutmeg investor update for February 2025 highlights the positive performance of global equities in January, the return of Donald Trump to the White House, and the emergence of the Chinese AI 'DeepSeek'. It also discusses the Bank of England's rate cut and its implications, as well as the volatility in government bonds and currencies.\", 'keywords': 'Nutmeg investor update February 2025 global equities Donald Trump White House DeepSeek AI Bank of England rate cut government bonds currencies US dollar tariffs US tech stocks', 'title': 'Nutmeg investor update: February 2025 - Nutmeg', 'description': 'In January, all eyes were on President Trump as he returned to the White House for a second term. Equity markets gained, but there were signs of investor uncertainty.', 'source': 'https://www.nutmeg.com/nutmegonomics/nutmeg-investor-update-february-2025', 'pk': '6c79a9ed-8506-46b2-b579-fdc5ecd0af0b'}, page_content=\"and mid-cap companies. The small and mid-cap focused FTSE 250 ended the month behind the large-cap FTSE 100, although after a weaker start to the month it managed to recover during the last week. The UK faced some negative headlines over the month, primarily due to concerns about budget-related risks and low growth. This impacted the bond market and the domestically-focused British small and mid-cap stocks.Europe, unusually,\\xa0outperformed many other regions in January. Japan underperformed, moving very little over the month. Emerging markets lagged slightly, but still posted positive returns.There was some significant volatility in UK government bonds also known as 'gilts' during the month, and to a lesser extent in US government bonds or 'Treasuries'. In the case of gilts, concerns over UK government spending spooked the market in mid-January, although ultimately they finished the month almost exactly where they started. Data released on UK inflation was more moderate than expected, renewing hopes for further rate cuts in the UK, which was positively received by bond investors.Currencies were also volatile. The US dollar reversed most of the gains made at the start of January as new US inflation data was in line\\xa0with\\xa0or even slightly\\xa0lower\\xa0than expected. This grants the US Federal Reserve some more room to manoeuvre as needed, whereas a rise in inflation would have made life trickier for policy makers at the central bank. The strength or potential weakness of the US dollar will remain a key factor for global markets in 2025 and one to watch carefully.Donald Trump has started his second term as president. Were there any surprises in his first days?In January, Donald Trump returned to the Oval Office, and the future impact and actions of his administration remain a significant focus for investors. It was clearly a hot topic\\xa0at the World Economic Forum in Davos, where it dominated many conversations among participants. While the initial days of Trump's presidency were generally viewed positively by the markets, two notable points emerged.First, while the imposition of high tariffs was expected to be enacted in Trump's first days or weeks in office, investors were made to wait a little longer to find out if proposals of sweeping tariffs would become reality.\\xa0This was received favourably by investors, as high tariffs are seen as a potential inflation risk and could negatively impact the global economy. However, investors are unlikely to have read too much into the delay, because of point number two; the unpredictability of the new US administration.This unpredictability is expected to introduce a level of uncertainty, which we anticipate will create regular opportunities for engaged investors. At Nutmeg, we aim to keep a long-term perspective and look beyond short-term 'noise' generated by unpredictable comments or actions. That said, the durable impact of proposed tariffs can’t be neglected, given the potential ramifications for the US and world economies.What is DeepSeek and does it represent a risk for US mega-cap tech stocks?DeepSeek is a new large language model (LLM) AI by a Chinese startup, released in late January 2025. You might have heard of ChatGPT. That's a large language model – or 'LLM' based AI – as well. The release of DeepSeek caught the market off guard and led to a challenging day for US tech stocks. For instance, Nvidia experienced a 16% drop in a single day, losing more in market value than the total market value of the largest European stock. However, it's important to look beyond the headlines and focus on the mid-term outlook.While it's undeniable that some US mega-cap tech companies (along with a few European and Asian ones) are highly valued, we believe the earnings released in January continue to demonstrate their exceptional profitability, even amid substantial investments in AI technology development. Although the threat of a Chinese startup adds a challenge to the costly process of AI development, we believe that the US's innovation capabilities remain unparalleled\\xa0and can continue to support stock performance in the years ahead. There will always be winners and losers in a technological revolution, and we continue to believe that the US will be a major beneficiary. Consequently, we maintain an overweight position in US stocks within our portfolios.About this update: This update was recorded on\\xa05 February 2025. All figures, unless otherwise stated, relate to the month of January 2025.\\xa0Source for figures: MacroBond, Nutmeg and Bloomberg.Risk warningAs with all investing, your capital is at risk. The value of your portfolio with Nutmeg can go down as well as up and you may get back less than you invest. Past performance and forecasts are not reliable indicators of future\\xa0performance.\\u202fWe do not provide investment advice in this article. Always do your own research.\\xa0App store badgeGoogle play badgeSupportFAQsInsightsSitemapCareersPrivacy policyCookie\"),\n",
       "  Document(metadata={'language': 'en', 'summary': 'The Nutmeg investor update for December 2024 highlights the positive performance of US stocks following the re-election of Donald Trump, while emerging markets and European stocks faced challenges. The update also discusses the potential impact of trade tariffs and fiscal policies on global markets, with a focus on the implications for emerging markets and the bond market.', 'keywords': 'Nutmeg investor update December 2024 US stocks Donald Trump emerging markets trade tariffs fiscal policies bond market economic growth Republican administration global trade', 'title': 'Nutmeg investor update: December 2024 - Nutmeg', 'description': 'In November, investors saw the outcome of the US election as positive for US stocks, but it was a different story for emerging market equities.', 'source': 'https://www.nutmeg.com/nutmegonomics/nutmeg-investor-update-december-2024', 'pk': 'b57b0f37-54a7-4cd7-b5e4-661c29dd12b7'}, page_content='markets, corporate bonds largely mirrored the\\xa0atmosphere in equity markets, with investors apparently happy to take on more risk. This was reflected in the performance of riskier US high yield bonds, which delivered returns of 1.1%, and UK Corporate bonds also finished the month having made gains. Government bonds started the month on weaker footing. Election and inflation uncertainty dominated headlines, however, developed market government bonds finished November with returns of around 1.7% in the UK and 1% in the US.\\xa0What are the investment implications of Donald Trump\\'s re-election in November\\'s US election?It was clear from the market reaction that the re-election of Donald Trump is expected to create distinct winners and losers,\\xa0yet the President himself is only part of the story. Critically, the election result has offered Republicans control of not just the White House, but also the Senate and House of Representatives. This should make it much easier for the new administration to enact policy. This \"clean sweep\" was a possibility, but far from a certainty, and it heightened the market reaction to the election news.Sectors and stocks perceived to benefit from potential policy moves rallied, such as energy and banks, and investors shifted funds to US dollar denominated assets at the expense of global peers. Meanwhile, assets that are sensitive to trade and tariffs, such as European and emerging market stocks, fell, while their currencies weakened against the US dollar as investors priced the potential for meaningful tariffs. In Europe, an unstable political picture in Germany and France only added to reasons for investors to seek US assets.\\xa0 \\xa0\\xa0Away from stock markets, expectations of looser fiscal policy (the way the government spends and raises money) including the potential to extend tax breaks brought in during Trump\\'s previous presidency, should provide room for continued US economic growth. That has, however, kept bond market investors wary, as concerns grow over the extent of the administration\\'s plans to increase borrowing, and the potential for future tariff-induced inflation pressures. Consequently, the number of expected interest rate cuts from the Federal Reserve over the coming 18 months has fallen post-election. \\xa0We anticipate over the medium- to long-term, the US will benefit from a resurgence in domestic investment at the expense of the rest of the world, notably emerging markets. This was also our\\xa0expectation for the outgoing US administration, but we believe this dynamic may unfold\\xa0in a less smooth and predictable manner than was the case.How are tariffs expected to affect emerging markets and global trade?The Nutmeg investment team currently holds a smaller allocation to China than our long-term benchmark, given the challenges we feel the Chinese economy faces from both an internal consumption, and external trade perspective. But for much of 2024, we have held a more positive view of the outlook for wider emerging markets given what looked like ongoing recovery in global trade volumes and the demand for durable goods, and cheaper market valuations.That optimism, however has dimmed somewhat over the last quarter. The early-stage recovery and growth signals seen in many emerging market economies at the turn of 2024, are now showing signs of slowing. At the same time, broader emerging markets are facing a number of threats to their outlooks from both an economic and market perspective. The twin effects of a stronger US dollar, alongside the potential for meaningful trade tariffs are reducing our confidence in the extent to which global trade can recover from its post Covid lull. India is a notably bright spot in terms of domestic growth, but valuations do look stretched after a long run of outperformance, according to analysis by the Nutmeg investment team.\\xa0The situation is far from desperate, but with manufacturing sectors across developed economies in contraction, and the possibility of tariffs imposed by the global economy\\'s largest importer of goods, the investment case is likely to weaken. Clearly China, where we have a small allocation, will feel the brunt of these policies, but many other major emerging markets, particularly Mexico and those in South East Asia with strong trade ties to China, are also unlikely to escape unscathed, and face a more uncertain economic and market outlook post the US election.\\xa0About this update: This update was recorded on\\xa03 December 2024. All figures, unless otherwise stated, relate to the month of November\\xa02024.\\xa0Source for figures: MacroBond, Nutmeg and Bloomberg.Risk warningAs with all investing, your capital is at risk. The value of your portfolio with Nutmeg can go down as well as up and you may get back less than you invest. Past performance and forecasts are not reliable indicators of future\\xa0performance.\\u202fWe do not provide investment advice in this article. Always do your own research.\\xa0App store badgeGoogle play badgeSupportFAQsInsightsSitemapCareersPrivacy policyCookie policySite termsTerms and conditionsRegulatoryComplaintsCookie SettingsClient services020 3598 1515Contact')],\n",
       " 'rewritten_question': 'What factors are contributing to the volatility in financial markets, considering recent updates on stock market performance, Federal Reserve rate cuts, bond markets, and geopolitical uncertainties?',\n",
       " 'summary': None,\n",
       " 'citation': None,\n",
       " 'grade_score': None,\n",
       " 'hallucination': 'yes',\n",
       " 'response_score': 0.0,\n",
       " 'grading_iteration': 2,\n",
       " 'hallucination_iteration': 1}"
      ]
     },
     "execution_count": 41,
     "metadata": {},
     "output_type": "execute_result"
    }
   ],
   "source": [
    "op"
   ]
  },
  {
   "cell_type": "markdown",
   "id": "e4391e12",
   "metadata": {},
   "source": [
    "# Dynamic Corrective  RAG Workflow Explanation\n",
    "\n",
    "This LangGraph workflow implements an Adaptive RAG (Retrieval-Augmented Generation) System with the following components:\n",
    "\n",
    "## 1. Router Node\n",
    "- Receives the user question\n",
    "- Uses an LLM-based router to determine retrieval strategy\n",
    "- Routes to either the vector_retriever or web_search node\n",
    "\n",
    "## 2. Vector Retriever Node\n",
    "- Retrieves relevant documents from the vector store using an ensemble retriever\n",
    "- Passes the documents and question to the next node\n",
    "\n",
    "## 3. Web Search Node\n",
    "- Retrieves relevant documents from the web using a search API\n",
    "- Converts results into LangChain Document objects\n",
    "- Passes the documents and question to the next node\n",
    "\n",
    "## 4. Document Grader Node\n",
    "- Grades document relevance to the question using an LLM-based grader\n",
    "- Increments a grading iteration counter\n",
    "- Passes the grade score and iteration count to the next step\n",
    "\n",
    "## 5. Conditional Edge (decide_to_generate_rewrite)\n",
    "- If documents are fully relevant or grading iteration > 2: proceed to generate response\n",
    "- If partially relevant: rewrite query and retry retrieval\n",
    "- If not relevant: end workflow\n",
    "\n",
    "## 6. Query Rewriter Node\n",
    "- Uses document keywords to rewrite the question for better retrieval\n",
    "- Loops back to the vector retriever for another attempt\n",
    "\n",
    "## 7. Response Summarizer Node\n",
    "- Summarizes the answer using the question and retrieved documents\n",
    "- Produces a summary and citations\n",
    "\n",
    "## 8. Hallucination Grader Node\n",
    "- Checks summary for hallucinations and scores the response\n",
    "- Increments a hallucination iteration counter\n",
    "\n",
    "## 9. Conditional Edge (decide_to_accept_reject)\n",
    "- If response is acceptable (no hallucination, score ≥ 0.7): end workflow\n",
    "- If not acceptable or hallucination iteration > 2: end workflow\n",
    "- If not acceptable but not hallucinated: rewrite question and retry\n",
    "\n",
    "## Summary\n",
    "The graph adaptively routes questions, retrieves and grades documents, rewrites queries if needed, summarizes responses, and checks for hallucinations. It loops through retrieval and rewriting until a high-quality, non-hallucinated answer is produced or a retry limit is reached, ensuring robust and accurate RAG-based question answering."
   ]
  }
 ],
 "metadata": {
  "kernelspec": {
   "display_name": "Python 3",
   "language": "python",
   "name": "python3"
  },
  "language_info": {
   "codemirror_mode": {
    "name": "ipython",
    "version": 3
   },
   "file_extension": ".py",
   "mimetype": "text/x-python",
   "name": "python",
   "nbconvert_exporter": "python",
   "pygments_lexer": "ipython3",
   "version": "3.10.16"
  }
 },
 "nbformat": 4,
 "nbformat_minor": 5
}
